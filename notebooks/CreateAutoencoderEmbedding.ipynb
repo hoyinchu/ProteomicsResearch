{
 "cells": [
  {
   "cell_type": "code",
   "execution_count": 1,
   "metadata": {},
   "outputs": [],
   "source": [
    "import os\n",
    "import numpy as np\n",
    "import pandas as pd\n",
    "\n",
    "PATH_ROOT = os.getcwd().replace(\"\\\\\",\"/\").replace(\"/notebooks\",\"\")"
   ]
  },
  {
   "cell_type": "markdown",
   "metadata": {},
   "source": [
    "Code sample from SherlockLiao https://github.com/L1aoXingyu/pytorch-beginner/blob/master/08-AutoEncoder/simple_autoencoder.py"
   ]
  },
  {
   "cell_type": "code",
   "execution_count": 39,
   "metadata": {},
   "outputs": [],
   "source": [
    "import torch\n",
    "import torchvision\n",
    "from torch import nn\n",
    "from torch.autograd import Variable\n",
    "from torch.utils.data import Dataset, DataLoader\n",
    "\n",
    "class EmbeddingDataset(Dataset):\n",
    "    def __init__(self, embedding_matrix, transform=None):\n",
    "        self.embedding_matrix = embedding_matrix\n",
    "        self.transform = transform\n",
    "\n",
    "    def __len__(self):\n",
    "        return len(self.embedding_matrix)\n",
    "\n",
    "    def __getitem__(self, idx):\n",
    "#         if torch.is_tensor(idx):\n",
    "#             idx = idx.tolist()\n",
    "        sample = self.embedding_matrix[idx]\n",
    "        if self.transform:\n",
    "            sample = self.transform(sample)\n",
    "        return torch.from_numpy(sample)\n",
    "\n",
    "class autoencoder(nn.Module):\n",
    "    def __init__(self,input_dim):\n",
    "        super(autoencoder, self).__init__()\n",
    "        self.encoder = nn.Sequential(\n",
    "            nn.Linear(input_dim, 128),\n",
    "            nn.ReLU(True),\n",
    "            nn.Linear(128, 64),\n",
    "            nn.ReLU(True),\n",
    "            nn.Linear(64, 12),\n",
    "            nn.ReLU(True),\n",
    "            nn.Linear(12, 2)\n",
    "        )\n",
    "        self.decoder = nn.Sequential(\n",
    "            nn.Linear(2, 12),\n",
    "            nn.ReLU(True),\n",
    "            nn.Linear(12, 64),\n",
    "            nn.ReLU(True),\n",
    "            nn.Linear(64, 128),\n",
    "            nn.ReLU(True),\n",
    "            nn.Linear(128, input_dim),\n",
    "            nn.Tanh()\n",
    "        )\n",
    "        self.device = torch.device(\"cuda\" if torch.cuda.is_available() else \"cpu\")\n",
    "\n",
    "    def forward(self, x):\n",
    "        x = x.float()\n",
    "        x = x.to(self.device)\n",
    "        x = self.encoder(x)\n",
    "        x = self.decoder(x)\n",
    "        return x"
   ]
  },
  {
   "cell_type": "code",
   "execution_count": 78,
   "metadata": {},
   "outputs": [],
   "source": [
    "num_epochs = 10\n",
    "learning_rate = 1e-3\n",
    "batch_size = 5\n",
    "\n",
    "device = torch.device(\"cuda\" if torch.cuda.is_available() else \"cpu\")\n",
    "def train_autoencoder(embedding_to_train,model_save_path):   \n",
    "    model = autoencoder(len(embedding_to_train[0])).to(device)\n",
    "    criterion = nn.MSELoss()\n",
    "    optimizer = torch.optim.Adam(model.parameters(), lr=learning_rate, weight_decay=1e-5)\n",
    "    embedding_dataset = EmbeddingDataset(embedding_to_train)\n",
    "    embedding_dataloader = DataLoader(embedding_dataset,batch_size=batch_size, shuffle=True)\n",
    "    best_model_dict = None\n",
    "    best_loss = float('inf')\n",
    "    for epoch in range(num_epochs):\n",
    "        for data in embedding_dataloader:\n",
    "            data = data.to(device)\n",
    "            # ===================forward=====================\n",
    "            output = model(data)\n",
    "            output = output.float()\n",
    "            data = data.float()\n",
    "            loss = criterion(output, data)\n",
    "            # ===================backward====================\n",
    "            optimizer.zero_grad()\n",
    "            loss.backward()\n",
    "            optimizer.step()\n",
    "        # ===================log========================\n",
    "        print('epoch [{}/{}], loss:{:.4f}'\n",
    "              .format(epoch + 1, num_epochs, loss.data))\n",
    "        if (loss.data < best_loss):\n",
    "            best_model_dict = model.state_dict()\n",
    "            best_loss = loss.data\n",
    "\n",
    "    torch.save(best_model_dict, model_save_path)\n",
    "    \n",
    "def autoencode_embedding(autoencoder_model,embedding):\n",
    "    encoded = []\n",
    "    for row in embedding:\n",
    "        row = torch.from_numpy(row).float()\n",
    "        embedded = autoencoder_model.encoder.forward(row)\n",
    "        embedded = embedded.detach().numpy()\n",
    "        encoded.append(embedded)\n",
    "    return np.array(encoded)"
   ]
  },
  {
   "cell_type": "code",
   "execution_count": 43,
   "metadata": {},
   "outputs": [],
   "source": [
    "proteomeHD_path = f\"{PATH_ROOT}/data_sources/ProteomeHD/ProteomeHD_v1_1.csv\"\n",
    "proteomeHD_df = pd.read_csv(proteomeHD_path)\n",
    "proteomeHD_feature_matrix = proteomeHD_df.iloc[:,4:].fillna(0).to_numpy()\n",
    "\n",
    "pQTL_protein_path = f\"{PATH_ROOT}/data_sources/pQTL/pQTL_protein_converted.csv\"\n",
    "pQTL_protein_df = pd.read_csv(pQTL_protein_path)\n",
    "pQTL_protein_feature_matrix = pQTL_protein_df.iloc[:,2:].fillna(0).to_numpy()\n",
    "\n",
    "nikolai_protein_path = f\"{PATH_ROOT}/data_sources/Nikolai/Proteins-processed.csv\"\n",
    "nikolai_protein_df = pd.read_csv(nikolai_protein_path)\n",
    "nikolai_protein_feature_matrix = nikolai_protein_df.iloc[:,1:].fillna(0).to_numpy()\n",
    "\n",
    "proteomeHD_autoencoder_path = f\"{PATH_ROOT}/models/autoencoders/proteomeHD_autoencoder.pth\"\n",
    "pQTL_autoencoder_path = f\"{PATH_ROOT}/models/autoencoders/pQTL_autoencoder.pth\"\n",
    "nikolai_autoencoder_path = f\"{PATH_ROOT}/models/autoencoders/nikolai_autoencoder.pth\""
   ]
  },
  {
   "cell_type": "code",
   "execution_count": 92,
   "metadata": {},
   "outputs": [
    {
     "name": "stdout",
     "output_type": "stream",
     "text": [
      "epoch [1/10], loss:0.0809\n",
      "epoch [2/10], loss:0.0304\n",
      "epoch [3/10], loss:0.0845\n",
      "epoch [4/10], loss:0.0951\n",
      "epoch [5/10], loss:0.0832\n",
      "epoch [6/10], loss:0.0668\n",
      "epoch [7/10], loss:0.0506\n",
      "epoch [8/10], loss:0.0335\n",
      "epoch [9/10], loss:0.0552\n",
      "epoch [10/10], loss:0.0893\n"
     ]
    }
   ],
   "source": [
    "train_autoencoder(nikolai_protein_feature_matrix,nikolai_autoencoder_path)"
   ]
  },
  {
   "cell_type": "code",
   "execution_count": 93,
   "metadata": {},
   "outputs": [
    {
     "data": {
      "text/plain": [
       "autoencoder(\n",
       "  (encoder): Sequential(\n",
       "    (0): Linear(in_features=1018, out_features=128, bias=True)\n",
       "    (1): ReLU(inplace=True)\n",
       "    (2): Linear(in_features=128, out_features=64, bias=True)\n",
       "    (3): ReLU(inplace=True)\n",
       "    (4): Linear(in_features=64, out_features=12, bias=True)\n",
       "    (5): ReLU(inplace=True)\n",
       "    (6): Linear(in_features=12, out_features=2, bias=True)\n",
       "  )\n",
       "  (decoder): Sequential(\n",
       "    (0): Linear(in_features=2, out_features=12, bias=True)\n",
       "    (1): ReLU(inplace=True)\n",
       "    (2): Linear(in_features=12, out_features=64, bias=True)\n",
       "    (3): ReLU(inplace=True)\n",
       "    (4): Linear(in_features=64, out_features=128, bias=True)\n",
       "    (5): ReLU(inplace=True)\n",
       "    (6): Linear(in_features=128, out_features=1018, bias=True)\n",
       "    (7): Tanh()\n",
       "  )\n",
       ")"
      ]
     },
     "execution_count": 93,
     "metadata": {},
     "output_type": "execute_result"
    }
   ],
   "source": [
    "nikolai_model = autoencoder(len(nikolai_protein_feature_matrix[0]))\n",
    "nikolai_model.load_state_dict(torch.load(nikolai_autoencoder_path))\n",
    "nikolai_model.eval()"
   ]
  },
  {
   "cell_type": "code",
   "execution_count": 94,
   "metadata": {},
   "outputs": [],
   "source": [
    "nikolai_encoded = autoencode_embedding(nikolai_model,nikolai_protein_feature_matrix)"
   ]
  },
  {
   "cell_type": "code",
   "execution_count": 95,
   "metadata": {},
   "outputs": [
    {
     "data": {
      "text/plain": [
       "2772"
      ]
     },
     "execution_count": 95,
     "metadata": {},
     "output_type": "execute_result"
    }
   ],
   "source": [
    "len(nikolai_encoded)"
   ]
  },
  {
   "cell_type": "code",
   "execution_count": 96,
   "metadata": {},
   "outputs": [],
   "source": [
    "embedding_save_path = f\"{PATH_ROOT}/embeddings/autoencoder/nikolai_autoencoder_embedding.npy\"\n",
    "np.save(embedding_save_path,nikolai_encoded)"
   ]
  },
  {
   "cell_type": "code",
   "execution_count": null,
   "metadata": {},
   "outputs": [],
   "source": []
  }
 ],
 "metadata": {
  "kernelspec": {
   "display_name": "Python 3.7.0 64-bit",
   "language": "python",
   "name": "python37064bitdd6a2358527242ea897ba8dd6dc37158"
  },
  "language_info": {
   "codemirror_mode": {
    "name": "ipython",
    "version": 3
   },
   "file_extension": ".py",
   "mimetype": "text/x-python",
   "name": "python",
   "nbconvert_exporter": "python",
   "pygments_lexer": "ipython3",
   "version": "3.7.0"
  }
 },
 "nbformat": 4,
 "nbformat_minor": 4
}
