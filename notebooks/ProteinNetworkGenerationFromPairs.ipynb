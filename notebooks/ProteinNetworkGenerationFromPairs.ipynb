{
 "cells": [
  {
   "cell_type": "code",
   "execution_count": 1,
   "metadata": {},
   "outputs": [],
   "source": [
    "import networkx as nx\n",
    "import pandas as pd\n",
    "import numpy as np\n",
    "import time"
   ]
  },
  {
   "cell_type": "code",
   "execution_count": 4,
   "metadata": {},
   "outputs": [],
   "source": [
    "directory_path = \"D:/Desktop/Northeastern_University/Research/Proteomics/ProteinProteinAssociation/Development/\"\n",
    "all_proteomeHD_pairs_path = f\"{directory_path}data_sources/ProteomeHD/all_proteomeHD_pairs.csv\"\n",
    "all_proteomeHD_pairs_df = pd.read_csv(all_proteomeHD_pairs_path)"
   ]
  },
  {
   "cell_type": "code",
   "execution_count": 22,
   "metadata": {},
   "outputs": [],
   "source": [
    "\n",
    "# # Initializes the graph by adding protein as nodes along with their attributes\n",
    "# def initialize_ppa_graph():\n",
    "#     ppa_graph.clear()\n",
    "#     for i in range(total_rows):\n",
    "#         ppa_graph.add_node(i,Majority_protein_IDs=proteomeHD_majority_protein_column[i],Simplified_protein_ID=proteomeHD_simplified_protein_column[i])\n",
    "\n",
    "# Returns a graph that is built with edges in each row\n",
    "def pair_df_to_graph(df):\n",
    "    #   start_time = time.time()\n",
    "    ppa_graph = nx.Graph()\n",
    "    ppa_graph.clear()\n",
    "    for idx,row in df.iterrows():\n",
    "        protein1 = row['protein1_majority_name']\n",
    "        protein2 = row['protein2_majority_name']\n",
    "        r = float(row['r'])\n",
    "        r2 = float(row['r2'])\n",
    "        observations = int(row['observations'])\n",
    "        ppa_graph.add_edge(protein1,protein2,r=r,r2=r2,observations=observations)\n",
    "    return ppa_graph\n",
    "#     if idx % 10000 == 0:\n",
    "#       percent_done = (idx+1) / len(df)\n",
    "#       print(f\"Percent done: {percent_done}\")\n",
    "#       time_since_start = time.time() - start_time\n",
    "#       print(f\"Time elasped: {time_since_start}\")\n",
    "#       print(f\"Estimate finishing in: {time_since_start / (percent_done) - time_since_start}\")\n",
    "\n",
    "def generate_graph(r_list,obs_list):\n",
    "    for r_val in r_list:\n",
    "        for obs_val in obs_list:\n",
    "            graph_path = f\"{directory_path}graph_outputs/r_{str(r_val).replace('.','')}_obs_{obs_val}.graphml\"\n",
    "            print(f\"Currently writing: r>={r_val}, obs>={obs_val} to\")\n",
    "            print(graph_path)\n",
    "            filtered_df = all_proteomeHD_pairs_df[all_proteomeHD_pairs_df[\"r\"] >= r_val]\n",
    "            filtered_df = filtered_df[filtered_df[\"observations\"] >= obs_val]\n",
    "            graph_to_write = pair_df_to_graph(filtered_df)\n",
    "            nx.write_graphml(graph_to_write, graph_path)\n"
   ]
  },
  {
   "cell_type": "code",
   "execution_count": 23,
   "metadata": {},
   "outputs": [
    {
     "name": "stdout",
     "output_type": "stream",
     "text": [
      "r_list: [0.5  0.55 0.6  0.65 0.7  0.75 0.8  0.85 0.9  0.95]\n",
      "obs_list: [50, 60, 70, 80, 90, 100, 110, 120, 130, 140, 150]\n"
     ]
    }
   ],
   "source": [
    "r_list = np.array(list(range(50,96,5))) / 100\n",
    "obs_list = list(range(50,151,10))\n",
    "print(f\"r_list: {str(r_list)}\")\n",
    "print(f\"obs_list: {str(obs_list)}\")"
   ]
  },
  {
   "cell_type": "code",
   "execution_count": 24,
   "metadata": {},
   "outputs": [
    {
     "name": "stdout",
     "output_type": "stream",
     "text": [
      "D:/Desktop/Northeastern_University/Research/Proteomics/ProteinProteinAssociation/Development/graph_outputs/r_05_obs_50.graphml\n",
      "D:/Desktop/Northeastern_University/Research/Proteomics/ProteinProteinAssociation/Development/graph_outputs/r_05_obs_60.graphml\n",
      "D:/Desktop/Northeastern_University/Research/Proteomics/ProteinProteinAssociation/Development/graph_outputs/r_05_obs_70.graphml\n",
      "D:/Desktop/Northeastern_University/Research/Proteomics/ProteinProteinAssociation/Development/graph_outputs/r_05_obs_80.graphml\n",
      "D:/Desktop/Northeastern_University/Research/Proteomics/ProteinProteinAssociation/Development/graph_outputs/r_05_obs_90.graphml\n",
      "D:/Desktop/Northeastern_University/Research/Proteomics/ProteinProteinAssociation/Development/graph_outputs/r_05_obs_100.graphml\n",
      "D:/Desktop/Northeastern_University/Research/Proteomics/ProteinProteinAssociation/Development/graph_outputs/r_05_obs_110.graphml\n",
      "D:/Desktop/Northeastern_University/Research/Proteomics/ProteinProteinAssociation/Development/graph_outputs/r_05_obs_120.graphml\n",
      "D:/Desktop/Northeastern_University/Research/Proteomics/ProteinProteinAssociation/Development/graph_outputs/r_05_obs_130.graphml\n",
      "D:/Desktop/Northeastern_University/Research/Proteomics/ProteinProteinAssociation/Development/graph_outputs/r_05_obs_140.graphml\n",
      "D:/Desktop/Northeastern_University/Research/Proteomics/ProteinProteinAssociation/Development/graph_outputs/r_05_obs_150.graphml\n",
      "D:/Desktop/Northeastern_University/Research/Proteomics/ProteinProteinAssociation/Development/graph_outputs/r_055_obs_50.graphml\n",
      "D:/Desktop/Northeastern_University/Research/Proteomics/ProteinProteinAssociation/Development/graph_outputs/r_055_obs_60.graphml\n",
      "D:/Desktop/Northeastern_University/Research/Proteomics/ProteinProteinAssociation/Development/graph_outputs/r_055_obs_70.graphml\n",
      "D:/Desktop/Northeastern_University/Research/Proteomics/ProteinProteinAssociation/Development/graph_outputs/r_055_obs_80.graphml\n",
      "D:/Desktop/Northeastern_University/Research/Proteomics/ProteinProteinAssociation/Development/graph_outputs/r_055_obs_90.graphml\n",
      "D:/Desktop/Northeastern_University/Research/Proteomics/ProteinProteinAssociation/Development/graph_outputs/r_055_obs_100.graphml\n",
      "D:/Desktop/Northeastern_University/Research/Proteomics/ProteinProteinAssociation/Development/graph_outputs/r_055_obs_110.graphml\n",
      "D:/Desktop/Northeastern_University/Research/Proteomics/ProteinProteinAssociation/Development/graph_outputs/r_055_obs_120.graphml\n",
      "D:/Desktop/Northeastern_University/Research/Proteomics/ProteinProteinAssociation/Development/graph_outputs/r_055_obs_130.graphml\n",
      "D:/Desktop/Northeastern_University/Research/Proteomics/ProteinProteinAssociation/Development/graph_outputs/r_055_obs_140.graphml\n",
      "D:/Desktop/Northeastern_University/Research/Proteomics/ProteinProteinAssociation/Development/graph_outputs/r_055_obs_150.graphml\n",
      "D:/Desktop/Northeastern_University/Research/Proteomics/ProteinProteinAssociation/Development/graph_outputs/r_06_obs_50.graphml\n",
      "D:/Desktop/Northeastern_University/Research/Proteomics/ProteinProteinAssociation/Development/graph_outputs/r_06_obs_60.graphml\n",
      "D:/Desktop/Northeastern_University/Research/Proteomics/ProteinProteinAssociation/Development/graph_outputs/r_06_obs_70.graphml\n",
      "D:/Desktop/Northeastern_University/Research/Proteomics/ProteinProteinAssociation/Development/graph_outputs/r_06_obs_80.graphml\n",
      "D:/Desktop/Northeastern_University/Research/Proteomics/ProteinProteinAssociation/Development/graph_outputs/r_06_obs_90.graphml\n",
      "D:/Desktop/Northeastern_University/Research/Proteomics/ProteinProteinAssociation/Development/graph_outputs/r_06_obs_100.graphml\n",
      "D:/Desktop/Northeastern_University/Research/Proteomics/ProteinProteinAssociation/Development/graph_outputs/r_06_obs_110.graphml\n",
      "D:/Desktop/Northeastern_University/Research/Proteomics/ProteinProteinAssociation/Development/graph_outputs/r_06_obs_120.graphml\n",
      "D:/Desktop/Northeastern_University/Research/Proteomics/ProteinProteinAssociation/Development/graph_outputs/r_06_obs_130.graphml\n",
      "D:/Desktop/Northeastern_University/Research/Proteomics/ProteinProteinAssociation/Development/graph_outputs/r_06_obs_140.graphml\n",
      "D:/Desktop/Northeastern_University/Research/Proteomics/ProteinProteinAssociation/Development/graph_outputs/r_06_obs_150.graphml\n",
      "D:/Desktop/Northeastern_University/Research/Proteomics/ProteinProteinAssociation/Development/graph_outputs/r_065_obs_50.graphml\n",
      "D:/Desktop/Northeastern_University/Research/Proteomics/ProteinProteinAssociation/Development/graph_outputs/r_065_obs_60.graphml\n",
      "D:/Desktop/Northeastern_University/Research/Proteomics/ProteinProteinAssociation/Development/graph_outputs/r_065_obs_70.graphml\n",
      "D:/Desktop/Northeastern_University/Research/Proteomics/ProteinProteinAssociation/Development/graph_outputs/r_065_obs_80.graphml\n",
      "D:/Desktop/Northeastern_University/Research/Proteomics/ProteinProteinAssociation/Development/graph_outputs/r_065_obs_90.graphml\n",
      "D:/Desktop/Northeastern_University/Research/Proteomics/ProteinProteinAssociation/Development/graph_outputs/r_065_obs_100.graphml\n",
      "D:/Desktop/Northeastern_University/Research/Proteomics/ProteinProteinAssociation/Development/graph_outputs/r_065_obs_110.graphml\n",
      "D:/Desktop/Northeastern_University/Research/Proteomics/ProteinProteinAssociation/Development/graph_outputs/r_065_obs_120.graphml\n",
      "D:/Desktop/Northeastern_University/Research/Proteomics/ProteinProteinAssociation/Development/graph_outputs/r_065_obs_130.graphml\n",
      "D:/Desktop/Northeastern_University/Research/Proteomics/ProteinProteinAssociation/Development/graph_outputs/r_065_obs_140.graphml\n",
      "D:/Desktop/Northeastern_University/Research/Proteomics/ProteinProteinAssociation/Development/graph_outputs/r_065_obs_150.graphml\n",
      "D:/Desktop/Northeastern_University/Research/Proteomics/ProteinProteinAssociation/Development/graph_outputs/r_07_obs_50.graphml\n",
      "D:/Desktop/Northeastern_University/Research/Proteomics/ProteinProteinAssociation/Development/graph_outputs/r_07_obs_60.graphml\n",
      "D:/Desktop/Northeastern_University/Research/Proteomics/ProteinProteinAssociation/Development/graph_outputs/r_07_obs_70.graphml\n",
      "D:/Desktop/Northeastern_University/Research/Proteomics/ProteinProteinAssociation/Development/graph_outputs/r_07_obs_80.graphml\n",
      "D:/Desktop/Northeastern_University/Research/Proteomics/ProteinProteinAssociation/Development/graph_outputs/r_07_obs_90.graphml\n",
      "D:/Desktop/Northeastern_University/Research/Proteomics/ProteinProteinAssociation/Development/graph_outputs/r_07_obs_100.graphml\n",
      "D:/Desktop/Northeastern_University/Research/Proteomics/ProteinProteinAssociation/Development/graph_outputs/r_07_obs_110.graphml\n",
      "D:/Desktop/Northeastern_University/Research/Proteomics/ProteinProteinAssociation/Development/graph_outputs/r_07_obs_120.graphml\n",
      "D:/Desktop/Northeastern_University/Research/Proteomics/ProteinProteinAssociation/Development/graph_outputs/r_07_obs_130.graphml\n",
      "D:/Desktop/Northeastern_University/Research/Proteomics/ProteinProteinAssociation/Development/graph_outputs/r_07_obs_140.graphml\n",
      "D:/Desktop/Northeastern_University/Research/Proteomics/ProteinProteinAssociation/Development/graph_outputs/r_07_obs_150.graphml\n",
      "D:/Desktop/Northeastern_University/Research/Proteomics/ProteinProteinAssociation/Development/graph_outputs/r_075_obs_50.graphml\n",
      "D:/Desktop/Northeastern_University/Research/Proteomics/ProteinProteinAssociation/Development/graph_outputs/r_075_obs_60.graphml\n",
      "D:/Desktop/Northeastern_University/Research/Proteomics/ProteinProteinAssociation/Development/graph_outputs/r_075_obs_70.graphml\n",
      "D:/Desktop/Northeastern_University/Research/Proteomics/ProteinProteinAssociation/Development/graph_outputs/r_075_obs_80.graphml\n",
      "D:/Desktop/Northeastern_University/Research/Proteomics/ProteinProteinAssociation/Development/graph_outputs/r_075_obs_90.graphml\n",
      "D:/Desktop/Northeastern_University/Research/Proteomics/ProteinProteinAssociation/Development/graph_outputs/r_075_obs_100.graphml\n",
      "D:/Desktop/Northeastern_University/Research/Proteomics/ProteinProteinAssociation/Development/graph_outputs/r_075_obs_110.graphml\n",
      "D:/Desktop/Northeastern_University/Research/Proteomics/ProteinProteinAssociation/Development/graph_outputs/r_075_obs_120.graphml\n",
      "D:/Desktop/Northeastern_University/Research/Proteomics/ProteinProteinAssociation/Development/graph_outputs/r_075_obs_130.graphml\n"
     ]
    },
    {
     "name": "stdout",
     "output_type": "stream",
     "text": [
      "D:/Desktop/Northeastern_University/Research/Proteomics/ProteinProteinAssociation/Development/graph_outputs/r_075_obs_140.graphml\n",
      "D:/Desktop/Northeastern_University/Research/Proteomics/ProteinProteinAssociation/Development/graph_outputs/r_075_obs_150.graphml\n",
      "D:/Desktop/Northeastern_University/Research/Proteomics/ProteinProteinAssociation/Development/graph_outputs/r_08_obs_50.graphml\n",
      "D:/Desktop/Northeastern_University/Research/Proteomics/ProteinProteinAssociation/Development/graph_outputs/r_08_obs_60.graphml\n",
      "D:/Desktop/Northeastern_University/Research/Proteomics/ProteinProteinAssociation/Development/graph_outputs/r_08_obs_70.graphml\n",
      "D:/Desktop/Northeastern_University/Research/Proteomics/ProteinProteinAssociation/Development/graph_outputs/r_08_obs_80.graphml\n",
      "D:/Desktop/Northeastern_University/Research/Proteomics/ProteinProteinAssociation/Development/graph_outputs/r_08_obs_90.graphml\n",
      "D:/Desktop/Northeastern_University/Research/Proteomics/ProteinProteinAssociation/Development/graph_outputs/r_08_obs_100.graphml\n",
      "D:/Desktop/Northeastern_University/Research/Proteomics/ProteinProteinAssociation/Development/graph_outputs/r_08_obs_110.graphml\n",
      "D:/Desktop/Northeastern_University/Research/Proteomics/ProteinProteinAssociation/Development/graph_outputs/r_08_obs_120.graphml\n",
      "D:/Desktop/Northeastern_University/Research/Proteomics/ProteinProteinAssociation/Development/graph_outputs/r_08_obs_130.graphml\n",
      "D:/Desktop/Northeastern_University/Research/Proteomics/ProteinProteinAssociation/Development/graph_outputs/r_08_obs_140.graphml\n",
      "D:/Desktop/Northeastern_University/Research/Proteomics/ProteinProteinAssociation/Development/graph_outputs/r_08_obs_150.graphml\n",
      "D:/Desktop/Northeastern_University/Research/Proteomics/ProteinProteinAssociation/Development/graph_outputs/r_085_obs_50.graphml\n",
      "D:/Desktop/Northeastern_University/Research/Proteomics/ProteinProteinAssociation/Development/graph_outputs/r_085_obs_60.graphml\n",
      "D:/Desktop/Northeastern_University/Research/Proteomics/ProteinProteinAssociation/Development/graph_outputs/r_085_obs_70.graphml\n",
      "D:/Desktop/Northeastern_University/Research/Proteomics/ProteinProteinAssociation/Development/graph_outputs/r_085_obs_80.graphml\n",
      "D:/Desktop/Northeastern_University/Research/Proteomics/ProteinProteinAssociation/Development/graph_outputs/r_085_obs_90.graphml\n",
      "D:/Desktop/Northeastern_University/Research/Proteomics/ProteinProteinAssociation/Development/graph_outputs/r_085_obs_100.graphml\n",
      "D:/Desktop/Northeastern_University/Research/Proteomics/ProteinProteinAssociation/Development/graph_outputs/r_085_obs_110.graphml\n",
      "D:/Desktop/Northeastern_University/Research/Proteomics/ProteinProteinAssociation/Development/graph_outputs/r_085_obs_120.graphml\n",
      "D:/Desktop/Northeastern_University/Research/Proteomics/ProteinProteinAssociation/Development/graph_outputs/r_085_obs_130.graphml\n",
      "D:/Desktop/Northeastern_University/Research/Proteomics/ProteinProteinAssociation/Development/graph_outputs/r_085_obs_140.graphml\n",
      "D:/Desktop/Northeastern_University/Research/Proteomics/ProteinProteinAssociation/Development/graph_outputs/r_085_obs_150.graphml\n",
      "D:/Desktop/Northeastern_University/Research/Proteomics/ProteinProteinAssociation/Development/graph_outputs/r_09_obs_50.graphml\n",
      "D:/Desktop/Northeastern_University/Research/Proteomics/ProteinProteinAssociation/Development/graph_outputs/r_09_obs_60.graphml\n",
      "D:/Desktop/Northeastern_University/Research/Proteomics/ProteinProteinAssociation/Development/graph_outputs/r_09_obs_70.graphml\n",
      "D:/Desktop/Northeastern_University/Research/Proteomics/ProteinProteinAssociation/Development/graph_outputs/r_09_obs_80.graphml\n",
      "D:/Desktop/Northeastern_University/Research/Proteomics/ProteinProteinAssociation/Development/graph_outputs/r_09_obs_90.graphml\n",
      "D:/Desktop/Northeastern_University/Research/Proteomics/ProteinProteinAssociation/Development/graph_outputs/r_09_obs_100.graphml\n",
      "D:/Desktop/Northeastern_University/Research/Proteomics/ProteinProteinAssociation/Development/graph_outputs/r_09_obs_110.graphml\n",
      "D:/Desktop/Northeastern_University/Research/Proteomics/ProteinProteinAssociation/Development/graph_outputs/r_09_obs_120.graphml\n",
      "D:/Desktop/Northeastern_University/Research/Proteomics/ProteinProteinAssociation/Development/graph_outputs/r_09_obs_130.graphml\n",
      "D:/Desktop/Northeastern_University/Research/Proteomics/ProteinProteinAssociation/Development/graph_outputs/r_09_obs_140.graphml\n",
      "D:/Desktop/Northeastern_University/Research/Proteomics/ProteinProteinAssociation/Development/graph_outputs/r_09_obs_150.graphml\n",
      "D:/Desktop/Northeastern_University/Research/Proteomics/ProteinProteinAssociation/Development/graph_outputs/r_095_obs_50.graphml\n",
      "D:/Desktop/Northeastern_University/Research/Proteomics/ProteinProteinAssociation/Development/graph_outputs/r_095_obs_60.graphml\n",
      "D:/Desktop/Northeastern_University/Research/Proteomics/ProteinProteinAssociation/Development/graph_outputs/r_095_obs_70.graphml\n",
      "D:/Desktop/Northeastern_University/Research/Proteomics/ProteinProteinAssociation/Development/graph_outputs/r_095_obs_80.graphml\n",
      "D:/Desktop/Northeastern_University/Research/Proteomics/ProteinProteinAssociation/Development/graph_outputs/r_095_obs_90.graphml\n",
      "D:/Desktop/Northeastern_University/Research/Proteomics/ProteinProteinAssociation/Development/graph_outputs/r_095_obs_100.graphml\n",
      "D:/Desktop/Northeastern_University/Research/Proteomics/ProteinProteinAssociation/Development/graph_outputs/r_095_obs_110.graphml\n",
      "D:/Desktop/Northeastern_University/Research/Proteomics/ProteinProteinAssociation/Development/graph_outputs/r_095_obs_120.graphml\n",
      "D:/Desktop/Northeastern_University/Research/Proteomics/ProteinProteinAssociation/Development/graph_outputs/r_095_obs_130.graphml\n",
      "D:/Desktop/Northeastern_University/Research/Proteomics/ProteinProteinAssociation/Development/graph_outputs/r_095_obs_140.graphml\n",
      "D:/Desktop/Northeastern_University/Research/Proteomics/ProteinProteinAssociation/Development/graph_outputs/r_095_obs_150.graphml\n"
     ]
    }
   ],
   "source": [
    "generate_graph(r_list,obs_list)"
   ]
  }
 ],
 "metadata": {
  "kernelspec": {
   "display_name": "Python 3.7.0 64-bit",
   "language": "python",
   "name": "python37064bitdd6a2358527242ea897ba8dd6dc37158"
  },
  "language_info": {
   "codemirror_mode": {
    "name": "ipython",
    "version": 3
   },
   "file_extension": ".py",
   "mimetype": "text/x-python",
   "name": "python",
   "nbconvert_exporter": "python",
   "pygments_lexer": "ipython3",
   "version": "3.7.0"
  }
 },
 "nbformat": 4,
 "nbformat_minor": 4
}
