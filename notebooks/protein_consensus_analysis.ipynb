{
 "cells": [
  {
   "cell_type": "code",
   "execution_count": 2,
   "metadata": {},
   "outputs": [
    {
     "name": "stdout",
     "output_type": "stream",
     "text": [
      "The autoreload extension is already loaded. To reload it, use:\n",
      "  %reload_ext autoreload\n"
     ]
    }
   ],
   "source": [
    "%load_ext autoreload\n",
    "%autoreload 2\n",
    "import numpy as np\n",
    "import pandas as pd\n",
    "import os\n",
    "from util import read_json_from, write_json_to\n",
    "# from data import pQTL_protein_df,pQTL_protein_ids,pQTL_protein_feature_matrix,pQTL_protein_idx_lookup \n",
    "from visualization_util import df_roc_analysis,df_precision_recall_analysis\n",
    "from validation import validate_relations_in_df,full_report_calculation_by_size,simplifed_report_df,is_corum_verifiable\n",
    "import seaborn as sns\n",
    "import matplotlib.pyplot as plt\n",
    "import scipy as sp\n",
    "PATH_ROOT = os.getcwd().replace(\"\\\\\",\"/\").replace(\"/notebooks\",\"\")"
   ]
  },
  {
   "cell_type": "code",
   "execution_count": 68,
   "metadata": {},
   "outputs": [],
   "source": [
    "big_chungus_validated_cocomplex_pairs = big_chungus_validated[big_chungus_validated['cocomplex'] == 1]\n",
    "big_chungus_validated_non_cocomplex_pairs = big_chungus_validated[big_chungus_validated['cocomplex'] == 0].sample(20000)"
   ]
  },
  {
   "cell_type": "code",
   "execution_count": 82,
   "metadata": {},
   "outputs": [],
   "source": [
    "uniprot_to_idx_lookup = {p:idx for idx,p in enumerate(protein_concensus_ids)}"
   ]
  },
  {
   "cell_type": "code",
   "execution_count": 104,
   "metadata": {},
   "outputs": [],
   "source": [
    "big_chungus_validated_cocomplex_pairs_new = pd.read_csv(f\"{PATH_ROOT}/data_sources/Tissue/protein_consensus_validated_cocomplex_pairs.csv\")"
   ]
  },
  {
   "cell_type": "code",
   "execution_count": 117,
   "metadata": {},
   "outputs": [],
   "source": [
    "big_chungus_validated_cocomplex_pairs_filtered = big_chungus_validated_cocomplex_pairs_new[big_chungus_validated_cocomplex_pairs_new['coobserved'] >= 5]"
   ]
  },
  {
   "cell_type": "code",
   "execution_count": 118,
   "metadata": {},
   "outputs": [
    {
     "data": {
      "text/html": [
       "<div>\n",
       "<style scoped>\n",
       "    .dataframe tbody tr th:only-of-type {\n",
       "        vertical-align: middle;\n",
       "    }\n",
       "\n",
       "    .dataframe tbody tr th {\n",
       "        vertical-align: top;\n",
       "    }\n",
       "\n",
       "    .dataframe thead th {\n",
       "        text-align: right;\n",
       "    }\n",
       "</style>\n",
       "<table border=\"1\" class=\"dataframe\">\n",
       "  <thead>\n",
       "    <tr style=\"text-align: right;\">\n",
       "      <th></th>\n",
       "      <th>pearson</th>\n",
       "      <th>coobserved</th>\n",
       "      <th>binary_interaction</th>\n",
       "      <th>cocomplex</th>\n",
       "    </tr>\n",
       "  </thead>\n",
       "  <tbody>\n",
       "    <tr>\n",
       "      <th>count</th>\n",
       "      <td>16010.000000</td>\n",
       "      <td>16010.000000</td>\n",
       "      <td>16010.000000</td>\n",
       "      <td>16010.0</td>\n",
       "    </tr>\n",
       "    <tr>\n",
       "      <th>mean</th>\n",
       "      <td>0.245112</td>\n",
       "      <td>9.693004</td>\n",
       "      <td>0.570581</td>\n",
       "      <td>1.0</td>\n",
       "    </tr>\n",
       "    <tr>\n",
       "      <th>std</th>\n",
       "      <td>0.408291</td>\n",
       "      <td>2.467910</td>\n",
       "      <td>0.495009</td>\n",
       "      <td>0.0</td>\n",
       "    </tr>\n",
       "    <tr>\n",
       "      <th>min</th>\n",
       "      <td>-0.996751</td>\n",
       "      <td>5.000000</td>\n",
       "      <td>0.000000</td>\n",
       "      <td>1.0</td>\n",
       "    </tr>\n",
       "    <tr>\n",
       "      <th>25%</th>\n",
       "      <td>-0.038687</td>\n",
       "      <td>8.000000</td>\n",
       "      <td>0.000000</td>\n",
       "      <td>1.0</td>\n",
       "    </tr>\n",
       "    <tr>\n",
       "      <th>50%</th>\n",
       "      <td>0.270026</td>\n",
       "      <td>10.000000</td>\n",
       "      <td>1.000000</td>\n",
       "      <td>1.0</td>\n",
       "    </tr>\n",
       "    <tr>\n",
       "      <th>75%</th>\n",
       "      <td>0.565378</td>\n",
       "      <td>12.000000</td>\n",
       "      <td>1.000000</td>\n",
       "      <td>1.0</td>\n",
       "    </tr>\n",
       "    <tr>\n",
       "      <th>max</th>\n",
       "      <td>0.996346</td>\n",
       "      <td>13.000000</td>\n",
       "      <td>1.000000</td>\n",
       "      <td>1.0</td>\n",
       "    </tr>\n",
       "  </tbody>\n",
       "</table>\n",
       "</div>"
      ],
      "text/plain": [
       "            pearson    coobserved  binary_interaction  cocomplex\n",
       "count  16010.000000  16010.000000        16010.000000    16010.0\n",
       "mean       0.245112      9.693004            0.570581        1.0\n",
       "std        0.408291      2.467910            0.495009        0.0\n",
       "min       -0.996751      5.000000            0.000000        1.0\n",
       "25%       -0.038687      8.000000            0.000000        1.0\n",
       "50%        0.270026     10.000000            1.000000        1.0\n",
       "75%        0.565378     12.000000            1.000000        1.0\n",
       "max        0.996346     13.000000            1.000000        1.0"
      ]
     },
     "execution_count": 118,
     "metadata": {},
     "output_type": "execute_result"
    }
   ],
   "source": [
    "big_chungus_validated_cocomplex_pairs_filtered.describe()"
   ]
  },
  {
   "cell_type": "code",
   "execution_count": 22,
   "metadata": {},
   "outputs": [
    {
     "name": "stdout",
     "output_type": "stream",
     "text": [
      "[[1.0 0.99838143945703]\n",
      " [0.99838143945703 1.0]]\n"
     ]
    }
   ],
   "source": [
    "from numpy import ma\n",
    "A = [1, 2, 3, 4, 5, np.NaN]\n",
    "B = [2, 3, 4, 5.25, np.NaN, 100]\n",
    "\n",
    "print(ma.corrcoef(ma.masked_invalid(A), ma.masked_invalid(B)))"
   ]
  },
  {
   "cell_type": "code",
   "execution_count": 31,
   "metadata": {},
   "outputs": [
    {
     "data": {
      "text/plain": [
       "masked_array(\n",
       "  data=[[1.0, 0.944911182523068, 0.2521206817557957, 0.2521206817557957],\n",
       "        [0.944911182523068, 1.0, 0.9429553264604812, 0.9429553264604812],\n",
       "        [0.2521206817557957, 0.9429553264604812, 1.0, 1.0],\n",
       "        [0.2521206817557957, 0.9429553264604812, 1.0, 1.0]],\n",
       "  mask=[[False, False, False, False],\n",
       "        [False, False, False, False],\n",
       "        [False, False, False, False],\n",
       "        [False, False, False, False]],\n",
       "  fill_value=1e+20)"
      ]
     },
     "execution_count": 31,
     "metadata": {},
     "output_type": "execute_result"
    }
   ],
   "source": [
    "A= [[1,2,3,4],\n",
    "    [2,6,7,np.NaN],\n",
    "    [2,np.NaN,99,9],\n",
    "   [2,np.NaN,99,9]]\n",
    "ma.corrcoef(ma.masked_invalid(A))"
   ]
  },
  {
   "cell_type": "code",
   "execution_count": null,
   "metadata": {},
   "outputs": [],
   "source": []
  }
 ],
 "metadata": {
  "kernelspec": {
   "display_name": "Python 3.7.0 64-bit",
   "language": "python",
   "name": "python37064bitdd6a2358527242ea897ba8dd6dc37158"
  },
  "language_info": {
   "codemirror_mode": {
    "name": "ipython",
    "version": 3
   },
   "file_extension": ".py",
   "mimetype": "text/x-python",
   "name": "python",
   "nbconvert_exporter": "python",
   "pygments_lexer": "ipython3",
   "version": "3.7.0"
  }
 },
 "nbformat": 4,
 "nbformat_minor": 4
}
