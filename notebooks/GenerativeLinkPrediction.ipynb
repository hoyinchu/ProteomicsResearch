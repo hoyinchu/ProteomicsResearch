{
 "cells": [
  {
   "cell_type": "code",
   "execution_count": 176,
   "metadata": {},
   "outputs": [],
   "source": [
    "import numpy as np\n",
    "from numpy import nan\n",
    "import pandas as pd\n",
    "import os\n",
    "import matplotlib.pyplot as plt\n",
    "import networkx as nx\n",
    "from functools import reduce\n",
    "import matplotlib.pyplot as plt \n",
    "import time\n",
    "from util import read_json_from, write_json_to, eval_relation\n",
    "from data import proteomeHD_simplified_protein_ids,proteomeHD_feature_matrix,major_simplified_idx_lookup\n",
    "from data import pQTL_protein_ids,pQTL_protein_feature_matrix,pQTL_protein_idx_lookup\n",
    "from data import nikolai_protein_ids,nikolai_protein_feature_matrix,nikolai_protein_idx_lookup\n",
    "import copy\n",
    "#from visualization_util import df_precision_recall_analysis\n",
    "PATH_ROOT = os.getcwd().replace(\"\\\\\",\"/\").replace(\"/notebooks\",\"\")"
   ]
  },
  {
   "cell_type": "code",
   "execution_count": 227,
   "metadata": {},
   "outputs": [],
   "source": [
    "protein_info_path = f\"{PATH_ROOT}/data_sources/pQTL/pQTL_protein_info.json\"\n",
    "pQTL_protein_info = read_json_from(protein_info_path)\n",
    "\n",
    "def get_protein_location(protein_name):\n",
    "    potential_locations = []\n",
    "    try:\n",
    "        for item in pQTL_protein_info[protein_name]['comments']:\n",
    "            if (item['type'] == \"SUBCELLULAR_LOCATION\"):\n",
    "                for location in item['locations']:\n",
    "                    potential_locations.append(location['location']['value'])\n",
    "        return potential_locations\n",
    "    except KeyError:\n",
    "        return []\n",
    "    \n",
    "def shuffle_cliques_node_label(cliques):\n",
    "    all_unique_node = set()\n",
    "    for clique in cliques:\n",
    "        for node in clique:\n",
    "            all_unique_node.add(node)\n",
    "    all_unique_node_shuffled = np.array(list(all_unique_node))\n",
    "    np.random.shuffle(all_unique_node_shuffled)\n",
    "    shuffled_mapping = {og:new for og,new in zip(list(all_unique_node),all_unique_node_shuffled)}\n",
    "    new_cliques = []\n",
    "    for i in range(len(cliques)):\n",
    "        clique = cliques[i]\n",
    "        to_build = []\n",
    "        for j in range(len(clique)):\n",
    "            to_build.append(shuffled_mapping[clique[j]])\n",
    "        new_cliques.append(to_build)\n",
    "    return new_cliques\n",
    "\n",
    "# kNN\n",
    "def get_top_k_nearest_neighbors(vector,k,candidates,dist_function):\n",
    "    k += 1\n",
    "    dist_to_all = np.array(list(map(lambda x: dist_function(vector,x),candidates)))\n",
    "    neighbor_indices = np.argpartition(dist_to_all, k)[0:k]\n",
    "    neighbor_indices = neighbor_indices[np.argsort(dist_to_all[neighbor_indices])]\n",
    "    neighbor_indices = neighbor_indices[1:]\n",
    "    top_k_neighbors_dist = dist_to_all[neighbor_indices]\n",
    "    return neighbor_indices,top_k_neighbors_dist\n",
    "\n",
    "\n",
    "\n",
    "def get_closest_neighbors_in_embeddings(protein,k,embeddings,lookup,dist_func):\n",
    "    neighbor_lists = []\n",
    "    for embedding in embeddings:\n",
    "        protein_vec = embedding[lookup[protein]]\n",
    "        neighbor_indices,_ = get_top_k_nearest_neighbors(protein_vec,k,embedding,dist_func)\n",
    "        neighbor_lists.append(neighbor_indices)\n",
    "    return neighbor_lists\n",
    "\n",
    "def get_common_closest_neighbors_in_embeddings(protein,k,embeddings,lookup,dist_func):\n",
    "    neighbor_lists = get_closest_neighbors_in_embeddings(protein,k,embeddings,lookup,dist_func)\n",
    "    shared_proteins_indices = reduce(np.intersect1d, neighbor_lists)\n",
    "    name_list = list(map(lambda x: shared_proteins[x], shared_proteins_indices))\n",
    "    return name_list\n",
    "\n",
    "def calc_interaction_count(protein,candidates,interaction='physical'):\n",
    "    count = 0\n",
    "    for candidate in candidates:\n",
    "        relation_report = eval_relation(protein,candidate)\n",
    "        if interaction == 'physical':\n",
    "            if relation_report['experiments'] > 0 or relation_report['database'] > 0:\n",
    "                count += 1\n",
    "        elif interaction == 'cocomplex':\n",
    "            if relation_report['cocomplex'] > 0:\n",
    "                count += 1\n",
    "    return count\n",
    "\n",
    "def overall_interaction_counts(proteins,interation_candidates,interaction='physical'):\n",
    "    assert len(proteins) == len(interation_candidates)\n",
    "    count_list = []\n",
    "    for i in range(len(proteins)):\n",
    "        short_list = []\n",
    "        # Number of interacting proteins\n",
    "        short_list.append(calc_interaction_count(proteins[i],interation_candidates[i],interaction))\n",
    "        # Number of overlapping proteins\n",
    "        short_list.append(len(interation_candidates[i]))\n",
    "        count_list.append(short_list)\n",
    "    return count_list\n",
    "\n",
    "def convert_prediction_to_df(proteins,interation_candidates,count_matrix):\n",
    "    assert len(proteins) == len(interation_candidates) and len(proteins) == len(count_matrix)\n",
    "    predictions = []\n",
    "    for i in range(len(proteins)):\n",
    "        for j in range(len(interation_candidates[i])):\n",
    "            predictions.append((proteins[i],interation_candidates[i][j],count_matrix[i][j]))\n",
    "    df = pd.DataFrame(predictions, columns =['protein_1', 'protein_2', 'appearance']) \n",
    "    return df\n",
    "\n",
    "def validate_relations_in_df(df):\n",
    "    binary_interaction = []\n",
    "    cocomplex = []\n",
    "    subcellular_location = []\n",
    "    for idx,row in df.iterrows():\n",
    "        p1 = row['protein_1']\n",
    "        p2 = row['protein_2']\n",
    "        relation_report = eval_relation(p1,p2)\n",
    "        if relation_report['experiments'] > 0 or relation_report['database'] > 0:\n",
    "            binary_interaction.append(1)\n",
    "        else:\n",
    "            binary_interaction.append(0)\n",
    "        if relation_report['cocomplex'] > 0:\n",
    "            cocomplex.append(1)\n",
    "        else:\n",
    "            cocomplex.append(0)\n",
    "        p1_loc = get_protein_location(p1)\n",
    "        p2_loc = get_protein_location(p2)\n",
    "        if len(np.intersect1d(p1_loc,p2_loc)) > 0:\n",
    "            subcellular_location.append(1)\n",
    "        else:\n",
    "            subcellular_location.append(0)\n",
    "    to_return_df = df.copy()\n",
    "    to_return_df['binary_interaction'] = binary_interaction\n",
    "    to_return_df['cocomplex'] = cocomplex\n",
    "    to_return_df['subcellular_location'] = subcellular_location\n",
    "    return to_return_df\n",
    "\n",
    "\n",
    "def euclidean_dist(vec1,vec2):\n",
    "    return np.linalg.norm(vec1-vec2)\n",
    "\n",
    "def draw_bar(xs,ys,x_label,y_label,title,ylim=None,colors=None):\n",
    "    x_pos = [i for i, _ in enumerate(xs)]\n",
    "    plt.bar(x_pos, ys,color=colors)\n",
    "    plt.xlabel(x_label)\n",
    "    plt.ylabel(y_label)\n",
    "    plt.title(title)\n",
    "    plt.xticks(x_pos, xs)\n",
    "    if ylim:\n",
    "        plt.ylim(ylim)\n",
    "    plt.show()\n",
    "    \n",
    "# Cut an embedding into chunks with size n\n",
    "def chunk_features(embedding,n):\n",
    "    columns_to_cut = [ i for i in range(n,embedding.shape[1],n)]\n",
    "    return np.hsplit(embedding,columns_to_cut)\n",
    "\n",
    "\n",
    "def calc_appearance_freq(neighbors):\n",
    "    unique, counts = np.unique(neighbors, return_counts=True)\n",
    "    return np.asarray((unique, counts)).T\n",
    "\n",
    "# Indices of the top k element in the given array\n",
    "def take_top_k(arr,k,desc=False):\n",
    "    if desc: arr = -arr\n",
    "    if len(arr) <= k:\n",
    "        return np.argsort(arr)\n",
    "    part = np.argpartition(arr,k)[:k]\n",
    "    correct_order = np.argsort(arr[part])\n",
    "    return part[correct_order]\n",
    "\n",
    "def sample_embedding(embedding,chunk_size,sample_size):\n",
    "    return np.array([embedding[:,np.random.choice(embedding.shape[1], chunk_size, replace=False)] for i in range(sample_size)])\n",
    "\n",
    "# Keep chunk_size small but neighbor size big\n",
    "def generate_link_candidates(protein,name_vector,embedding,lookup,neighbor_size=5,chunk_size=5,sample_size=100,candidate_size=5,dist=euclidean_dist,return_all=False):\n",
    "    protein_vec = embedding[lookup[protein]]\n",
    "    diff_embeddeding = embedding - protein_vec\n",
    "    chunked_embeddings = sample_embedding(diff_embeddeding,chunk_size,sample_size)\n",
    "    #chunked_embeddings = chunk_features(diff_embeddeding,chunk_size)\n",
    "    candidates = np.zeros((len(chunked_embeddings),neighbor_size))\n",
    "    for idx,chunk in enumerate(chunked_embeddings):\n",
    "        norm_vec = np.linalg.norm(chunk, axis=1)\n",
    "        top_indices = take_top_k(norm_vec,neighbor_size+1)[1:]\n",
    "        candidates[idx] = top_indices\n",
    "    interaction_freq_indices = calc_appearance_freq(candidates)\n",
    "    if return_all:\n",
    "        top_interacting = name_vector[interaction_freq_indices[:,0].astype(int)]\n",
    "        interacting_counts = interaction_freq_indices[:,1]\n",
    "    else:\n",
    "        top_interacting_indices = take_top_k(interaction_freq_indices[:,1],candidate_size,desc=True)\n",
    "        interacting_counts = interaction_freq_indices[top_interacting_indices][:,1]\n",
    "        top_interacting = name_vector[interaction_freq_indices[top_interacting_indices][:,0].astype(int)]\n",
    "    return top_interacting,interacting_counts\n",
    "\n",
    "def select_prediction(candidates_counts,threshold):\n",
    "    return candidates_counts[0][candidates_counts[1] >= threshold]\n",
    "\n",
    "# Returns a copy of the matrix with columns shuffled\n",
    "def shuffle_column(mat):\n",
    "    embedding_to_use = mat.copy()\n",
    "    embeddingT = embedding_to_use.T\n",
    "    np.random.shuffle(embeddingT)\n",
    "    embedding_to_use = embeddingT.T\n",
    "    return embedding_to_use\n",
    "        \n",
    "def generate_network_from_df(df):\n",
    "    ppa_graph = nx.Graph()\n",
    "    ppa_graph.clear()\n",
    "    for idx,row in df.iterrows():\n",
    "        protein1 = row['protein_1']\n",
    "        protein2 = row['protein_2']\n",
    "        appearance = int(row['appearance'])\n",
    "        ppa_graph.add_edge(protein1,protein2,appearance=appearance)\n",
    "    return ppa_graph\n",
    "\n",
    "def make_predictions_based_on_threshold(name_vector,chunked_candidates,threshold_range,count_lower_limit=3):\n",
    "    precision_ys = []\n",
    "#     correct_predictions = []\n",
    "#     total_predictions = []\n",
    "    precision_predictions = []\n",
    "    for i in threshold_range:\n",
    "        chunked_predictions = list(map(lambda x: select_prediction(x,i),chunked_candidates))\n",
    "        chunked_interaction_counts = np.array(overall_interaction_counts(name_vector,chunked_predictions))\n",
    "        chunked_precisions = np.sum(chunked_interaction_counts[:,0]) / np.sum(chunked_interaction_counts[:,1])\n",
    "        precision_ys.append(chunked_precisions)\n",
    "        if i >= count_lower_limit:\n",
    "            precision_predictions.append(np.sum(chunked_interaction_counts[:,1]))\n",
    "    return precision_ys,precision_predictions"
   ]
  },
  {
   "cell_type": "markdown",
   "metadata": {},
   "source": [
    "## Validation functions"
   ]
  },
  {
   "cell_type": "code",
   "execution_count": 19,
   "metadata": {},
   "outputs": [],
   "source": [
    "corum_complexes_path = f\"{PATH_ROOT}/data_sources/Corum/allComplexes.txt\"\n",
    "all_corum_complex_pairs_json_path = f\"{PATH_ROOT}/data_sources/Corum/all_corum_complex_pairs.json\"\n",
    "\n",
    "corum_complexes_dataframe = pd.read_csv(corum_complexes_path,sep='\\t')\n",
    "all_corum_subunits = corum_complexes_dataframe[\"subunits(UniProt IDs)\"].to_numpy()\n",
    "all_corum_subunits_list = list(map(lambda x: x.split(\";\"), all_corum_subunits))\n",
    "all_corum_complexes_id = corum_complexes_dataframe[\"ComplexID\"].to_numpy()\n",
    "\n",
    "corum_complex_pairs_lookup_dict = read_json_from(all_corum_complex_pairs_json_path)\n",
    "all_unique_corum_proteins = list(corum_complex_pairs_lookup_dict.keys())\n",
    "\n",
    "protein_to_included_complex_id_path = f\"{PATH_ROOT}/data_sources/Corum/protein_to_included_complex_id.json\"\n",
    "protein_to_included_complex_id_json = read_json_from(protein_to_included_complex_id_path)\n",
    "\n",
    "proteomeHD_uniprot_to_idx_lookup_json_path = f\"{PATH_ROOT}/data_sources/ProteomeHD/uniprot_id_idx_lookup.json\"\n",
    "proteomeHD_uniprot_to_idx_lookup_json = read_json_from(proteomeHD_uniprot_to_idx_lookup_json_path)\n",
    "\n",
    "proteomeHD_verifiable_corum_complexes_amount_json_path = f\"{PATH_ROOT}/data_sources/Corum/proteomeHD_verifiable_complexes_amount.json\"\n",
    "proteomeHD_verifiable_corum_complexes_amount_json = read_json_from(proteomeHD_verifiable_corum_complexes_amount_json_path)\n",
    "\n",
    "def is_verifiable(to_verify,verify_list,min_verify_count):\n",
    "  count = 0\n",
    "  for node in to_verify:\n",
    "    if node in verify_list:\n",
    "      count += 1\n",
    "  return count >= min_verify_count\n",
    "\n",
    "def is_corum_verifiable(to_verify):\n",
    "    if len(to_verify) < 2: return False\n",
    "    else: return is_verifiable(to_verify,corum_complex_pairs_lookup_dict.keys(),len(to_verify))\n",
    "\n",
    "def is_proteomeHD_verifiable(subunits,min_count=2):\n",
    "  return is_verifiable(subunits.split(\";\"),proteomeHD_uniprot_to_idx_lookup_json.keys(),min_count)\n",
    "\n",
    "all_proteomeHD_verifiable_corum_subunits = list(filter(lambda x: is_proteomeHD_verifiable(x), all_corum_subunits))\n",
    "\n",
    "\n",
    "# Checks if a given clique (tuple or list) is a hit\n",
    "# When the proteins in the clique is a subset of a protein subunits in a protein\n",
    "# complex in the Corum dataset\n",
    "def is_hit(clique,return_complexes=False):\n",
    "  shared_complexes = []\n",
    "  for protein in clique:\n",
    "    shared_complexes.append(protein_to_included_complex_id_json[protein])\n",
    "  overlapped_complexes = reduce(np.intersect1d,shared_complexes)\n",
    "  overlapped_complexes = list(map(lambda x: int(x),overlapped_complexes))\n",
    "  return overlapped_complexes if return_complexes else len(overlapped_complexes) > 0\n",
    "      \n",
    "# Calculates the precision of the given list of cliques\n",
    "# precison = number of hitting cliques / total number of cliques\n",
    "def calc_precision(cliques,loud=False):\n",
    "  hit_num = 0\n",
    "  for clique in cliques:\n",
    "    if(is_hit(clique)):\n",
    "      hit_num += 1\n",
    "  if loud:\n",
    "    print(f\"Total Number of Cliques: {len(cliques)}\")\n",
    "    print(f\"Hitting Cliques: {hit_num}\")\n",
    "    print(f\"Precision: {hit_num / len(cliques)}\")\n",
    "  return hit_num / len(cliques)\n",
    "\n",
    "# Calculates the recall of the given cliques\n",
    "# recall = Number of complexes hit by cliques / total number of candidate complexes\n",
    "# candidate complexes are complexes that contain at least 1 protein listed in cliques\n",
    "def calc_recall(cliques,loud=False,return_raw=False,recall_denominator=\"all_corum_complexes\"):\n",
    "  denominator = len(all_proteomeHD_verifiable_corum_subunits)\n",
    "  flattened_protein_list = [item for sublist in cliques for item in sublist]\n",
    "  # All the unique proteins in the cliques\n",
    "  all_clique_proteins = np.unique(flattened_protein_list)\n",
    "\n",
    "  # Find all complexes such that it contains at least of the proteins listed in cliques\n",
    "  all_candidate_complexes_id = []\n",
    "  for idx in range(len(corum_complexes_dataframe)):\n",
    "    if len(np.intersect1d(all_clique_proteins,all_corum_subunits_list[idx])) > 0:\n",
    "      all_candidate_complexes_id.append(all_corum_complexes_id[idx])\n",
    "  if (recall_denominator == \"complex_candidate\"):\n",
    "    denominator = len(all_candidate_complexes_id)\n",
    "  elif (recall_denominator == \"all_corum_complexes\"):\n",
    "    denominator = len(all_corum_subunits)\n",
    "  # Find all complexes hit by cliques\n",
    "  all_complexes_hit = []\n",
    "  for clique in cliques:\n",
    "    all_complexes_hit.append(is_hit(clique,return_complexes=True))\n",
    "  flat_list = [item for sublist in all_complexes_hit for item in sublist]\n",
    "  all_complexes_hit_unique = np.unique(flat_list)\n",
    "  if loud:\n",
    "    print(f\"Total Number of Complex Hit: {len(all_complexes_hit_unique)}\")\n",
    "    print(f\"Total Number of Complex Candidates: {len(all_candidate_complexes_id)}\")\n",
    "    print(f\"Recall: {len(all_complexes_hit_unique) / len(all_candidate_complexes_id)}\")\n",
    "  if return_raw:\n",
    "    all_complexes_hit_unique = list(map(lambda x: int(x),all_complexes_hit_unique))\n",
    "    all_candidate_complexes_id = list(map(lambda x: int(x),all_candidate_complexes_id))\n",
    "    return all_complexes_hit_unique,all_candidate_complexes_id\n",
    "  return len(all_complexes_hit_unique) / denominator\n",
    "\n",
    "# Give cliques, return all cliques that are hitting, non hitting, and the complexes\n",
    "# they hit for all hitting cliques\n",
    "def partition_by_hitting_status(cliques):\n",
    "  hitting_cliques = []\n",
    "  corresponding_complexes = []\n",
    "  non_hitting_cliques = []\n",
    "  for clique in cliques:\n",
    "    hitting_complex = is_hit(clique,return_complexes=True)\n",
    "    if (len(hitting_complex) > 0):\n",
    "      hitting_cliques.append(clique)\n",
    "      corresponding_complexes.append(hitting_complex)\n",
    "    else:\n",
    "      non_hitting_cliques.append(clique)\n",
    "  return hitting_cliques,non_hitting_cliques,corresponding_complexes\n",
    "\n",
    "def compute_cliques_info_dict(cliques,recall_denominator=\"all_verifiable_corum_complexes_size_adjusted\"):\n",
    "  info_dict = {}\n",
    "  hitting,non_hitting,corr_complexes = partition_by_hitting_status(cliques)\n",
    "  complex_hit,complex_candidates = calc_recall(cliques,return_raw=True)\n",
    "  info_dict[\"total_cliques\"] = len(cliques)\n",
    "  info_dict['hitting_cliques'] = hitting\n",
    "  info_dict['non_hitting_cliques'] = non_hitting\n",
    "  info_dict['corresponding_complexes'] = list(map(list,corr_complexes))\n",
    "  info_dict['precision'] = len(hitting) / len(cliques)\n",
    "  info_dict['complex_hit'] = list(complex_hit)\n",
    "  info_dict['complex_candidates_id'] = complex_candidates\n",
    "  info_dict['recall'] = {}\n",
    "  info_dict['recall'][\"complex_candidate\"] = len(complex_hit) / len(complex_candidates)\n",
    "  info_dict['recall'][\"all_corum_complexes\"] = len(complex_hit) / len(all_corum_subunits)\n",
    "  info_dict['recall'][\"all_verifiable_corum_complexes\"] = len(complex_hit) / len(all_proteomeHD_verifiable_corum_subunits)\n",
    "  try:\n",
    "    denom = proteomeHD_verifiable_corum_complexes_amount_json[str(len(cliques[0]))]\n",
    "    if denom > 0:\n",
    "        info_dict['recall'][\"all_verifiable_corum_complexes_size_adjusted\"] = len(complex_hit) / denom\n",
    "    else:\n",
    "        info_dict['recall'][\"all_verifiable_corum_complexes_size_adjusted\"] = float(\"NaN\")\n",
    "  except KeyError:\n",
    "    info_dict['recall'][\"all_verifiable_corum_complexes_size_adjusted\"] = float(\"NaN\")\n",
    "  return info_dict\n",
    "\n",
    "def full_report_calculation_by_size(cliques):\n",
    "  clique_partition = partition_cliques_by_size(cliques)\n",
    "  report_dict = {}\n",
    "  for size in clique_partition:\n",
    "    info_dict = compute_cliques_info_dict(clique_partition[size])\n",
    "    report_dict[size] = info_dict\n",
    "  return report_dict\n",
    "\n",
    "def partition_cliques_by_size(cliques):\n",
    "  counter = {}\n",
    "  for clique in cliques:\n",
    "    try:\n",
    "      counter[len(clique)].append(clique)\n",
    "    except KeyError:\n",
    "      counter[len(clique)] = [clique]\n",
    "  return counter\n",
    "\n",
    "def simplifed_report_df(report_dict):\n",
    "    columns = ['clique_size','hitting_cliques','total_cliques','precision','complex_hit']\n",
    "    row_values = []\n",
    "    for size in report_dict:\n",
    "        row_values.append((size,len(report_dict[size]['hitting_cliques']),report_dict[size]['total_cliques'],report_dict[size]['precision'],len(report_dict[size]['complex_hit'])))\n",
    "    df = pd.DataFrame(data=row_values,columns=columns)\n",
    "    return df\n",
    "\n",
    "from sklearn.metrics import auc\n",
    "def df_precision_recall_analysis(ground_truth,thresholds,model_label,title,ylim=None):\n",
    "    if ylim:\n",
    "        pyplot.ylim(ylim)\n",
    "    prec, recall, prc_threhsold = precision_recall_curve(ground_truth,thresholds)\n",
    "    no_skill_prec,no_skill_recall, _ = precision_recall_curve(ground_truth,np.zeros(len(ground_truth)))\n",
    "    no_skill_prec = [np.sum(ground_truth) / len(ground_truth) for i in range(len(recall))]\n",
    "    model_auc = auc(recall,prec)\n",
    "    no_skill_auc = auc(recall,no_skill_prec)\n",
    "    pyplot.plot(recall, prec, marker='.', label=f'{model_label}, AUC: {model_auc}')\n",
    "    pyplot.plot(recall, no_skill_prec, marker='.', label=f'Baseline, AUC: {no_skill_auc}')\n",
    "    pyplot.xlabel('Recall')\n",
    "    pyplot.ylabel('Precision')\n",
    "    pyplot.title(title)\n",
    "    pyplot.legend()\n",
    "    pyplot.show()"
   ]
  },
  {
   "cell_type": "markdown",
   "metadata": {},
   "source": [
    "## Comparisons"
   ]
  },
  {
   "cell_type": "code",
   "execution_count": 4,
   "metadata": {},
   "outputs": [],
   "source": [
    "# Recommended:\n",
    "# Optimal chunk size: 10% of total features \n",
    "# Prediction threshold: 50-75% of maximum prediction threshold, higher is better for noisier data\n",
    "# For precision, set neighbor size close to candidate size. Increase neighbor size for more predictions\n",
    "\n",
    "CANDIDATE_SIZE = 30 # How many predictions should each protein initially make\n",
    "NEIGHBOR_SIZE = 30 # How many closest neighbors should each protein considered\n",
    "PROTEOMEHD_CHUNK_SIZE = 30 # Number of features in each splitted dataset\n",
    "PROTEOMEHD_PREDICTION_THRESHOLD = 5 # Minimum number of appearance in neighborhood in order to predict\n",
    "# prediction threshold <= Total Number of features / Chunk size, rounded up"
   ]
  },
  {
   "cell_type": "code",
   "execution_count": 109,
   "metadata": {},
   "outputs": [
    {
     "name": "stdout",
     "output_type": "stream",
     "text": [
      "Wall time: 117 ms\n"
     ]
    }
   ],
   "source": [
    "%time sample_candidate = generate_link_candidates('A0AVT1',proteomeHD_simplified_protein_ids,proteomeHD_feature_matrix,major_simplified_idx_lookup,5,5,100)"
   ]
  },
  {
   "cell_type": "markdown",
   "metadata": {},
   "source": [
    "## ProteomeHD"
   ]
  },
  {
   "cell_type": "code",
   "execution_count": 250,
   "metadata": {},
   "outputs": [],
   "source": [
    "CANDIDATE_SIZE = 5 # How many of the top appearing closest neighbors should each protein keep\n",
    "NEIGHBOR_SIZE = 5 # How many closest neighbors should each protein considered\n",
    "CHUNK_SIZE = 5 # Number of features in each splitted dataset\n",
    "SAMPLE_SIZE = 100"
   ]
  },
  {
   "cell_type": "code",
   "execution_count": 251,
   "metadata": {},
   "outputs": [
    {
     "name": "stdout",
     "output_type": "stream",
     "text": [
      "Wall time: 1h 31s\n"
     ]
    }
   ],
   "source": [
    "#proteomeHD_feature_matrix_shuffled = shuffle_column(proteomeHD_feature_matrix)\n",
    "%time proteomeHD_chunked_candidates = np.array(list(map(lambda x: generate_link_candidates(x,proteomeHD_simplified_protein_ids,proteomeHD_feature_matrix,major_simplified_idx_lookup,NEIGHBOR_SIZE,CHUNK_SIZE,SAMPLE_SIZE,CANDIDATE_SIZE),proteomeHD_simplified_protein_ids)))"
   ]
  },
  {
   "cell_type": "code",
   "execution_count": 252,
   "metadata": {},
   "outputs": [
    {
     "data": {
      "text/html": [
       "<div>\n",
       "<style scoped>\n",
       "    .dataframe tbody tr th:only-of-type {\n",
       "        vertical-align: middle;\n",
       "    }\n",
       "\n",
       "    .dataframe tbody tr th {\n",
       "        vertical-align: top;\n",
       "    }\n",
       "\n",
       "    .dataframe thead th {\n",
       "        text-align: right;\n",
       "    }\n",
       "</style>\n",
       "<table border=\"1\" class=\"dataframe\">\n",
       "  <thead>\n",
       "    <tr style=\"text-align: right;\">\n",
       "      <th></th>\n",
       "      <th>protein_1</th>\n",
       "      <th>protein_2</th>\n",
       "      <th>appearance</th>\n",
       "      <th>binary_interaction</th>\n",
       "      <th>cocomplex</th>\n",
       "      <th>subcellular_location</th>\n",
       "    </tr>\n",
       "  </thead>\n",
       "  <tbody>\n",
       "    <tr>\n",
       "      <th>0</th>\n",
       "      <td>A0AV96</td>\n",
       "      <td>P16422</td>\n",
       "      <td>13.0</td>\n",
       "      <td>0</td>\n",
       "      <td>0</td>\n",
       "      <td>0</td>\n",
       "    </tr>\n",
       "    <tr>\n",
       "      <th>1</th>\n",
       "      <td>A0AV96</td>\n",
       "      <td>P15941</td>\n",
       "      <td>8.0</td>\n",
       "      <td>0</td>\n",
       "      <td>0</td>\n",
       "      <td>0</td>\n",
       "    </tr>\n",
       "    <tr>\n",
       "      <th>2</th>\n",
       "      <td>A0AV96</td>\n",
       "      <td>Q9BUV0</td>\n",
       "      <td>8.0</td>\n",
       "      <td>0</td>\n",
       "      <td>0</td>\n",
       "      <td>0</td>\n",
       "    </tr>\n",
       "    <tr>\n",
       "      <th>3</th>\n",
       "      <td>A0AV96</td>\n",
       "      <td>Q6PCB6</td>\n",
       "      <td>8.0</td>\n",
       "      <td>0</td>\n",
       "      <td>0</td>\n",
       "      <td>0</td>\n",
       "    </tr>\n",
       "    <tr>\n",
       "      <th>4</th>\n",
       "      <td>A0AV96</td>\n",
       "      <td>Q05084</td>\n",
       "      <td>7.0</td>\n",
       "      <td>0</td>\n",
       "      <td>0</td>\n",
       "      <td>0</td>\n",
       "    </tr>\n",
       "    <tr>\n",
       "      <th>...</th>\n",
       "      <td>...</td>\n",
       "      <td>...</td>\n",
       "      <td>...</td>\n",
       "      <td>...</td>\n",
       "      <td>...</td>\n",
       "      <td>...</td>\n",
       "    </tr>\n",
       "    <tr>\n",
       "      <th>51610</th>\n",
       "      <td>Q9Y6Y9</td>\n",
       "      <td>Q9Y2B2</td>\n",
       "      <td>20.0</td>\n",
       "      <td>0</td>\n",
       "      <td>0</td>\n",
       "      <td>0</td>\n",
       "    </tr>\n",
       "    <tr>\n",
       "      <th>51611</th>\n",
       "      <td>Q9Y6Y9</td>\n",
       "      <td>P49407</td>\n",
       "      <td>12.0</td>\n",
       "      <td>0</td>\n",
       "      <td>0</td>\n",
       "      <td>0</td>\n",
       "    </tr>\n",
       "    <tr>\n",
       "      <th>51612</th>\n",
       "      <td>Q9Y6Y9</td>\n",
       "      <td>Q96HC4</td>\n",
       "      <td>8.0</td>\n",
       "      <td>0</td>\n",
       "      <td>0</td>\n",
       "      <td>0</td>\n",
       "    </tr>\n",
       "    <tr>\n",
       "      <th>51613</th>\n",
       "      <td>Q9Y6Y9</td>\n",
       "      <td>Q13882</td>\n",
       "      <td>7.0</td>\n",
       "      <td>0</td>\n",
       "      <td>0</td>\n",
       "      <td>0</td>\n",
       "    </tr>\n",
       "    <tr>\n",
       "      <th>51614</th>\n",
       "      <td>Q9Y6Y9</td>\n",
       "      <td>P54819</td>\n",
       "      <td>7.0</td>\n",
       "      <td>0</td>\n",
       "      <td>0</td>\n",
       "      <td>0</td>\n",
       "    </tr>\n",
       "  </tbody>\n",
       "</table>\n",
       "<p>51615 rows × 6 columns</p>\n",
       "</div>"
      ],
      "text/plain": [
       "      protein_1 protein_2  appearance  binary_interaction  cocomplex  \\\n",
       "0        A0AV96    P16422        13.0                   0          0   \n",
       "1        A0AV96    P15941         8.0                   0          0   \n",
       "2        A0AV96    Q9BUV0         8.0                   0          0   \n",
       "3        A0AV96    Q6PCB6         8.0                   0          0   \n",
       "4        A0AV96    Q05084         7.0                   0          0   \n",
       "...         ...       ...         ...                 ...        ...   \n",
       "51610    Q9Y6Y9    Q9Y2B2        20.0                   0          0   \n",
       "51611    Q9Y6Y9    P49407        12.0                   0          0   \n",
       "51612    Q9Y6Y9    Q96HC4         8.0                   0          0   \n",
       "51613    Q9Y6Y9    Q13882         7.0                   0          0   \n",
       "51614    Q9Y6Y9    P54819         7.0                   0          0   \n",
       "\n",
       "       subcellular_location  \n",
       "0                         0  \n",
       "1                         0  \n",
       "2                         0  \n",
       "3                         0  \n",
       "4                         0  \n",
       "...                     ...  \n",
       "51610                     0  \n",
       "51611                     0  \n",
       "51612                     0  \n",
       "51613                     0  \n",
       "51614                     0  \n",
       "\n",
       "[51615 rows x 6 columns]"
      ]
     },
     "execution_count": 252,
     "metadata": {},
     "output_type": "execute_result"
    }
   ],
   "source": [
    "proteomeHD_pred_df = convert_prediction_to_df(proteomeHD_simplified_protein_ids,proteomeHD_chunked_candidates[:,0],proteomeHD_chunked_candidates[:,1])\n",
    "proteomeHD_pred_df = validate_relations_in_df(proteomeHD_pred_df)\n",
    "proteomeHD_pred_df"
   ]
  },
  {
   "cell_type": "code",
   "execution_count": 271,
   "metadata": {},
   "outputs": [
    {
     "data": {
      "image/png": "[encoded data removed]",
      "text/plain": [
       "<Figure size 432x288 with 1 Axes>"
      ]
     },
     "metadata": {
      "needs_background": "light"
     },
     "output_type": "display_data"
    }
   ],
   "source": [
    "df_roc_analysis(proteomeHD_pred_df,['appearance'],'subcellular_location','ProteomeHD','Uniprot')"
   ]
  },
  {
   "cell_type": "code",
   "execution_count": 272,
   "metadata": {},
   "outputs": [
    {
     "data": {
      "image/png": "[encoded data removed]",
      "text/plain": [
       "<Figure size 432x288 with 1 Axes>"
      ]
     },
     "metadata": {
      "needs_background": "light"
     },
     "output_type": "display_data"
    }
   ],
   "source": [
    "df_precision_recall_analysis(proteomeHD_pred_df['subcellular_location'].to_numpy(),\n",
    "                             proteomeHD_pred_df['appearance'].to_numpy(),\n",
    "                             'Simple Threshold',\n",
    "                             'Precision-Recall,ProteomeHD,validated against Uniprot',\n",
    "                             ylim=(0,1)\n",
    "                            )"
   ]
  },
  {
   "cell_type": "code",
   "execution_count": 262,
   "metadata": {},
   "outputs": [
    {
     "data": {
      "text/html": [
       "<div>\n",
       "<style scoped>\n",
       "    .dataframe tbody tr th:only-of-type {\n",
       "        vertical-align: middle;\n",
       "    }\n",
       "\n",
       "    .dataframe tbody tr th {\n",
       "        vertical-align: top;\n",
       "    }\n",
       "\n",
       "    .dataframe thead th {\n",
       "        text-align: right;\n",
       "    }\n",
       "</style>\n",
       "<table border=\"1\" class=\"dataframe\">\n",
       "  <thead>\n",
       "    <tr style=\"text-align: right;\">\n",
       "      <th></th>\n",
       "      <th>protein_1</th>\n",
       "      <th>protein_2</th>\n",
       "      <th>appearance</th>\n",
       "      <th>binary_interaction</th>\n",
       "      <th>cocomplex</th>\n",
       "      <th>subcellular_location</th>\n",
       "    </tr>\n",
       "  </thead>\n",
       "  <tbody>\n",
       "    <tr>\n",
       "      <th>15</th>\n",
       "      <td>A0AVT1</td>\n",
       "      <td>P52565</td>\n",
       "      <td>21.0</td>\n",
       "      <td>0</td>\n",
       "      <td>0</td>\n",
       "      <td>0</td>\n",
       "    </tr>\n",
       "    <tr>\n",
       "      <th>120</th>\n",
       "      <td>A2RU67</td>\n",
       "      <td>Q99880</td>\n",
       "      <td>15.0</td>\n",
       "      <td>0</td>\n",
       "      <td>0</td>\n",
       "      <td>0</td>\n",
       "    </tr>\n",
       "    <tr>\n",
       "      <th>170</th>\n",
       "      <td>A4D1S0</td>\n",
       "      <td>O15229</td>\n",
       "      <td>17.0</td>\n",
       "      <td>0</td>\n",
       "      <td>0</td>\n",
       "      <td>0</td>\n",
       "    </tr>\n",
       "    <tr>\n",
       "      <th>185</th>\n",
       "      <td>A5A3E0</td>\n",
       "      <td>Q16635</td>\n",
       "      <td>15.0</td>\n",
       "      <td>0</td>\n",
       "      <td>0</td>\n",
       "      <td>0</td>\n",
       "    </tr>\n",
       "    <tr>\n",
       "      <th>210</th>\n",
       "      <td>A6NC86</td>\n",
       "      <td>P21757</td>\n",
       "      <td>16.0</td>\n",
       "      <td>0</td>\n",
       "      <td>0</td>\n",
       "      <td>0</td>\n",
       "    </tr>\n",
       "    <tr>\n",
       "      <th>...</th>\n",
       "      <td>...</td>\n",
       "      <td>...</td>\n",
       "      <td>...</td>\n",
       "      <td>...</td>\n",
       "      <td>...</td>\n",
       "      <td>...</td>\n",
       "    </tr>\n",
       "    <tr>\n",
       "      <th>51530</th>\n",
       "      <td>Q9Y6R1</td>\n",
       "      <td>O60656</td>\n",
       "      <td>16.0</td>\n",
       "      <td>0</td>\n",
       "      <td>0</td>\n",
       "      <td>0</td>\n",
       "    </tr>\n",
       "    <tr>\n",
       "      <th>51535</th>\n",
       "      <td>Q9Y6R4</td>\n",
       "      <td>Q9UGC7</td>\n",
       "      <td>15.0</td>\n",
       "      <td>0</td>\n",
       "      <td>0</td>\n",
       "      <td>0</td>\n",
       "    </tr>\n",
       "    <tr>\n",
       "      <th>51545</th>\n",
       "      <td>Q9Y6U3</td>\n",
       "      <td>Q14596</td>\n",
       "      <td>29.0</td>\n",
       "      <td>0</td>\n",
       "      <td>0</td>\n",
       "      <td>0</td>\n",
       "    </tr>\n",
       "    <tr>\n",
       "      <th>51560</th>\n",
       "      <td>Q9Y6W5</td>\n",
       "      <td>Q5W0V3</td>\n",
       "      <td>21.0</td>\n",
       "      <td>0</td>\n",
       "      <td>0</td>\n",
       "      <td>0</td>\n",
       "    </tr>\n",
       "    <tr>\n",
       "      <th>51610</th>\n",
       "      <td>Q9Y6Y9</td>\n",
       "      <td>Q9Y2B2</td>\n",
       "      <td>20.0</td>\n",
       "      <td>0</td>\n",
       "      <td>0</td>\n",
       "      <td>0</td>\n",
       "    </tr>\n",
       "  </tbody>\n",
       "</table>\n",
       "<p>6644 rows × 6 columns</p>\n",
       "</div>"
      ],
      "text/plain": [
       "      protein_1 protein_2  appearance  binary_interaction  cocomplex  \\\n",
       "15       A0AVT1    P52565        21.0                   0          0   \n",
       "120      A2RU67    Q99880        15.0                   0          0   \n",
       "170      A4D1S0    O15229        17.0                   0          0   \n",
       "185      A5A3E0    Q16635        15.0                   0          0   \n",
       "210      A6NC86    P21757        16.0                   0          0   \n",
       "...         ...       ...         ...                 ...        ...   \n",
       "51530    Q9Y6R1    O60656        16.0                   0          0   \n",
       "51535    Q9Y6R4    Q9UGC7        15.0                   0          0   \n",
       "51545    Q9Y6U3    Q14596        29.0                   0          0   \n",
       "51560    Q9Y6W5    Q5W0V3        21.0                   0          0   \n",
       "51610    Q9Y6Y9    Q9Y2B2        20.0                   0          0   \n",
       "\n",
       "       subcellular_location  \n",
       "15                        0  \n",
       "120                       0  \n",
       "170                       0  \n",
       "185                       0  \n",
       "210                       0  \n",
       "...                     ...  \n",
       "51530                     0  \n",
       "51535                     0  \n",
       "51545                     0  \n",
       "51560                     0  \n",
       "51610                     0  \n",
       "\n",
       "[6644 rows x 6 columns]"
      ]
     },
     "execution_count": 262,
     "metadata": {},
     "output_type": "execute_result"
    }
   ],
   "source": [
    "proteomeHD_pred_df_filtered = proteomeHD_pred_df.loc[proteomeHD_pred_df['appearance'] >= 15]\n",
    "proteomeHD_pred_df_filtered"
   ]
  },
  {
   "cell_type": "code",
   "execution_count": 265,
   "metadata": {},
   "outputs": [
    {
     "name": "stdout",
     "output_type": "stream",
     "text": [
      "Number of nodes: 3567\n",
      "Number of edges: 5447\n",
      "Number of verifiable cliques: 840\n",
      "Number of unverifiable cliques: 2793\n"
     ]
    }
   ],
   "source": [
    "proteomeHD_self_ensemble_net = generate_network_from_df(proteomeHD_pred_df_filtered)\n",
    "proteomeHD_self_ensemble_net_cliques = list(nx.find_cliques(proteomeHD_self_ensemble_net))\n",
    "proteomeHD_verifiable_cliques = list(filter(is_corum_verifiable,proteomeHD_self_ensemble_net_cliques))\n",
    "shuffled_proteomeHD_verifiable_cliques = shuffle_cliques_node_label(proteomeHD_verifiable_cliques)\n",
    "proteomeHD_non_verifiable_cliques = list(filter(lambda x: not is_corum_verifiable(x),proteomeHD_self_ensemble_net_cliques))\n",
    "print(f\"Number of nodes: {len(proteomeHD_self_ensemble_net.nodes)}\")\n",
    "print(f\"Number of edges: {len(proteomeHD_self_ensemble_net.edges)}\")\n",
    "print(f\"Number of verifiable cliques: {len(proteomeHD_verifiable_cliques)}\")\n",
    "print(f\"Number of unverifiable cliques: {len(proteomeHD_non_verifiable_cliques)}\")"
   ]
  },
  {
   "cell_type": "code",
   "execution_count": 264,
   "metadata": {},
   "outputs": [
    {
     "data": {
      "text/html": [
       "<div>\n",
       "<style scoped>\n",
       "    .dataframe tbody tr th:only-of-type {\n",
       "        vertical-align: middle;\n",
       "    }\n",
       "\n",
       "    .dataframe tbody tr th {\n",
       "        vertical-align: top;\n",
       "    }\n",
       "\n",
       "    .dataframe thead th {\n",
       "        text-align: right;\n",
       "    }\n",
       "</style>\n",
       "<table border=\"1\" class=\"dataframe\">\n",
       "  <thead>\n",
       "    <tr style=\"text-align: right;\">\n",
       "      <th></th>\n",
       "      <th>clique_size</th>\n",
       "      <th>hitting_cliques</th>\n",
       "      <th>total_cliques</th>\n",
       "      <th>precision</th>\n",
       "      <th>complex_hit</th>\n",
       "    </tr>\n",
       "  </thead>\n",
       "  <tbody>\n",
       "    <tr>\n",
       "      <th>2</th>\n",
       "      <td>2</td>\n",
       "      <td>190</td>\n",
       "      <td>517</td>\n",
       "      <td>0.367505</td>\n",
       "      <td>324</td>\n",
       "    </tr>\n",
       "    <tr>\n",
       "      <th>0</th>\n",
       "      <td>3</td>\n",
       "      <td>138</td>\n",
       "      <td>221</td>\n",
       "      <td>0.624434</td>\n",
       "      <td>45</td>\n",
       "    </tr>\n",
       "    <tr>\n",
       "      <th>1</th>\n",
       "      <td>4</td>\n",
       "      <td>53</td>\n",
       "      <td>76</td>\n",
       "      <td>0.697368</td>\n",
       "      <td>29</td>\n",
       "    </tr>\n",
       "    <tr>\n",
       "      <th>3</th>\n",
       "      <td>5</td>\n",
       "      <td>18</td>\n",
       "      <td>20</td>\n",
       "      <td>0.900000</td>\n",
       "      <td>15</td>\n",
       "    </tr>\n",
       "    <tr>\n",
       "      <th>4</th>\n",
       "      <td>6</td>\n",
       "      <td>6</td>\n",
       "      <td>6</td>\n",
       "      <td>1.000000</td>\n",
       "      <td>7</td>\n",
       "    </tr>\n",
       "  </tbody>\n",
       "</table>\n",
       "</div>"
      ],
      "text/plain": [
       "   clique_size  hitting_cliques  total_cliques  precision  complex_hit\n",
       "2            2              190            517   0.367505          324\n",
       "0            3              138            221   0.624434           45\n",
       "1            4               53             76   0.697368           29\n",
       "3            5               18             20   0.900000           15\n",
       "4            6                6              6   1.000000            7"
      ]
     },
     "execution_count": 264,
     "metadata": {},
     "output_type": "execute_result"
    }
   ],
   "source": [
    "full_report_dict = full_report_calculation_by_size(proteomeHD_verifiable_cliques)\n",
    "simplified_report_df = simplifed_report_df(full_report_dict)\n",
    "simplified_report_df = simplified_report_df.sort_values(by=['clique_size'])\n",
    "simplified_report_df"
   ]
  },
  {
   "cell_type": "code",
   "execution_count": 266,
   "metadata": {},
   "outputs": [
    {
     "data": {
      "text/html": [
       "<div>\n",
       "<style scoped>\n",
       "    .dataframe tbody tr th:only-of-type {\n",
       "        vertical-align: middle;\n",
       "    }\n",
       "\n",
       "    .dataframe tbody tr th {\n",
       "        vertical-align: top;\n",
       "    }\n",
       "\n",
       "    .dataframe thead th {\n",
       "        text-align: right;\n",
       "    }\n",
       "</style>\n",
       "<table border=\"1\" class=\"dataframe\">\n",
       "  <thead>\n",
       "    <tr style=\"text-align: right;\">\n",
       "      <th></th>\n",
       "      <th>clique_size</th>\n",
       "      <th>hitting_cliques</th>\n",
       "      <th>total_cliques</th>\n",
       "      <th>precision</th>\n",
       "      <th>complex_hit</th>\n",
       "    </tr>\n",
       "  </thead>\n",
       "  <tbody>\n",
       "    <tr>\n",
       "      <th>2</th>\n",
       "      <td>2</td>\n",
       "      <td>10</td>\n",
       "      <td>517</td>\n",
       "      <td>0.019342</td>\n",
       "      <td>8</td>\n",
       "    </tr>\n",
       "    <tr>\n",
       "      <th>0</th>\n",
       "      <td>3</td>\n",
       "      <td>0</td>\n",
       "      <td>221</td>\n",
       "      <td>0.000000</td>\n",
       "      <td>0</td>\n",
       "    </tr>\n",
       "    <tr>\n",
       "      <th>1</th>\n",
       "      <td>4</td>\n",
       "      <td>0</td>\n",
       "      <td>76</td>\n",
       "      <td>0.000000</td>\n",
       "      <td>0</td>\n",
       "    </tr>\n",
       "    <tr>\n",
       "      <th>3</th>\n",
       "      <td>5</td>\n",
       "      <td>0</td>\n",
       "      <td>20</td>\n",
       "      <td>0.000000</td>\n",
       "      <td>0</td>\n",
       "    </tr>\n",
       "    <tr>\n",
       "      <th>4</th>\n",
       "      <td>6</td>\n",
       "      <td>0</td>\n",
       "      <td>6</td>\n",
       "      <td>0.000000</td>\n",
       "      <td>0</td>\n",
       "    </tr>\n",
       "  </tbody>\n",
       "</table>\n",
       "</div>"
      ],
      "text/plain": [
       "   clique_size  hitting_cliques  total_cliques  precision  complex_hit\n",
       "2            2               10            517   0.019342            8\n",
       "0            3                0            221   0.000000            0\n",
       "1            4                0             76   0.000000            0\n",
       "3            5                0             20   0.000000            0\n",
       "4            6                0              6   0.000000            0"
      ]
     },
     "execution_count": 266,
     "metadata": {},
     "output_type": "execute_result"
    }
   ],
   "source": [
    "proteomeHD_full_report_dict_shuffled = full_report_calculation_by_size(shuffled_proteomeHD_verifiable_cliques)\n",
    "proteomeHD_simplified_report_df_shuffled = simplifed_report_df(proteomeHD_full_report_dict_shuffled)\n",
    "proteomeHD_simplified_report_df_shuffled = proteomeHD_simplified_report_df_shuffled.sort_values(by=['clique_size'])\n",
    "proteomeHD_simplified_report_df_shuffled"
   ]
  },
  {
   "cell_type": "code",
   "execution_count": null,
   "metadata": {},
   "outputs": [],
   "source": [
    "proteomeHD_non_verifiable_5_cliques = list(filter(lambda x: len(x) == 4,proteomeHD_non_verifiable_cliques))\n",
    "proteomeHD_non_verifiable_5_cliques"
   ]
  },
  {
   "cell_type": "code",
   "execution_count": 59,
   "metadata": {
    "collapsed": true
   },
   "outputs": [
    {
     "name": "stderr",
     "output_type": "stream",
     "text": [
      "C:\\Users\\hoyin\\AppData\\Local\\Programs\\Python\\Python37\\lib\\site-packages\\ipykernel_launcher.py:7: RuntimeWarning: invalid value encountered in long_scalars\n",
      "  import sys\n"
     ]
    }
   ],
   "source": [
    "precision_xs = range(1,12)\n",
    "precision_ys,precision_predictions = make_predictions_based_on_threshold(proteomeHD_simplified_protein_ids,\n",
    "                                                                         proteomeHD_chunked_candidates,\n",
    "                                                                         precision_xs,\n",
    "                                                                         3)"
   ]
  },
  {
   "cell_type": "code",
   "execution_count": 60,
   "metadata": {
    "collapsed": true
   },
   "outputs": [
    {
     "data": {
      "image/png": "[encoded data removed]",
      "text/plain": [
       "<Figure size 432x288 with 1 Axes>"
      ]
     },
     "metadata": {
      "needs_background": "light"
     },
     "output_type": "display_data"
    }
   ],
   "source": [
    "draw_bar(precision_xs,precision_ys,'Threshold','Precision','ProteomeHD,Self-Ensemble,Original',(0,1))"
   ]
  },
  {
   "cell_type": "code",
   "execution_count": 61,
   "metadata": {
    "collapsed": true
   },
   "outputs": [
    {
     "data": {
      "image/png": "[encoded data removed]",
      "text/plain": [
       "<Figure size 432x288 with 1 Axes>"
      ]
     },
     "metadata": {
      "needs_background": "light"
     },
     "output_type": "display_data"
    }
   ],
   "source": [
    "draw_bar(range(3,12),precision_predictions,'Threshold','Predictions Made','ProteomeHD,Self-Ensemble,Original')"
   ]
  },
  {
   "cell_type": "code",
   "execution_count": 18,
   "metadata": {
    "collapsed": true
   },
   "outputs": [
    {
     "ename": "KeyError",
     "evalue": "10",
     "output_type": "error",
     "traceback": [
      "\u001b[1;31m---------------------------------------------------------------------------\u001b[0m",
      "\u001b[1;31mKeyError\u001b[0m                                  Traceback (most recent call last)",
      "\u001b[1;32m<ipython-input-18-c4b26ef9cc75>\u001b[0m in \u001b[0;36m<module>\u001b[1;34m\u001b[0m\n\u001b[1;32m----> 1\u001b[1;33m \u001b[0mfull_report_dict\u001b[0m\u001b[1;33m[\u001b[0m\u001b[1;36m10\u001b[0m\u001b[1;33m]\u001b[0m\u001b[1;33m\u001b[0m\u001b[0m\n\u001b[0m",
      "\u001b[1;31mKeyError\u001b[0m: 10"
     ]
    }
   ],
   "source": [
    "full_report_dict[10]"
   ]
  },
  {
   "cell_type": "markdown",
   "metadata": {},
   "source": [
    "## pQTL"
   ]
  },
  {
   "cell_type": "code",
   "execution_count": 182,
   "metadata": {},
   "outputs": [],
   "source": [
    "CANDIDATE_SIZE = 5 # How many of the top appearing closest neighbors should each protein keep\n",
    "NEIGHBOR_SIZE = 5 # How many closest neighbors should each protein considered\n",
    "CHUNK_SIZE = 5 # Number of features in each splitted dataset\n",
    "SAMPLE_SIZE = 100"
   ]
  },
  {
   "cell_type": "code",
   "execution_count": 183,
   "metadata": {},
   "outputs": [
    {
     "name": "stdout",
     "output_type": "stream",
     "text": [
      "Wall time: 2min 52s\n"
     ]
    }
   ],
   "source": [
    "#pQTL_protein_feature_matrix_shuffled = shuffle_column(pQTL_protein_feature_matrix)\n",
    "%time pQTL_chunked_candidates = np.array(list(map(lambda x: generate_link_candidates(x,pQTL_protein_ids,pQTL_protein_feature_matrix,pQTL_protein_idx_lookup,NEIGHBOR_SIZE,CHUNK_SIZE,SAMPLE_SIZE,CANDIDATE_SIZE),pQTL_protein_ids)))"
   ]
  },
  {
   "cell_type": "code",
   "execution_count": 228,
   "metadata": {},
   "outputs": [
    {
     "data": {
      "text/html": [
       "<div>\n",
       "<style scoped>\n",
       "    .dataframe tbody tr th:only-of-type {\n",
       "        vertical-align: middle;\n",
       "    }\n",
       "\n",
       "    .dataframe tbody tr th {\n",
       "        vertical-align: top;\n",
       "    }\n",
       "\n",
       "    .dataframe thead th {\n",
       "        text-align: right;\n",
       "    }\n",
       "</style>\n",
       "<table border=\"1\" class=\"dataframe\">\n",
       "  <thead>\n",
       "    <tr style=\"text-align: right;\">\n",
       "      <th></th>\n",
       "      <th>protein_1</th>\n",
       "      <th>protein_2</th>\n",
       "      <th>appearance</th>\n",
       "      <th>binary_interaction</th>\n",
       "      <th>cocomplex</th>\n",
       "      <th>subcellular_location</th>\n",
       "    </tr>\n",
       "  </thead>\n",
       "  <tbody>\n",
       "    <tr>\n",
       "      <th>0</th>\n",
       "      <td>O60762</td>\n",
       "      <td>Q9P2X0</td>\n",
       "      <td>6.0</td>\n",
       "      <td>1</td>\n",
       "      <td>1</td>\n",
       "      <td>0</td>\n",
       "    </tr>\n",
       "    <tr>\n",
       "      <th>1</th>\n",
       "      <td>O60762</td>\n",
       "      <td>P06744</td>\n",
       "      <td>5.0</td>\n",
       "      <td>0</td>\n",
       "      <td>0</td>\n",
       "      <td>0</td>\n",
       "    </tr>\n",
       "    <tr>\n",
       "      <th>2</th>\n",
       "      <td>O60762</td>\n",
       "      <td>P04075</td>\n",
       "      <td>4.0</td>\n",
       "      <td>0</td>\n",
       "      <td>0</td>\n",
       "      <td>0</td>\n",
       "    </tr>\n",
       "    <tr>\n",
       "      <th>3</th>\n",
       "      <td>O60762</td>\n",
       "      <td>P61225</td>\n",
       "      <td>3.0</td>\n",
       "      <td>0</td>\n",
       "      <td>0</td>\n",
       "      <td>0</td>\n",
       "    </tr>\n",
       "    <tr>\n",
       "      <th>4</th>\n",
       "      <td>O60762</td>\n",
       "      <td>Q9BQD3</td>\n",
       "      <td>3.0</td>\n",
       "      <td>0</td>\n",
       "      <td>0</td>\n",
       "      <td>0</td>\n",
       "    </tr>\n",
       "    <tr>\n",
       "      <th>...</th>\n",
       "      <td>...</td>\n",
       "      <td>...</td>\n",
       "      <td>...</td>\n",
       "      <td>...</td>\n",
       "      <td>...</td>\n",
       "      <td>...</td>\n",
       "    </tr>\n",
       "    <tr>\n",
       "      <th>21675</th>\n",
       "      <td>P62987</td>\n",
       "      <td>P83731</td>\n",
       "      <td>16.0</td>\n",
       "      <td>1</td>\n",
       "      <td>1</td>\n",
       "      <td>0</td>\n",
       "    </tr>\n",
       "    <tr>\n",
       "      <th>21676</th>\n",
       "      <td>P62987</td>\n",
       "      <td>Q02543</td>\n",
       "      <td>13.0</td>\n",
       "      <td>1</td>\n",
       "      <td>1</td>\n",
       "      <td>0</td>\n",
       "    </tr>\n",
       "    <tr>\n",
       "      <th>21677</th>\n",
       "      <td>P62987</td>\n",
       "      <td>P46777</td>\n",
       "      <td>11.0</td>\n",
       "      <td>1</td>\n",
       "      <td>1</td>\n",
       "      <td>1</td>\n",
       "    </tr>\n",
       "    <tr>\n",
       "      <th>21678</th>\n",
       "      <td>P62987</td>\n",
       "      <td>P62899</td>\n",
       "      <td>11.0</td>\n",
       "      <td>1</td>\n",
       "      <td>1</td>\n",
       "      <td>0</td>\n",
       "    </tr>\n",
       "    <tr>\n",
       "      <th>21679</th>\n",
       "      <td>P62987</td>\n",
       "      <td>P39023</td>\n",
       "      <td>10.0</td>\n",
       "      <td>1</td>\n",
       "      <td>1</td>\n",
       "      <td>1</td>\n",
       "    </tr>\n",
       "  </tbody>\n",
       "</table>\n",
       "<p>21680 rows × 6 columns</p>\n",
       "</div>"
      ],
      "text/plain": [
       "      protein_1 protein_2  appearance  binary_interaction  cocomplex  \\\n",
       "0        O60762    Q9P2X0         6.0                   1          1   \n",
       "1        O60762    P06744         5.0                   0          0   \n",
       "2        O60762    P04075         4.0                   0          0   \n",
       "3        O60762    P61225         3.0                   0          0   \n",
       "4        O60762    Q9BQD3         3.0                   0          0   \n",
       "...         ...       ...         ...                 ...        ...   \n",
       "21675    P62987    P83731        16.0                   1          1   \n",
       "21676    P62987    Q02543        13.0                   1          1   \n",
       "21677    P62987    P46777        11.0                   1          1   \n",
       "21678    P62987    P62899        11.0                   1          1   \n",
       "21679    P62987    P39023        10.0                   1          1   \n",
       "\n",
       "       subcellular_location  \n",
       "0                         0  \n",
       "1                         0  \n",
       "2                         0  \n",
       "3                         0  \n",
       "4                         0  \n",
       "...                     ...  \n",
       "21675                     0  \n",
       "21676                     0  \n",
       "21677                     1  \n",
       "21678                     0  \n",
       "21679                     1  \n",
       "\n",
       "[21680 rows x 6 columns]"
      ]
     },
     "execution_count": 228,
     "metadata": {},
     "output_type": "execute_result"
    }
   ],
   "source": [
    "pQTL_pred_df = convert_prediction_to_df(pQTL_protein_ids,pQTL_chunked_candidates[:,0],pQTL_chunked_candidates[:,1])\n",
    "pQTL_pred_df = validate_relations_in_df(pQTL_pred_df)\n",
    "pQTL_pred_df"
   ]
  },
  {
   "cell_type": "code",
   "execution_count": 244,
   "metadata": {},
   "outputs": [
    {
     "data": {
      "text/html": [
       "<div>\n",
       "<style scoped>\n",
       "    .dataframe tbody tr th:only-of-type {\n",
       "        vertical-align: middle;\n",
       "    }\n",
       "\n",
       "    .dataframe tbody tr th {\n",
       "        vertical-align: top;\n",
       "    }\n",
       "\n",
       "    .dataframe thead th {\n",
       "        text-align: right;\n",
       "    }\n",
       "</style>\n",
       "<table border=\"1\" class=\"dataframe\">\n",
       "  <thead>\n",
       "    <tr style=\"text-align: right;\">\n",
       "      <th></th>\n",
       "      <th>protein_1</th>\n",
       "      <th>protein_2</th>\n",
       "      <th>appearance</th>\n",
       "      <th>binary_interaction</th>\n",
       "      <th>cocomplex</th>\n",
       "      <th>subcellular_location</th>\n",
       "    </tr>\n",
       "  </thead>\n",
       "  <tbody>\n",
       "    <tr>\n",
       "      <th>1930</th>\n",
       "      <td>Q9H159</td>\n",
       "      <td>P00338</td>\n",
       "      <td>50.0</td>\n",
       "      <td>0</td>\n",
       "      <td>0</td>\n",
       "      <td>0</td>\n",
       "    </tr>\n",
       "    <tr>\n",
       "      <th>1945</th>\n",
       "      <td>P12814</td>\n",
       "      <td>Q8TCB0</td>\n",
       "      <td>57.0</td>\n",
       "      <td>0</td>\n",
       "      <td>0</td>\n",
       "      <td>0</td>\n",
       "    </tr>\n",
       "    <tr>\n",
       "      <th>2970</th>\n",
       "      <td>Q9BZ29</td>\n",
       "      <td>Q92835</td>\n",
       "      <td>58.0</td>\n",
       "      <td>0</td>\n",
       "      <td>0</td>\n",
       "      <td>0</td>\n",
       "    </tr>\n",
       "    <tr>\n",
       "      <th>9505</th>\n",
       "      <td>Q06203</td>\n",
       "      <td>Q14240</td>\n",
       "      <td>55.0</td>\n",
       "      <td>0</td>\n",
       "      <td>0</td>\n",
       "      <td>0</td>\n",
       "    </tr>\n",
       "    <tr>\n",
       "      <th>9640</th>\n",
       "      <td>P33316</td>\n",
       "      <td>P31350</td>\n",
       "      <td>53.0</td>\n",
       "      <td>0</td>\n",
       "      <td>0</td>\n",
       "      <td>0</td>\n",
       "    </tr>\n",
       "    <tr>\n",
       "      <th>17490</th>\n",
       "      <td>Q92835</td>\n",
       "      <td>Q9BZ29</td>\n",
       "      <td>56.0</td>\n",
       "      <td>0</td>\n",
       "      <td>0</td>\n",
       "      <td>0</td>\n",
       "    </tr>\n",
       "    <tr>\n",
       "      <th>18040</th>\n",
       "      <td>P31350</td>\n",
       "      <td>P33316</td>\n",
       "      <td>63.0</td>\n",
       "      <td>0</td>\n",
       "      <td>0</td>\n",
       "      <td>0</td>\n",
       "    </tr>\n",
       "    <tr>\n",
       "      <th>20075</th>\n",
       "      <td>P13645</td>\n",
       "      <td>Q9BZQ8</td>\n",
       "      <td>50.0</td>\n",
       "      <td>0</td>\n",
       "      <td>0</td>\n",
       "      <td>0</td>\n",
       "    </tr>\n",
       "    <tr>\n",
       "      <th>21360</th>\n",
       "      <td>Q6ZU69</td>\n",
       "      <td>P12814</td>\n",
       "      <td>55.0</td>\n",
       "      <td>0</td>\n",
       "      <td>0</td>\n",
       "      <td>0</td>\n",
       "    </tr>\n",
       "  </tbody>\n",
       "</table>\n",
       "</div>"
      ],
      "text/plain": [
       "      protein_1 protein_2  appearance  binary_interaction  cocomplex  \\\n",
       "1930     Q9H159    P00338        50.0                   0          0   \n",
       "1945     P12814    Q8TCB0        57.0                   0          0   \n",
       "2970     Q9BZ29    Q92835        58.0                   0          0   \n",
       "9505     Q06203    Q14240        55.0                   0          0   \n",
       "9640     P33316    P31350        53.0                   0          0   \n",
       "17490    Q92835    Q9BZ29        56.0                   0          0   \n",
       "18040    P31350    P33316        63.0                   0          0   \n",
       "20075    P13645    Q9BZQ8        50.0                   0          0   \n",
       "21360    Q6ZU69    P12814        55.0                   0          0   \n",
       "\n",
       "       subcellular_location  \n",
       "1930                      0  \n",
       "1945                      0  \n",
       "2970                      0  \n",
       "9505                      0  \n",
       "9640                      0  \n",
       "17490                     0  \n",
       "18040                     0  \n",
       "20075                     0  \n",
       "21360                     0  "
      ]
     },
     "execution_count": 244,
     "metadata": {},
     "output_type": "execute_result"
    }
   ],
   "source": [
    "pQTL_pred_df.loc[(pQTL_pred_df['appearance'] >= 50) & (pQTL_pred_df['binary_interaction'] == 0) & (pQTL_pred_df['cocomplex'] == 0)& (pQTL_pred_df['subcellular_location'] == 0)]"
   ]
  },
  {
   "cell_type": "code",
   "execution_count": 245,
   "metadata": {},
   "outputs": [
    {
     "data": {
      "image/png": "[encoded data removed]",
      "text/plain": [
       "<Figure size 432x288 with 1 Axes>"
      ]
     },
     "metadata": {
      "needs_background": "light"
     },
     "output_type": "display_data"
    }
   ],
   "source": [
    "from visualization_util import df_roc_analysis\n",
    "df_roc_analysis(pQTL_pred_df,['appearance'],'subcellular_location','pQTL','Uniprot')"
   ]
  },
  {
   "cell_type": "code",
   "execution_count": 247,
   "metadata": {},
   "outputs": [
    {
     "data": {
      "image/png": "[encoded data removed]",
      "text/plain": [
       "<Figure size 432x288 with 1 Axes>"
      ]
     },
     "metadata": {
      "needs_background": "light"
     },
     "output_type": "display_data"
    }
   ],
   "source": [
    "df_precision_recall_analysis(pQTL_pred_df['subcellular_location'].to_numpy(),\n",
    "                             pQTL_pred_df['appearance'].to_numpy(),\n",
    "                             'Simple Threshold',\n",
    "                             'Precision-Recall,pQTL,validated against Uniprot',\n",
    "                             ylim=(0,1)\n",
    "                            )"
   ]
  },
  {
   "cell_type": "code",
   "execution_count": 248,
   "metadata": {},
   "outputs": [
    {
     "data": {
      "text/html": [
       "<div>\n",
       "<style scoped>\n",
       "    .dataframe tbody tr th:only-of-type {\n",
       "        vertical-align: middle;\n",
       "    }\n",
       "\n",
       "    .dataframe tbody tr th {\n",
       "        vertical-align: top;\n",
       "    }\n",
       "\n",
       "    .dataframe thead th {\n",
       "        text-align: right;\n",
       "    }\n",
       "</style>\n",
       "<table border=\"1\" class=\"dataframe\">\n",
       "  <thead>\n",
       "    <tr style=\"text-align: right;\">\n",
       "      <th></th>\n",
       "      <th>protein_1</th>\n",
       "      <th>protein_2</th>\n",
       "      <th>appearance</th>\n",
       "      <th>binary_interaction</th>\n",
       "      <th>cocomplex</th>\n",
       "      <th>subcellular_location</th>\n",
       "    </tr>\n",
       "  </thead>\n",
       "  <tbody>\n",
       "    <tr>\n",
       "      <th>50</th>\n",
       "      <td>Q7L592</td>\n",
       "      <td>Q96ND0</td>\n",
       "      <td>18.0</td>\n",
       "      <td>0</td>\n",
       "      <td>0</td>\n",
       "      <td>1</td>\n",
       "    </tr>\n",
       "    <tr>\n",
       "      <th>75</th>\n",
       "      <td>P54819</td>\n",
       "      <td>Q9ULA0</td>\n",
       "      <td>22.0</td>\n",
       "      <td>0</td>\n",
       "      <td>0</td>\n",
       "      <td>0</td>\n",
       "    </tr>\n",
       "    <tr>\n",
       "      <th>76</th>\n",
       "      <td>P54819</td>\n",
       "      <td>O75223</td>\n",
       "      <td>16.0</td>\n",
       "      <td>0</td>\n",
       "      <td>0</td>\n",
       "      <td>0</td>\n",
       "    </tr>\n",
       "    <tr>\n",
       "      <th>77</th>\n",
       "      <td>P54819</td>\n",
       "      <td>Q9NQR4</td>\n",
       "      <td>16.0</td>\n",
       "      <td>0</td>\n",
       "      <td>0</td>\n",
       "      <td>0</td>\n",
       "    </tr>\n",
       "    <tr>\n",
       "      <th>175</th>\n",
       "      <td>P63010</td>\n",
       "      <td>O95782</td>\n",
       "      <td>23.0</td>\n",
       "      <td>1</td>\n",
       "      <td>0</td>\n",
       "      <td>1</td>\n",
       "    </tr>\n",
       "    <tr>\n",
       "      <th>...</th>\n",
       "      <td>...</td>\n",
       "      <td>...</td>\n",
       "      <td>...</td>\n",
       "      <td>...</td>\n",
       "      <td>...</td>\n",
       "      <td>...</td>\n",
       "    </tr>\n",
       "    <tr>\n",
       "      <th>21656</th>\n",
       "      <td>P13284</td>\n",
       "      <td>Q13557</td>\n",
       "      <td>17.0</td>\n",
       "      <td>0</td>\n",
       "      <td>0</td>\n",
       "      <td>0</td>\n",
       "    </tr>\n",
       "    <tr>\n",
       "      <th>21657</th>\n",
       "      <td>P13284</td>\n",
       "      <td>P16278</td>\n",
       "      <td>16.0</td>\n",
       "      <td>0</td>\n",
       "      <td>0</td>\n",
       "      <td>1</td>\n",
       "    </tr>\n",
       "    <tr>\n",
       "      <th>21658</th>\n",
       "      <td>P13284</td>\n",
       "      <td>Q2M2I8</td>\n",
       "      <td>15.0</td>\n",
       "      <td>0</td>\n",
       "      <td>0</td>\n",
       "      <td>0</td>\n",
       "    </tr>\n",
       "    <tr>\n",
       "      <th>21659</th>\n",
       "      <td>P13284</td>\n",
       "      <td>P10619</td>\n",
       "      <td>15.0</td>\n",
       "      <td>0</td>\n",
       "      <td>0</td>\n",
       "      <td>1</td>\n",
       "    </tr>\n",
       "    <tr>\n",
       "      <th>21675</th>\n",
       "      <td>P62987</td>\n",
       "      <td>P83731</td>\n",
       "      <td>16.0</td>\n",
       "      <td>1</td>\n",
       "      <td>1</td>\n",
       "      <td>0</td>\n",
       "    </tr>\n",
       "  </tbody>\n",
       "</table>\n",
       "<p>1977 rows × 6 columns</p>\n",
       "</div>"
      ],
      "text/plain": [
       "      protein_1 protein_2  appearance  binary_interaction  cocomplex  \\\n",
       "50       Q7L592    Q96ND0        18.0                   0          0   \n",
       "75       P54819    Q9ULA0        22.0                   0          0   \n",
       "76       P54819    O75223        16.0                   0          0   \n",
       "77       P54819    Q9NQR4        16.0                   0          0   \n",
       "175      P63010    O95782        23.0                   1          0   \n",
       "...         ...       ...         ...                 ...        ...   \n",
       "21656    P13284    Q13557        17.0                   0          0   \n",
       "21657    P13284    P16278        16.0                   0          0   \n",
       "21658    P13284    Q2M2I8        15.0                   0          0   \n",
       "21659    P13284    P10619        15.0                   0          0   \n",
       "21675    P62987    P83731        16.0                   1          1   \n",
       "\n",
       "       subcellular_location  \n",
       "50                        1  \n",
       "75                        0  \n",
       "76                        0  \n",
       "77                        0  \n",
       "175                       1  \n",
       "...                     ...  \n",
       "21656                     0  \n",
       "21657                     1  \n",
       "21658                     0  \n",
       "21659                     1  \n",
       "21675                     0  \n",
       "\n",
       "[1977 rows x 6 columns]"
      ]
     },
     "execution_count": 248,
     "metadata": {},
     "output_type": "execute_result"
    }
   ],
   "source": [
    "pQTL_pred_df_filtered = pQTL_pred_df[pQTL_pred_df['appearance'] >= 15]\n",
    "pQTL_pred_df_filtered"
   ]
  },
  {
   "cell_type": "code",
   "execution_count": 213,
   "metadata": {},
   "outputs": [
    {
     "name": "stdout",
     "output_type": "stream",
     "text": [
      "Number of nodes: 951\n",
      "Number of edges: 1442\n",
      "Number of verifiable cliques: 362\n",
      "Number of unverifiable cliques: 480\n"
     ]
    }
   ],
   "source": [
    "pQTL_self_ensemble_net = generate_network_from_df(pQTL_pred_df_filtered)\n",
    "pQTL_self_ensemble_net_cliques = list(nx.find_cliques(pQTL_self_ensemble_net))\n",
    "pQTL_verifiable_cliques = list(filter(is_corum_verifiable,pQTL_self_ensemble_net_cliques))\n",
    "shuffled_pQTL_verifiable_cliques = shuffle_cliques_node_label(pQTL_verifiable_cliques)\n",
    "pQTL_non_verifiable_cliques = list(filter(lambda x: not is_corum_verifiable(x),pQTL_self_ensemble_net_cliques))\n",
    "print(f\"Number of nodes: {len(pQTL_self_ensemble_net.nodes)}\")\n",
    "print(f\"Number of edges: {len(pQTL_self_ensemble_net.edges)}\")\n",
    "print(f\"Number of verifiable cliques: {len(pQTL_verifiable_cliques)}\")\n",
    "print(f\"Number of unverifiable cliques: {len(pQTL_non_verifiable_cliques)}\")"
   ]
  },
  {
   "cell_type": "code",
   "execution_count": 249,
   "metadata": {},
   "outputs": [
    {
     "data": {
      "text/html": [
       "<div>\n",
       "<style scoped>\n",
       "    .dataframe tbody tr th:only-of-type {\n",
       "        vertical-align: middle;\n",
       "    }\n",
       "\n",
       "    .dataframe tbody tr th {\n",
       "        vertical-align: top;\n",
       "    }\n",
       "\n",
       "    .dataframe thead th {\n",
       "        text-align: right;\n",
       "    }\n",
       "</style>\n",
       "<table border=\"1\" class=\"dataframe\">\n",
       "  <thead>\n",
       "    <tr style=\"text-align: right;\">\n",
       "      <th></th>\n",
       "      <th>clique_size</th>\n",
       "      <th>hitting_cliques</th>\n",
       "      <th>total_cliques</th>\n",
       "      <th>precision</th>\n",
       "      <th>complex_hit</th>\n",
       "    </tr>\n",
       "  </thead>\n",
       "  <tbody>\n",
       "    <tr>\n",
       "      <th>2</th>\n",
       "      <td>2</td>\n",
       "      <td>122</td>\n",
       "      <td>195</td>\n",
       "      <td>0.625641</td>\n",
       "      <td>191</td>\n",
       "    </tr>\n",
       "    <tr>\n",
       "      <th>0</th>\n",
       "      <td>3</td>\n",
       "      <td>82</td>\n",
       "      <td>96</td>\n",
       "      <td>0.854167</td>\n",
       "      <td>35</td>\n",
       "    </tr>\n",
       "    <tr>\n",
       "      <th>1</th>\n",
       "      <td>4</td>\n",
       "      <td>47</td>\n",
       "      <td>51</td>\n",
       "      <td>0.921569</td>\n",
       "      <td>31</td>\n",
       "    </tr>\n",
       "    <tr>\n",
       "      <th>3</th>\n",
       "      <td>5</td>\n",
       "      <td>14</td>\n",
       "      <td>15</td>\n",
       "      <td>0.933333</td>\n",
       "      <td>11</td>\n",
       "    </tr>\n",
       "    <tr>\n",
       "      <th>4</th>\n",
       "      <td>6</td>\n",
       "      <td>5</td>\n",
       "      <td>5</td>\n",
       "      <td>1.000000</td>\n",
       "      <td>9</td>\n",
       "    </tr>\n",
       "  </tbody>\n",
       "</table>\n",
       "</div>"
      ],
      "text/plain": [
       "   clique_size  hitting_cliques  total_cliques  precision  complex_hit\n",
       "2            2              122            195   0.625641          191\n",
       "0            3               82             96   0.854167           35\n",
       "1            4               47             51   0.921569           31\n",
       "3            5               14             15   0.933333           11\n",
       "4            6                5              5   1.000000            9"
      ]
     },
     "execution_count": 249,
     "metadata": {},
     "output_type": "execute_result"
    }
   ],
   "source": [
    "pQTL_full_report_dict = full_report_calculation_by_size(pQTL_verifiable_cliques)\n",
    "pQTL_simplified_report_df = simplifed_report_df(pQTL_full_report_dict)\n",
    "pQTL_simplified_report_df = pQTL_simplified_report_df.sort_values(by=['clique_size'])\n",
    "pQTL_simplified_report_df"
   ]
  },
  {
   "cell_type": "code",
   "execution_count": 210,
   "metadata": {},
   "outputs": [
    {
     "data": {
      "text/html": [
       "<div>\n",
       "<style scoped>\n",
       "    .dataframe tbody tr th:only-of-type {\n",
       "        vertical-align: middle;\n",
       "    }\n",
       "\n",
       "    .dataframe tbody tr th {\n",
       "        vertical-align: top;\n",
       "    }\n",
       "\n",
       "    .dataframe thead th {\n",
       "        text-align: right;\n",
       "    }\n",
       "</style>\n",
       "<table border=\"1\" class=\"dataframe\">\n",
       "  <thead>\n",
       "    <tr style=\"text-align: right;\">\n",
       "      <th></th>\n",
       "      <th>clique_size</th>\n",
       "      <th>hitting_cliques</th>\n",
       "      <th>total_cliques</th>\n",
       "      <th>precision</th>\n",
       "      <th>complex_hit</th>\n",
       "    </tr>\n",
       "  </thead>\n",
       "  <tbody>\n",
       "    <tr>\n",
       "      <th>2</th>\n",
       "      <td>2</td>\n",
       "      <td>9</td>\n",
       "      <td>195</td>\n",
       "      <td>0.046154</td>\n",
       "      <td>11</td>\n",
       "    </tr>\n",
       "    <tr>\n",
       "      <th>0</th>\n",
       "      <td>3</td>\n",
       "      <td>0</td>\n",
       "      <td>96</td>\n",
       "      <td>0.000000</td>\n",
       "      <td>0</td>\n",
       "    </tr>\n",
       "    <tr>\n",
       "      <th>1</th>\n",
       "      <td>4</td>\n",
       "      <td>1</td>\n",
       "      <td>51</td>\n",
       "      <td>0.019608</td>\n",
       "      <td>1</td>\n",
       "    </tr>\n",
       "    <tr>\n",
       "      <th>3</th>\n",
       "      <td>5</td>\n",
       "      <td>0</td>\n",
       "      <td>15</td>\n",
       "      <td>0.000000</td>\n",
       "      <td>0</td>\n",
       "    </tr>\n",
       "    <tr>\n",
       "      <th>4</th>\n",
       "      <td>6</td>\n",
       "      <td>0</td>\n",
       "      <td>5</td>\n",
       "      <td>0.000000</td>\n",
       "      <td>0</td>\n",
       "    </tr>\n",
       "  </tbody>\n",
       "</table>\n",
       "</div>"
      ],
      "text/plain": [
       "   clique_size  hitting_cliques  total_cliques  precision  complex_hit\n",
       "2            2                9            195   0.046154           11\n",
       "0            3                0             96   0.000000            0\n",
       "1            4                1             51   0.019608            1\n",
       "3            5                0             15   0.000000            0\n",
       "4            6                0              5   0.000000            0"
      ]
     },
     "execution_count": 210,
     "metadata": {},
     "output_type": "execute_result"
    }
   ],
   "source": [
    "pQTL_full_report_dict_shuffled = full_report_calculation_by_size(shuffled_pQTL_verifiable_cliques)\n",
    "pQTL_simplified_report_df_shuffled = simplifed_report_df(pQTL_full_report_dict_shuffled)\n",
    "pQTL_simplified_report_df_shuffled = pQTL_simplified_report_df_shuffled.sort_values(by=['clique_size'])\n",
    "pQTL_simplified_report_df_shuffled"
   ]
  },
  {
   "cell_type": "code",
   "execution_count": 214,
   "metadata": {
    "collapsed": true
   },
   "outputs": [
    {
     "data": {
      "text/plain": [
       "{'total_cliques': 15,\n",
       " 'hitting_cliques': [['Q9UI09', 'Q16795', 'O43181', 'P49821', 'P28331'],\n",
       "  ['P24539', 'P25705', 'O75947', 'P36542', 'P06576'],\n",
       "  ['P62841', 'P61254', 'P42766', 'P62753', 'P36578'],\n",
       "  ['P49721', 'P25787', 'P25786', 'P25788', 'P25789'],\n",
       "  ['P49721', 'P25787', 'P25786', 'P25788', 'O14818'],\n",
       "  ['P20618', 'P25787', 'P25788', 'P25786', 'O14818'],\n",
       "  ['P36578', 'P46779', 'P46778', 'P61313', 'P84098'],\n",
       "  ['P36578', 'P46779', 'P46778', 'P62917', 'P42766'],\n",
       "  ['P48643', 'P40227', 'Q99832', 'P78371', 'P49368'],\n",
       "  ['P25786', 'P28066', 'P60900', 'P25788', 'P25787'],\n",
       "  ['Q86Y39', 'Q9Y6M9', 'O43676', 'P17568', 'O95169'],\n",
       "  ['O95167', 'Q16718', 'O75489', 'O95168', 'O96000'],\n",
       "  ['Q9Y6M9', 'Q16795', 'O43676', 'P17568', 'O95169'],\n",
       "  ['P78371', 'P40227', 'P49368', 'Q99832', 'P50991']],\n",
       " 'non_hitting_cliques': [['P63244', 'P62249', 'P23396', 'P46782', 'P46781']],\n",
       " 'corresponding_complexes': [[178],\n",
       "  [563],\n",
       "  [306, 3055],\n",
       "  [181, 191, 192, 193, 194],\n",
       "  [181, 191, 192, 193, 194],\n",
       "  [181, 191, 192, 193, 194],\n",
       "  [306, 308, 3055],\n",
       "  [306, 308, 3055],\n",
       "  [126],\n",
       "  [181, 191, 192, 193, 194],\n",
       "  [178],\n",
       "  [178],\n",
       "  [178],\n",
       "  [126]],\n",
       " 'precision': 0.9333333333333333,\n",
       " 'complex_hit': [126, 178, 181, 191, 192, 193, 194, 306, 308, 563, 3055],\n",
       " 'complex_candidates_id': [126,\n",
       "  178,\n",
       "  181,\n",
       "  191,\n",
       "  192,\n",
       "  193,\n",
       "  194,\n",
       "  305,\n",
       "  306,\n",
       "  308,\n",
       "  338,\n",
       "  563,\n",
       "  1539,\n",
       "  2129,\n",
       "  2884,\n",
       "  2898,\n",
       "  2901,\n",
       "  2903,\n",
       "  2904,\n",
       "  2905,\n",
       "  2906,\n",
       "  2914,\n",
       "  2919,\n",
       "  2920,\n",
       "  2938,\n",
       "  2942,\n",
       "  2948,\n",
       "  3047,\n",
       "  3055,\n",
       "  5209,\n",
       "  5266,\n",
       "  5380,\n",
       "  6247,\n",
       "  6838,\n",
       "  6985,\n",
       "  7011,\n",
       "  7012,\n",
       "  7013,\n",
       "  7248,\n",
       "  7298,\n",
       "  7299],\n",
       " 'recall': {'complex_candidate': 0.2682926829268293,\n",
       "  'all_corum_complexes': 0.0025737014506317267,\n",
       "  'all_verifiable_corum_complexes': 0.004506349856616141,\n",
       "  'all_verifiable_corum_complexes_size_adjusted': 0.01981981981981982}}"
      ]
     },
     "execution_count": 214,
     "metadata": {},
     "output_type": "execute_result"
    }
   ],
   "source": [
    "pQTL_full_report_dict[5]"
   ]
  },
  {
   "cell_type": "code",
   "execution_count": 211,
   "metadata": {},
   "outputs": [],
   "source": [
    "x_range = range(1,100)\n",
    "precision_ys,precision_predictions = make_predictions_based_on_threshold(pQTL_protein_ids,\n",
    "                                                                         pQTL_chunked_candidates,\n",
    "                                                                         x_range,\n",
    "                                                                         1)"
   ]
  },
  {
   "cell_type": "code",
   "execution_count": 31,
   "metadata": {
    "collapsed": true
   },
   "outputs": [
    {
     "data": {
      "image/png": "[encoded data removed]",
      "text/plain": [
       "<Figure size 432x288 with 1 Axes>"
      ]
     },
     "metadata": {
      "needs_background": "light"
     },
     "output_type": "display_data"
    }
   ],
   "source": [
    "draw_bar(x_range,precision_ys,'Threshold','Precision','pQTL,Self-Ensemble,Original',(0,1))"
   ]
  },
  {
   "cell_type": "code",
   "execution_count": 32,
   "metadata": {
    "collapsed": true
   },
   "outputs": [
    {
     "data": {
      "image/png": "[encoded data removed]",
      "text/plain": [
       "<Figure size 432x288 with 1 Axes>"
      ]
     },
     "metadata": {
      "needs_background": "light"
     },
     "output_type": "display_data"
    }
   ],
   "source": [
    "draw_bar(x_range,precision_predictions,'Threshold','Predictions Made','pQTL,Self-Ensemble,Original')"
   ]
  },
  {
   "cell_type": "code",
   "execution_count": 34,
   "metadata": {
    "collapsed": true
   },
   "outputs": [
    {
     "data": {
      "text/html": [
       "<div>\n",
       "<style scoped>\n",
       "    .dataframe tbody tr th:only-of-type {\n",
       "        vertical-align: middle;\n",
       "    }\n",
       "\n",
       "    .dataframe tbody tr th {\n",
       "        vertical-align: top;\n",
       "    }\n",
       "\n",
       "    .dataframe thead th {\n",
       "        text-align: right;\n",
       "    }\n",
       "</style>\n",
       "<table border=\"1\" class=\"dataframe\">\n",
       "  <thead>\n",
       "    <tr style=\"text-align: right;\">\n",
       "      <th></th>\n",
       "      <th>protein_1</th>\n",
       "      <th>protein_2</th>\n",
       "      <th>appearance</th>\n",
       "      <th>binary_interaction</th>\n",
       "      <th>cocomplex</th>\n",
       "    </tr>\n",
       "  </thead>\n",
       "  <tbody>\n",
       "    <tr>\n",
       "      <th>7195</th>\n",
       "      <td>Q01082</td>\n",
       "      <td>Q13813</td>\n",
       "      <td>100.0</td>\n",
       "      <td>1</td>\n",
       "      <td>0</td>\n",
       "    </tr>\n",
       "    <tr>\n",
       "      <th>11455</th>\n",
       "      <td>O95347</td>\n",
       "      <td>Q9NTJ3</td>\n",
       "      <td>100.0</td>\n",
       "      <td>1</td>\n",
       "      <td>1</td>\n",
       "    </tr>\n",
       "    <tr>\n",
       "      <th>20740</th>\n",
       "      <td>Q13813</td>\n",
       "      <td>Q01082</td>\n",
       "      <td>99.0</td>\n",
       "      <td>1</td>\n",
       "      <td>0</td>\n",
       "    </tr>\n",
       "  </tbody>\n",
       "</table>\n",
       "</div>"
      ],
      "text/plain": [
       "      protein_1 protein_2  appearance  binary_interaction  cocomplex\n",
       "7195     Q01082    Q13813       100.0                   1          0\n",
       "11455    O95347    Q9NTJ3       100.0                   1          1\n",
       "20740    Q13813    Q01082        99.0                   1          0"
      ]
     },
     "execution_count": 34,
     "metadata": {},
     "output_type": "execute_result"
    }
   ],
   "source": [
    "pQTL_pred_df_filtered = pQTL_pred_df.loc[pQTL_pred_df['appearance'] >= 99]\n",
    "pQTL_pred_df_filtered"
   ]
  },
  {
   "cell_type": "code",
   "execution_count": 31,
   "metadata": {
    "collapsed": true
   },
   "outputs": [
    {
     "data": {
      "text/plain": [
       "{'total_cliques': 15,\n",
       " 'hitting_cliques': [['P24539', 'P06576', 'P36542', 'P25705', 'O75947'],\n",
       "  ['P24539', 'P06576', 'O75964', 'P25705', 'O75947'],\n",
       "  ['P24539', 'P56385', 'P25705', 'O75947', 'P36542'],\n",
       "  ['P24539', 'P56385', 'P25705', 'O75947', 'O75964'],\n",
       "  ['P78371', 'P40227', 'Q99832', 'P49368', 'P50991'],\n",
       "  ['P78371', 'P40227', 'Q99832', 'P49368', 'P48643'],\n",
       "  ['Q9NTJ3', 'O95347', 'Q9BPX3', 'Q15021', 'Q15003'],\n",
       "  ['P84098', 'P46778', 'P39023', 'P61313', 'P46777'],\n",
       "  ['Q16795', 'O95169', 'Q9Y6M9', 'O43676', 'P17568'],\n",
       "  ['O15511', 'P61160', 'O15145', 'P61158', 'O15144'],\n",
       "  ['P61160', 'O15145', 'O15143', 'P61158', 'O15144'],\n",
       "  ['P25789', 'P25786', 'P25787', 'P25788', 'P20618'],\n",
       "  ['P25789', 'P25786', 'P25787', 'P25788', 'P49721'],\n",
       "  ['P25789', 'P25786', 'P25787', 'P60900', 'P20618'],\n",
       "  ['P49721', 'P25786', 'P25787', 'P25788', 'O14818']],\n",
       " 'non_hitting_cliques': [],\n",
       " 'corresponding_complexes': [[563],\n",
       "  [563],\n",
       "  [563],\n",
       "  [563],\n",
       "  [126],\n",
       "  [126],\n",
       "  [10, 157, 159, 167],\n",
       "  [306, 308, 3055],\n",
       "  [178],\n",
       "  [27],\n",
       "  [27],\n",
       "  [181, 191, 192, 193, 194],\n",
       "  [181, 191, 192, 193, 194],\n",
       "  [181, 191, 192, 193, 194],\n",
       "  [181, 191, 192, 193, 194]],\n",
       " 'precision': 1.0,\n",
       " 'complex_hit': [10,\n",
       "  27,\n",
       "  126,\n",
       "  157,\n",
       "  159,\n",
       "  167,\n",
       "  178,\n",
       "  181,\n",
       "  191,\n",
       "  192,\n",
       "  193,\n",
       "  194,\n",
       "  306,\n",
       "  308,\n",
       "  563,\n",
       "  3055],\n",
       " 'complex_candidates_id': [10,\n",
       "  27,\n",
       "  49,\n",
       "  126,\n",
       "  157,\n",
       "  159,\n",
       "  160,\n",
       "  167,\n",
       "  178,\n",
       "  181,\n",
       "  191,\n",
       "  192,\n",
       "  193,\n",
       "  194,\n",
       "  306,\n",
       "  308,\n",
       "  353,\n",
       "  563,\n",
       "  1094,\n",
       "  2129,\n",
       "  2884,\n",
       "  2898,\n",
       "  2901,\n",
       "  2903,\n",
       "  2904,\n",
       "  2905,\n",
       "  2914,\n",
       "  2919,\n",
       "  2948,\n",
       "  3055,\n",
       "  5209,\n",
       "  5239,\n",
       "  5380,\n",
       "  6247,\n",
       "  6725,\n",
       "  6985,\n",
       "  7298,\n",
       "  7299],\n",
       " 'recall': {'complex_candidate': 0.42105263157894735,\n",
       "  'all_corum_complexes': 0.003743565746373421,\n",
       "  'all_verifiable_corum_complexes': 0.006554690700532569,\n",
       "  'all_verifiable_corum_complexes_size_adjusted': 0.02882882882882883}}"
      ]
     },
     "execution_count": 31,
     "metadata": {},
     "output_type": "execute_result"
    }
   ],
   "source": [
    "pQTL_full_report_dict[5]"
   ]
  },
  {
   "cell_type": "code",
   "execution_count": 134,
   "metadata": {},
   "outputs": [
    {
     "data": {
      "text/plain": [
       "[]"
      ]
     },
     "execution_count": 134,
     "metadata": {},
     "output_type": "execute_result"
    }
   ],
   "source": [
    "pQTL_non_verifiable_5_cliques = list(filter(lambda x: len(x) >= 9,pQTL_non_verifiable_cliques))\n",
    "pQTL_non_verifiable_5_cliques"
   ]
  },
  {
   "cell_type": "code",
   "execution_count": 218,
   "metadata": {},
   "outputs": [],
   "source": [
    "%time pQTL_knn_candidates = np.array(list(map(lambda x: protein_query_simple(x,CANDIDATE_SIZE,euclidean_dist,pQTL_protein_ids,pQTL_protein_feature_matrix,pQTL_protein_idx_lookup),pQTL_protein_ids)))"
   ]
  },
  {
   "cell_type": "code",
   "execution_count": 219,
   "metadata": {},
   "outputs": [
    {
     "data": {
      "text/plain": [
       "0.13648523985239852"
      ]
     },
     "execution_count": 219,
     "metadata": {},
     "output_type": "execute_result"
    }
   ],
   "source": [
    "pQTL_knn_interaction_counts = np.array(overall_interaction_counts(pQTL_protein_ids,pQTL_knn_candidates))\n",
    "pQTL_knn_precision = np.sum(pQTL_knn_interaction_counts[:,0]) / np.sum(pQTL_knn_interaction_counts[:,1])\n",
    "pQTL_knn_precision"
   ]
  },
  {
   "cell_type": "code",
   "execution_count": 48,
   "metadata": {
    "collapsed": true
   },
   "outputs": [
    {
     "data": {
      "text/plain": [
       "NodeView(('O60762', 'Q15907', 'P61970', 'Q96S82', 'O95295', 'Q86XN8', 'Q8IZE3', 'Q8N3C0', 'Q9H269', 'O60524', 'Q9UJX4', 'O95155', 'P09769', 'Q96KP4', 'Q92623', 'Q9UJS0', 'Q92890', 'P09497', 'P48506', 'P13284', 'Q01469', 'P48426', 'Q9HCE1', 'O14933', 'Q16850', 'Q13907', 'Q16539', 'O00154', 'Q9BYT8', 'P26639', 'P28838', 'P40306', 'Q96KG9', 'Q06323', 'Q13325', 'Q9UL46', 'Q9Y6D9', 'Q8N163', 'Q12874', 'O75643', 'P57740', 'P13010', 'Q14847', 'Q9UJU6', 'P45974', 'Q07960', 'Q66K74', 'Q9Y5W9', 'P54619', 'P20073', 'Q9H7Z7', 'Q9UJY5', 'P40925', 'P20645', 'P07954', 'O95372', 'P51149', 'P53597', 'P24752', 'Q7L592', 'O75223', 'Q9UKG1', 'P23193', 'O00170', 'O43665', 'P52756', 'Q7KZ85', 'O43660', 'O60264', 'Q9UHX1', 'O43809', 'P84085', 'Q9H0U4', 'Q15370', 'O75165', 'Q9BT78', 'Q6SZW1', 'Q9UBM7', 'P24043', 'Q9BWD1', 'O95757', 'Q9Y2S7', 'Q9BYD6', 'Q9Y224', 'P63244', 'P62244', 'P55769', 'P54819', 'Q9NQR4', 'P36776', 'Q9GZP4', 'Q9ULA0', 'P28907', 'P61916', 'P42224', 'O94919', 'P68366', 'Q02790', 'Q5VYK3', 'Q16543', 'P22234', 'Q9UNX4', 'P61221', 'O60341', 'Q12996', 'Q53GS9', 'P15927', 'P78332', 'Q8N201', 'Q9Y4A5', 'A5YKK6', 'P47897', 'Q09161', 'P46063', 'Q9NPE3', 'Q9NX24', 'P28066', 'Q14232', 'P60900', 'Q96JG6', 'Q5VIR6', 'Q9UID3', 'Q8N1G4', 'O95782', 'Q8IWV7', 'O14561', 'Q9UNM6', 'P51665', 'Q9NS69', 'P49411', 'P61086', 'P05023', 'P52758', 'Q86UP2', 'P30040', 'P30260', 'Q9UJX3', 'Q9UG63', 'P30876', 'O95453', 'Q8IWZ3', 'Q92900', 'Q12906', 'Q13347', 'P52272', 'P52435', 'Q6UXN9', 'Q15366', 'Q9UI30', 'Q5TA45', 'Q00839', 'Q9H6R0', 'P31689', 'Q9BQ39', 'Q9HCS7', 'Q96CS2', 'Q15061', 'P49916', 'Q9UK45', 'Q9Y4Z0', 'P62312', 'P14866', 'Q13148', 'Q9H6T3', 'Q8WYP5', 'Q15459', 'O75533', 'Q7L014', 'O96019', 'Q53FZ2', 'Q8WTV0', 'O00159', 'P54920', 'Q6FI81', 'O75150', 'Q99615', 'Q14839', 'Q09028', 'Q9H0C8', 'Q92793', 'P62995', 'Q01130', 'O75494', 'P17096', 'Q13243', 'O75592', 'Q14966', 'Q10567', 'Q5H9R7', 'P20701', 'Q9Y673', 'Q9Y6B6', 'Q14165', 'O60888', 'Q14697', 'P63010', 'Q96CW1', 'Q9UI10', 'P11233', 'P33176', 'Q03252', 'O75663', 'Q658Y4', 'Q9NQP4', 'Q53H12', 'P21796', 'P45880', 'Q8WUD1', 'P40926', 'P23786', 'Q9Y285', 'Q05086', 'Q9Y262', 'Q9HC38', 'Q8N7H5', 'Q9UJX2', 'P62875', 'O43684', 'P49754', 'Q9P253', 'O75083', 'O15143', 'P61160', 'Q9BQ52', 'Q9H583', 'Q12788', 'P42285', 'Q9NYH9', 'Q96CT7', 'P62750', 'P62906', 'O60841', 'Q15056', 'P46778', 'P43034', 'Q96QK1', 'O43242', 'P52907', 'P20618', 'P35228', 'Q9NNW7', 'P46939', 'Q9BTZ2', 'Q6YHU6', 'P00491', 'Q9NYC9', 'Q9UMS0', 'P51114', 'P10809', 'P68104', 'Q9Y3C6', 'P40259', 'Q8N9N8', 'Q86YP4', 'Q14258', 'Q13526', 'Q9NQ29', 'Q13439', 'P61764', 'P52566', 'Q15102', 'P20585', 'Q9NVH1', 'O75431', 'P23368', 'Q13505', 'P17152', 'P25786', 'P25787', 'P25789', 'P25788', 'Q16563', 'Q9ULZ3', 'Q13188', 'P11836', 'O00182', 'Q9NUQ9', 'O60271', 'A0AVT1', 'Q9H9T3', 'P14868', 'P10620', 'P53634', 'P16278', 'O75448', 'Q96RL1', 'O95716', 'P57772', 'O76071', 'Q96MG7', 'Q9P2D3', 'P23528', 'Q14929', 'Q99442', 'O95249', 'Q9NP72', 'Q8WTW3', 'Q8IUI8', 'P60866', 'P62829', 'P18077', 'P46782', 'P15880', 'P62888', 'O75534', 'Q9H4L4', 'P17844', 'Q14444', 'P67809', 'P31153', 'Q15386', 'Q86VP6', 'Q14974', 'Q9NTK5', 'P55786', 'Q9Y228', 'P10155', 'Q9Y6C9', 'Q9NP79', 'P49721', 'O60925', 'O14818', 'Q9UIG0', 'P23246', 'Q6PD62', 'Q96S59', 'P56192', 'Q9Y4G6', 'Q96HR3', 'Q9Y3B4', 'Q8N6R0', 'Q7Z6I6', 'Q8N6H7', 'Q5JVF3', 'O43670', 'Q9H3P2', 'Q92797', 'Q9P2N5', 'P24928', 'Q9Y2W2', 'P31930', 'P47985', 'P22695', 'P14927', 'O14949', 'O14957', 'O95772', 'Q9NTX5', 'Q9UBB6', 'O15400', 'Q96SU4', 'Q15021', 'Q9BPX3', 'Q9NTJ3', 'O95347', 'P23921', 'O14929', 'Q9Y2I1', 'Q9Y5K5', 'Q15648', 'P24534', 'Q15029', 'Q9UJV9', 'Q14241', 'Q8TDN6', 'P38432', 'Q9H4A5', 'Q9UI26', 'Q96SB8', 'P20339', 'P30048', 'Q9ULX6', 'Q9BW27', 'Q12769', 'Q8NFH3', 'O43617', 'Q92621', 'Q9Y5J1', 'Q9NP77', 'O00567', 'P26599', 'P43243', 'Q92945', 'Q07666', 'Q9BXP5', 'P26368', 'Q15031', 'Q14203', 'O00443', 'P54727', 'O43707', 'Q8IZH2', 'Q9ULV4', 'Q13867', 'Q9Y3P9', 'Q9BXS6', 'P19022', 'Q9H6D7', 'O75052', 'P05423', 'Q9NXS2', 'Q9Y277', 'Q969X5', 'P53041', 'P06730', 'Q7L5N1', 'Q9UQ80', 'P20273', 'Q9Y2X7', 'Q16181', 'P61586', 'P25098', 'P29144', 'O43909', 'O95996', 'Q01518', 'Q9Y490', 'O15145', 'Q9NYP7', 'Q9Y3F4', 'Q5VZE5', 'O60573', 'Q8NE71', 'Q99836', 'P09917', 'O75521', 'Q9NZ45', 'Q9Y6H1', 'Q8N6F7', 'P35914', 'Q8N806', 'Q13418', 'Q9UHD2', 'Q9NPF4', 'Q9NVM6', 'P43686', 'P35998', 'P62195', 'Q13200', 'P17980', 'Q99460', 'Q14764', 'Q99798', 'Q9NYU2', 'Q16134', 'O96011', 'Q9Y5A7', 'Q9BQ61', 'Q9Y5A9', 'Q9P2W9', 'Q68E01', 'O95394', 'O75608', 'Q9NW08', 'Q86XP3', 'Q08J23', 'O75694', 'Q8IZ69', 'Q9Y6A5', 'P51116', 'Q9UPN6', 'Q13503', 'P24863', 'O94874', 'Q96JB5', 'O76094', 'Q9H3P7', 'Q14181', 'Q99873', 'Q9NRF9', 'Q99622', 'P40222', 'P07384', 'P04632', 'P04899', 'Q9HBL0', 'Q96RU3', 'Q04760', 'Q7KZN9', 'Q9UEW8', 'Q86W50', 'P62826', 'Q9NXR7', 'O14744', 'Q9P219', 'Q9NWU2', 'Q96SW2', 'P52657', 'Q13144', 'P55735', 'Q8IY57', 'Q96CS3', 'P61163', 'Q9Y3C8', 'Q9NPQ8', 'P55957', 'P00338', 'Q86WR0', 'P06744', 'P04075', 'Q8IVD9', 'Q8NC51', 'P05387', 'P43487', 'Q8NE62', 'Q8IXM6', 'Q8N5K1', 'P22033', 'P51659', 'P98194', 'Q8TCS8', 'P61604', 'Q7Z392', 'Q5RI15', 'O00116', 'P46379', 'O94776', 'Q9H3U1', 'Q6P3X3', 'O00566', 'Q7L1V2', 'Q14690', 'Q9H0A0', 'Q9P2L0', 'P04233', 'Q9H6E4', 'Q9P0P0', 'A6NC98', 'O43847', 'Q9NUQ8', 'P11142', 'Q13616', 'P14735', 'P51948', 'Q8N2F6', 'Q92733', 'Q13761', 'Q9H6Z4', 'Q9NZB2', 'O75691', 'P49959', 'Q9BUQ8', 'Q7Z3B4', 'Q15435', 'P35244', 'P30740', 'P51153', 'A4D1P6', 'P01116', 'O14545', 'P61457', 'Q9UBP0', 'Q9H078', 'Q8N884', 'Q9UBW7', 'Q9NZN5', 'Q9UM13', 'O60306', 'Q99459', 'Q9BY42', 'Q9C0B1', 'Q14151', 'P13489', 'Q9BZH6', 'P61981', 'Q9HAB8', 'P28331', 'Q16795', 'P19404', 'P49821', 'O43678', 'O75306', 'Q8TDY2', 'Q9BZQ8', 'P34896', 'P06396', 'P13645', 'Q9BS26', 'Q9NR31', 'P30101', 'P04843', 'Q8WY22', 'Q9Y315', 'Q8IZ83', 'Q92556', 'P52294', 'P23919', 'Q3MHD2', 'P62841', 'Q15691', 'Q9H4E7', 'P63279', 'O43592', 'O43776', 'P31942', 'P48507', 'Q96ER3', 'P40937', 'P13693', 'P13984', 'Q15013', 'Q8IWV8', 'Q96Q15', 'Q9UIA9', 'O00186', 'P41252', 'P19971', 'Q969H8', 'P49257', 'O15254', 'P40763', 'Q15785', 'Q14160', 'P62495', 'Q96QU8', 'P46060', 'Q9Y450', 'Q9UGP8', 'P55265', 'P62310', 'O60684', 'P61077', 'Q9BY44', 'P55209', 'P08670', 'P05161', 'Q9UM54', 'P31949', 'P06400', 'P25445', 'Q03518', 'Q96CN7', 'P61769', 'O00299', 'O00584', 'P51532', 'Q6ZS81', 'Q9BRX5', 'P16070', 'Q9UHB6', 'P13796', 'Q92974', 'P16298', 'Q99797', 'Q00059', 'O95202', 'Q86Y07', 'Q15070', 'Q9NX40', 'O94925', 'Q3ZCQ8', 'Q9Y4E8', 'Q13596', 'Q16512', 'Q9NYF8', 'P49756', 'Q96AE4', 'P16157', 'P19397', 'Q8WVM0', 'O95199', 'P32519', 'Q8IZT6', 'Q9UH99', 'Q9UKV8', 'Q15276', 'Q96K76', 'O14980', 'O60256', 'Q9P2Y5', 'Q96EE3', 'Q8N1F7', 'Q15393', 'Q16611', 'P49590', 'Q9H061', 'Q9HDC9', 'Q9UKS7', 'P55854', 'Q01813', 'Q9H0E3', 'P63104', 'Q7Z2T5', 'P49591', 'P62879', 'P28062', 'Q15042', 'P52948', 'P12270', 'P29374', 'P56381', 'Q9H920', 'O60476', 'Q04837', 'Q53HC9', 'Q9Y3I0', 'Q8IY17', 'Q9UN37', 'Q9BT22', 'Q9Y333', 'Q08211', 'O75531', 'Q6NZY4', 'Q96RP9', 'Q13564', 'Q04637', 'P61289', 'P11940', 'P20290', 'Q9BYC5', 'Q9H9P8', 'P51648', 'Q8NBX0', 'P53004', 'P10768', 'Q93050', 'Q6NVY1', 'Q5BJF2', 'Q9H0A8', 'P11279', 'P63272', 'Q9Y6M7', 'Q9HAV7', 'P46734', 'P38606', 'Q9BRT3', 'P63313', 'O95793', 'P52630', 'Q9GZU8', 'P56589', 'P61026', 'P11766', 'Q96FW1', 'P60520', 'P14324', 'P62942', 'Q96C01', 'O75351', 'Q7L2H7', 'P18206', 'Q92636', 'Q9C0E2', 'O14974', 'P30520', 'O15371', 'Q9ULZ2', 'Q8TBP6', 'Q96C86', 'P22307', 'Q92609', 'P35251', 'P35249', 'P35250', 'Q9UFW8', 'Q9H223', 'Q13618', 'O75436', 'P61201', 'Q9UNX3', 'P63241', 'Q9Y2L1', 'Q8NI36', 'O60287', 'Q9BV20', 'Q8WWY3', 'Q9GZS3', 'Q9UKK9', 'Q9UBQ5', 'Q9UBP6', 'P18754', 'Q15424', 'P20933', 'Q15005', 'P61421', 'Q8TCG2', 'P30153', 'O94842', 'Q13427', 'Q9NVR2', 'P63167', 'Q8NFC6', 'P35658', 'Q9NZL9', 'P12956', 'Q6P2E9', 'Q13435', 'O75962', 'Q6KC79', 'Q8IY18', 'P29083', 'Q9C0J8', 'Q2KHT3', 'Q9Y6Y8', 'P52434', 'Q86SE9', 'O43290', 'Q8TE73', 'Q3YEC7', 'Q7Z739', 'Q9NV70', 'Q5BJD5', 'Q6GMV2', 'Q6ZS17', 'O00743', 'Q00610', 'Q96T60', 'Q92600', 'Q8IXH7', 'Q9C005', 'Q6IN85', 'Q9NUL3', 'Q5GLZ8', 'Q96PE3', 'Q52LJ0', 'P06132', 'P12081', 'Q92616', 'Q9H089', 'Q13595', 'Q7Z478', 'P19388', 'Q9UKX7', 'O75822', 'Q9NUW8', 'Q13769', 'Q9Y5L0', 'Q13123', 'Q9BRQ8', 'P61964', 'Q9P000', 'Q96HW7', 'Q9NVC6', 'Q9P013', 'Q6UN15', 'Q9H6R4', 'Q9HAV4', 'Q6NUM9', 'Q9UJX5', 'Q9Y2T2', 'Q8NFH4', 'P40121', 'Q9UBQ7', 'P09382', 'Q9HBH0', 'Q15642', 'Q9Y2Z4', 'P53680', 'Q15369', 'P48556', 'Q96GG9', 'Q13561', 'Q13094', 'P06746', 'Q92930', 'Q9H3H1', 'Q92499', 'P78406', 'Q9BSC4', 'P35221', 'P49840', 'P53803', 'P11021', 'P14625', 'Q9Y4L1', 'Q9HCN8', 'P55145', 'Q9UBS4', 'Q9H6S0', 'Q8WXA9', 'Q9Y383', 'Q9UI12', 'Q9Y5K8', 'P36543', 'O75348', 'P21281', 'P62316', 'Q96EV8', 'Q2M389', 'P27816', 'Q9UHY1', 'P68036', 'Q14738', 'Q96RU2', 'Q13547', 'Q8IWX8', 'O60506', 'Q9Y3C1', 'Q9NVP1', 'Q9BZE4', 'O76021', 'Q96GQ7', 'Q8TED0', 'Q7LG56', 'O60313', 'P82664', 'O60783', 'P82914', 'P51398', 'Q9Y2R9', 'P82650', 'Q96T23', 'O43149', 'Q12888', 'O95319', 'O15372', 'Q9Y2X3', 'P60228', 'O95479', 'P15153', 'P09110', 'Q13011', 'O14618', 'P30084', 'Q15293', 'P14550', 'P30085', 'Q9Y5J7', 'Q99570', 'P61020', 'P40938', 'Q13185', 'P55060', 'Q8NFD5', 'Q99439', 'Q15942', 'O14920', 'P28482', 'Q9BPX5', 'P07686', 'Q8N668', 'Q8WV60', 'O75880', 'Q9BYG4', 'Q9NR28', 'Q16891', 'P40692', 'Q99436', 'Q6P1Q0', 'Q92506', 'P45954', 'Q9P0S9', 'Q8N4T8', 'Q9H9B4', 'P56945', 'Q99828', 'Q15758', 'P13498', 'Q9BZJ0', 'Q99417', 'O15514', 'Q96J01', 'P09661', 'O75937', 'Q9Y5Z4', 'P48553', 'P50613', 'Q9Y478', 'Q92769', 'Q5JTH9', 'P46087', 'P56182', 'Q15800', 'P42226', 'Q14CX7', 'Q96FS4', 'Q7LBC6', 'O43488', 'O43583', 'Q14155', 'Q99497', 'P32321', 'Q9UKD2', 'Q9NRX1', 'O14979', 'Q9Y5B9', 'Q9NZ43', 'P62333', 'O00232', 'O00231', 'Q9H0R1', 'Q9UNH7', 'Q9H1A4', 'Q9Y2W1', 'Q9NRX4', 'Q07812', 'P49773', 'Q9H8Y8', 'O60449', 'P37802', 'Q6PI48', 'Q9BW92', 'O75569', 'Q14699', 'Q8WUA7', 'Q9Y570', 'P18669', 'P60174', 'Q1KMD3', 'Q9H9Q2', 'Q8WXH0', 'P58546', 'P27986', 'Q8IUE6', 'Q8WV28', 'P54803', 'P54136', 'Q16401', 'P22087', 'Q7Z422', 'Q13951', 'Q9H910', 'Q16881', 'Q9NRY5', 'Q709C8', 'P48739', 'Q8WUM4', 'Q96F07', 'P55160', 'P50570', 'P35573', 'P19525', 'Q9Y5K6', 'Q712K3', 'Q16666', 'Q9P275', 'Q9Y3A2', 'O43818', 'Q9Y3D0', 'Q8TB72', 'O75821', 'Q6P1J9', 'Q01780', 'Q8N983', 'Q9H9J2', 'Q9P015', 'Q9H0U6', 'Q9NWU5', 'Q13405', 'Q9NWY4', 'P61978', 'O14490', 'Q9Y5Q8', 'Q96KR1', 'Q92620', 'Q13077', 'P42229', 'Q00653', 'Q14061', 'P13995', 'P35610', 'Q8TAT6', 'P50395', 'P83731', 'Q00688', 'Q15819', 'Q02878', 'Q9H1Y0', 'Q9NXE4', 'Q9NSD9', 'Q92995', 'Q6VY07', 'P10644', 'Q9Y4X5', 'P61619', 'Q9UNL2', 'P35606', 'P53621', 'P53618', 'O75152', 'Q9BZZ5', 'Q9BVS4', 'Q9BZL1', 'P54886', 'Q9NY12', 'Q13395', 'Q92845', 'Q99590', 'Q9NTN9', 'O75879', 'Q7Z3U7', 'Q16531', 'O43264', 'Q9BQA1', 'Q9Y5B0', 'Q5VW36', 'P16989', 'Q5T280', 'Q9NRL2', 'Q14331', 'Q9Y4R8', 'Q9ULX3', 'Q9H4A3', 'Q5T4S7', 'Q8IZL8', 'Q06124', 'Q8IX12', 'P07814', 'Q6P2Q9', 'Q9NZT2', 'Q96MW5', 'Q9H267', 'Q8NBU5', 'P46199', 'Q5SSJ5', 'Q96DI7', 'Q9Y5U8', 'O95563', 'Q15365', 'P67812', 'Q0VGL1', 'Q8IXB1', 'O43169', 'Q9P2R7', 'P50213', 'P54687', 'Q53EL6', 'P36551', 'Q06203', 'Q8WVV9', 'Q9Y2A7', 'P49902', 'P08727', 'P82673', 'Q9Y3D9', 'Q9Y399', 'Q96EY7', 'P82930', 'Q12872', 'Q96T76', 'P22223', 'P23526', 'Q86WP2', 'P40227', 'Q99832', 'P78371', 'P17987', 'P50991', 'O75390', 'Q15008', 'P18859', 'O00487', 'Q96EL2', 'Q96JJ3', 'Q02978', 'Q86Y56', 'Q7Z5K2', 'Q29RF7', 'P49790', 'Q96GC9', 'Q7KZF4', 'P28340', 'Q8TEQ6', 'O43143', 'P43246', 'P23588', 'Q9BXJ9', 'P15170', 'Q6PKG0', 'P46777', 'P61254', 'Q9NRA0', 'P62913', 'Q07020', 'P62241', 'Q02543', 'P46776', 'P18124', 'Q96AB3', 'P30626', 'Q13795', 'Q86YS6', 'P09326', 'Q16630', 'Q9Y6I3', 'Q9BSJ2', 'P61158', 'Q16775', 'Q8IXI2', 'Q9NVJ2', 'Q14790', 'Q96BP2', 'Q9BPX1', 'P62191', 'P55036', 'Q9NVM9', 'Q99567', 'Q9Y4Y9', 'Q12972', 'Q6P1X5', 'Q9UK59', 'Q7Z4V5', 'Q9NVG8', 'Q06587', 'P10619', 'P25774', 'O00754', 'Q8IX01', 'P08621', 'Q96EP5', 'P55011', 'O95232', 'Q14694', 'Q5BKZ1', 'Q96QC0', 'O15511', 'O15144', 'Q9UHI6', 'P57678', 'Q9H2U1', 'Q9Y520', 'O14617', 'O00203', 'P08754', 'Q13098', 'O00410', 'Q9Y295', 'P49368', 'Q9BV38', 'Q05048', 'Q07021', 'Q13155', 'P23743', 'Q15019', 'Q8N8A2', 'Q92608', 'O43633', 'Q9H3N1', 'Q15046', 'Q12904', 'P50990', 'Q14554', 'Q15363', 'P49755', 'Q9H553', 'O95168', 'O95167', 'O75489', 'Q9Y6M9', 'O96000', 'Q96T58', 'P18583', 'Q8WU90', 'E9PAV3', 'P08865', 'P63220', 'P39019', 'P45985', 'Q9H2G2', 'P53582', 'Q08945', 'Q9H098', 'Q9HB40', 'P53396', 'P48163', 'O43752', 'P50851', 'Q86TI0', 'Q14789', 'Q9NRW7', 'A2RRP1', 'Q14004', 'Q9P2T1', 'Q96P11', 'Q15397', 'Q9Y3E5', 'Q9UHD1', 'Q15172', 'Q15717', 'P09012', 'Q9P265', 'O95747', 'Q13464', 'Q9Y487', 'Q93034', 'Q96GM5', 'Q86YV9', 'Q12905', 'Q13952', 'Q15007', 'Q9BW60', 'O14737', 'P52565', 'P20042', 'P05198', 'Q8TBA6', 'Q8WVM8', 'P53992', 'P55072', 'Q9H9A6', 'P55884', 'P22061', 'P36405', 'Q86UX7', 'Q9NXG2', 'P51991', 'Q9Y6D6', 'Q15477', 'P42345', 'P22830', 'P21912', 'O75380', 'B2RTY4', 'P62987', 'P46109', 'P62258', 'Q8WWM7', 'P23497', 'O00764', 'Q15629', 'Q13217', 'P20591', 'Q6ICB0', 'O95786', 'P14618', 'P04406', 'Q16186', 'Q9Y263', 'Q7L1Q6', 'Q5QJE6', 'Q14692', 'Q9Y4B6', 'Q9Y3B9', 'Q9NWB6', 'P27695', 'O43765', 'P60953', 'P47756', 'Q14562', 'P31948', 'P34932', 'Q9NSE4', 'O14521', 'Q14240', 'P22626', 'Q14103', 'P80217', 'Q13287', 'Q53GL7', 'Q6AI08', 'Q9BRX2', 'O15116', 'Q96A33', 'P49841', 'Q13057', 'P61106', 'P61019', 'O43681', 'O95602', 'Q9H9Y6', 'O00541', 'Q9ULT0', 'P08238', 'Q8N5C6', 'O60869', 'O00139', 'Q99614', 'P17812', 'P09496', 'Q14997', 'Q969U7', 'Q96DZ1', 'P23284', 'P04844', 'Q9Y5P6', 'P07237', 'Q8WUM0', 'Q9UMS4', 'Q9H1E3', 'Q9UHY7', 'Q8NCW5', 'P06753', 'Q13045', 'Q92905', 'O60884', 'Q13303', 'Q53GQ0', 'P62070', 'P54709', 'Q9NS86', 'P19623', 'P23396', 'Q92521', 'Q9UBF2', 'Q5ST30', 'P51159', 'O95571', 'Q9UPU5', 'Q9H6W3', 'O15260', 'Q9BXW7', 'O43598', 'Q96RS6', 'P63218', 'O95163', 'Q6IA86', 'P80303', 'O00483', 'Q9BTT0', 'Q14696', 'Q9BSR8', 'P35080', 'O14966', 'Q9UGI8', 'O43464', 'Q9UN19', 'Q9UQ13', 'Q86US8', 'P27449', 'O00471', 'Q4ZHG4', 'P17275', 'Q99583', 'O43148', 'Q9P0L0', 'O00178', 'O94826', 'Q8WU76', 'P08243', 'P78330', 'P08240', 'Q9Y617', 'Q9Y6A4', 'P84090', 'P19784', 'P67870', 'Q5VTR2', 'Q9NR50', 'P62249', 'P61513', 'Q13428', 'P62937', 'Q9H4L5', 'Q9BUE0', 'Q9BQE4', 'O60870', 'Q9NPJ3', 'P50583', 'P20020', 'Q5TDH0', 'Q15185', 'P28288', 'Q9H2K8', 'Q8NEW0', 'P62899', 'P62280', 'P62263', 'P61353', 'A1A4S6', 'P49189', 'O43709', 'Q9GZL7', 'Q9UNQ2', 'Q9NQT5', 'Q9UBV2', 'Q92542', 'Q8N6L1', 'Q15645', 'O75792', 'P06454', 'Q14527', 'Q8NAV1', 'Q10570', 'Q9H159', 'Q8TC12', 'Q9UKR5', 'P17612', 'P27348', 'Q9BXS5', 'P12814', 'Q8TCB0', 'P05413', 'Q14894', 'Q68DK2', 'Q96JI7', 'Q9H3S7', 'O75886', 'Q8NF37', 'Q9H0R4', 'P02786', 'P15311', 'Q7KZI7', 'Q92541', 'Q96Q11', 'P49748', 'Q9Y2R0', 'Q969N2', 'P08133', 'O94804', 'Q15027', 'P31946', 'O43747', 'P18887', 'P07108', 'P49736', 'P25205', 'Q14566', 'P33992', 'P33991', 'P33993', 'Q9NVX2', 'O00303', 'Q14146', 'P62306', 'P31040', 'Q9UL25', 'Q969G3', 'Q12824', 'Q92925', 'Q13151', 'Q06190', 'P60660', 'P62140', 'P15907', 'O15173', 'Q9UL17', 'Q13492', 'Q12986', 'Q9UQ05', 'Q6L8Q7', 'P55809', 'P46459', 'Q16698', 'Q7Z460', 'P62633', 'Q15637', 'P54105', 'O75530', 'P62851', 'P62266', 'P62277', 'Q99816', 'Q9UK41', 'P07195', 'Q53F19', 'Q93084', 'Q8IUR7', 'Q9BQA9', 'Q5T447', 'Q9BRR6', 'Q9UBI1', 'Q99685', 'Q13568', 'P46926', 'Q8TCF1', 'Q9Y276', 'Q8WWC4', 'Q99623', 'P35232', 'Q9P035', 'Q13630', 'Q96BN8', 'Q9HAU5', 'Q96P70', 'P06733', 'Q96LT4', 'P13929', 'P18085', 'Q15437', 'P13667', 'O75381', 'P09960', 'P28332', 'O43432', 'P63208', 'Q6UWE0', 'Q96DE0', 'Q9Y6G9', 'Q5R3I4', 'P23381', 'Q6YN16', 'O75874', 'P00387', 'Q92947', 'Q92878', 'Q8TEM1', 'Q9BVV7', 'O94979', 'Q99627', 'Q00325', 'P36542', 'P24539', 'O75947', 'O94915', 'P41240', 'Q16658', 'Q96RL7', 'Q86X55', 'Q12959', 'Q96K17', 'Q9UHQ4', 'O95470', 'P62136', 'P13716', 'Q15020', 'Q13363', 'Q53QZ3', 'Q15024', 'Q9NPD3', 'Q13868', 'Q9Y3B2', 'P05388', 'Q9NQT4', 'Q9H7D7', 'P24666', 'Q9H000', 'P55010', 'Q9Y580', 'Q9H9E3', 'Q9UIF9', 'Q9P2R3', 'Q9NY93', 'Q96R06', 'Q13111', 'P49643', 'Q13247', 'Q8IZ07', 'O94888', 'Q14289', 'Q96RQ3', 'P55327', 'Q9NT62', 'P32942', 'O00442', 'Q9HD33', 'P61006', 'P31483', 'Q92888', 'Q15833', 'P20340', 'Q02880', 'Q9C0E8', 'Q9HD45', 'P61803', 'P46977', 'A6NIK2', 'Q9Y6K0', 'P29218', 'Q8TBC4', 'Q9NPD8', 'O15381', 'Q71RC2', 'Q9UN86', 'Q6NXR4', 'Q13283', 'P82909', 'Q12789', 'Q9Y5Q9', 'Q9BXR0', 'P62081', 'Q13409', 'Q14204', 'Q7Z5R6', 'Q14152', 'Q13586', 'O60216', 'O75427', 'Q7Z5G4', 'Q15054', 'P49005', 'P47755', 'Q9BPW8', 'P0DPI2', 'Q93100', 'Q9UPN7', 'Q8NEB9', 'Q9NQ88', 'O95070', 'O00244', 'Q96JC1', 'P62873', 'Q9UJZ1', 'Q15154', 'Q96J02', 'Q9H0E2', 'O95336', 'Q9BXK5', 'P30046', 'B0I1T2', 'Q96FV9', 'Q9BWJ5', 'P62314', 'Q9UKV3', 'Q9BS40', 'P14854', 'Q8NB37', 'Q9BQD3', 'Q9HCU8', 'O14579', 'Q9P0U3', 'P54578', 'P37268', 'Q01581', 'Q9BT23', 'Q6P5R6', 'P31146', 'Q14807', 'O95816', 'Q9Y2P8', 'Q5VZK9', 'P36871', 'P21359', 'O43491', 'P36915', 'Q86UR5', 'Q9Y6Y0', 'P50750', 'Q92835', 'Q5T1M5', 'Q9C0C9', 'Q14145', 'Q9NV88', 'Q5UIP0', 'Q9BZX2', 'Q02218', 'P51531', 'O60784', 'O00273', 'Q6ZRS2', 'O15067', 'Q96IY4', 'P33241', 'P35813', 'P07900', 'O95433', 'P42766', 'O14777', 'Q13112', 'Q8WW12', 'Q8N684', 'Q9NVH0', 'P08575', 'Q9GZZ9', 'O60763', 'Q9UNI6', 'P42574', 'Q86V21', 'Q9Y547', 'Q9BRP8', 'Q9NW82', 'Q8WVC0', 'Q8WXW3', 'Q8IV53', 'Q9UBB9', 'P55081', 'P29692', 'P62273', 'P30050', 'Q8IYB8', 'Q96GC5', 'Q14197', 'Q9Y3T9', 'Q92973', 'P21953', 'P55084', 'P36957', 'P40939', 'Q5VYS8', 'O14981', 'Q9UMX5', 'Q96I24', 'P22059', 'Q9NTI5', 'O14776', 'P20700', 'Q9UBE0', 'Q9NQC7', 'Q8IWJ2', 'P62854', 'Q96MU7', 'P37837', 'Q6ZSZ5', 'P21730', 'P55210', 'Q9UQN3', 'Q8WU79', 'Q96G03', 'P52594', 'Q9H444', 'Q9UNP9', 'O75844', 'Q9UBQ0', 'Q9NQZ5', 'Q9UHA4', 'Q6IAA8', 'P09211', 'P36639', 'Q9HBI0', 'O15042', 'P25398', 'Q07092', 'Q53FT3', 'Q9Y4F3', 'Q9Y3D8', 'P04114', 'O14782', 'P27708', 'P31943', 'P13987', 'O75935', 'P27701', 'Q15257', 'Q99961', 'Q9H832', 'O15126', 'P48147', 'Q12768', 'Q8IWB7', 'P42765', 'P78417', 'P38117', 'Q9Y6R4', 'O95248', 'Q92538', 'Q9UNK0', 'P15121', 'O75131', 'P13798', 'Q14247', 'Q9Y4W6', 'O15235', 'O00629', 'P51970', 'O43920', 'P42566', 'Q99735', 'Q9H6A0', 'Q8WV22', 'Q7Z7K0', 'Q9NZZ3', 'Q8N1G2', 'P00390', 'P49903', 'Q13084', 'Q9Y3B7', 'Q96DV4', 'Q9BYD1', 'Q6P1L8', 'Q9NW64', 'Q7RTV0', 'Q86YB8', 'Q5T160', 'Q9GZY6', 'P62304', 'Q5T6V5', 'P00367', 'Q15436', 'P63173', 'Q15654', 'P02792', 'P02794', 'P02545', 'P30536', 'Q71UM5', 'Q96S52', 'Q9Y2H5', 'Q9NRR5', 'Q8N543', 'Q9NVU7', 'O76031', 'Q8IWZ8', 'P78316', 'P35611', 'Q9UEY8', 'O95467', 'O00429', 'Q96RQ1', 'Q969V3', 'Q9Y282', 'Q9BVK6', 'O75175', 'P06748', 'Q9ULW0', 'P11388', 'P25440', 'Q9NUG6', 'P31939', 'Q9BZ29', 'Q96BX8', 'O75208', 'Q9NQG5', 'Q9UNZ2', 'Q9UEU0', 'Q7Z434', 'Q01658', 'Q9H0D6', 'Q6Y7W6', 'Q75QN2', 'Q9Y5X3', 'O60749', 'P39023', 'O75884', 'Q6PGP7', 'Q96A57', 'Q8NHM5', 'Q9NR56', 'Q9UHB9', 'P00973', 'Q13576', 'Q9Y6K5', 'P40429', 'Q9UJA5', 'P52298', 'P30086', 'Q9Y3Z3', 'P35637', 'Q9BY77', 'P62820', 'P27824', 'Q9P107', 'Q92619', 'Q15773', 'Q9Y3C4', 'Q96DC9', 'P38646', 'Q9GZR7', 'P30043', 'P41250', 'O15269', 'O60493', 'P51003', 'Q92688', 'O75909', 'Q9Y291', 'Q92552', 'O95178', 'O43676', 'P17568', 'O95169', 'Q9Y266', 'Q9UHV9', 'Q7L5Y9', 'P05362', 'Q15628', 'Q9NRL3', 'P27797', 'Q08378', 'P48444', 'Q13310', 'Q9GZZ1', 'Q9NUU7', 'Q9NRN7', 'Q86UV5', 'Q8NCN5', 'P49588', 'Q92896', 'Q9NRP0', 'Q8WUY8', 'Q8TCC3', 'Q8IUH3', 'O60645', 'Q9BZF1', 'O94906', 'Q9NPP4', 'Q96PZ0', 'Q12931', 'Q9ULW3', 'P09622', 'Q9HCC0', 'Q9Y4E6', 'Q13043', 'Q8TCY9', 'Q9Y485', 'O43396', 'Q9UKY7', 'Q08379', 'Q00341', 'Q9UKN7', 'Q6P6C2', 'A0FGR8', 'O75391', 'P51857', 'Q86VQ0', 'Q14956', 'O14893', 'Q86WB0', 'Q96SK2', 'Q96EP0', 'P61923', 'Q9ULT8', 'P07910', 'Q96KN7', 'O43674', 'Q9BX68', 'P56556', 'Q14498', 'Q13263', 'P11586', 'O00161', 'O43175', 'Q06210', 'Q9P016', 'P35579', 'Q9UL18', 'Q9NWZ5', 'O94903', 'Q70J99', 'P83436', 'Q16555', 'Q9NQT8', 'Q9UKF6', 'Q9P2I0', 'Q8WYA6', 'Q9UBU9', 'P21964', 'Q8IWL3', 'Q9Y608', 'P35268', 'Q13042', 'Q9NRG9', 'O75940', 'P45973', 'P52701', 'Q99729', 'P49366', 'Q9BV86', 'Q9NVV0', 'Q15286', 'Q5SRE5', 'Q9NR45', 'Q9Y4P3', 'Q69YN2', 'Q9Y3Y2', 'P19474', 'Q92614', 'Q9Y5Y2', 'O75439', 'Q13451', 'P51858', 'P83916', 'Q96ST3', 'Q96SB4', 'Q8NCA5', 'Q9NVS2', 'P49406', 'Q9BZE1', 'P13639', 'Q14573', 'Q8TEB1', 'Q9UBC2', 'Q9Y2L5', 'Q15057', 'P15924', 'Q6ZW49', 'P63027', 'Q6P087', 'P48651', 'P30622', 'Q9UQE7', 'Q2TAY7', 'Q9GZN8', 'Q9Y371', 'Q13445', 'Q13724', 'Q7Z2K6', 'P34897', 'P14314', 'Q9NRG1', 'P05556', 'Q13153', 'O75326', 'Q14511', 'Q13459', 'Q6DD88', 'O95630', 'O15047', 'Q14011', 'P43378', 'P30049', 'P25705', 'P06576', 'P56385', 'Q9P0N8', 'Q9NZ01', 'O95197', 'P21283', 'Q9Y5L4', 'P11172', 'P49427', 'Q9UBW8', 'Q13126', 'O00411', 'Q9BQG0', 'P42704', 'Q96RN5', 'O95721', 'O43390', 'Q8N653', 'Q9Y678', 'O75943', 'P17480', 'Q99598', 'Q69YQ0', 'Q15528', 'Q9BUL8', 'Q13356', 'Q00613', 'Q15291', 'P62318', 'Q9BYG3', 'Q6DKI1', 'P15374', 'P49593', 'O94973', 'P53007', 'P68402', 'Q9Y3L3', 'P16435', 'O60502', 'Q9HBE1', 'Q15067', 'Q8N5M4', 'Q5T5Y3', 'P48729', 'Q9NSP4', 'Q15003', 'P12004', 'O96008', 'Q9P0U1', 'Q15388', 'Q5J8M3', 'Q9Y3I1', 'P54725', 'O75170', 'O15498', 'Q49A26', 'Q9NWV4', 'Q9UNF0', 'P30419', 'P09601', 'Q9Y605', 'P17931', 'Q01082', 'Q14166', 'P62424', 'Q15750', 'P49585', 'Q8NHV4', 'Q9H1I8', 'Q8N9N2', 'Q5T2E6', 'Q9Y512', 'Q99757', 'Q96ST2', 'Q9BW83', 'Q96AJ9', 'Q5T3J3', 'Q7Z2W9', 'Q15080', 'P21291', 'O43808', 'Q7Z2Z2', 'P50502', 'P62877', 'Q99733', 'Q09472', 'Q9UGR2', 'Q9NPA0', 'P52655', 'Q96A65', 'O00422', 'Q10589', 'Q9NRG7', 'Q8TF05', 'O43324', 'Q9Y587', 'P78537', 'Q96EK6', 'Q9Y265', 'Q8NEL9', 'O43708', 'Q9BSD7', 'P62072', 'Q9BTE1', 'Q6PL24', 'Q13617', 'Q9Y4D1', 'P63151', 'O15270', 'Q8TB24', 'P45983', 'Q99538', 'Q9Y4C1', 'P16885', 'P34949', 'P04150', 'Q13573', 'Q13572', 'P50748', 'Q9HAS0', 'Q92734', 'Q9Y394', 'Q7Z7H5', 'Q9UPY3', 'P17174', 'Q92615', 'P56279', 'Q6PJT7', 'O43156', 'Q9P0R6', 'P31751', 'Q99986', 'P23258', 'P28074', 'Q12800', 'P25490', 'Q9C0D2', 'Q15643', 'P61011', 'Q86U42', 'P09132', 'Q9HCK8', 'P67775', 'Q6P2C8', 'Q16822', 'O95834', 'P17858', 'Q9H307', 'Q92696', 'Q9H4Z3', 'P48637', 'P26196', 'P11216', 'Q8N2K0', 'Q14691', 'P25942', 'Q9NVA1', 'Q8N4H5', 'Q9ULU4', 'Q9UGV2', 'O43399', 'Q13469', 'O95999', 'Q9H2P0', 'Q9UBR2', 'O00151', 'Q9BTC0', 'Q12830', 'O00267', 'Q8N6T3', 'Q9UKD1', 'Q5TEU4', 'P50749', 'Q9Y5P4', 'Q8TCT9', 'Q10469', 'Q92544', 'Q9H488', 'O43837', 'Q16740', 'P46779', 'Q9NXF1', 'Q9Y6I8', 'Q96T49', 'Q92575', 'O15027', 'Q9H147', 'O14734', 'Q9Y2Q5', 'O75323', 'Q9UBT2', 'A6NHR9', 'Q9NYB0', 'Q8TEP8', 'O95714', 'Q15075', 'Q9NR09', 'Q9Y2H6', 'O94855', 'Q9Y6E0', 'Q9Y6W5', 'Q9UKK3', 'Q9H4A6', 'Q13901', 'Q5SWX8', 'Q92665', 'O43615', 'Q9NRX2', 'Q9Y619', 'Q6IAN0', 'O00505', 'A3KMH1', 'P55039', 'Q9UL03', 'Q96TC7', 'P54278', 'Q6P158', 'P27361', 'Q86WA8', 'O00626', 'P59768', 'Q13813', 'Q02127', 'Q9BTE7', 'P49711', 'Q06546', 'P19387', 'Q13232', 'Q08AM6', 'Q92562', 'Q14746', 'Q6PJI9', 'Q9NRP2', 'O95822', 'P29372', 'Q16629', 'O00148', 'O43172', 'Q14019', 'Q8TCU6', 'P51692', 'P49815', 'P33527', 'Q01650', 'P08195', 'Q9NX58', 'O60678', 'Q9UNE7', 'P53384', 'Q14318', 'O14562', 'Q5JPH6', 'P62491', 'P09234', 'Q99471', 'Q9UJY4', 'Q9BRF8', 'P30519', 'Q96EY1', 'Q15274', 'P31937', 'P99999', 'P83111', 'P13612', 'Q12846', 'O14735', 'O14874', 'Q96ND0', 'P51570', 'Q15155', 'Q2TAA2', 'Q06136', 'Q7Z3J2', 'Q15751', 'O60231', 'Q15650', 'P09668', 'O14656', 'Q9HD20', 'P11802', 'P16930', 'P42025', 'Q9BWH6', 'P48643', 'Q9P2K5', 'P05166', 'P00918', 'Q04726', 'P05204', 'O14910', 'O43353', 'Q99489', 'O60934', 'Q9H6K4', 'O75746', 'Q99575', 'P41223', 'Q8TDX7', 'Q2M2I8', 'Q15006', 'Q9P0I2', 'Q8N766', 'P40616', 'Q9NVT9', 'Q9NRG0', 'P61601', 'O95071', 'O95373', 'P49792', 'Q93009', 'Q14C86', 'Q9H2M9', 'P57764', 'Q8WYJ6', 'P18074', 'Q53H96', 'P51148', 'Q8IV48', 'P09417', 'O00399', 'Q8TBB5', 'Q9ULD2', 'Q5SY16', 'Q13510', 'P05165', 'P07339', 'P09525', 'P47224', 'Q02818', 'P13807', 'Q9UPZ3', 'O43414', 'Q92918', 'Q9UFC0', 'O95218', 'Q9NUJ1', 'P11177', 'Q9H2U2', 'Q9NP81', 'Q9NWS0', 'O15212', 'Q8TEK3', 'O95835', 'Q9NQX3', 'Q6P1K2', 'Q5TBB1', 'P11049', 'Q9H1B7', 'Q9Y679', 'Q15428', 'O43447', 'Q9NXH9', 'Q9BVI4', 'O60499', 'Q13889', 'P06734', 'O60443', 'Q9HC21', 'Q9HC98', 'P13804', 'Q96RQ9', 'O43760', 'Q8WUK0', 'Q08117', 'Q71SY5', 'Q13523', 'Q9UNZ5', 'Q9NVP2', 'Q6ZRQ5', 'Q86YV0', 'A1L0T0', 'P53804', 'P46781', 'Q4G0J3', 'Q14213', 'O00330', 'Q99426', 'Q9BRT9', 'Q9BZL6', 'Q01105', 'Q9BUJ2', 'Q9UM11', 'Q96F24', 'A2RUS2', 'P00167', 'Q9Y613', 'O60664', 'Q9BYD3', 'P26373', 'Q9NZM5', 'P42696', 'Q9NWV8', 'Q9UI42', 'P29597', 'Q6UXV1', 'Q9UI14', 'Q92643', 'Q9BQ67', 'P18858', 'P06493', 'Q9H944', 'Q8ND24', 'Q6UW68', 'O75964', 'O15382', 'Q16718', 'O14787', 'O00115', 'Q8N2G8', 'Q9NXJ5', 'P52333', 'O00459', 'Q9NPH2', 'Q9UGN4', 'Q9Y6V7', 'Q9NV06', 'Q6NXE6', 'Q86X29', 'Q9BRA2', 'Q9BUN8', 'Q9UII2', 'Q9H0W8', 'Q9UNN5', 'Q8NBF6', 'Q8NB78', 'Q8N6L0', 'Q15287', 'Q96SY0', 'A5D8W1', 'Q00534', 'Q9Y5V0', 'Q10713', 'Q99543', 'O15155', 'P43490', 'Q9NVE7', 'Q53R41', 'Q9NZW5', 'Q2M385', 'Q01432', 'Q7Z2W4', 'O75190', 'O95025', 'Q7Z4S6', 'A1A5B4', 'O00233', 'Q6PJG6', 'Q8NFV4', 'P04792', 'P01903', 'Q06830', 'Q13442', 'Q9Y5X2', 'P49848', 'Q9NW13', 'Q14008', 'P20839', 'O95081', 'P61966', 'O60568', 'P27694', 'O94880', 'Q9H7L9', 'Q16656', 'Q9NX63', 'Q8IYS2', 'Q9BYC8', 'Q15382', 'Q9UDT6', 'P53667', 'Q38SD2', 'P60468', 'P60059', 'Q14914', 'Q9BRJ7', 'O43813', 'P48735', 'Q8N4P3', 'Q9HBL7', 'O00217', 'Q8NF50', 'P09651', 'Q13905', 'Q7Z333', 'Q96TA2', 'O75179', 'Q8NDX1', 'Q6XZF7', 'Q12802', 'P28072', 'O95260', 'Q9UNW1', 'P56937', 'Q5T8D3', 'Q9BVL2', 'Q3B7T1', 'Q9P287', 'P49915', 'Q03701', 'Q9NVV4', 'Q5JRX3', 'O76003', 'P05386', 'Q9NQW7', 'P38919', 'Q16204', 'P17706', 'O15111', 'P30405', 'Q8TAE8', 'P30039', 'P36404', 'Q7Z417', 'Q92598', 'Q8IZS8', 'P84098', 'P61313', 'O14653', 'Q9NVS9', 'P23443', 'O94762', 'P10515', 'Q9H0H0', 'P07737', 'Q8IY81', 'P50053', 'Q92979', 'Q15438', 'P54802', 'O00750', 'Q9BSJ8', 'P78357', 'Q9P2A4', 'Q96SB3', 'Q9BTE6', 'Q9P0M9', 'Q8N5N7', 'Q99536', 'Q02252', 'Q96AG4', 'P49458', 'P51452', 'Q96N67', 'O14745', 'Q13432', 'Q86TI2', 'O00329', 'P09972', 'Q9NX46', 'P57088', 'P19838', 'Q04917', 'O00462', 'P29590', 'Q16864', 'P49207', 'Q86SF2', 'Q8WVC6', 'O96028', 'Q8TBC3', 'Q76FK4', 'Q14728', 'Q9H3E2', 'Q9NUQ7', 'O60701', 'O14773', 'Q9BUP3', 'Q08170', 'Q96EB1', 'O75312', 'Q8N3X1', 'O60711', 'Q8NC44', 'Q9HA64', 'Q2TAZ0', 'Q9H4M9', 'Q96CU9', 'P10412', 'P50416', 'Q9H6F5', 'Q9BVC6', 'Q14139', 'P22681', 'Q04206', 'Q9UK99', 'P49589', 'P60033', 'O00193', 'Q8NFH5', 'O00562', 'P32780', 'Q16633', 'P62837', 'Q86W92', 'Q14674', 'P07741', 'Q9NP92', 'Q14814', 'Q5HYK3', 'Q8N3K9', 'Q9NXA8', 'Q03426', 'Q9UBW5', 'Q7L4I2', 'P61081', 'P50579', 'Q6JQN1', 'P05091', 'Q03519', 'Q9NYS0', 'P50995', 'P29728', 'Q8NHQ9', 'Q8N8Q8', 'Q9H2H9', 'Q9NZN8', 'Q9UNS1', 'Q8N2E2', 'Q9NWS8', 'Q9H845', 'Q13601', 'Q4U2R6', 'Q7Z7F7', 'Q9NX20', 'P09104', 'P07311', 'O00221', 'P29350', 'Q96P48', 'Q96T51', 'P61088', 'Q8NFW8', 'Q86YS7', 'Q8TC07', 'Q9UMX0', 'Q99490', 'Q92882', 'Q13242', 'O95551', 'Q9H446', 'Q9NWT1', 'O60942', 'Q7Z4H3', 'P00441', 'Q9NQE9', 'Q8NI08', 'Q13177', 'P84103', 'Q07955', 'Q01081', 'Q9P258', 'P04179', 'Q9NU22', 'Q9ULC3', 'Q6PCB7', 'Q9ULK4', 'Q96F86', 'P51649', 'Q02338', 'Q4G176', 'Q9Y4K1', 'Q9UPT8', 'P08134', 'Q7L523', 'Q8IYB5', 'O00635', 'Q9H9B1', 'Q92504', 'O95881', 'Q96A26', 'Q96PU8', 'P19484', 'Q13895', 'Q96EK7', 'Q5T653', 'Q9NRW4', 'Q96KP1', 'O60547', 'Q96RT1', 'Q16706', 'Q9NRD1', 'Q9P1F3', 'P31350', 'P33316', 'Q13423', 'Q9NWX6', 'Q14677', 'Q9UBD5', 'P09429', 'P16401', 'P53999', 'Q9UIQ6', 'Q9Y666', 'Q9NRY4', 'Q9NRY2', 'Q9UPU7', 'Q86U44', 'Q96BP3', 'O95486', 'O75367', 'Q12981', 'Q9UP83', 'Q16643', 'Q9NPL8', 'O75578', 'Q5SW79', 'Q9NWH9', 'Q16877', 'P13861', 'Q13107', 'O15357', 'Q16851', 'Q04446', 'P09001', 'Q8TAF3', 'Q86X83', 'Q96IU4', 'Q4KWH8', 'P61009', 'O43402', 'Q9P2D7', 'Q14157', 'Q16854', 'Q9BTV4', 'Q9H0V9', 'Q9Y2I7', 'Q9BV57', 'O94822', 'O15379', 'Q9Y2W7', 'Q96GK7', 'P19338', 'Q53FA7', 'P43304', 'P26440', 'P49450', 'P39210', 'Q8WUA4', 'Q15036', 'O15355', 'Q9BYX4', 'P35269', 'P28676', 'P46940', 'O75251', 'Q9NQC3', 'Q99704', 'Q5T200', 'Q9NR33', 'Q9HCD5', 'Q3V6T2', 'Q8NEJ9', 'P49190', 'Q8IWA0', 'Q969X6', 'Q70CQ2', 'Q8NDI1', 'O14530', 'Q9H2J4', 'Q9Y3A3', 'Q9NZQ3', 'Q9Y3E7', 'Q96RG2', 'Q8TF46', 'P37235', 'Q9GZT3', 'O43815', 'P43007', 'Q16719', 'O43516', 'Q13416', 'O43395', 'O14548', 'Q9Y5U9', 'O43929', 'Q9BXY0', 'P08567', 'P63000', 'P49642', 'Q9UHG3', 'Q99856', 'P63165', 'O60391', 'P35270', 'P05026', 'Q9Y3A5', 'Q15392', 'O60234', 'Q9HB71', 'Q01433', 'Q9BV79', 'P62834', 'O14828', 'Q15631', 'O95140', 'P19447', 'Q92540', 'P19878', 'P11234', 'P00813', 'P47712', 'O75934', 'Q05519', 'P11387', 'P32929', 'Q9UH65', 'Q7Z401', 'Q9H974', 'Q9BSE5', 'P25325', 'Q9Y696', 'Q08257', 'P19256', 'Q9UNY4', 'Q12849', 'Q7L2E3', 'Q9Y2L9', 'Q3KQU3', 'P61247', 'Q9UGM6', 'Q96DA6', 'Q8IYI6', 'O15305', 'O15228', 'Q9HB90', 'O00214', 'Q99707', 'Q96AT9', 'O60563', 'P11310', 'Q13291', 'Q16222', 'P32455', 'Q9Y6N5', 'Q14376', 'Q32P28', 'P11166', 'Q99848', 'Q96CB9', 'Q9Y3A6', 'Q15417', 'P08237', 'Q9H2P9', 'P30041', 'Q96C36', 'Q68CQ4', 'P16949', 'P35659', 'P26583', 'O75475', 'Q15418', 'P29401', 'O14497', 'P49454', 'Q86Y82', 'O15446', 'Q6I9Y2', 'Q8WVM7', 'Q15058', 'Q5JS54', 'P05455', 'Q5T1V6', 'Q99747', 'Q9NYY8', 'Q13610', 'P16220', 'Q12912', 'Q13588', 'Q92576', 'P21580', 'P82094', 'P53611', 'P05089', 'Q9BV40', 'Q9H6V9', 'Q6UW02', 'Q9UDY2', 'Q9H425', 'O95758', 'Q53GS7', 'Q05655', 'Q15084', 'P49750', 'Q9Y324', 'Q8TD19', 'Q5U5X0', 'P49770', 'Q9Y2Z9', 'Q9Y530', 'Q6NUQ4', 'Q8NHH9', 'Q6ULP2', 'O14879', 'P09913', 'P09914', 'O43252', 'Q8IVT5', 'O15162', 'Q9NTM9', 'Q9NRU3', 'Q9NRZ9', 'O75717', 'P26358', 'Q14344', 'P54577', 'Q6UB35', 'P82912', 'Q8N0S6', 'Q92543', 'Q9NPA8', 'P61960', 'Q96IJ6', 'Q96B26', 'Q9H173', 'Q9Y5M8', 'P42167', 'P25208', 'Q9Y3C0', 'O14727', 'P48454', 'O60610', 'P34913', 'O43896', 'Q96K19', 'Q4G148', 'P28908', 'Q00169', 'P11678', 'Q8IY84', 'Q6ZU69', 'P04083', 'Q9NVI1', 'A2VDJ0', 'Q9UBU8', 'Q96ST8', 'Q8WXF1', 'Q9Y5Y5', 'P04040', 'P18031', 'Q8IZQ5', 'Q96S66', 'Q5FWF4', 'Q9H2K0', 'P00505', 'Q96QD9', 'Q04323', 'O95861', 'Q7Z6E9', 'Q8IWR0', 'Q9BRX8', 'P18440', 'Q8N2U9', 'Q3SYG4', 'O14646', 'Q96S44', 'Q8WXX5', 'Q9H0P0', 'Q9UI43', 'P21399', 'Q9BTT4', 'Q96HY7', 'P13674', 'Q9Y4C8', 'O14578', 'O43913', 'P16219', 'Q96D96', 'Q8TDD1', 'P42773', 'Q14571', 'P48960', 'Q5W111', 'Q96CV9', 'P43897', 'Q9BRR9', 'Q53FV1', 'P24941', 'Q96D71', 'Q2NL82', 'Q5TC12', 'Q9P032', 'Q92604', 'Q06265', 'P57729', 'O95573', 'P42858', 'O14976', 'Q9Y6Q9', 'O95292', 'P19174', 'Q9Y6D5', 'Q9P2E3', 'Q9UL26', 'O14662', 'Q9BTW9', 'Q9Y508', 'Q14CZ7', 'P12955', 'Q9UJ70', 'Q00535', 'Q96PE7', 'Q8WVK2', 'Q9BYB4', 'Q9Y2Q0', 'P00488', 'P49006', 'Q96S55', 'Q8WZA9', 'Q9UJ83', 'Q9BX40', 'Q86TU7', 'Q5JTZ9', 'P46783', 'P62847', 'Q15814', 'P62979', 'Q9UKN8', 'Q8N1F8', 'P43307', 'Q9BY50', 'Q32MZ4', 'Q09666', 'O15439', 'Q9BT09', 'Q15181', 'Q99766', 'P42126', 'Q3KQZ1', 'Q9Y2Q3', 'Q9NZ52', 'A9UHW6', 'Q9BWU0', 'Q8TCD5', 'Q9H8H2', 'Q567U6', 'Q14671', 'P41273', 'P32970', 'P01024', 'P62308', 'O75298', 'P50552', 'Q9NPB8', 'Q5VW32', 'Q92530', 'Q8TEA8', 'Q9H1E5', 'Q00765', 'Q9P2E9', 'P60981', 'Q0PNE2', 'P08579', 'Q9BQP7', 'Q9BY32', 'Q9BYN8', 'P61244', 'Q9UKM9', 'P60602', 'Q96I99', 'Q9BV73', 'Q5VSL9', 'Q96CW5', 'Q9BTD8', 'P13073', 'P10606', 'P20674', 'P09669', 'Q9Y296', 'Q9BZ67', 'P30044', 'Q14653', 'P10301', 'Q9H7N4', 'P04424', 'P54922', 'Q6IA69', 'Q14457', 'Q15398', 'Q32P41', 'P36507', 'P15954', 'P61224', 'O95619', 'Q8WVB6', 'Q9UPN3', 'O94953', 'Q13685', 'Q8N490', 'Q99996', 'Q05209', 'O43933', 'Q16762', 'P25685', 'Q9BQE5', 'P07738', 'P35754', 'Q8TBQ9', 'Q8IUX4', 'O95777', 'O43852', 'Q96M27', 'Q01415', 'O43795', 'P15882', 'Q9NRR3', 'Q9P2K8', 'Q0VF96', 'Q86UA1', 'Q96A35', 'Q9Y448', 'Q0VDF9', 'P52292', 'P04818', 'Q9NWW5', 'Q96GE6', 'Q14919', 'Q9NXC5', 'Q8NBJ7', 'O75352', 'Q7Z5L2', 'Q9UHP3', 'Q15843', 'Q99973', 'Q92503', 'Q86VS8', 'Q9UBL3', 'Q9BU89', 'Q9Y6X3', 'Q14353', 'Q9BQ95', 'Q8WUY1', 'Q9Y3U8', 'Q8NBJ5', 'Q01844', 'Q9BW61', 'Q9BQ48', 'Q9Y5X1', 'P16403', 'Q5TFE4', 'Q8WWV3', 'Q9H0R6', 'P12821', 'Q9BUI4', 'Q9P0P8', 'P55196', 'O95299', 'P01588', 'Q2VPK5', 'Q9BRP4', 'Q12792', 'Q92626', 'P08758', 'Q9H270', 'Q9BYK8', 'Q9UBB4', 'Q13330', 'Q6P2H3', 'P48634', 'O00268', 'Q96S19', 'Q5TEJ8', 'Q15121', 'O75146', 'Q9H5N1', 'Q9NUL5', 'O75153', 'Q9H8H0', 'Q8WUA2', 'Q8NF91', 'P07355', 'Q9UPR3', 'Q9Y312', 'Q9NR19', 'Q9Y248', 'Q9HBM1', 'Q9HD42', 'P50897', 'P82663', 'Q8TE23', 'Q9Y6W3', 'Q9Y496', 'Q6P1N9', 'Q9BRG1', 'Q86VN1', 'Q13136', 'Q86W42', 'Q96KB5', 'Q86WJ1', 'Q96HV5', 'Q96FX7', 'Q8WZ42', 'Q9NZ32', 'P22670', 'Q6P1N0', 'Q15345', 'P04049', 'P62487', 'Q7L513', 'P53365', 'Q8IYM9', 'O43159', 'Q9Y5J6', 'Q14156', 'P82933', 'Q13131', 'Q9BT40', 'P62253', 'Q9NZJ6', 'Q9NRM1', 'Q7RTS7', 'Q14558', 'P01591', 'Q9NQZ2', 'Q8IY37', 'Q969T9', 'Q9C0B0', 'P62917', 'Q14254', 'O75955', 'Q9Y221', 'Q15554', 'P18433', 'P38935', 'Q9BQC3', 'Q96GM8', 'P49321', 'Q8NI35', 'Q70IA6', 'P01111', 'Q9UJW0', 'P20292', 'Q86WN1', 'Q14191', 'Q5JTV8', 'Q6ZMI0', 'P35580', 'Q9Y2V7', 'Q8N1S5', 'Q8IYB3', 'Q96IQ9', 'Q9NZL4', 'Q9H7E9', 'Q6RFH5', 'Q9Y6X9', 'O15397', 'Q9P2J5', 'O60293', 'Q92785', 'O00255', 'O75116', 'Q9Y3Q8', 'Q9GZT9', 'Q7Z3D6', 'P49757', 'Q9UBB5', 'Q9BV44', 'P09488', 'Q86X76', 'Q5VTL8', 'O43504', 'Q8NEY8', 'Q9NYL4', 'Q9Y314', 'Q9ULH0', 'Q96E11', 'Q8NFZ0', 'Q9UBC5', 'P41226', 'Q96I25', 'Q92466', 'Q96DB5', 'Q13823', 'O95864', 'P28715', 'P14859', 'Q9HA77', 'Q8IW19', 'Q96JQ2', 'Q30154', 'Q13557', 'Q07065', 'Q9UHN6', 'Q9UPW5', 'Q15646', 'Q9NSU2', 'P61018', 'Q9BU79', 'Q6NUQ1', 'Q9Y2Z2', 'Q9NYL9', 'Q8N6G6', 'P08962', 'Q504Q3', 'Q96GA3', 'Q8TDZ2', 'P42680', 'P15586', 'Q99547', 'O43237', 'Q9BV23', 'P49796', 'Q14676', 'Q9NRK6', 'Q9NVI7', 'Q05823', 'Q5VT06', 'Q04864', 'Q9HB58', 'Q96BY6', 'Q6NYC8', 'Q7Z3E5', 'Q9Y376', 'P26640', 'Q8WUH2', 'Q9BVC5', 'P23434', 'Q9H1K1', 'Q6P3W7', 'Q9H7B2', 'O75369', 'Q96H20', 'O60343', 'Q99504', 'Q96JB2', 'Q8WWI1', 'Q9GZT4', 'P52888', 'Q9Y230', 'Q12765', 'Q8TDH9', 'O00425', 'Q96PV6', 'O15504', 'Q969Z0', 'P49914', 'P48200', 'Q9Y2Z0', 'Q14119', 'Q9BSH4', 'P61962', 'O75438', 'Q16650', 'O00499', 'Q8WV74', 'Q96G21', 'Q92783', 'O14964', 'Q8IZP0', 'Q96KC8', 'Q8NFQ8', 'Q9UFN0', 'P07919', 'P10599', 'Q00577', 'P28289', 'Q01970', 'Q96SN8', 'Q8IV04', 'P51157', 'P56962', 'O95487', 'Q7Z6M1', 'Q9GZS1', 'Q5T6F2', 'Q5VZ89', 'P62753', 'Q15306', 'Q13885', 'Q8NCE2', 'Q9BVA1', 'Q96EY5', 'Q96PC5', 'Q99613', 'Q9BRT2', 'P51580', 'Q9NZJ7', 'O94868', 'Q14980', 'Q15771', 'P42785', 'Q96I59', 'Q92820', 'O00560', 'Q8IY21', 'Q92673', 'P35241', 'P30154', 'P10109', 'P29466', 'Q99683', 'Q99732', 'Q05D32', 'Q9Y375', 'Q9UGJ1', 'Q9BZF9', 'Q00722', 'O14672', 'Q9UHA3', 'Q96D46', 'P30047', 'Q9Y232', 'Q96GX9', 'Q6YP21', 'Q00403', 'Q53G44', 'P11182', 'O75688', 'Q9HCU5', 'Q96FJ0', 'P52732', 'Q9BXW9', 'P04183', 'P49961', 'Q15041', 'Q8TAG9', 'Q9NZC9', 'Q5I0G3', 'Q8IXQ6', 'Q8TDB6', 'Q460N5', 'P40818', 'Q96HC4', 'Q9UII4', 'Q99653', 'Q7Z6J2', 'P52306', 'Q9NVA2', 'Q14108', 'Q9BUT1', 'O60262', 'Q9NTG7', 'Q02224', 'P55212', 'Q16836', 'Q9UBV8', 'Q08209', 'P55157', 'P49221', 'Q9BZV1', 'P41212', 'Q8WWH5', 'Q03001', 'Q96EY8', 'O95476', 'Q9NZD2', 'Q14161', 'Q9Y217', 'Q8TAQ2', 'P26010', 'Q9Y320', 'Q9HB07', 'Q8NB46', 'A3KN83', 'Q9UPS6', 'Q96AX1', 'Q5T8P6', 'Q9NX57', 'Q8NC56', 'Q13619', 'Q147X3', 'Q8N8N7', 'Q96Q07', 'Q00796', 'Q8WTT2', 'P84101', 'Q8IV50', 'Q8WVY7', 'P60983', 'P37108', 'P39687', 'Q9NP66', 'Q9NTJ4', 'O15127', 'Q8NBT2', 'Q7Z2Z1', 'P20702', 'Q96GQ5', 'Q8IY67', 'Q68EM7', 'Q02556', 'Q6UX04', 'Q8IXI1', 'O95298', 'Q9BQ70', 'O75376', 'Q9UNS2', 'Q9UKL6', 'Q96FV2', 'Q96P16', 'Q96DM3', 'O15118', 'Q8N0U8', 'Q9Y584', 'O15427', 'Q9BSA4', 'Q8N122', 'Q9UPN4', 'Q16566', 'Q7RTS9', 'Q9NVH2', 'Q13485', 'Q86VR2', 'P83876', 'O60885', 'Q86TB9', 'P15498', 'P31749', 'Q9BSF4', 'Q7Z7A3', 'Q96C19', 'P52209', 'Q9H299', 'O00488', 'P42677', 'Q9UDY8', 'P22694', 'Q99661', 'Q8IVW6', 'Q70IA8', 'Q9UM00', 'O14880', 'P50336', 'Q9BZD4', 'O43196', 'P57076', 'Q99643', 'Q9BYD2', 'Q5VWZ2', 'Q86TP1', 'Q15427', 'Q8N1G0', 'Q9P2M7', 'Q96E29', 'Q96L92', 'P48382', 'Q6IQ49', 'Q9UBF8', 'Q8IVM0', 'P28067', 'Q7Z3K3', 'P41214', 'Q5D862', 'Q16537', 'O00165', 'Q6P9B9', 'Q8WXI9', 'Q10471', 'Q99698', 'Q9BQE3', 'Q16774', 'P09874', 'Q14739', 'P35236', 'Q86VX2', 'Q96BM9', 'Q96C23', 'Q9HC35', 'P82675', 'Q9Y2D4', 'P62993', 'Q6ZS30', 'P36578', 'O95376', 'Q8IYB7', 'Q96BW9', 'Q9GZU7', 'Q6DN90', 'Q6ZN84', 'Q7L591', 'P62910', 'P23470', 'O75915', 'Q9UGP4', 'Q5HYI8', 'Q96BW5', 'Q9BXB4', 'Q6PIU2', 'Q9BQ75', 'Q03188', 'Q9P241', 'Q56VL3', 'Q8NB90', 'Q9HCE5', 'P61927', 'P20936', 'O43314', 'O95379', 'Q9Y6G5', 'Q8NBM8', 'Q15025', 'Q5VV42', 'Q96NC0', 'Q7Z6J4', 'Q8WWQ0', 'Q8N392', 'Q9NVV5', 'P63172', 'Q9H993', 'Q9BRJ6', 'Q96QR8', 'Q03936', 'Q9C037', 'P07437', 'Q7L2J0', 'Q96H79', 'P50454', 'Q86UE8', 'Q5C9Z4', 'Q86XI2', 'O94905', 'O75410', 'Q9Y2Q9', 'Q7Z7H8', 'Q53H82', 'Q86UE4', 'Q6XQN6', 'Q9UIJ7', 'Q99541', 'Q7Z4H7', 'P42771', 'Q99720', 'P27105', 'Q15526', 'O75683', 'Q9NR46', 'Q9BUH6', 'Q15404', 'Q8TEW0', 'O14802', 'P78346', 'P46013', 'Q5VV67', 'Q6MZM0', 'O43903', 'Q86VM9', 'Q9H6E5', 'P05155', 'Q92879', 'Q13315', 'Q3LXA3', 'Q32P44', 'Q9NQS7', 'Q96AP7', 'Q9BYJ9', 'P62861', 'P60510', 'Q9UL54', 'Q9Y5J9', 'Q969X0', 'O14647', 'Q9Y606', 'Q14643', 'Q96IV0', 'Q9NWU1', 'Q8IX04', 'Q8WUH6', 'Q8NHP8', 'Q96H78', 'Q9H9C1', 'O75794', 'Q12929', 'Q9NUT2', 'P42695', 'Q5W0V3', 'Q8N6V9', 'Q8IVH4', 'Q7Z5J8', 'P49441', 'P33121', 'P12235', 'Q8N442', 'Q9HC77', 'Q01085', 'Q96PC3', 'Q08722', 'Q5R372', 'Q9HCE0', 'Q15118', 'Q86YM7', 'Q13426', 'Q58A45', 'Q9Y2V2', 'P20810', 'Q12866', 'Q9ULH1', 'Q9HBL8', 'P49247', 'Q9UEE9', 'Q14669', 'P52429', 'Q7LGA3', 'Q5T0F9', 'P09936', 'Q5JRA6', 'Q9UKE5', 'Q5VT52', 'Q96PP8', 'Q9NYK5', 'Q01831', 'Q9NUB1', 'Q96ME1', 'Q8N6M0', 'Q9NUQ2', 'Q9BTU6', 'P48723', 'Q9P0B6', 'Q86VV8', 'Q7Z3J3', 'P53985', 'Q7Z4Q2', 'Q9UFF9', 'Q6ZUJ8', 'Q9ULC5', 'Q8NE86', 'Q6PJG2', 'P55263', 'Q9H082', 'P27707', 'O95104', 'Q96NB2', 'P56378', 'Q96IX5', 'Q96HY6', 'Q9H074', 'P19367', 'Q6WKZ4', 'Q6PL18', 'Q8N3P4', 'O43924', 'Q9NVZ3', 'Q9BTE3', 'Q9H5Q4', 'Q5THR3', 'Q8N0W3', 'Q96LJ7', 'Q12965', 'Q9UK61', 'Q96MW1', 'O14972', 'Q9BT73', 'Q9BPU6', 'Q86X10', 'O15258', 'Q96DM1', 'Q9Y4P8', 'P16333', 'Q96JH7', 'Q8WV92', 'Q9UKZ1', 'P14598', 'Q9H4A4', 'Q9HCG8', 'Q9BVJ7', 'Q9Y624', 'Q8TEU7', 'P11171', 'Q9Y5B6', 'P22102', 'Q96NY7', 'P16152', 'Q6ZUM4', 'P20962', 'Q4VC31', 'Q9UHQ9', 'P28070', 'P52789', 'Q9H8Y5', 'P30038', 'Q8NBL1', 'Q8N4Q0', 'Q6F5E8', 'Q12979', 'Q9Y223', 'Q9NW68', 'P57081', 'P56181', 'Q14684', 'P04080', 'Q9NRZ7', 'Q969J3', 'P05107', 'Q9NSI2', 'P48449', 'Q96HE7', 'P52735', 'O60318', 'Q5JU67', 'Q8NBN7', 'Q8NFF5', 'Q9Y5R8', 'Q86UT6', 'Q7Z7E8', 'Q53ET0', 'Q6ZNJ1', 'Q8WUD4', 'Q96P31', 'Q96RE7', 'O95639', 'Q96HA7', 'Q13501', 'Q9UKT9', 'P22570', 'Q9H936', 'Q5TGZ0', 'Q9UHR5', 'Q5UCC4', 'Q9H0H5', 'Q9P086', 'Q9ULP9', 'Q9Y303', 'Q96CP2', 'Q14BN4', 'Q13190', 'P47914', 'Q06033', 'Q86TM6', 'O75676', 'Q96BR5', 'P27144', 'P23458', 'Q96Q05', 'Q8WZA0', 'Q6IPR3', 'P32456', 'Q96PP9', 'P49662', 'P40855', 'P46952', 'P49137', 'Q9Y316', 'Q8NI60', 'Q8N183', 'Q9H4L7', 'Q9NX08', 'Q53S33', 'Q8TDQ7', 'Q15126', 'Q96AQ6', 'Q6ZP82', 'Q9H0L4', 'O60232', 'Q8TCG1', 'Q8TCJ2', 'O75122', 'P41218', 'Q9NY27', 'Q6NW34', 'P46976', 'Q9NS87', 'Q9UQR1', 'Q9UHJ6', 'Q96GS4', 'Q9HAF1', 'Q96AA3', 'Q9BVP2', 'Q86U86', 'Q99549', 'P08582', 'Q9BV19', 'Q96ER9', 'Q6P4A7', 'Q5XPI4', 'Q9Y6I9', 'O75446', 'Q13257', 'Q8NGA1', 'P53367', 'O43181', 'Q86Y39', 'Q9NZ08', 'Q6R327', 'Q6PIY7', 'O95478', 'Q969S9', 'Q92599', 'Q8N9N7', 'P07858', 'Q69YN4', 'Q8N573', 'Q9GZT8', 'Q9BVT8', 'Q9H814', 'P49419', 'P85037', 'Q9H2D1', 'Q562R1', 'Q92520', 'P43405', 'Q16595', 'Q96SI9', 'O95139', 'Q5BJH7', 'Q9Y2S2', 'O94913', 'Q86VU5', 'Q15018', 'Q6ZRP7', 'Q9H3K2', 'Q92574', 'Q9UKI8', 'Q9NR30', 'Q86T03', 'Q86U28', 'Q70UQ0', 'Q68CZ6', 'Q8IZ73', 'Q9BVM2', 'Q14978', 'Q96B45', 'Q86X67', 'Q8ND30', 'P50452', 'Q3MJ13', 'Q96JJ7', 'P05771', 'Q9Y3Q3', 'Q7Z7K6', 'Q92610', 'Q08AF3', 'P04439', 'Q9H5X1', 'Q15004', 'P53350', 'Q8TBX8', 'Q9NYR9', 'Q15555', 'Q96CM8', 'Q99807', 'P46108', 'Q8NEZ5', 'Q9NYV4', 'Q9NX74', 'Q9H479', 'Q9BQB6', 'Q8ND04', 'P67936', 'P36969', 'P53602', 'Q562E7', 'P04264', 'Q8NCJ5', 'P04066', 'P32119', 'Q92817', 'Q9UQ35', 'Q13158', 'Q12851', 'Q9UBX3', 'P20338', 'Q06330', 'Q8N584', 'Q9H900', 'Q7Z5L9', 'Q9H857', 'Q8WVI0', 'Q5JTJ3', 'Q96EK4', 'P49354', 'Q9Y4P1', 'Q8NB16', 'O60508', 'Q9NXV6', 'A0PJW6', 'Q9NZR2', 'O43865', 'Q13425', 'O95183', 'Q9GZY8', 'Q02750', 'O95400', 'O43566', 'Q4KMP7', 'Q12907', 'Q969Q5', 'Q8IYL3', 'A6NJ78', 'Q8WUR7', 'Q9BTL3', 'Q86V48', 'Q9BZE9', 'P49327', 'Q7Z4W1', 'P48059', 'P08236', 'Q12873', 'Q13740', 'Q8IY95', 'P16455', 'Q8WU39', 'Q9BW91', 'P50453', 'Q8WVJ2', 'P14621', 'Q9H4I3', 'Q8IUF8', 'Q16773', 'Q8IWA4', 'Q8N5M9', 'Q8IUX1', 'Q9NPF2', 'P35527', 'O15160', 'Q5VUA4', 'Q9UHD8', 'Q08752', 'O75347', 'Q6VMQ6', 'Q9H9A5', 'Q9NZJ9', 'Q9BVQ7', 'P50440', 'Q8WVT3', 'Q9HC36', 'Q8N5M1', 'Q15652', 'O94966', 'O75414', 'Q96QE5', 'Q96AZ6', 'P35613', 'Q14005', 'Q9BUT9', 'O43427', 'Q86TS9', 'Q9BR76', 'Q9H0W9', 'Q8TCA0', 'P43250', 'Q8TC21', 'P50238', 'Q6N069', 'P35908', 'Q99447', 'Q8TDP1', 'Q9Y2K7', 'Q15051', 'P61599', 'Q8N3D4', 'Q96C90', 'Q92922', 'P26885', 'Q969S3', 'P09543', 'O00461', 'Q9Y2U8', 'Q6GYQ0', 'P16615', 'Q16880', 'Q92990', 'Q5XKP0', 'Q13535', 'O00762', 'Q9Y2X0', 'P57796', 'Q9H3H3', 'Q92889', 'Q9BUB7', 'Q9UBS0', 'Q9NWT8', 'A6NIH7', 'Q9BUF5', 'Q68D91', 'O43805', 'Q96FZ7', 'Q9NUJ3', 'Q9UJX6', 'Q8IWT0', 'P10176', 'Q9P0J7', 'Q8WW59', 'Q6ZMZ3', 'Q643R3', 'O94832', 'Q9NR77', 'Q9UHL4', 'P42898', 'Q07864', 'Q9UKM7', 'P15391', 'Q6P6B1', 'Q9BZK7', 'Q9NQS3', 'Q9BWS9', 'Q9HD34', 'Q92572', 'Q96KX2', 'Q9NYM9', 'Q9NPF5', 'P12268', 'Q9BU61', 'Q13206', 'Q7Z4H8', 'Q15149', 'P23378', 'O43772', 'Q7L775', 'Q15022', 'Q96CX2', 'Q15050', 'Q9P2X0', 'P08574', 'Q8IZ81', 'Q8NDA8', 'Q6P996', 'Q9H773', 'Q6P587', 'P14317', 'P15559', 'Q96EK5', 'Q86XW9', 'P61225', 'Q5T440', 'Q96SZ5', 'P53990', 'Q9Y3D3', 'O15315', 'Q86SZ2', 'Q86SX6', 'Q9NUL7', 'P06239', 'P32322', 'P20929', 'Q9H4I9', 'P20592', 'Q96L91', 'O95456', 'Q6P161', 'Q6ZN28', 'Q96BJ3', 'Q68DU8', 'Q9UDW1', 'A6NDG6', 'Q86TX2', 'Q9Y446', 'Q99435', 'Q9NRA8', 'Q9UI09', 'P60604', 'Q96B77', 'Q96EV2', 'Q92522', 'O95466', 'Q6GMV3', 'Q8N8A6', 'Q03169', 'Q9H7B4', 'P04259', 'Q92985', 'Q9NWZ3', 'P08047', 'Q9NQ50', 'Q9NS39', 'Q0VDD8', 'Q96II8', 'P13647', 'P0DPB6', 'Q9NUP1', 'Q9H497', 'P36873', 'P62256', 'Q96JP5', 'Q86WX3', 'Q8NCM8', 'Q9Y5S1', 'Q92854', 'Q9UFH2', 'Q6ZRI0', 'P68371', 'Q7Z4G1', 'A1XBS5', 'Q2PPJ7', 'Q12882', 'P50914', 'Q8TES7', 'Q5S007', 'O60281', 'Q68CP9', 'Q9UK76', 'Q9Y3A4', 'Q6QNY1', 'Q8NHU6', 'P04229', 'Q9NUQ6', 'P26447', 'Q9H3S1', 'Q9NQH7', 'Q9UI08', 'Q86U90', 'Q9Y618', 'Q9H3S4', 'O15031', 'Q86W34', 'P01909', 'P17900', 'P06865', 'Q8NBF2', 'Q86U38', 'Q9ULF5', 'O15525', 'P11717', 'P12931', 'Q66K14', 'P29084', 'Q96PV0', 'Q9UPN9', 'Q3KQV9', 'Q9Y4I1', 'O95352', 'O43166', 'Q00056', 'Q8WVX9', 'P07602', 'O43292', 'P06703', 'Q9NX47', 'Q8NDW4', 'Q8NHG7', 'Q8NBQ5', 'Q2TAL8', 'P42694', 'Q9BXL7', 'Q9NZM3', 'Q96EY4', 'O60716', 'Q9HD15', 'Q6JBY9', 'Q9UIV1', 'Q9Y385', 'O75064', 'P21980', 'Q27J81', 'Q17R31', 'Q5JPI9', 'P32019', 'P06340', 'Q96KQ7', 'Q5VXH5', 'P10321', 'Q9Y676', 'P13747', 'P30511', 'A6NMK8', 'Q96EL3', 'Q99700', 'Q69YU5', 'Q8N9A8', 'P05114', 'Q9UIC8', 'O15084', 'Q9Y2H1', 'Q9NTJ5', 'P01857', 'O95684', 'Q14761', 'Q6P1X6', 'Q86V88', 'A8MXV4', 'O14907', 'O75843', 'Q8IW45', 'Q9BWE0', 'Q16540', 'Q99829', 'Q9Y3D6', 'Q8NFU3', 'P63098'))"
      ]
     },
     "execution_count": 48,
     "metadata": {},
     "output_type": "execute_result"
    }
   ],
   "source": [
    "pQTL_knn_graph = construct_knn_network(pQTL_protein_ids,pQTL_protein_feature_matrix,5,euclidean_dist,pQTL_protein_idx_lookup)"
   ]
  },
  {
   "cell_type": "code",
   "execution_count": 49,
   "metadata": {},
   "outputs": [],
   "source": [
    "pQTL_knn_graph_cliques = list(nx.find_cliques(pQTL_knn_graph))\n",
    "pQTL_knn_graph_verifiable_cliques = list(filter(is_corum_verifiable,pQTL_knn_graph_cliques))\n",
    "pQTL_knn_graph_non_verifiable_cliques = list(filter(lambda x: not is_corum_verifiable(x),pQTL_knn_graph_cliques))"
   ]
  },
  {
   "cell_type": "code",
   "execution_count": 50,
   "metadata": {
    "collapsed": true
   },
   "outputs": [
    {
     "data": {
      "text/html": [
       "<div>\n",
       "<style scoped>\n",
       "    .dataframe tbody tr th:only-of-type {\n",
       "        vertical-align: middle;\n",
       "    }\n",
       "\n",
       "    .dataframe tbody tr th {\n",
       "        vertical-align: top;\n",
       "    }\n",
       "\n",
       "    .dataframe thead th {\n",
       "        text-align: right;\n",
       "    }\n",
       "</style>\n",
       "<table border=\"1\" class=\"dataframe\">\n",
       "  <thead>\n",
       "    <tr style=\"text-align: right;\">\n",
       "      <th></th>\n",
       "      <th>clique_size</th>\n",
       "      <th>hitting_cliques</th>\n",
       "      <th>total_cliques</th>\n",
       "      <th>precision</th>\n",
       "      <th>complex_hit</th>\n",
       "    </tr>\n",
       "  </thead>\n",
       "  <tbody>\n",
       "    <tr>\n",
       "      <th>1</th>\n",
       "      <td>2</td>\n",
       "      <td>63</td>\n",
       "      <td>864</td>\n",
       "      <td>0.072917</td>\n",
       "      <td>105</td>\n",
       "    </tr>\n",
       "    <tr>\n",
       "      <th>0</th>\n",
       "      <td>3</td>\n",
       "      <td>98</td>\n",
       "      <td>805</td>\n",
       "      <td>0.121739</td>\n",
       "      <td>54</td>\n",
       "    </tr>\n",
       "    <tr>\n",
       "      <th>2</th>\n",
       "      <td>4</td>\n",
       "      <td>98</td>\n",
       "      <td>400</td>\n",
       "      <td>0.245000</td>\n",
       "      <td>34</td>\n",
       "    </tr>\n",
       "    <tr>\n",
       "      <th>3</th>\n",
       "      <td>5</td>\n",
       "      <td>60</td>\n",
       "      <td>118</td>\n",
       "      <td>0.508475</td>\n",
       "      <td>11</td>\n",
       "    </tr>\n",
       "    <tr>\n",
       "      <th>4</th>\n",
       "      <td>6</td>\n",
       "      <td>17</td>\n",
       "      <td>19</td>\n",
       "      <td>0.894737</td>\n",
       "      <td>16</td>\n",
       "    </tr>\n",
       "  </tbody>\n",
       "</table>\n",
       "</div>"
      ],
      "text/plain": [
       "   clique_size  hitting_cliques  total_cliques  precision  complex_hit\n",
       "1            2               63            864   0.072917          105\n",
       "0            3               98            805   0.121739           54\n",
       "2            4               98            400   0.245000           34\n",
       "3            5               60            118   0.508475           11\n",
       "4            6               17             19   0.894737           16"
      ]
     },
     "execution_count": 50,
     "metadata": {},
     "output_type": "execute_result"
    }
   ],
   "source": [
    "pQTL_knn_graph_full_report_dict = full_report_calculation_by_size(pQTL_knn_graph_verifiable_cliques)\n",
    "pQTL_knn_graph_simplified_report_df = simplifed_report_df(pQTL_knn_graph_full_report_dict)\n",
    "pQTL_knn_graph_simplified_report_df = pQTL_knn_graph_simplified_report_df.sort_values(by=['clique_size'])\n",
    "pQTL_knn_graph_simplified_report_df"
   ]
  },
  {
   "cell_type": "code",
   "execution_count": 192,
   "metadata": {
    "collapsed": true
   },
   "outputs": [
    {
     "data": {
      "text/plain": [
       "{'total_cliques': 45,\n",
       " 'hitting_cliques': [['P62750', 'P62906', 'P46778', 'P46777'],\n",
       "  ['Q9UI09', 'Q16795', 'O43676', 'P17568'],\n",
       "  ['Q9UI09', 'Q16795', 'P28331', 'O43181'],\n",
       "  ['Q9UI09', 'Q16795', 'P28331', 'P17568'],\n",
       "  ['P46776', 'Q02878', 'P61353', 'Q02543'],\n",
       "  ['P46779', 'P62906', 'P46778', 'P46777'],\n",
       "  ['P46779', 'P62906', 'P46778', 'P26373'],\n",
       "  ['O14818', 'P25787', 'P25788', 'P28066'],\n",
       "  ['P06576', 'P24539', 'P30049', 'P25705'],\n",
       "  ['P62195', 'P35998', 'Q99460', 'Q13200'],\n",
       "  ['P46781', 'P62249', 'P46782', 'P62854'],\n",
       "  ['P62277', 'P62241', 'P30050', 'P62273'],\n",
       "  ['P62277', 'P62241', 'P30050', 'P05388'],\n",
       "  ['P51970', 'O95167', 'O95168', 'P19404'],\n",
       "  ['P51970', 'O95167', 'O95168', 'O75489'],\n",
       "  ['O75380', 'O75306', 'O95299', 'Q16718'],\n",
       "  ['O75380', 'O75306', 'O95299', 'O43678'],\n",
       "  ['P62851', 'P15880', 'P25398', 'P62888'],\n",
       "  ['P62851', 'P15880', 'P61247', 'Q07020'],\n",
       "  ['P62847', 'P62280', 'P61353', 'P62263'],\n",
       "  ['Q07020', 'P61247', 'P15880', 'P18077'],\n",
       "  ['P28331', 'Q16795', 'O95169', 'P17568'],\n",
       "  ['P28331', 'Q16795', 'O95169', 'P49821'],\n",
       "  ['P28331', 'Q16795', 'P19404', 'P49821'],\n",
       "  ['P61353', 'P18124', 'Q02878', 'P62081'],\n",
       "  ['P61353', 'P18124', 'Q02878', 'Q02543'],\n",
       "  ['P62841', 'P42766', 'P61254', 'P62917'],\n",
       "  ['O43242', 'O00232', 'O00231', 'Q15008'],\n",
       "  ['P61313', 'P46777', 'P39023', 'P18124'],\n",
       "  ['P61313', 'P46777', 'P62979', 'P84098'],\n",
       "  ['O95299', 'O75489', 'Q16718', 'O75306'],\n",
       "  ['Q16718', 'O43920', 'O75489', 'O95168'],\n",
       "  ['Q16718', 'O43920', 'O75489', 'O75306'],\n",
       "  ['P25398', 'P62888', 'P15880', 'P18077'],\n",
       "  ['P25398', 'P60866', 'P18077', 'P15880'],\n",
       "  ['P62081', 'P83731', 'P18124', 'Q02878'],\n",
       "  ['O00232', 'P51665', 'Q9UNM6', 'O00487'],\n",
       "  ['P35249', 'P40937', 'P35250', 'P40938'],\n",
       "  ['Q9Y6M9', 'Q16795', 'O95169', 'Q86Y39'],\n",
       "  ['P61254', 'P42766', 'P62917', 'P36578'],\n",
       "  ['P62906', 'P36578', 'P46778', 'P46777'],\n",
       "  ['P62906', 'P36578', 'P46778', 'P26373'],\n",
       "  ['P62917', 'P46778', 'P42766', 'P36578'],\n",
       "  ['P46778', 'P42766', 'P26373', 'P36578']],\n",
       " 'non_hitting_cliques': [['Q9BPX3', 'Q15021', 'Q9NTJ3', 'Q9HBM1']],\n",
       " 'corresponding_complexes': [[306, 308, 3055],\n",
       "  [178],\n",
       "  [178],\n",
       "  [178],\n",
       "  [306, 308, 3055],\n",
       "  [306, 308, 3055],\n",
       "  [306, 308, 3055, 5380],\n",
       "  [181, 191, 192, 193, 194],\n",
       "  [563],\n",
       "  [32, 193],\n",
       "  [305, 306, 338],\n",
       "  [306, 3055],\n",
       "  [306, 3055],\n",
       "  [178],\n",
       "  [178],\n",
       "  [178],\n",
       "  [178],\n",
       "  [306],\n",
       "  [306],\n",
       "  [306, 3055],\n",
       "  [306, 3055],\n",
       "  [178],\n",
       "  [178, 2948],\n",
       "  [178, 2948],\n",
       "  [306, 3055],\n",
       "  [306, 308, 3055],\n",
       "  [306, 3055],\n",
       "  [32, 193],\n",
       "  [306, 308, 3055],\n",
       "  [306],\n",
       "  [178],\n",
       "  [178],\n",
       "  [178],\n",
       "  [306, 3055],\n",
       "  [306],\n",
       "  [306, 3055],\n",
       "  [32, 193],\n",
       "  [266,\n",
       "   268,\n",
       "   270,\n",
       "   274,\n",
       "   277,\n",
       "   279,\n",
       "   1003,\n",
       "   2199,\n",
       "   2200,\n",
       "   2201,\n",
       "   2202,\n",
       "   2203,\n",
       "   2797,\n",
       "   2799,\n",
       "   2804,\n",
       "   2810,\n",
       "   3070],\n",
       "  [178],\n",
       "  [306, 308, 3055],\n",
       "  [306, 308, 3055],\n",
       "  [306, 308, 3055],\n",
       "  [306, 308, 3055],\n",
       "  [306, 308, 3055]],\n",
       " 'precision': 0.9777777777777777,\n",
       " 'complex_hit': [32,\n",
       "  178,\n",
       "  181,\n",
       "  191,\n",
       "  192,\n",
       "  193,\n",
       "  194,\n",
       "  266,\n",
       "  268,\n",
       "  270,\n",
       "  274,\n",
       "  277,\n",
       "  279,\n",
       "  305,\n",
       "  306,\n",
       "  308,\n",
       "  338,\n",
       "  563,\n",
       "  1003,\n",
       "  2199,\n",
       "  2200,\n",
       "  2201,\n",
       "  2202,\n",
       "  2203,\n",
       "  2797,\n",
       "  2799,\n",
       "  2804,\n",
       "  2810,\n",
       "  2948,\n",
       "  3055,\n",
       "  3070,\n",
       "  5380],\n",
       " 'complex_candidates_id': [10,\n",
       "  32,\n",
       "  49,\n",
       "  127,\n",
       "  157,\n",
       "  159,\n",
       "  160,\n",
       "  167,\n",
       "  178,\n",
       "  181,\n",
       "  191,\n",
       "  192,\n",
       "  193,\n",
       "  194,\n",
       "  266,\n",
       "  268,\n",
       "  270,\n",
       "  274,\n",
       "  277,\n",
       "  278,\n",
       "  279,\n",
       "  305,\n",
       "  306,\n",
       "  308,\n",
       "  338,\n",
       "  353,\n",
       "  433,\n",
       "  434,\n",
       "  435,\n",
       "  563,\n",
       "  613,\n",
       "  1003,\n",
       "  1004,\n",
       "  1005,\n",
       "  1131,\n",
       "  1132,\n",
       "  2129,\n",
       "  2199,\n",
       "  2200,\n",
       "  2201,\n",
       "  2202,\n",
       "  2203,\n",
       "  2797,\n",
       "  2799,\n",
       "  2804,\n",
       "  2810,\n",
       "  2884,\n",
       "  2898,\n",
       "  2901,\n",
       "  2903,\n",
       "  2904,\n",
       "  2905,\n",
       "  2906,\n",
       "  2914,\n",
       "  2919,\n",
       "  2920,\n",
       "  2938,\n",
       "  2942,\n",
       "  2948,\n",
       "  3047,\n",
       "  3055,\n",
       "  3070,\n",
       "  5209,\n",
       "  5232,\n",
       "  5239,\n",
       "  5266,\n",
       "  5380,\n",
       "  6838,\n",
       "  7299],\n",
       " 'recall': {'complex_candidate': 0.463768115942029,\n",
       "  'all_corum_complexes': 0.007487131492746842,\n",
       "  'all_verifiable_corum_complexes': 0.013109381401065138,\n",
       "  'all_verifiable_corum_complexes_size_adjusted': 0.03970223325062035}}"
      ]
     },
     "execution_count": 192,
     "metadata": {},
     "output_type": "execute_result"
    }
   ],
   "source": [
    "pQTL_full_report_dict[4]"
   ]
  },
  {
   "cell_type": "code",
   "execution_count": 67,
   "metadata": {},
   "outputs": [
    {
     "name": "stderr",
     "output_type": "stream",
     "text": [
      "C:\\Users\\hoyin\\AppData\\Local\\Programs\\Python\\Python37\\lib\\site-packages\\ipykernel_launcher.py:2: RuntimeWarning: invalid value encountered in long_scalars\n",
      "  \n"
     ]
    },
    {
     "data": {
      "text/plain": [
       "nan"
      ]
     },
     "execution_count": 67,
     "metadata": {},
     "output_type": "execute_result"
    }
   ],
   "source": [
    "pQTL_chunked_interaction_counts = np.array(overall_interaction_counts(pQTL_protein_ids,pQTL_chunked_predictions))\n",
    "pQTL_chunked_precision = np.sum(pQTL_chunked_interaction_counts[:,0]) / np.sum(pQTL_chunked_interaction_counts[:,1])\n",
    "pQTL_chunked_precision"
   ]
  },
  {
   "cell_type": "code",
   "execution_count": 73,
   "metadata": {},
   "outputs": [
    {
     "data": {
      "text/plain": [
       "404"
      ]
     },
     "execution_count": 73,
     "metadata": {},
     "output_type": "execute_result"
    }
   ],
   "source": [
    "np.sum(pQTL_chunked_interaction_counts[:,1])"
   ]
  },
  {
   "cell_type": "code",
   "execution_count": 73,
   "metadata": {},
   "outputs": [],
   "source": [
    "pQTL_info_path = f\"{PATH_ROOT}/data_sources/pQTL/pQTL_protein_info.json\""
   ]
  },
  {
   "cell_type": "markdown",
   "metadata": {},
   "source": [
    "## nikolai"
   ]
  },
  {
   "cell_type": "code",
   "execution_count": 273,
   "metadata": {},
   "outputs": [],
   "source": [
    "CANDIDATE_SIZE = 5 # How many of the top appearing closest neighbors should each protein keep\n",
    "NEIGHBOR_SIZE = 5 # How many closest neighbors should each protein considered\n",
    "CHUNK_SIZE = 5 # Number of features in each splitted dataset\n",
    "SAMPLE_SIZE = 100"
   ]
  },
  {
   "cell_type": "code",
   "execution_count": 275,
   "metadata": {},
   "outputs": [
    {
     "name": "stdout",
     "output_type": "stream",
     "text": [
      "Wall time: 5min 32s\n"
     ]
    }
   ],
   "source": [
    "%time nikolai_chunked_candidates = np.array(list(map(lambda x: generate_link_candidates(x,nikolai_protein_ids,nikolai_protein_feature_matrix,nikolai_protein_idx_lookup,NEIGHBOR_SIZE,CHUNK_SIZE,SAMPLE_SIZE,CANDIDATE_SIZE),nikolai_protein_ids))) "
   ]
  },
  {
   "cell_type": "code",
   "execution_count": 277,
   "metadata": {},
   "outputs": [
    {
     "data": {
      "text/html": [
       "<div>\n",
       "<style scoped>\n",
       "    .dataframe tbody tr th:only-of-type {\n",
       "        vertical-align: middle;\n",
       "    }\n",
       "\n",
       "    .dataframe tbody tr th {\n",
       "        vertical-align: top;\n",
       "    }\n",
       "\n",
       "    .dataframe thead th {\n",
       "        text-align: right;\n",
       "    }\n",
       "</style>\n",
       "<table border=\"1\" class=\"dataframe\">\n",
       "  <thead>\n",
       "    <tr style=\"text-align: right;\">\n",
       "      <th></th>\n",
       "      <th>protein_1</th>\n",
       "      <th>protein_2</th>\n",
       "      <th>appearance</th>\n",
       "      <th>binary_interaction</th>\n",
       "      <th>cocomplex</th>\n",
       "      <th>subcellular_location</th>\n",
       "    </tr>\n",
       "  </thead>\n",
       "  <tbody>\n",
       "    <tr>\n",
       "      <th>0</th>\n",
       "      <td>A0A0B4J2F2</td>\n",
       "      <td>P62491</td>\n",
       "      <td>3.0</td>\n",
       "      <td>0</td>\n",
       "      <td>0</td>\n",
       "      <td>0</td>\n",
       "    </tr>\n",
       "    <tr>\n",
       "      <th>1</th>\n",
       "      <td>A0A0B4J2F2</td>\n",
       "      <td>Q6ZWJ8</td>\n",
       "      <td>3.0</td>\n",
       "      <td>0</td>\n",
       "      <td>0</td>\n",
       "      <td>0</td>\n",
       "    </tr>\n",
       "    <tr>\n",
       "      <th>2</th>\n",
       "      <td>A0A0B4J2F2</td>\n",
       "      <td>Q15696</td>\n",
       "      <td>3.0</td>\n",
       "      <td>0</td>\n",
       "      <td>0</td>\n",
       "      <td>0</td>\n",
       "    </tr>\n",
       "    <tr>\n",
       "      <th>3</th>\n",
       "      <td>A0A0B4J2F2</td>\n",
       "      <td>Q6GYQ0</td>\n",
       "      <td>3.0</td>\n",
       "      <td>0</td>\n",
       "      <td>0</td>\n",
       "      <td>0</td>\n",
       "    </tr>\n",
       "    <tr>\n",
       "      <th>4</th>\n",
       "      <td>A0A0B4J2F2</td>\n",
       "      <td>Q8IWU2</td>\n",
       "      <td>2.0</td>\n",
       "      <td>0</td>\n",
       "      <td>0</td>\n",
       "      <td>0</td>\n",
       "    </tr>\n",
       "    <tr>\n",
       "      <th>...</th>\n",
       "      <td>...</td>\n",
       "      <td>...</td>\n",
       "      <td>...</td>\n",
       "      <td>...</td>\n",
       "      <td>...</td>\n",
       "      <td>...</td>\n",
       "    </tr>\n",
       "    <tr>\n",
       "      <th>13855</th>\n",
       "      <td>Q9Y6Z7</td>\n",
       "      <td>P51858</td>\n",
       "      <td>3.0</td>\n",
       "      <td>0</td>\n",
       "      <td>0</td>\n",
       "      <td>0</td>\n",
       "    </tr>\n",
       "    <tr>\n",
       "      <th>13856</th>\n",
       "      <td>Q9Y6Z7</td>\n",
       "      <td>Q13310</td>\n",
       "      <td>3.0</td>\n",
       "      <td>0</td>\n",
       "      <td>0</td>\n",
       "      <td>0</td>\n",
       "    </tr>\n",
       "    <tr>\n",
       "      <th>13857</th>\n",
       "      <td>Q9Y6Z7</td>\n",
       "      <td>Q8TF50</td>\n",
       "      <td>3.0</td>\n",
       "      <td>0</td>\n",
       "      <td>0</td>\n",
       "      <td>0</td>\n",
       "    </tr>\n",
       "    <tr>\n",
       "      <th>13858</th>\n",
       "      <td>Q9Y6Z7</td>\n",
       "      <td>P11413</td>\n",
       "      <td>3.0</td>\n",
       "      <td>0</td>\n",
       "      <td>0</td>\n",
       "      <td>0</td>\n",
       "    </tr>\n",
       "    <tr>\n",
       "      <th>13859</th>\n",
       "      <td>Q9Y6Z7</td>\n",
       "      <td>Q02750</td>\n",
       "      <td>2.0</td>\n",
       "      <td>0</td>\n",
       "      <td>0</td>\n",
       "      <td>0</td>\n",
       "    </tr>\n",
       "  </tbody>\n",
       "</table>\n",
       "<p>13860 rows × 6 columns</p>\n",
       "</div>"
      ],
      "text/plain": [
       "        protein_1 protein_2  appearance  binary_interaction  cocomplex  \\\n",
       "0      A0A0B4J2F2    P62491         3.0                   0          0   \n",
       "1      A0A0B4J2F2    Q6ZWJ8         3.0                   0          0   \n",
       "2      A0A0B4J2F2    Q15696         3.0                   0          0   \n",
       "3      A0A0B4J2F2    Q6GYQ0         3.0                   0          0   \n",
       "4      A0A0B4J2F2    Q8IWU2         2.0                   0          0   \n",
       "...           ...       ...         ...                 ...        ...   \n",
       "13855      Q9Y6Z7    P51858         3.0                   0          0   \n",
       "13856      Q9Y6Z7    Q13310         3.0                   0          0   \n",
       "13857      Q9Y6Z7    Q8TF50         3.0                   0          0   \n",
       "13858      Q9Y6Z7    P11413         3.0                   0          0   \n",
       "13859      Q9Y6Z7    Q02750         2.0                   0          0   \n",
       "\n",
       "       subcellular_location  \n",
       "0                         0  \n",
       "1                         0  \n",
       "2                         0  \n",
       "3                         0  \n",
       "4                         0  \n",
       "...                     ...  \n",
       "13855                     0  \n",
       "13856                     0  \n",
       "13857                     0  \n",
       "13858                     0  \n",
       "13859                     0  \n",
       "\n",
       "[13860 rows x 6 columns]"
      ]
     },
     "execution_count": 277,
     "metadata": {},
     "output_type": "execute_result"
    }
   ],
   "source": [
    "nikolai_pred_df = convert_prediction_to_df(nikolai_protein_ids,nikolai_chunked_candidates[:,0],nikolai_chunked_candidates[:,1])\n",
    "nikolai_pred_df = validate_relations_in_df(nikolai_pred_df)\n",
    "nikolai_pred_df"
   ]
  },
  {
   "cell_type": "code",
   "execution_count": 278,
   "metadata": {},
   "outputs": [
    {
     "data": {
      "image/png": "[encoded data removed]",
      "text/plain": [
       "<Figure size 432x288 with 1 Axes>"
      ]
     },
     "metadata": {
      "needs_background": "light"
     },
     "output_type": "display_data"
    }
   ],
   "source": [
    "df_roc_analysis(nikolai_pred_df,['appearance'],'subcellular_location','nikolai','Uniprot')"
   ]
  },
  {
   "cell_type": "code",
   "execution_count": 279,
   "metadata": {},
   "outputs": [
    {
     "data": {
      "image/png": "[encoded data removed]",
      "text/plain": [
       "<Figure size 432x288 with 1 Axes>"
      ]
     },
     "metadata": {
      "needs_background": "light"
     },
     "output_type": "display_data"
    }
   ],
   "source": [
    "df_precision_recall_analysis(nikolai_pred_df['subcellular_location'].to_numpy(),\n",
    "                             nikolai_pred_df['appearance'].to_numpy(),\n",
    "                             'Simple Threshold',\n",
    "                             'Precision-Recall,nikolai,validated against Uniprot',\n",
    "                             ylim=(0,1)\n",
    "                            )"
   ]
  },
  {
   "cell_type": "code",
   "execution_count": 281,
   "metadata": {},
   "outputs": [
    {
     "data": {
      "text/html": [
       "<div>\n",
       "<style scoped>\n",
       "    .dataframe tbody tr th:only-of-type {\n",
       "        vertical-align: middle;\n",
       "    }\n",
       "\n",
       "    .dataframe tbody tr th {\n",
       "        vertical-align: top;\n",
       "    }\n",
       "\n",
       "    .dataframe thead th {\n",
       "        text-align: right;\n",
       "    }\n",
       "</style>\n",
       "<table border=\"1\" class=\"dataframe\">\n",
       "  <thead>\n",
       "    <tr style=\"text-align: right;\">\n",
       "      <th></th>\n",
       "      <th>protein_1</th>\n",
       "      <th>protein_2</th>\n",
       "      <th>appearance</th>\n",
       "      <th>binary_interaction</th>\n",
       "      <th>cocomplex</th>\n",
       "      <th>subcellular_location</th>\n",
       "    </tr>\n",
       "  </thead>\n",
       "  <tbody>\n",
       "    <tr>\n",
       "      <th>1430</th>\n",
       "      <td>O75600</td>\n",
       "      <td>Q99988</td>\n",
       "      <td>15.0</td>\n",
       "      <td>0</td>\n",
       "      <td>0</td>\n",
       "      <td>0</td>\n",
       "    </tr>\n",
       "    <tr>\n",
       "      <th>1960</th>\n",
       "      <td>P02545</td>\n",
       "      <td>P08670</td>\n",
       "      <td>15.0</td>\n",
       "      <td>0</td>\n",
       "      <td>0</td>\n",
       "      <td>0</td>\n",
       "    </tr>\n",
       "    <tr>\n",
       "      <th>2435</th>\n",
       "      <td>P08670</td>\n",
       "      <td>P07355</td>\n",
       "      <td>28.0</td>\n",
       "      <td>0</td>\n",
       "      <td>0</td>\n",
       "      <td>0</td>\n",
       "    </tr>\n",
       "    <tr>\n",
       "      <th>2436</th>\n",
       "      <td>P08670</td>\n",
       "      <td>P02545</td>\n",
       "      <td>21.0</td>\n",
       "      <td>0</td>\n",
       "      <td>0</td>\n",
       "      <td>0</td>\n",
       "    </tr>\n",
       "    <tr>\n",
       "      <th>4120</th>\n",
       "      <td>P34059</td>\n",
       "      <td>Q13206</td>\n",
       "      <td>20.0</td>\n",
       "      <td>0</td>\n",
       "      <td>0</td>\n",
       "      <td>0</td>\n",
       "    </tr>\n",
       "    <tr>\n",
       "      <th>9265</th>\n",
       "      <td>Q8IVF2</td>\n",
       "      <td>Q9HAT2</td>\n",
       "      <td>21.0</td>\n",
       "      <td>0</td>\n",
       "      <td>0</td>\n",
       "      <td>0</td>\n",
       "    </tr>\n",
       "    <tr>\n",
       "      <th>12075</th>\n",
       "      <td>Q9HAT2</td>\n",
       "      <td>Q8IVF2</td>\n",
       "      <td>21.0</td>\n",
       "      <td>0</td>\n",
       "      <td>0</td>\n",
       "      <td>0</td>\n",
       "    </tr>\n",
       "    <tr>\n",
       "      <th>12855</th>\n",
       "      <td>Q9P2K8</td>\n",
       "      <td>Q13206</td>\n",
       "      <td>20.0</td>\n",
       "      <td>0</td>\n",
       "      <td>0</td>\n",
       "      <td>0</td>\n",
       "    </tr>\n",
       "  </tbody>\n",
       "</table>\n",
       "</div>"
      ],
      "text/plain": [
       "      protein_1 protein_2  appearance  binary_interaction  cocomplex  \\\n",
       "1430     O75600    Q99988        15.0                   0          0   \n",
       "1960     P02545    P08670        15.0                   0          0   \n",
       "2435     P08670    P07355        28.0                   0          0   \n",
       "2436     P08670    P02545        21.0                   0          0   \n",
       "4120     P34059    Q13206        20.0                   0          0   \n",
       "9265     Q8IVF2    Q9HAT2        21.0                   0          0   \n",
       "12075    Q9HAT2    Q8IVF2        21.0                   0          0   \n",
       "12855    Q9P2K8    Q13206        20.0                   0          0   \n",
       "\n",
       "       subcellular_location  \n",
       "1430                      0  \n",
       "1960                      0  \n",
       "2435                      0  \n",
       "2436                      0  \n",
       "4120                      0  \n",
       "9265                      0  \n",
       "12075                     0  \n",
       "12855                     0  "
      ]
     },
     "execution_count": 281,
     "metadata": {},
     "output_type": "execute_result"
    }
   ],
   "source": [
    "nikolai_pred_df_filtered = nikolai_pred_df.loc[nikolai_pred_df['appearance'] >= 15]\n",
    "nikolai_pred_df_filtered"
   ]
  },
  {
   "cell_type": "code",
   "execution_count": 282,
   "metadata": {},
   "outputs": [
    {
     "name": "stdout",
     "output_type": "stream",
     "text": [
      "Number of nodes: 10\n",
      "Number of edges: 6\n",
      "Number of verifiable cliques: 2\n",
      "Number of unverifiable cliques: 4\n"
     ]
    }
   ],
   "source": [
    "nikolai_self_ensemble_net = generate_network_from_df(nikolai_pred_df_filtered)\n",
    "nikolai_self_ensemble_net_cliques = list(nx.find_cliques(nikolai_self_ensemble_net))\n",
    "nikolai_verifiable_cliques = list(filter(is_corum_verifiable,nikolai_self_ensemble_net_cliques))\n",
    "shuffled_nikolai_verifiable_cliques = shuffle_cliques_node_label(nikolai_verifiable_cliques)\n",
    "nikolai_non_verifiable_cliques = list(filter(lambda x: not is_corum_verifiable(x),nikolai_self_ensemble_net_cliques))\n",
    "print(f\"Number of nodes: {len(nikolai_self_ensemble_net.nodes)}\")\n",
    "print(f\"Number of edges: {len(nikolai_self_ensemble_net.edges)}\")\n",
    "print(f\"Number of verifiable cliques: {len(nikolai_verifiable_cliques)}\")\n",
    "print(f\"Number of unverifiable cliques: {len(nikolai_non_verifiable_cliques)}\")"
   ]
  },
  {
   "cell_type": "code",
   "execution_count": 283,
   "metadata": {},
   "outputs": [
    {
     "data": {
      "text/html": [
       "<div>\n",
       "<style scoped>\n",
       "    .dataframe tbody tr th:only-of-type {\n",
       "        vertical-align: middle;\n",
       "    }\n",
       "\n",
       "    .dataframe tbody tr th {\n",
       "        vertical-align: top;\n",
       "    }\n",
       "\n",
       "    .dataframe thead th {\n",
       "        text-align: right;\n",
       "    }\n",
       "</style>\n",
       "<table border=\"1\" class=\"dataframe\">\n",
       "  <thead>\n",
       "    <tr style=\"text-align: right;\">\n",
       "      <th></th>\n",
       "      <th>clique_size</th>\n",
       "      <th>hitting_cliques</th>\n",
       "      <th>total_cliques</th>\n",
       "      <th>precision</th>\n",
       "      <th>complex_hit</th>\n",
       "    </tr>\n",
       "  </thead>\n",
       "  <tbody>\n",
       "    <tr>\n",
       "      <th>0</th>\n",
       "      <td>2</td>\n",
       "      <td>0</td>\n",
       "      <td>2</td>\n",
       "      <td>0.0</td>\n",
       "      <td>0</td>\n",
       "    </tr>\n",
       "  </tbody>\n",
       "</table>\n",
       "</div>"
      ],
      "text/plain": [
       "   clique_size  hitting_cliques  total_cliques  precision  complex_hit\n",
       "0            2                0              2        0.0            0"
      ]
     },
     "execution_count": 283,
     "metadata": {},
     "output_type": "execute_result"
    }
   ],
   "source": [
    "nikolai_full_report_dict = full_report_calculation_by_size(nikolai_verifiable_cliques)\n",
    "nikolai_simplified_report_df = simplifed_report_df(nikolai_full_report_dict)\n",
    "nikolai_simplified_report_df = nikolai_simplified_report_df.sort_values(by=['clique_size'])\n",
    "nikolai_simplified_report_df"
   ]
  },
  {
   "cell_type": "code",
   "execution_count": 284,
   "metadata": {},
   "outputs": [
    {
     "data": {
      "text/html": [
       "<div>\n",
       "<style scoped>\n",
       "    .dataframe tbody tr th:only-of-type {\n",
       "        vertical-align: middle;\n",
       "    }\n",
       "\n",
       "    .dataframe tbody tr th {\n",
       "        vertical-align: top;\n",
       "    }\n",
       "\n",
       "    .dataframe thead th {\n",
       "        text-align: right;\n",
       "    }\n",
       "</style>\n",
       "<table border=\"1\" class=\"dataframe\">\n",
       "  <thead>\n",
       "    <tr style=\"text-align: right;\">\n",
       "      <th></th>\n",
       "      <th>clique_size</th>\n",
       "      <th>hitting_cliques</th>\n",
       "      <th>total_cliques</th>\n",
       "      <th>precision</th>\n",
       "      <th>complex_hit</th>\n",
       "    </tr>\n",
       "  </thead>\n",
       "  <tbody>\n",
       "    <tr>\n",
       "      <th>0</th>\n",
       "      <td>2</td>\n",
       "      <td>0</td>\n",
       "      <td>2</td>\n",
       "      <td>0.0</td>\n",
       "      <td>0</td>\n",
       "    </tr>\n",
       "  </tbody>\n",
       "</table>\n",
       "</div>"
      ],
      "text/plain": [
       "   clique_size  hitting_cliques  total_cliques  precision  complex_hit\n",
       "0            2                0              2        0.0            0"
      ]
     },
     "execution_count": 284,
     "metadata": {},
     "output_type": "execute_result"
    }
   ],
   "source": [
    "nikolai_full_report_dict_shuffled = full_report_calculation_by_size(shuffled_nikolai_verifiable_cliques)\n",
    "nikolai_simplified_report_df_shuffled = simplifed_report_df(nikolai_full_report_dict_shuffled)\n",
    "nikolai_simplified_report_df_shuffled = nikolai_simplified_report_df_shuffled.sort_values(by=['clique_size'])\n",
    "nikolai_simplified_report_df_shuffled"
   ]
  },
  {
   "cell_type": "code",
   "execution_count": 43,
   "metadata": {
    "collapsed": true
   },
   "outputs": [
    {
     "data": {
      "text/plain": [
       "[['Q5SSG8', 'O43283', 'B2RTY4', 'Q9NZU7', 'Q7RTX1', 'Q9P266'],\n",
       " ['Q5SSG8', 'O43283', 'B2RTY4', 'Q9NZU7', 'Q7RTX1', 'P35579'],\n",
       " ['Q5SSG8', 'O43283', 'B2RTY4', 'Q9NZU7', 'Q7RTX1', 'Q8WXD9'],\n",
       " ['Q5SSG8', 'O43283', 'B2RTY4', 'Q9NZU7', 'Q7RTX1', 'O75096'],\n",
       " ['Q5SSG8', 'O43283', 'B2RTY4', 'Q9NZU7', 'Q7RTX1', 'A6NI72'],\n",
       " ['Q5SSG8', 'O43283', 'B2RTY4', 'Q9NZU7', 'Q8IYI6', 'P01906'],\n",
       " ['Q5SSG8', 'B2RTY4', 'Q9NZU7', 'Q7RTX1', 'Q86V88', 'Q3LIE5'],\n",
       " ['Q9Y4E1', 'Q9HB75', 'P49755', 'P51826', 'Q99988', 'P11021'],\n",
       " ['O76064', 'Q9HAT2', 'Q8IVF2', 'Q6IAN0', 'O60279', 'Q9ULW3'],\n",
       " ['Q8IVF2', 'Q9HAT2', 'Q9NZM1', 'P06748', 'Q6IAN0', 'O60279'],\n",
       " ['P20648', 'Q15005', 'P13533', 'O43379', 'P56199', 'Q9P0K7'],\n",
       " ['P20648', 'Q15005', 'O15357', 'O43379', 'P56199', 'Q6XZB0'],\n",
       " ['P20648', 'Q15005', 'Q9NXF7', 'Q9H5V9', 'O14639', 'Q7RTV0'],\n",
       " ['P20648', 'Q15005', 'Q9NXF7', 'O43379', 'Q2TAC2', 'Q9BXY4'],\n",
       " ['P20648', 'Q15005', 'Q9NXF7', 'O43379', 'Q2TAC2', 'Q8WXI7'],\n",
       " ['P20648', 'Q15005', 'Q9NXF7', 'O43379', 'Q2TAC2', 'A6NJJ6'],\n",
       " ['P20648', 'Q15005', 'Q9NXF7', 'O43379', 'Q5T1R4', 'Q9P0K8'],\n",
       " ['P20648', 'Q15005', 'Q9NXF7', 'O43379', 'P43378', 'P56199'],\n",
       " ['P20648', 'Q15005', 'Q9NXF7', 'Q7L5Y1', 'Q2TAC2', 'Q8WXI7'],\n",
       " ['P20648', 'Q15005', 'Q9NXF7', 'Q9UN86', 'Q2TAC2', 'Q5VYM1'],\n",
       " ['P20648', 'Q15005', 'Q99466', 'Q8WXI7', 'Q2TAC2', 'O43379']]"
      ]
     },
     "execution_count": 43,
     "metadata": {},
     "output_type": "execute_result"
    }
   ],
   "source": [
    "nikolai_non_verifiable_4_cliques = list(filter(lambda x: len(x) >= 6,nikolai_non_verifiable_cliques))\n",
    "nikolai_non_verifiable_4_cliques"
   ]
  },
  {
   "cell_type": "code",
   "execution_count": 227,
   "metadata": {},
   "outputs": [
    {
     "name": "stdout",
     "output_type": "stream",
     "text": [
      "Wall time: 1min\n"
     ]
    }
   ],
   "source": [
    "%time nikolai_knn_candidates = np.array(list(map(lambda x: protein_query_simple(x,CANDIDATE_SIZE,euclidean_dist,nikolai_protein_ids,nikolai_protein_feature_matrix,nikolai_protein_idx_lookup),nikolai_protein_ids)))"
   ]
  },
  {
   "cell_type": "code",
   "execution_count": 230,
   "metadata": {
    "collapsed": true
   },
   "outputs": [
    {
     "data": {
      "text/plain": [
       "0.004329004329004329"
      ]
     },
     "execution_count": 230,
     "metadata": {},
     "output_type": "execute_result"
    }
   ],
   "source": [
    "nikolai_knn_interaction_counts = np.array(overall_interaction_counts(nikolai_protein_ids,nikolai_knn_candidates))\n",
    "nikolai_knn_precision = np.sum(nikolai_knn_interaction_counts[:,0]) / np.sum(nikolai_knn_interaction_counts[:,1])\n",
    "nikolai_knn_precision"
   ]
  },
  {
   "cell_type": "markdown",
   "metadata": {},
   "source": [
    "# Control"
   ]
  },
  {
   "cell_type": "markdown",
   "metadata": {},
   "source": [
    "## KNN"
   ]
  },
  {
   "cell_type": "code",
   "execution_count": null,
   "metadata": {},
   "outputs": [],
   "source": [
    "# Only returns names of the top k nearest neighbors\n",
    "def protein_query_simple(protein,k,dist_function,name_vector,feature_matrix,lookup):\n",
    "    protein_idx = lookup[protein]\n",
    "    protein_vec = feature_matrix[protein_idx]\n",
    "    if dist_function.__name__ == 'euclidean_dist':\n",
    "        diff_vec = feature_matrix - protein_vec\n",
    "        norm_vec = np.linalg.norm(diff_vec, axis=1)\n",
    "        top_indices = take_top_k(norm_vec,k+1)[1:]\n",
    "        return name_vector[top_indices]\n",
    "    else:\n",
    "        neighbor_indices,_ = get_top_k_nearest_neighbors(protein_vec,k,feature_matrix,dist_function)\n",
    "        return name_vector[neighbor_indices]\n",
    "\n",
    "def construct_knn_network(name_vec,feature_matrix,k,dist_function,lookup):\n",
    "    knn_graph = nx.Graph()\n",
    "    for name in name_vec:\n",
    "        neighbors = protein_query_simple(name,k,dist_function,name_vec,feature_matrix,lookup)\n",
    "        for neighbor in neighbors:\n",
    "            knn_graph.add_edge(name,neighbor)\n",
    "    return knn_graph"
   ]
  },
  {
   "cell_type": "code",
   "execution_count": null,
   "metadata": {},
   "outputs": [],
   "source": [
    "# ProteomeHD"
   ]
  },
  {
   "cell_type": "code",
   "execution_count": null,
   "metadata": {},
   "outputs": [],
   "source": [
    "%time proteomeHD_knn_candidates = np.array(list(map(lambda x: protein_query_simple(x,CANDIDATE_SIZE,euclidean_dist,proteomeHD_simplified_protein_ids,proteomeHD_feature_matrix,major_simplified_idx_lookup),proteomeHD_simplified_protein_ids)))"
   ]
  },
  {
   "cell_type": "code",
   "execution_count": null,
   "metadata": {},
   "outputs": [],
   "source": [
    "proteomeHD_knn_interaction_counts = np.array(overall_interaction_counts(proteomeHD_simplified_protein_ids,proteomeHD_knn_candidates))\n",
    "proteomeHD_knn_precision = np.sum(proteomeHD_knn_interaction_counts[:,0]) / np.sum(proteomeHD_knn_interaction_counts[:,1])\n",
    "proteomeHD_knn_precision"
   ]
  },
  {
   "cell_type": "code",
   "execution_count": null,
   "metadata": {},
   "outputs": [],
   "source": [
    "proteomeHD_knn_graph = construct_knn_network(proteomeHD_simplified_protein_ids,proteomeHD_feature_matrix,5,euclidean_dist,major_simplified_idx_lookup)"
   ]
  },
  {
   "cell_type": "code",
   "execution_count": null,
   "metadata": {},
   "outputs": [],
   "source": [
    "proteomeHD_knn_graph_cliques = list(nx.find_cliques(proteomeHD_knn_graph))\n",
    "proteomeHD_knn_graph_verifiable_cliques = list(filter(is_corum_verifiable,proteomeHD_knn_graph_cliques))\n",
    "proteomeHD_knn_graph_non_verifiable_cliques = list(filter(lambda x: not is_corum_verifiable(x),proteomeHD_knn_graph_cliques))"
   ]
  },
  {
   "cell_type": "code",
   "execution_count": null,
   "metadata": {},
   "outputs": [],
   "source": [
    "proteomeHD_knn_graph_full_report_dict = full_report_calculation_by_size(proteomeHD_knn_graph_verifiable_cliques)\n",
    "proteomeHD_knn_graph_simplified_report_df = simplifed_report_df(proteomeHD_knn_graph_full_report_dict)\n",
    "proteomeHD_knn_graph_simplified_report_df = proteomeHD_knn_graph_simplified_report_df.sort_values(by=['clique_size'])\n",
    "proteomeHD_knn_graph_simplified_report_df"
   ]
  },
  {
   "cell_type": "markdown",
   "metadata": {},
   "source": [
    "# CNN Methods"
   ]
  },
  {
   "cell_type": "code",
   "execution_count": 245,
   "metadata": {
    "collapsed": true
   },
   "outputs": [
    {
     "ename": "SyntaxError",
     "evalue": "invalid syntax (<ipython-input-245-4b684acb21a3>, line 6)",
     "output_type": "error",
     "traceback": [
      "\u001b[1;36m  File \u001b[1;32m\"<ipython-input-245-4b684acb21a3>\"\u001b[1;36m, line \u001b[1;32m6\u001b[0m\n\u001b[1;33m    input = torch.randn(20, 1, ,1,50)\u001b[0m\n\u001b[1;37m                               ^\u001b[0m\n\u001b[1;31mSyntaxError\u001b[0m\u001b[1;31m:\u001b[0m invalid syntax\n"
     ]
    }
   ],
   "source": [
    "import torch\n",
    "import torch.nn as nn\n",
    "import torch.nn.functional as F\n",
    "\n",
    "m = nn.Conv1d(16, 33, 3, stride=2)\n",
    "input = torch.randn(20, 16, 50)\n",
    "output = m(input)\n",
    "\n",
    "# class Conv1DNet(nn.module):\n",
    "    \n",
    "#     def __init__(self):\n",
    "#         super(Conv1DNet,self).__init__()\n",
    "#         self.conv1 = nn.Conv1D()\n",
    "    \n",
    "#     def forward(self,x):\n",
    "#         pass\n",
    "        "
   ]
  },
  {
   "cell_type": "code",
   "execution_count": 243,
   "metadata": {},
   "outputs": [
    {
     "data": {
      "text/plain": [
       "torch.Size([20, 33, 24])"
      ]
     },
     "execution_count": 243,
     "metadata": {},
     "output_type": "execute_result"
    }
   ],
   "source": [
    "output.shape"
   ]
  },
  {
   "cell_type": "code",
   "execution_count": 244,
   "metadata": {},
   "outputs": [
    {
     "data": {
      "text/plain": [
       "torch.Size([20, 16, 50])"
      ]
     },
     "execution_count": 244,
     "metadata": {},
     "output_type": "execute_result"
    }
   ],
   "source": [
    "input.shape"
   ]
  },
  {
   "cell_type": "markdown",
   "metadata": {},
   "source": [
    "## Correlation Method"
   ]
  },
  {
   "cell_type": "code",
   "execution_count": 7,
   "metadata": {},
   "outputs": [],
   "source": [
    "proteomeHD_corr_mat = np.corrcoef(proteomeHD_feature_matrix)"
   ]
  },
  {
   "cell_type": "code",
   "execution_count": 11,
   "metadata": {},
   "outputs": [],
   "source": [
    "proteomeHD_corr_candidates = []\n",
    "for i in range(len(proteomeHD_corr_mat)):\n",
    "    top_candidates = take_top_k(proteomeHD_corr_mat[i],CANDIDATE_SIZE+1,desc=True)[1:]\n",
    "    proteomeHD_corr_candidates.append(proteomeHD_simplified_protein_ids[top_candidates])"
   ]
  },
  {
   "cell_type": "code",
   "execution_count": 12,
   "metadata": {},
   "outputs": [
    {
     "data": {
      "text/plain": [
       "0.05756078659304466"
      ]
     },
     "execution_count": 12,
     "metadata": {},
     "output_type": "execute_result"
    }
   ],
   "source": [
    "proteomeHD_corr_interaction_counts = np.array(overall_interaction_counts(proteomeHD_simplified_protein_ids,proteomeHD_corr_candidates))\n",
    "proteomeHD_corr_precision = np.sum(proteomeHD_corr_interaction_counts[:,0]) / np.sum(proteomeHD_corr_interaction_counts[:,1])\n",
    "proteomeHD_corr_precision"
   ]
  }
 ],
 "metadata": {
  "kernelspec": {
   "display_name": "Python 3.7.0 64-bit",
   "language": "python",
   "name": "python37064bitdd6a2358527242ea897ba8dd6dc37158"
  },
  "language_info": {
   "codemirror_mode": {
    "name": "ipython",
    "version": 3
   },
   "file_extension": ".py",
   "mimetype": "text/x-python",
   "name": "python",
   "nbconvert_exporter": "python",
   "pygments_lexer": "ipython3",
   "version": "3.7.0"
  }
 },
 "nbformat": 4,
 "nbformat_minor": 4
}
