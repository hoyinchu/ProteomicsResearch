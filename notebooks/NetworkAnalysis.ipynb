{
 "cells": [
  {
   "cell_type": "markdown",
   "metadata": {
    "colab_type": "text",
    "id": "VGOzEXZMxaWM"
   },
   "source": [
    "# Loading Stuff"
   ]
  },
  {
   "cell_type": "markdown",
   "metadata": {
    "colab_type": "text",
    "id": "poNXuJEK5Yfj"
   },
   "source": [
    "## Load Libraries"
   ]
  },
  {
   "cell_type": "code",
   "execution_count": 1,
   "metadata": {
    "colab": {},
    "colab_type": "code",
    "id": "TxEb1W25umrB"
   },
   "outputs": [],
   "source": [
    "import networkx as nx\n",
    "from networkx.algorithms.community import k_clique_communities\n",
    "from networkx.algorithms.clique import find_cliques\n",
    "import pandas as pd\n",
    "import numpy as np\n",
    "import time\n",
    "import json\n",
    "from functools import reduce\n",
    "from csv import writer"
   ]
  },
  {
   "cell_type": "markdown",
   "metadata": {
    "colab_type": "text",
    "id": "9pYr6jyH5WeL"
   },
   "source": [
    "## Load Util Functions"
   ]
  },
  {
   "cell_type": "code",
   "execution_count": 2,
   "metadata": {
    "colab": {},
    "colab_type": "code",
    "id": "j-9-Bg-p5V7f"
   },
   "outputs": [],
   "source": [
    "# to_verify: list to be checked where if each element is in verify_list\n",
    "# verify_list: list to be checked against\n",
    "# min_verify_count: the minimum amount of elements in to_verify that needs to \n",
    "# be in verify_list in order for to_verify to be considered verifiable\n",
    "def is_verifiable(to_verify,verify_list,min_verify_count):\n",
    "  count = 0\n",
    "  for node in to_verify:\n",
    "    if node in verify_list:\n",
    "      count += 1\n",
    "  return count >= min_verify_count\n",
    "\n",
    "def read_json_from(path):\n",
    "  with open(path, \"r\") as read_file:\n",
    "    return json.load(read_file)\n",
    "\n",
    "def write_json_to(json_dict,path):\n",
    "  json_to_write = json.dumps(json_dict)\n",
    "  write_file = open(path,\"w\")\n",
    "  write_file.write(json_to_write)\n",
    "  write_file.close()\n",
    "\n",
    "directory_path = \"D:/Desktop/Northeastern_University/Research/Proteomics/ProteinProteinAssociation/Development\"\n",
    "proteomeHD_majority_to_simplified_lookup_json_path = f\"{directory_path}/data_sources/ProteomeHD/majority_to_simplfied_lookup.json\"\n",
    "proteomeHD_majority_to_simplified_lookup_json = read_json_from(proteomeHD_majority_to_simplified_lookup_json_path)\n",
    "\n",
    "def append_to_csv(file_name,column_names,cor_tuples):\n",
    "  with open(file_name, 'a+', newline='') as write_obj:\n",
    "    csv_writer = writer(write_obj)\n",
    "    if column_names is not None:\n",
    "      csv_writer.writerow(column_names)\n",
    "    for cor_tuple in cor_tuples:\n",
    "      csv_writer.writerow(cor_tuple)\n",
    "\n",
    "def convert_majority_id_to_simplfied(graph,to_convert):\n",
    "  return list(map(lambda x: proteomeHD_majority_to_simplified_lookup_json[x],to_convert))\n",
    "\n",
    "# remove cliques that contain the same node more than once\n",
    "def clean_clique(clique_list):\n",
    "  return list(filter(lambda x: len(set(x)) == len(x),clique_list))\n",
    "\n",
    "def find_cliques_of_size_k(cliques,k):\n",
    "  return list(filter(lambda x: len(x) == k ,cliques))\n",
    "\n",
    "def check_contains(subunit,clique):\n",
    "  return len(np.intersect1d(clique,subunit)) > 0\n",
    "\n",
    "def partition_cliques_by_size(cliques):\n",
    "  counter = {}\n",
    "  for clique in cliques:\n",
    "    try:\n",
    "      counter[len(clique)].append(clique)\n",
    "    except KeyError:\n",
    "      counter[len(clique)] = [clique]\n",
    "  return counter"
   ]
  },
  {
   "cell_type": "markdown",
   "metadata": {
    "colab_type": "text",
    "id": "TEFYalRY5XlX"
   },
   "source": [
    "## Load Data"
   ]
  },
  {
   "cell_type": "code",
   "execution_count": 3,
   "metadata": {
    "colab": {},
    "colab_type": "code",
    "id": "tE0lTZs74oaW",
    "scrolled": true
   },
   "outputs": [],
   "source": [
    "directory_path = \"D:/Desktop/Northeastern_University/Research/Proteomics/ProteinProteinAssociation/Development\"\n",
    "corum_complexes_path = f\"{directory_path}/data_sources/Corum/allComplexes.txt\"\n",
    "all_corum_complex_pairs_json_path = f\"{directory_path}/data_sources/Corum/all_corum_complex_pairs.json\"\n",
    "\n",
    "corum_complexes_dataframe = pd.read_csv(corum_complexes_path,sep='\\t')\n",
    "all_corum_subunits = corum_complexes_dataframe[\"subunits(UniProt IDs)\"].to_numpy()\n",
    "all_corum_subunits_list = list(map(lambda x: x.split(\";\"), all_corum_subunits))\n",
    "all_corum_complexes_id = corum_complexes_dataframe[\"ComplexID\"].to_numpy()\n",
    "\n",
    "corum_complex_pairs_lookup_dict = read_json_from(all_corum_complex_pairs_json_path)\n",
    "all_unique_corum_proteins = list(corum_complex_pairs_lookup_dict.keys())\n",
    "\n",
    "protein_to_included_complex_id_path = f\"{directory_path}/data_sources/Corum/protein_to_included_complex_id.json\"\n",
    "protein_to_included_complex_id_json = read_json_from(protein_to_included_complex_id_path)\n",
    "\n",
    "proteomeHD_uniprot_to_idx_lookup_json_path = f\"{directory_path}/data_sources/ProteomeHD/uniprot_id_idx_lookup.json\"\n",
    "proteomeHD_uniprot_to_idx_lookup_json = read_json_from(proteomeHD_uniprot_to_idx_lookup_json_path)\n",
    "\n",
    "proteomeHD_verifiable_corum_complexes_amount_json_path = f\"{directory_path}/data_sources/Corum/proteomeHD_verifiable_complexes_amount.json\"\n",
    "proteomeHD_verifiable_corum_complexes_amount_json = read_json_from(proteomeHD_verifiable_corum_complexes_amount_json_path)\n",
    "\n",
    "def is_corum_verifiable(to_verify):\n",
    "  return is_verifiable(to_verify,corum_complex_pairs_lookup_dict.keys(),len(to_verify))\n",
    "\n",
    "def is_proteomeHD_verifiable(subunits,min_count=2):\n",
    "  return is_verifiable(subunits.split(\";\"),proteomeHD_uniprot_to_idx_lookup_json.keys(),min_count)\n",
    "\n",
    "all_proteomeHD_verifiable_corum_subunits = list(filter(lambda x: is_proteomeHD_verifiable(x), all_corum_subunits))"
   ]
  },
  {
   "cell_type": "markdown",
   "metadata": {
    "colab_type": "text",
    "id": "TFQKTWKwv6u2"
   },
   "source": [
    "## Loads the network and print number of nodes and edges. (For large network like ppa_r_050_obs_5.graphml (531mb) this takes about 2 minutes)"
   ]
  },
  {
   "cell_type": "code",
   "execution_count": 5,
   "metadata": {
    "colab": {
     "base_uri": "https://localhost:8080/",
     "height": 50
    },
    "colab_type": "code",
    "executionInfo": {
     "elapsed": 854,
     "status": "ok",
     "timestamp": 1589952594206,
     "user": {
      "displayName": "Hoyin Chu",
      "photoUrl": "",
      "userId": "08687870196591871814"
     },
     "user_tz": 240
    },
    "id": "oG2AM7YHu9Kj",
    "outputId": "f965a2ce-0686-4d9a-b256-1e59582dcc85"
   },
   "outputs": [
    {
     "name": "stdout",
     "output_type": "stream",
     "text": [
      "Number of nodes: 1988\n",
      "Number of edges: 16094\n"
     ]
    }
   ],
   "source": [
    "# Loads network data from graphml\n",
    "# Warning: Node attributes will be string\n",
    "graph_input_path = f\"{directory_path}/graph_outputs/r_075_obs_100.graphml\"\n",
    "ppa_graph = nx.read_graphml(graph_input_path)\n",
    "\n",
    "# Remove isolated nodes\n",
    "isolated = list(nx.isolates(ppa_graph))\n",
    "ppa_graph.remove_nodes_from(isolated)\n",
    "print(f\"Number of nodes: {ppa_graph.number_of_nodes()}\")\n",
    "print(f\"Number of edges: {ppa_graph.number_of_edges()}\")"
   ]
  },
  {
   "cell_type": "code",
   "execution_count": 6,
   "metadata": {
    "colab": {
     "base_uri": "https://localhost:8080/",
     "height": 67
    },
    "colab_type": "code",
    "executionInfo": {
     "elapsed": 436,
     "status": "ok",
     "timestamp": 1589952604879,
     "user": {
      "displayName": "Hoyin Chu",
      "photoUrl": "",
      "userId": "08687870196591871814"
     },
     "user_tz": 240
    },
    "id": "vWb27PMshvOg",
    "outputId": "c1021913-94c1-4796-a95e-d17135f3772b"
   },
   "outputs": [
    {
     "name": "stdout",
     "output_type": "stream",
     "text": [
      "r cutoff: 0.75, co-occurence cutoff: 100\n",
      "Number of nodes: 1988\n",
      "Number of edges: 16094\n"
     ]
    }
   ],
   "source": [
    "print(f\"r cutoff: 0.75, co-occurence cutoff: 100\")\n",
    "print(f\"Number of nodes: {ppa_graph.number_of_nodes()}\")\n",
    "print(f\"Number of edges: {ppa_graph.number_of_edges()}\")"
   ]
  },
  {
   "cell_type": "markdown",
   "metadata": {
    "colab_type": "text",
    "id": "tBnnim7swJps"
   },
   "source": [
    "Finding cliques in network"
   ]
  },
  {
   "cell_type": "code",
   "execution_count": 7,
   "metadata": {
    "colab": {
     "base_uri": "https://localhost:8080/",
     "height": 34
    },
    "colab_type": "code",
    "executionInfo": {
     "elapsed": 389,
     "status": "ok",
     "timestamp": 1589950710664,
     "user": {
      "displayName": "Hoyin Chu",
      "photoUrl": "",
      "userId": "08687870196591871814"
     },
     "user_tz": 240
    },
    "id": "Sqdk-6aav35V",
    "outputId": "9bd9767d-7665-46ec-f353-6a02bf622867"
   },
   "outputs": [
    {
     "name": "stdout",
     "output_type": "stream",
     "text": [
      "Number of cliques in network: 19586\n"
     ]
    }
   ],
   "source": [
    "all_cliques = list(nx.find_cliques(ppa_graph))\n",
    "print(f\"Number of cliques in network: {len(all_cliques)}\")"
   ]
  },
  {
   "cell_type": "markdown",
   "metadata": {
    "colab_type": "text",
    "id": "2V4cB7Yc7noF"
   },
   "source": [
    "Check which cliques are corum verifiable"
   ]
  },
  {
   "cell_type": "code",
   "execution_count": 10,
   "metadata": {
    "colab": {
     "base_uri": "https://localhost:8080/",
     "height": 34
    },
    "colab_type": "code",
    "executionInfo": {
     "elapsed": 566,
     "status": "ok",
     "timestamp": 1589950713990,
     "user": {
      "displayName": "Hoyin Chu",
      "photoUrl": "",
      "userId": "08687870196591871814"
     },
     "user_tz": 240
    },
    "id": "xL6P89O6xZKv",
    "outputId": "1f4ed207-a63b-427c-e0a3-08c461b060a0"
   },
   "outputs": [
    {
     "name": "stdout",
     "output_type": "stream",
     "text": [
      "2571\n"
     ]
    }
   ],
   "source": [
    "all_cliques_uniprot = list(map(lambda x: convert_majority_id_to_simplfied(ppa_graph,x),all_cliques))\n",
    "verifiable_cliques = list(filter(is_corum_verifiable,all_cliques_uniprot))\n",
    "# We remove cliques that have the same node for more than once\n",
    "# this happens when two proteomeHD entries have the same simplified protein id\n",
    "verifiable_cliques = clean_clique(verifiable_cliques)\n",
    "print(len(verifiable_cliques))"
   ]
  },
  {
   "cell_type": "markdown",
   "metadata": {
    "colab_type": "text",
    "id": "bbuNj8y35ytH"
   },
   "source": [
    "Check sizes"
   ]
  },
  {
   "cell_type": "code",
   "execution_count": 11,
   "metadata": {
    "colab": {
     "base_uri": "https://localhost:8080/",
     "height": 118
    },
    "colab_type": "code",
    "collapsed": true,
    "executionInfo": {
     "elapsed": 404,
     "status": "ok",
     "timestamp": 1589950716200,
     "user": {
      "displayName": "Hoyin Chu",
      "photoUrl": "",
      "userId": "08687870196591871814"
     },
     "user_tz": 240
    },
    "id": "s36SCRUGFhua",
    "outputId": "ede85d29-1a64-46d5-8554-67a4a9900bb1"
   },
   "outputs": [
    {
     "name": "stdout",
     "output_type": "stream",
     "text": [
      "Cliques that can be verified by Corum\n",
      "Size 2 Cliques: 258\n",
      "Size 3 Cliques: 102\n",
      "Size 4 Cliques: 58\n",
      "Size 5 Cliques: 45\n",
      "Size 7 Cliques: 41\n",
      "Size 6 Cliques: 25\n",
      "Size 10 Cliques: 77\n",
      "Size 9 Cliques: 51\n",
      "Size 13 Cliques: 115\n",
      "Size 11 Cliques: 109\n",
      "Size 12 Cliques: 123\n",
      "Size 14 Cliques: 130\n",
      "Size 17 Cliques: 195\n",
      "Size 15 Cliques: 182\n",
      "Size 18 Cliques: 218\n",
      "Size 16 Cliques: 212\n",
      "Size 19 Cliques: 150\n",
      "Size 20 Cliques: 64\n",
      "Size 25 Cliques: 26\n",
      "Size 30 Cliques: 21\n",
      "Size 23 Cliques: 45\n",
      "Size 24 Cliques: 30\n",
      "Size 21 Cliques: 68\n",
      "Size 22 Cliques: 34\n",
      "Size 8 Cliques: 28\n",
      "Size 29 Cliques: 15\n",
      "Size 28 Cliques: 12\n",
      "Size 26 Cliques: 28\n",
      "Size 27 Cliques: 13\n",
      "Size 41 Cliques: 15\n",
      "Size 40 Cliques: 8\n",
      "Size 39 Cliques: 9\n",
      "Size 42 Cliques: 16\n",
      "Size 43 Cliques: 6\n",
      "Size 38 Cliques: 12\n",
      "Size 33 Cliques: 7\n",
      "Size 35 Cliques: 5\n",
      "Size 34 Cliques: 2\n",
      "Size 32 Cliques: 5\n",
      "Size 31 Cliques: 9\n",
      "Size 36 Cliques: 2\n"
     ]
    }
   ],
   "source": [
    "clique_counter = partition_cliques_by_size(verifiable_cliques)\n",
    "print(\"Cliques that can be verified by Corum\")\n",
    "for key in clique_counter:\n",
    "  print(f\"Size {key} Cliques: {len(clique_counter[key])}\")"
   ]
  },
  {
   "cell_type": "markdown",
   "metadata": {
    "colab_type": "text",
    "id": "PdAqzHok4Xt_"
   },
   "source": [
    "# Defining hit,precision, and recall\n",
    "- hit: When the proteins in a clique is subset of a protein subunits in a protein complex in the Corum dataset\n",
    "- precision: Number of hitting cliques / total number of cliques\n",
    "- recall: Number of complexes hit by cliques / total number of complexes\n",
    "- recall: Number of complexes hit by cliques / total number of complexes that contain at least one protein of all proteins present in cliques"
   ]
  },
  {
   "cell_type": "code",
   "execution_count": 4,
   "metadata": {
    "colab": {},
    "colab_type": "code",
    "id": "stcmMfot4TY1"
   },
   "outputs": [],
   "source": [
    "# Checks if a given clique (tuple or list) is a hit\n",
    "# When the proteins in the clique is a subset of a protein subunits in a protein\n",
    "# complex in the Corum dataset\n",
    "def is_hit(clique,return_complexes=False):\n",
    "  shared_complexes = []\n",
    "  for protein in clique:\n",
    "    shared_complexes.append(protein_to_included_complex_id_json[protein])\n",
    "  overlapped_complexes = reduce(np.intersect1d,shared_complexes)\n",
    "  overlapped_complexes = list(map(lambda x: int(x),overlapped_complexes))\n",
    "  return overlapped_complexes if return_complexes else len(overlapped_complexes) > 0\n",
    "      \n",
    "# Calculates the precision of the given list of cliques\n",
    "# precison = number of hitting cliques / total number of cliques\n",
    "def calc_precision(cliques,loud=False):\n",
    "  hit_num = 0\n",
    "  for clique in cliques:\n",
    "    if(is_hit(clique)):\n",
    "      hit_num += 1\n",
    "  if loud:\n",
    "    print(f\"Total Number of Cliques: {len(cliques)}\")\n",
    "    print(f\"Hitting Cliques: {hit_num}\")\n",
    "    print(f\"Precision: {hit_num / len(cliques)}\")\n",
    "  return hit_num / len(cliques)\n",
    "\n",
    "# Calculates the recall of the given cliques\n",
    "# recall = Number of complexes hit by cliques / total number of candidate complexes\n",
    "# candidate complexes are complexes that contain at least 1 protein listed in cliques\n",
    "def calc_recall(cliques,loud=False,return_raw=False,recall_denominator=\"all_corum_complexes\"):\n",
    "  denominator = len(all_proteomeHD_verifiable_corum_subunits)\n",
    "  flattened_protein_list = [item for sublist in cliques for item in sublist]\n",
    "  # All the unique proteins in the cliques\n",
    "  all_clique_proteins = np.unique(flattened_protein_list)\n",
    "\n",
    "  # Find all complexes such that it contains at least of the proteins listed in cliques\n",
    "  all_candidate_complexes_id = []\n",
    "  for idx in range(len(corum_complexes_dataframe)):\n",
    "    if len(np.intersect1d(all_clique_proteins,all_corum_subunits_list[idx])) > 0:\n",
    "      all_candidate_complexes_id.append(all_corum_complexes_id[idx])\n",
    "  if (recall_denominator == \"complex_candidate\"):\n",
    "    denominator = len(all_candidate_complexes_id)\n",
    "  elif (recall_denominator == \"all_corum_complexes\"):\n",
    "    denominator = len(all_corum_subunits)\n",
    "  # Find all complexes hit by cliques\n",
    "  all_complexes_hit = []\n",
    "  for clique in cliques:\n",
    "    all_complexes_hit.append(is_hit(clique,return_complexes=True))\n",
    "  flat_list = [item for sublist in all_complexes_hit for item in sublist]\n",
    "  all_complexes_hit_unique = np.unique(flat_list)\n",
    "  if loud:\n",
    "    print(f\"Total Number of Complex Hit: {len(all_complexes_hit_unique)}\")\n",
    "    print(f\"Total Number of Complex Candidates: {len(all_candidate_complexes_id)}\")\n",
    "    print(f\"Recall: {len(all_complexes_hit_unique) / len(all_candidate_complexes_id)}\")\n",
    "  if return_raw:\n",
    "    all_complexes_hit_unique = list(map(lambda x: int(x),all_complexes_hit_unique))\n",
    "    all_candidate_complexes_id = list(map(lambda x: int(x),all_candidate_complexes_id))\n",
    "    return all_complexes_hit_unique,all_candidate_complexes_id\n",
    "  return len(all_complexes_hit_unique) / denominator\n",
    "\n",
    "# Give cliques, return all cliques that are hitting, non hitting, and the complexes\n",
    "# they hit for all hitting cliques\n",
    "def partition_by_hitting_status(cliques):\n",
    "  hitting_cliques = []\n",
    "  corresponding_complexes = []\n",
    "  non_hitting_cliques = []\n",
    "  for clique in cliques:\n",
    "    hitting_complex = is_hit(clique,return_complexes=True)\n",
    "    if (len(hitting_complex) > 0):\n",
    "      hitting_cliques.append(clique)\n",
    "      corresponding_complexes.append(hitting_complex)\n",
    "    else:\n",
    "      non_hitting_cliques.append(clique)\n",
    "  return hitting_cliques,non_hitting_cliques,corresponding_complexes\n",
    "\n",
    "def compute_cliques_info_dict(cliques,recall_denominator=\"all_verifiable_corum_complexes_size_adjusted\"):\n",
    "  info_dict = {}\n",
    "  hitting,non_hitting,corr_complexes = partition_by_hitting_status(cliques)\n",
    "  complex_hit,complex_candidates = calc_recall(cliques,return_raw=True)\n",
    "  info_dict[\"total_cliques\"] = len(cliques)\n",
    "  info_dict['hitting_cliques'] = hitting\n",
    "  info_dict['non_hitting_cliques'] = non_hitting\n",
    "  info_dict['corresponding_complexes'] = list(map(list,corr_complexes))\n",
    "  info_dict['precision'] = len(hitting) / len(cliques)\n",
    "  info_dict['complex_hit'] = list(complex_hit)\n",
    "  info_dict['complex_candidates_id'] = complex_candidates\n",
    "  info_dict['recall'] = {}\n",
    "  info_dict['recall'][\"complex_candidate\"] = len(complex_hit) / len(complex_candidates)\n",
    "  info_dict['recall'][\"all_corum_complexes\"] = len(complex_hit) / len(all_corum_subunits)\n",
    "  info_dict['recall'][\"all_verifiable_corum_complexes\"] = len(complex_hit) / len(all_proteomeHD_verifiable_corum_subunits)\n",
    "  try:\n",
    "    denom = proteomeHD_verifiable_corum_complexes_amount_json[str(len(cliques[0]))]\n",
    "    if denom > 0:\n",
    "        info_dict['recall'][\"all_verifiable_corum_complexes_size_adjusted\"] = len(complex_hit) / denom\n",
    "    else:\n",
    "        info_dict['recall'][\"all_verifiable_corum_complexes_size_adjusted\"] = float(\"NaN\")\n",
    "  except KeyError:\n",
    "    info_dict['recall'][\"all_verifiable_corum_complexes_size_adjusted\"] = float(\"NaN\")\n",
    "  return info_dict\n",
    "\n",
    "def full_report_calculation_by_size(cliques):\n",
    "  clique_partition = partition_cliques_by_size(cliques)\n",
    "  report_dict = {}\n",
    "  for size in clique_partition:\n",
    "    info_dict = compute_cliques_info_dict(clique_partition[size])\n",
    "    report_dict[size] = info_dict\n",
    "  return report_dict"
   ]
  },
  {
   "cell_type": "code",
   "execution_count": 34,
   "metadata": {
    "colab": {},
    "colab_type": "code",
    "id": "sw1rA-bSdqjG"
   },
   "outputs": [],
   "source": [
    "full_report_dict = full_report_calculation_by_size(verifiable_cliques)"
   ]
  },
  {
   "cell_type": "code",
   "execution_count": 40,
   "metadata": {},
   "outputs": [
    {
     "data": {
      "text/plain": [
       "{'complex_candidate': 0.043859649122807015,\n",
       " 'all_corum_complexes': 0.004679457182966776,\n",
       " 'all_verifiable_corum_complexes': 0.00819336337566571,\n",
       " 'all_verifiable_corum_complexes_size_adjusted': 0.012714558169103624}"
      ]
     },
     "execution_count": 40,
     "metadata": {},
     "output_type": "execute_result"
    }
   ],
   "source": [
    "full_report_dict[3]['recall']"
   ]
  },
  {
   "cell_type": "code",
   "execution_count": 41,
   "metadata": {
    "colab": {
     "base_uri": "https://localhost:8080/",
     "height": 185
    },
    "colab_type": "code",
    "collapsed": true,
    "executionInfo": {
     "elapsed": 562,
     "status": "ok",
     "timestamp": 1589866618522,
     "user": {
      "displayName": "Hoyin Chu",
      "photoUrl": "",
      "userId": "08687870196591871814"
     },
     "user_tz": 240
    },
    "id": "OYFWbXiWdw3w",
    "outputId": "f756b4a0-5097-4804-bc0d-6eb2b8be867d"
   },
   "outputs": [
    {
     "name": "stdout",
     "output_type": "stream",
     "text": [
      "Size 2 cliques total: 258\n",
      "Precision: 0.3062015503875969 Recall: {'complex_candidate': 0.0988296488946684, 'all_corum_complexes': 0.017781937295273748, 'all_verifiable_corum_complexes': 0.031134780827529702, 'all_verifiable_corum_complexes_size_adjusted': 0.031134780827529702}\n",
      "Size 3 cliques total: 102\n",
      "Precision: 0.29411764705882354 Recall: {'complex_candidate': 0.043859649122807015, 'all_corum_complexes': 0.004679457182966776, 'all_verifiable_corum_complexes': 0.00819336337566571, 'all_verifiable_corum_complexes_size_adjusted': 0.012714558169103624}\n",
      "Size 4 cliques total: 58\n",
      "Precision: 0.20689655172413793 Recall: {'complex_candidate': 0.022151898734177215, 'all_corum_complexes': 0.0016378100140383716, 'all_verifiable_corum_complexes': 0.0028676771814829987, 'all_verifiable_corum_complexes_size_adjusted': 0.008684863523573201}\n",
      "Size 5 cliques total: 45\n",
      "Precision: 0.2222222222222222 Recall: {'complex_candidate': 0.011904761904761904, 'all_corum_complexes': 0.0007019185774450163, 'all_verifiable_corum_complexes': 0.0012290045063498567, 'all_verifiable_corum_complexes_size_adjusted': 0.005405405405405406}\n",
      "Size 7 cliques total: 41\n",
      "Precision: 0.024390243902439025 Recall: {'complex_candidate': 0.0037735849056603774, 'all_corum_complexes': 0.0002339728591483388, 'all_verifiable_corum_complexes': 0.00040966816878328555, 'all_verifiable_corum_complexes_size_adjusted': 0.0028011204481792717}\n",
      "Size 6 cliques total: 25\n",
      "Precision: 0.12 Recall: {'complex_candidate': 0.00904977375565611, 'all_corum_complexes': 0.0004679457182966776, 'all_verifiable_corum_complexes': 0.0008193363375665711, 'all_verifiable_corum_complexes_size_adjusted': 0.0047169811320754715}\n",
      "Size 10 cliques total: 77\n",
      "Precision: 0.0 Recall: {'complex_candidate': 0.0, 'all_corum_complexes': 0.0, 'all_verifiable_corum_complexes': 0.0, 'all_verifiable_corum_complexes_size_adjusted': 0.0}\n",
      "Size 9 cliques total: 51\n",
      "Precision: 0.0 Recall: {'complex_candidate': 0.0, 'all_corum_complexes': 0.0, 'all_verifiable_corum_complexes': 0.0, 'all_verifiable_corum_complexes_size_adjusted': 0.0}\n",
      "Size 13 cliques total: 115\n",
      "Precision: 0.0 Recall: {'complex_candidate': 0.0, 'all_corum_complexes': 0.0, 'all_verifiable_corum_complexes': 0.0, 'all_verifiable_corum_complexes_size_adjusted': 0.0}\n",
      "Size 11 cliques total: 109\n",
      "Precision: 0.0 Recall: {'complex_candidate': 0.0, 'all_corum_complexes': 0.0, 'all_verifiable_corum_complexes': 0.0, 'all_verifiable_corum_complexes_size_adjusted': 0.0}\n",
      "Size 12 cliques total: 123\n",
      "Precision: 0.0 Recall: {'complex_candidate': 0.0, 'all_corum_complexes': 0.0, 'all_verifiable_corum_complexes': 0.0, 'all_verifiable_corum_complexes_size_adjusted': 0.0}\n",
      "Size 14 cliques total: 130\n",
      "Precision: 0.0 Recall: {'complex_candidate': 0.0, 'all_corum_complexes': 0.0, 'all_verifiable_corum_complexes': 0.0, 'all_verifiable_corum_complexes_size_adjusted': 0.0}\n",
      "Size 17 cliques total: 195\n",
      "Precision: 0.0 Recall: {'complex_candidate': 0.0, 'all_corum_complexes': 0.0, 'all_verifiable_corum_complexes': 0.0, 'all_verifiable_corum_complexes_size_adjusted': 0.0}\n",
      "Size 15 cliques total: 182\n",
      "Precision: 0.005494505494505495 Recall: {'complex_candidate': 0.0053475935828877, 'all_corum_complexes': 0.0002339728591483388, 'all_verifiable_corum_complexes': 0.00040966816878328555, 'all_verifiable_corum_complexes_size_adjusted': 0.014492753623188406}\n",
      "Size 18 cliques total: 218\n",
      "Precision: 0.0 Recall: {'complex_candidate': 0.0, 'all_corum_complexes': 0.0, 'all_verifiable_corum_complexes': 0.0, 'all_verifiable_corum_complexes_size_adjusted': 0.0}\n",
      "Size 16 cliques total: 212\n",
      "Precision: 0.0 Recall: {'complex_candidate': 0.0, 'all_corum_complexes': 0.0, 'all_verifiable_corum_complexes': 0.0, 'all_verifiable_corum_complexes_size_adjusted': 0.0}\n",
      "Size 19 cliques total: 150\n",
      "Precision: 0.0 Recall: {'complex_candidate': 0.0, 'all_corum_complexes': 0.0, 'all_verifiable_corum_complexes': 0.0, 'all_verifiable_corum_complexes_size_adjusted': 0.0}\n",
      "Size 20 cliques total: 64\n",
      "Precision: 0.03125 Recall: {'complex_candidate': 0.008403361344537815, 'all_corum_complexes': 0.0002339728591483388, 'all_verifiable_corum_complexes': 0.00040966816878328555, 'all_verifiable_corum_complexes_size_adjusted': 0.034482758620689655}\n",
      "Size 25 cliques total: 26\n",
      "Precision: 0.0 Recall: {'complex_candidate': 0.0, 'all_corum_complexes': 0.0, 'all_verifiable_corum_complexes': 0.0, 'all_verifiable_corum_complexes_size_adjusted': 0.0}\n",
      "Size 30 cliques total: 21\n",
      "Precision: 0.0 Recall: {'complex_candidate': 0.0, 'all_corum_complexes': 0.0, 'all_verifiable_corum_complexes': 0.0, 'all_verifiable_corum_complexes_size_adjusted': 0.0}\n",
      "Size 23 cliques total: 45\n",
      "Precision: 0.0 Recall: {'complex_candidate': 0.0, 'all_corum_complexes': 0.0, 'all_verifiable_corum_complexes': 0.0, 'all_verifiable_corum_complexes_size_adjusted': 0.0}\n",
      "Size 24 cliques total: 30\n",
      "Precision: 0.03333333333333333 Recall: {'complex_candidate': 0.013333333333333334, 'all_corum_complexes': 0.0002339728591483388, 'all_verifiable_corum_complexes': 0.00040966816878328555, 'all_verifiable_corum_complexes_size_adjusted': 0.045454545454545456}\n",
      "Size 21 cliques total: 68\n",
      "Precision: 0.014705882352941176 Recall: {'complex_candidate': 0.008403361344537815, 'all_corum_complexes': 0.0002339728591483388, 'all_verifiable_corum_complexes': 0.00040966816878328555, 'all_verifiable_corum_complexes_size_adjusted': 0.038461538461538464}\n",
      "Size 22 cliques total: 34\n",
      "Precision: 0.0 Recall: {'complex_candidate': 0.0, 'all_corum_complexes': 0.0, 'all_verifiable_corum_complexes': 0.0, 'all_verifiable_corum_complexes_size_adjusted': 0.0}\n",
      "Size 8 cliques total: 28\n",
      "Precision: 0.0 Recall: {'complex_candidate': 0.0, 'all_corum_complexes': 0.0, 'all_verifiable_corum_complexes': 0.0, 'all_verifiable_corum_complexes_size_adjusted': 0.0}\n",
      "Size 29 cliques total: 15\n",
      "Precision: 0.0 Recall: {'complex_candidate': 0.0, 'all_corum_complexes': 0.0, 'all_verifiable_corum_complexes': 0.0, 'all_verifiable_corum_complexes_size_adjusted': 0.0}\n",
      "Size 28 cliques total: 12\n",
      "Precision: 0.0 Recall: {'complex_candidate': 0.0, 'all_corum_complexes': 0.0, 'all_verifiable_corum_complexes': 0.0, 'all_verifiable_corum_complexes_size_adjusted': 0.0}\n",
      "Size 26 cliques total: 28\n",
      "Precision: 0.0 Recall: {'complex_candidate': 0.0, 'all_corum_complexes': 0.0, 'all_verifiable_corum_complexes': 0.0, 'all_verifiable_corum_complexes_size_adjusted': 0.0}\n",
      "Size 27 cliques total: 13\n",
      "Precision: 0.0 Recall: {'complex_candidate': 0.0, 'all_corum_complexes': 0.0, 'all_verifiable_corum_complexes': 0.0, 'all_verifiable_corum_complexes_size_adjusted': 0.0}\n",
      "Size 41 cliques total: 15\n",
      "Precision: 0.0 Recall: {'complex_candidate': 0.0, 'all_corum_complexes': 0.0, 'all_verifiable_corum_complexes': 0.0, 'all_verifiable_corum_complexes_size_adjusted': 0.0}\n",
      "Size 40 cliques total: 8\n",
      "Precision: 0.0 Recall: {'complex_candidate': 0.0, 'all_corum_complexes': 0.0, 'all_verifiable_corum_complexes': 0.0, 'all_verifiable_corum_complexes_size_adjusted': 0.0}\n",
      "Size 39 cliques total: 9\n",
      "Precision: 0.0 Recall: {'complex_candidate': 0.0, 'all_corum_complexes': 0.0, 'all_verifiable_corum_complexes': 0.0, 'all_verifiable_corum_complexes_size_adjusted': 0.0}\n",
      "Size 42 cliques total: 16\n",
      "Precision: 0.0 Recall: {'complex_candidate': 0.0, 'all_corum_complexes': 0.0, 'all_verifiable_corum_complexes': 0.0, 'all_verifiable_corum_complexes_size_adjusted': 0.0}\n",
      "Size 43 cliques total: 6\n",
      "Precision: 0.0 Recall: {'complex_candidate': 0.0, 'all_corum_complexes': 0.0, 'all_verifiable_corum_complexes': 0.0, 'all_verifiable_corum_complexes_size_adjusted': 0.0}\n",
      "Size 38 cliques total: 12\n",
      "Precision: 0.0 Recall: {'complex_candidate': 0.0, 'all_corum_complexes': 0.0, 'all_verifiable_corum_complexes': 0.0, 'all_verifiable_corum_complexes_size_adjusted': 0.0}\n",
      "Size 33 cliques total: 7\n",
      "Precision: 0.0 Recall: {'complex_candidate': 0.0, 'all_corum_complexes': 0.0, 'all_verifiable_corum_complexes': 0.0, 'all_verifiable_corum_complexes_size_adjusted': 0.0}\n",
      "Size 35 cliques total: 5\n",
      "Precision: 0.0 Recall: {'complex_candidate': 0.0, 'all_corum_complexes': 0.0, 'all_verifiable_corum_complexes': 0.0, 'all_verifiable_corum_complexes_size_adjusted': 0.0}\n",
      "Size 34 cliques total: 2\n",
      "Precision: 0.0 Recall: {'complex_candidate': 0.0, 'all_corum_complexes': 0.0, 'all_verifiable_corum_complexes': 0.0, 'all_verifiable_corum_complexes_size_adjusted': 0.0}\n",
      "Size 32 cliques total: 5\n",
      "Precision: 0.0 Recall: {'complex_candidate': 0.0, 'all_corum_complexes': 0.0, 'all_verifiable_corum_complexes': 0.0, 'all_verifiable_corum_complexes_size_adjusted': 0.0}\n",
      "Size 31 cliques total: 9\n",
      "Precision: 0.0 Recall: {'complex_candidate': 0.0, 'all_corum_complexes': 0.0, 'all_verifiable_corum_complexes': 0.0, 'all_verifiable_corum_complexes_size_adjusted': 0.0}\n",
      "Size 36 cliques total: 2\n",
      "Precision: 0.0 Recall: {'complex_candidate': 0.0, 'all_corum_complexes': 0.0, 'all_verifiable_corum_complexes': 0.0, 'all_verifiable_corum_complexes_size_adjusted': 0.0}\n"
     ]
    }
   ],
   "source": [
    "for key in full_report_dict:\n",
    "  clique_size = key\n",
    "  total_cliques = full_report_dict[key]['total_cliques']\n",
    "  precision = full_report_dict[key]['precision']\n",
    "  recall = full_report_dict[key]['recall']\n",
    "  print(f\"Size {clique_size} cliques total: {total_cliques}\")\n",
    "  print(f\"Precision: {precision} Recall: {recall}\")"
   ]
  },
  {
   "cell_type": "code",
   "execution_count": 23,
   "metadata": {
    "colab": {},
    "colab_type": "code",
    "collapsed": true,
    "id": "VuOmBPfXgIPX"
   },
   "outputs": [
    {
     "data": {
      "text/plain": [
       "{'total_cliques': 102,\n",
       " 'hitting_cliques': [['P24539', 'P06576', 'P30049'],\n",
       "  ['P25788', 'P60900', 'P25787'],\n",
       "  ['P25788', 'P28066', 'O00231'],\n",
       "  ['P25788', 'P28066', 'P25787'],\n",
       "  ['O95167', 'O43678', 'P56556'],\n",
       "  ['O95167', 'Q9P0J0', 'Q9UI09'],\n",
       "  ['Q4U2R6', 'Q9H0U6', 'Q9BYD3'],\n",
       "  ['Q4U2R6', 'Q9H0U6', 'O75394'],\n",
       "  ['Q13610', 'O76021', 'P06748'],\n",
       "  ['O43181', 'P03891', 'Q9Y6M9'],\n",
       "  ['O43181', 'P03891', 'Q9P0J0'],\n",
       "  ['O43181', 'P03891', 'O75489'],\n",
       "  ['O43181', 'P17568', 'P19404'],\n",
       "  ['P62854', 'P61513', 'P62847'],\n",
       "  ['Q14152', 'Q13347', 'Q9Y262'],\n",
       "  ['P62333', 'P35998', 'P43686'],\n",
       "  ['Q9Y2R5', 'Q9BYN8', 'Q9H2W6'],\n",
       "  ['Q9Y2R5', 'Q9BYN8', 'Q9Y291'],\n",
       "  ['Q9Y2R5', 'P82664', 'Q9Y291'],\n",
       "  ['P06576', 'P56134', 'P48047'],\n",
       "  ['Q07955', 'Q13247', 'Q01081'],\n",
       "  ['Q6IAA8', 'Q9Y2Q5', 'Q9UHA4'],\n",
       "  ['Q9BRX5', 'Q14691', 'Q9BRT9'],\n",
       "  ['O96000', 'O95139', 'P17568'],\n",
       "  ['P50990', 'P48643', 'Q99832'],\n",
       "  ['O15235', 'Q9BYC9', 'Q9Y3B7'],\n",
       "  ['Q96EL3', 'P82930', 'Q9BYD1'],\n",
       "  ['P28331', 'O43920', 'P17568'],\n",
       "  ['O00231', 'P51665', 'O00487'],\n",
       "  ['P62191', 'P35998', 'P43686']],\n",
       " 'non_hitting_cliques': [['Q00403', 'O15400', 'P63218'],\n",
       "  ['Q01105', 'O95456', 'P67809'],\n",
       "  ['Q01105', 'P09661', 'Q12905'],\n",
       "  ['Q01105', 'P51858', 'P06454'],\n",
       "  ['Q01105', 'P63279', 'P05387'],\n",
       "  ['P49642', 'Q14691', 'P40937'],\n",
       "  ['P21127', 'Q5VTR2', 'O75909'],\n",
       "  ['P38159', 'P62995', 'Q07955'],\n",
       "  ['Q86XP3', 'P49756', 'O15235'],\n",
       "  ['O75150', 'P28340', 'Q14691'],\n",
       "  ['Q86UX7', 'O75558', 'P42566'],\n",
       "  ['Q86UX7', 'O75558', 'P68366'],\n",
       "  ['O75306', 'P25705', 'P06576'],\n",
       "  ['P33991', 'P56270', 'P49736'],\n",
       "  ['P36578', 'Q8WXE1', 'P84090'],\n",
       "  ['P29083', 'P62913', 'Q9UPN6'],\n",
       "  ['Q9UMS4', 'Q15459', 'Q53GS7'],\n",
       "  ['P25205', 'Q9BQ61', 'P62913'],\n",
       "  ['Q9UPN6', 'Q9NV56', 'Q9Y2W2'],\n",
       "  ['Q9Y6B6', 'P62913', 'Q96KG9'],\n",
       "  ['Q71SY5', 'Q9BRX5', 'Q9BRT9'],\n",
       "  ['Q71SY5', 'Q9NV88', 'Q9UJX4'],\n",
       "  ['Q71SY5', 'Q9UJX4', 'P30260'],\n",
       "  ['Q71SY5', 'P62861', 'P63173'],\n",
       "  ['Q15287', 'P84090', 'P62308'],\n",
       "  ['Q07020', 'Q9BQ48', 'P46781'],\n",
       "  ['Q96ST3', 'O75909', 'O15235'],\n",
       "  ['Q96EY7', 'O15235', 'Q9BYC9'],\n",
       "  ['P56537', 'P84090', 'P61326'],\n",
       "  ['P56537', 'P62899', 'P61326'],\n",
       "  ['P08865', 'Q9Y262', 'Q13347'],\n",
       "  ['P08865', 'Q13200', 'P15880'],\n",
       "  ['P06576', 'P39656', 'P04844'],\n",
       "  ['P06576', 'P30049', 'Q99623'],\n",
       "  ['P06576', 'P25705', 'P04844'],\n",
       "  ['P13984', 'P62913', 'P33992'],\n",
       "  ['P62316', 'P62304', 'Q53GS7'],\n",
       "  ['P27797', 'P07237', 'Q15084'],\n",
       "  ['Q9GZL7', 'P09661', 'P09012'],\n",
       "  ['P16070', 'P62942', 'Q9UBI6'],\n",
       "  ['Q92793', 'P29084', 'O75909'],\n",
       "  ['O15042', 'Q9Y3B4', 'P06454'],\n",
       "  ['Q92945', 'Q13247', 'Q01081'],\n",
       "  ['Q99459', 'O75909', 'P62913'],\n",
       "  ['Q99459', 'O75909', 'O15235'],\n",
       "  ['O75643', 'Q53GS7', 'P62304'],\n",
       "  ['Q9Y265', 'P84090', 'Q9Y230'],\n",
       "  ['Q9Y265', 'Q9Y3C4', 'P62826'],\n",
       "  ['O15235', 'O75909', 'O60216'],\n",
       "  ['O15235', 'Q13435', 'Q9Y4B6'],\n",
       "  ['O15235', 'Q9Y4B6', 'O15355'],\n",
       "  ['Q05048', 'P84090', 'Q9BWJ5'],\n",
       "  ['P49321', 'P43246', 'Q9P287'],\n",
       "  ['P56270', 'Q9Y5Q8', 'Q9Y5Q9'],\n",
       "  ['O75909', 'P62913', 'Q9UJX4'],\n",
       "  ['P35579', 'P15498', 'Q13094'],\n",
       "  ['P35579', 'P15498', 'Q06187'],\n",
       "  ['Q13435', 'P62913', 'Q9Y4B6'],\n",
       "  ['Q9Y2A7', 'P16150', 'P18206'],\n",
       "  ['Q9Y2A7', 'P16150', 'Q7L576'],\n",
       "  ['Q13586', 'Q9ULH1', 'O15400'],\n",
       "  ['Q13586', 'Q9ULH1', 'Q9Y6W5'],\n",
       "  ['Q9Y4B6', 'P62913', 'O15355'],\n",
       "  ['Q9Y4B6', 'P62913', 'O14776'],\n",
       "  ['P45985', 'Q14457', 'Q7Z392'],\n",
       "  ['Q9Y2S0', 'P82930', 'P82650'],\n",
       "  ['Q13642', 'Q99816', 'O00161'],\n",
       "  ['P07947', 'Q13418', 'P48059'],\n",
       "  ['O75717', 'Q00013', 'P16150'],\n",
       "  ['Q92556', 'P43405', 'Q06187'],\n",
       "  ['P23229', 'P07996', 'P62873'],\n",
       "  ['P60033', 'Q00013', 'P05107']],\n",
       " 'corresponding_complexes': [[563],\n",
       "  [181, 191, 192, 193, 194],\n",
       "  [193],\n",
       "  [181, 191, 192, 193, 194],\n",
       "  [178],\n",
       "  [178],\n",
       "  [320, 324],\n",
       "  [320, 324],\n",
       "  [3055],\n",
       "  [178],\n",
       "  [178],\n",
       "  [178],\n",
       "  [178],\n",
       "  [306],\n",
       "  [742, 1097],\n",
       "  [32, 181, 193],\n",
       "  [320],\n",
       "  [315, 320],\n",
       "  [315, 320],\n",
       "  [563],\n",
       "  [351],\n",
       "  [6888],\n",
       "  [678],\n",
       "  [178, 2914],\n",
       "  [126],\n",
       "  [320],\n",
       "  [320],\n",
       "  [178],\n",
       "  [32, 193],\n",
       "  [32, 181, 193]],\n",
       " 'precision': 0.29411764705882354,\n",
       " 'complex_hit': [32,\n",
       "  126,\n",
       "  178,\n",
       "  181,\n",
       "  191,\n",
       "  192,\n",
       "  193,\n",
       "  194,\n",
       "  306,\n",
       "  315,\n",
       "  320,\n",
       "  324,\n",
       "  351,\n",
       "  563,\n",
       "  678,\n",
       "  742,\n",
       "  1097,\n",
       "  2914,\n",
       "  3055,\n",
       "  6888],\n",
       " 'complex_candidates_id': [4,\n",
       "  32,\n",
       "  49,\n",
       "  54,\n",
       "  63,\n",
       "  64,\n",
       "  86,\n",
       "  93,\n",
       "  96,\n",
       "  103,\n",
       "  117,\n",
       "  126,\n",
       "  152,\n",
       "  153,\n",
       "  163,\n",
       "  164,\n",
       "  165,\n",
       "  166,\n",
       "  178,\n",
       "  181,\n",
       "  186,\n",
       "  191,\n",
       "  192,\n",
       "  193,\n",
       "  194,\n",
       "  220,\n",
       "  230,\n",
       "  232,\n",
       "  265,\n",
       "  266,\n",
       "  268,\n",
       "  270,\n",
       "  274,\n",
       "  277,\n",
       "  278,\n",
       "  279,\n",
       "  282,\n",
       "  283,\n",
       "  284,\n",
       "  286,\n",
       "  287,\n",
       "  288,\n",
       "  289,\n",
       "  290,\n",
       "  291,\n",
       "  297,\n",
       "  302,\n",
       "  304,\n",
       "  305,\n",
       "  306,\n",
       "  308,\n",
       "  315,\n",
       "  320,\n",
       "  324,\n",
       "  338,\n",
       "  351,\n",
       "  368,\n",
       "  369,\n",
       "  370,\n",
       "  374,\n",
       "  375,\n",
       "  376,\n",
       "  377,\n",
       "  378,\n",
       "  387,\n",
       "  430,\n",
       "  431,\n",
       "  433,\n",
       "  434,\n",
       "  438,\n",
       "  472,\n",
       "  473,\n",
       "  474,\n",
       "  486,\n",
       "  493,\n",
       "  525,\n",
       "  528,\n",
       "  529,\n",
       "  563,\n",
       "  570,\n",
       "  571,\n",
       "  591,\n",
       "  592,\n",
       "  596,\n",
       "  632,\n",
       "  678,\n",
       "  691,\n",
       "  695,\n",
       "  696,\n",
       "  698,\n",
       "  713,\n",
       "  714,\n",
       "  720,\n",
       "  725,\n",
       "  730,\n",
       "  731,\n",
       "  732,\n",
       "  734,\n",
       "  738,\n",
       "  739,\n",
       "  740,\n",
       "  742,\n",
       "  743,\n",
       "  744,\n",
       "  745,\n",
       "  747,\n",
       "  749,\n",
       "  754,\n",
       "  755,\n",
       "  760,\n",
       "  763,\n",
       "  769,\n",
       "  773,\n",
       "  777,\n",
       "  781,\n",
       "  785,\n",
       "  787,\n",
       "  797,\n",
       "  798,\n",
       "  799,\n",
       "  801,\n",
       "  803,\n",
       "  805,\n",
       "  806,\n",
       "  810,\n",
       "  811,\n",
       "  814,\n",
       "  820,\n",
       "  834,\n",
       "  835,\n",
       "  867,\n",
       "  888,\n",
       "  909,\n",
       "  915,\n",
       "  943,\n",
       "  1003,\n",
       "  1004,\n",
       "  1005,\n",
       "  1045,\n",
       "  1068,\n",
       "  1078,\n",
       "  1083,\n",
       "  1097,\n",
       "  1098,\n",
       "  1099,\n",
       "  1100,\n",
       "  1101,\n",
       "  1105,\n",
       "  1106,\n",
       "  1107,\n",
       "  1108,\n",
       "  1111,\n",
       "  1113,\n",
       "  1114,\n",
       "  1141,\n",
       "  1142,\n",
       "  1143,\n",
       "  1146,\n",
       "  1147,\n",
       "  1148,\n",
       "  1149,\n",
       "  1150,\n",
       "  1153,\n",
       "  1154,\n",
       "  1155,\n",
       "  1165,\n",
       "  1166,\n",
       "  1169,\n",
       "  1170,\n",
       "  1171,\n",
       "  1173,\n",
       "  1176,\n",
       "  1181,\n",
       "  1182,\n",
       "  1183,\n",
       "  1192,\n",
       "  1199,\n",
       "  1200,\n",
       "  1223,\n",
       "  1226,\n",
       "  1227,\n",
       "  1232,\n",
       "  1257,\n",
       "  1261,\n",
       "  1293,\n",
       "  1297,\n",
       "  1298,\n",
       "  1332,\n",
       "  1335,\n",
       "  1348,\n",
       "  1400,\n",
       "  1413,\n",
       "  1452,\n",
       "  1505,\n",
       "  1551,\n",
       "  1552,\n",
       "  1554,\n",
       "  1612,\n",
       "  1614,\n",
       "  1615,\n",
       "  1617,\n",
       "  1618,\n",
       "  1619,\n",
       "  1620,\n",
       "  1728,\n",
       "  1729,\n",
       "  1734,\n",
       "  1737,\n",
       "  1743,\n",
       "  1745,\n",
       "  1746,\n",
       "  1749,\n",
       "  1751,\n",
       "  1856,\n",
       "  1863,\n",
       "  2129,\n",
       "  2153,\n",
       "  2156,\n",
       "  2199,\n",
       "  2200,\n",
       "  2201,\n",
       "  2202,\n",
       "  2203,\n",
       "  2211,\n",
       "  2224,\n",
       "  2226,\n",
       "  2236,\n",
       "  2294,\n",
       "  2300,\n",
       "  2318,\n",
       "  2319,\n",
       "  2320,\n",
       "  2321,\n",
       "  2322,\n",
       "  2323,\n",
       "  2401,\n",
       "  2411,\n",
       "  2413,\n",
       "  2419,\n",
       "  2426,\n",
       "  2437,\n",
       "  2529,\n",
       "  2534,\n",
       "  2535,\n",
       "  2536,\n",
       "  2547,\n",
       "  2564,\n",
       "  2574,\n",
       "  2589,\n",
       "  2638,\n",
       "  2641,\n",
       "  2685,\n",
       "  2721,\n",
       "  2727,\n",
       "  2728,\n",
       "  2740,\n",
       "  2755,\n",
       "  2757,\n",
       "  2770,\n",
       "  2791,\n",
       "  2792,\n",
       "  2797,\n",
       "  2799,\n",
       "  2804,\n",
       "  2810,\n",
       "  2825,\n",
       "  2829,\n",
       "  2846,\n",
       "  2851,\n",
       "  2856,\n",
       "  2857,\n",
       "  2884,\n",
       "  2886,\n",
       "  2898,\n",
       "  2901,\n",
       "  2903,\n",
       "  2904,\n",
       "  2905,\n",
       "  2906,\n",
       "  2909,\n",
       "  2912,\n",
       "  2914,\n",
       "  2919,\n",
       "  2920,\n",
       "  2938,\n",
       "  2942,\n",
       "  2945,\n",
       "  2948,\n",
       "  2955,\n",
       "  2958,\n",
       "  2960,\n",
       "  2961,\n",
       "  2963,\n",
       "  3034,\n",
       "  3044,\n",
       "  3047,\n",
       "  3048,\n",
       "  3053,\n",
       "  3054,\n",
       "  3055,\n",
       "  3061,\n",
       "  3062,\n",
       "  3064,\n",
       "  3066,\n",
       "  3070,\n",
       "  3096,\n",
       "  3118,\n",
       "  3135,\n",
       "  3137,\n",
       "  3142,\n",
       "  3149,\n",
       "  3167,\n",
       "  3196,\n",
       "  3231,\n",
       "  3263,\n",
       "  3634,\n",
       "  3749,\n",
       "  3750,\n",
       "  3753,\n",
       "  3754,\n",
       "  3961,\n",
       "  4389,\n",
       "  4392,\n",
       "  4395,\n",
       "  4399,\n",
       "  4403,\n",
       "  5153,\n",
       "  5154,\n",
       "  5177,\n",
       "  5183,\n",
       "  5184,\n",
       "  5198,\n",
       "  5209,\n",
       "  5217,\n",
       "  5222,\n",
       "  5226,\n",
       "  5233,\n",
       "  5264,\n",
       "  5266,\n",
       "  5318,\n",
       "  5337,\n",
       "  5341,\n",
       "  5342,\n",
       "  5343,\n",
       "  5361,\n",
       "  5378,\n",
       "  5380,\n",
       "  5386,\n",
       "  5432,\n",
       "  5449,\n",
       "  5450,\n",
       "  5498,\n",
       "  5573,\n",
       "  5604,\n",
       "  5611,\n",
       "  5613,\n",
       "  5615,\n",
       "  5951,\n",
       "  6036,\n",
       "  6072,\n",
       "  6073,\n",
       "  6078,\n",
       "  6108,\n",
       "  6131,\n",
       "  6141,\n",
       "  6143,\n",
       "  6235,\n",
       "  6247,\n",
       "  6254,\n",
       "  6261,\n",
       "  6289,\n",
       "  6290,\n",
       "  6303,\n",
       "  6304,\n",
       "  6306,\n",
       "  6374,\n",
       "  6391,\n",
       "  6392,\n",
       "  6393,\n",
       "  6443,\n",
       "  6444,\n",
       "  6468,\n",
       "  6472,\n",
       "  6510,\n",
       "  6512,\n",
       "  6590,\n",
       "  6742,\n",
       "  6806,\n",
       "  6838,\n",
       "  6856,\n",
       "  6858,\n",
       "  6888,\n",
       "  6908,\n",
       "  6919,\n",
       "  6920,\n",
       "  6984,\n",
       "  6985,\n",
       "  6987,\n",
       "  6988,\n",
       "  6989,\n",
       "  6990,\n",
       "  6991,\n",
       "  7011,\n",
       "  7013,\n",
       "  7014,\n",
       "  7019,\n",
       "  7024,\n",
       "  7029,\n",
       "  7031,\n",
       "  7036,\n",
       "  7037,\n",
       "  7050,\n",
       "  7059,\n",
       "  7060,\n",
       "  7061,\n",
       "  7066,\n",
       "  7071,\n",
       "  7076,\n",
       "  7081,\n",
       "  7086,\n",
       "  7087,\n",
       "  7088,\n",
       "  7089,\n",
       "  7090,\n",
       "  7092,\n",
       "  7097,\n",
       "  7141,\n",
       "  7147,\n",
       "  7152,\n",
       "  7160,\n",
       "  7165,\n",
       "  7166,\n",
       "  7167,\n",
       "  7168,\n",
       "  7169,\n",
       "  7170,\n",
       "  7175,\n",
       "  7187,\n",
       "  7195,\n",
       "  7204,\n",
       "  7205,\n",
       "  7206,\n",
       "  7207,\n",
       "  7208,\n",
       "  7209,\n",
       "  7298,\n",
       "  7299,\n",
       "  7318,\n",
       "  7381,\n",
       "  7504,\n",
       "  7535,\n",
       "  7543,\n",
       "  7555,\n",
       "  7561,\n",
       "  7562,\n",
       "  7580],\n",
       " 'recall': 0.00819336337566571}"
      ]
     },
     "execution_count": 23,
     "metadata": {},
     "output_type": "execute_result"
    }
   ],
   "source": [
    "full_report_dict[3]"
   ]
  },
  {
   "cell_type": "markdown",
   "metadata": {
    "colab_type": "text",
    "id": "fUgZC_j5Xr_Q"
   },
   "source": [
    "Calculate Precision on network of different sizes"
   ]
  },
  {
   "cell_type": "markdown",
   "metadata": {
    "colab_type": "text",
    "id": "ItnBH2xFQbms"
   },
   "source": [
    "Cliques that are at least size 3"
   ]
  },
  {
   "cell_type": "code",
   "execution_count": 0,
   "metadata": {
    "colab": {},
    "colab_type": "code",
    "id": "8jl6qJPRQbtZ"
   },
   "outputs": [],
   "source": [
    "verifiable_minimum_size_3_cliques = list(filter(lambda x: len(x) >= 3,verifiable_cliques))"
   ]
  },
  {
   "cell_type": "code",
   "execution_count": 0,
   "metadata": {
    "colab": {},
    "colab_type": "code",
    "id": "fcaO65-aQiaH"
   },
   "outputs": [],
   "source": [
    "calc_precision(verifiable_minimum_size_3_cliques)\n",
    "calc_recall(verifiable_minimum_size_3_cliques)"
   ]
  },
  {
   "cell_type": "markdown",
   "metadata": {
    "colab_type": "text",
    "id": "nhJ7A09ZQyXA"
   },
   "source": [
    "Check cliques that did not hit"
   ]
  },
  {
   "cell_type": "code",
   "execution_count": 0,
   "metadata": {
    "colab": {},
    "colab_type": "code",
    "id": "ZV7yKxvyQ1fu"
   },
   "outputs": [],
   "source": [
    "non_hitting_minimum_size_3_cliques = list(filter(lambda x: not is_hit(x),verifiable_minimum_size_3_cliques))"
   ]
  },
  {
   "cell_type": "code",
   "execution_count": 0,
   "metadata": {
    "colab": {
     "base_uri": "https://localhost:8080/",
     "height": 118
    },
    "colab_type": "code",
    "executionInfo": {
     "elapsed": 605,
     "status": "ok",
     "timestamp": 1589494667253,
     "user": {
      "displayName": "Hoyin Chu",
      "photoUrl": "",
      "userId": "08687870196591871814"
     },
     "user_tz": 240
    },
    "id": "zBDe0kgZQ6Fo",
    "outputId": "543650f3-457c-4668-ad8c-d788e3ae7a7d"
   },
   "outputs": [
    {
     "data": {
      "text/plain": [
       "[['Q86UX7', 'Q9HBI1', 'Q13418', 'P48059'],\n",
       " ['Q86UX7', 'O00161', 'Q06187'],\n",
       " ['Q86UX7', 'O00161', 'P62873'],\n",
       " ['P50148', 'P48059', 'Q13418'],\n",
       " ['P84090', 'P62304', 'P22626'],\n",
       " ['P84090', 'P62304', 'Q15717']]"
      ]
     },
     "execution_count": 107,
     "metadata": {
      "tags": []
     },
     "output_type": "execute_result"
    }
   ],
   "source": [
    "non_hitting_minimum_size_3_cliques"
   ]
  },
  {
   "cell_type": "markdown",
   "metadata": {
    "colab_type": "text",
    "id": "zcQ32fcqofBT"
   },
   "source": [
    "Do it on all verifiable cliques"
   ]
  },
  {
   "cell_type": "code",
   "execution_count": 15,
   "metadata": {
    "colab": {
     "base_uri": "https://localhost:8080/",
     "height": 84
    },
    "colab_type": "code",
    "executionInfo": {
     "elapsed": 577,
     "status": "ok",
     "timestamp": 1589951414421,
     "user": {
      "displayName": "Hoyin Chu",
      "photoUrl": "",
      "userId": "08687870196591871814"
     },
     "user_tz": 240
    },
    "id": "kPeOfj-UoclP",
    "outputId": "61ba5c36-0d61-406b-cfae-aa114e65282f"
   },
   "outputs": [
    {
     "name": "stdout",
     "output_type": "stream",
     "text": [
      "Number of Corum verifiable cliques in this network: 87\n",
      "Precision: 0.7816091954022989\n",
      "Recall (all complexes): 0.007955077211043519\n",
      "Recall (involved complexes): 0.1588785046728972\n"
     ]
    }
   ],
   "source": [
    "print(f\"Number of Corum verifiable cliques in this network: {len(verifiable_cliques)}\")\n",
    "print(f\"Precision: {calc_precision(verifiable_cliques)}\")\n",
    "print(f\"Recall (all complexes): {calc_recall(verifiable_cliques)}\")\n",
    "print(f\"Recall (involved complexes): {calc_recall(verifiable_cliques,recall_denominator='complex_candidate')}\")"
   ]
  },
  {
   "cell_type": "code",
   "execution_count": 0,
   "metadata": {
    "colab": {},
    "colab_type": "code",
    "id": "D9odso5Mc0qs"
   },
   "outputs": [],
   "source": [
    "calc_recall(verifiable_cliques)"
   ]
  },
  {
   "cell_type": "markdown",
   "metadata": {
    "colab_type": "text",
    "id": "TxYp3jxqPn8V"
   },
   "source": [
    "Investigate in non-hitting cliques"
   ]
  },
  {
   "cell_type": "code",
   "execution_count": 0,
   "metadata": {
    "colab": {},
    "colab_type": "code",
    "id": "cVAAMBzsPn4H"
   },
   "outputs": [],
   "source": [
    "non_hitting_cliques = list(filter(lambda x: not is_hit(x),verifiable_cliques))"
   ]
  },
  {
   "cell_type": "code",
   "execution_count": 0,
   "metadata": {
    "colab": {
     "base_uri": "https://localhost:8080/",
     "height": 336
    },
    "colab_type": "code",
    "collapsed": true,
    "executionInfo": {
     "elapsed": 521,
     "status": "ok",
     "timestamp": 1589494440889,
     "user": {
      "displayName": "Hoyin Chu",
      "photoUrl": "",
      "userId": "08687870196591871814"
     },
     "user_tz": 240
    },
    "id": "OCATYB1oQFvl",
    "outputId": "d3ab9cf1-e24c-4f39-a8dc-870a1f585460"
   },
   "outputs": [
    {
     "data": {
      "text/plain": [
       "[['Q86UX7', 'Q9HBI1', 'Q13418', 'P48059'],\n",
       " ['Q86UX7', 'Q9BV40'],\n",
       " ['Q86UX7', 'O00161', 'Q06187'],\n",
       " ['Q86UX7', 'O00161', 'P62873'],\n",
       " ['Q86UX7', 'P61006'],\n",
       " ['Q86UX7', 'P60953'],\n",
       " ['Q9Y2J2', 'Q00013'],\n",
       " ['P50148', 'Q7L576'],\n",
       " ['P50148', 'Q9BV40'],\n",
       " ['P50148', 'P63000'],\n",
       " ['P50148', 'P48059', 'Q13418'],\n",
       " ['P16150', 'Q00013'],\n",
       " ['P05556', 'P18564'],\n",
       " ['P84090', 'P62304', 'P22626'],\n",
       " ['P84090', 'P62304', 'Q15717'],\n",
       " ['P05107', 'Q00013'],\n",
       " ['P62304', 'Q13148'],\n",
       " ['P02671', 'P11171'],\n",
       " ['O75955', 'Q14254']]"
      ]
     },
     "execution_count": 102,
     "metadata": {
      "tags": []
     },
     "output_type": "execute_result"
    }
   ],
   "source": [
    "non_hitting_cliques"
   ]
  },
  {
   "cell_type": "markdown",
   "metadata": {},
   "source": [
    "## Proceduraly generate network report json"
   ]
  },
  {
   "cell_type": "code",
   "execution_count": 5,
   "metadata": {},
   "outputs": [],
   "source": [
    "import glob\n",
    "import os\n",
    "\n",
    "def processs_single_network_file(network_path):\n",
    "    file_name = os.path.basename(network_path)\n",
    "    params = file_name.replace(\".graphml\",\"\").split(\"_\")\n",
    "    print(f\"Currently Processing: {network_path}\")\n",
    "    dict_to_write = {}\n",
    "    dict_to_write['corresponding_file_name'] = file_name\n",
    "    dict_to_write['r_threshold'] = params[1]\n",
    "    dict_to_write['obs_threshold'] = params[3]\n",
    "    \n",
    "    r_threshold = params[1]\n",
    "    obs_threshold = params[3]\n",
    "    write_path = f\"{directory_path}/graph_outputs/graphml_graph_report_json/r_{r_threshold}_obs_{obs_threshold}.json\"\n",
    "    ppa_graph = nx.read_graphml(network_path)\n",
    "    isolated = list(nx.isolates(ppa_graph))\n",
    "    ppa_graph.remove_nodes_from(isolated)\n",
    "    print(\"Generating Cliques...\")\n",
    "    all_cliques = list(nx.find_cliques(ppa_graph))\n",
    "    print(\"Generating Report JSON...\")\n",
    "    all_cliques_uniprot = list(map(lambda x: convert_majority_id_to_simplfied(ppa_graph,x),all_cliques))\n",
    "    verifiable_cliques = list(filter(is_corum_verifiable,all_cliques_uniprot))\n",
    "    valid_cliques = clean_clique(verifiable_cliques)\n",
    "    cliques_info_partitioned_by_size_dict = full_report_calculation_by_size(valid_cliques)\n",
    "    dict_to_write['cliques_info_by_size'] = cliques_info_partitioned_by_size_dict\n",
    "    write_json_to(dict_to_write,write_path)\n",
    "    print(\"JSON report generation finished\")\n",
    "\n",
    "# Writes an report json for each network in the given directory\n",
    "def process_network_files(path_to_network_directory,max_file_size=3000*1000,min_r=75,min_obs=100):\n",
    "  skipped_files = []\n",
    "  already_done = set()\n",
    "  path_to_json_directory = f\"{directory_path}/graph_outputs/graphml_graph_report_json/*.json\"\n",
    "  for jname in glob.glob(path_to_json_directory):\n",
    "    already_done.add(os.path.basename(jname).replace(\".json\",\".graphml\"))\n",
    "  for fname in glob.glob(path_to_network_directory):\n",
    "    file_size = os.stat(fname).st_size\n",
    "    file_name = os.path.basename(fname)\n",
    "    params = file_name.replace(\".graphml\",\"\").split(\"_\")\n",
    "    r_threshold = int(params[1])\n",
    "    obs_threshold = int(params[3])\n",
    "    if (file_size <= max_file_size and r_threshold >= min_r and obs_threshold >= min_obs and file_name not in already_done):\n",
    "#         print(file_name)\n",
    "#         print(file_size)\n",
    "#         print(r_threshold)\n",
    "#         print(obs_threshold)\n",
    "        processs_single_network_file(fname)\n",
    "    else:\n",
    "        skipped_files.append(file_name)\n",
    "  print(\"All file processed\")\n",
    "  print(f\"Skipped Files: {str(skipped_files)}\")\n",
    "  "
   ]
  },
  {
   "cell_type": "code",
   "execution_count": 76,
   "metadata": {},
   "outputs": [
    {
     "name": "stdout",
     "output_type": "stream",
     "text": [
      "Currently Processing: D:/Desktop/Northeastern_University/Research/Proteomics/ProteinProteinAssociation/Development/graph_outputs/graphml_graph/r_95_obs_150.graphml\n",
      "Generating Cliques...\n",
      "Generating Report JSON...\n",
      "JSON report generation finished\n"
     ]
    }
   ],
   "source": [
    "processs_single_network_file(f\"{directory_path}/graph_outputs/graphml_graph/r_95_obs_150.graphml\")"
   ]
  },
  {
   "cell_type": "code",
   "execution_count": 224,
   "metadata": {},
   "outputs": [
    {
     "name": "stdout",
     "output_type": "stream",
     "text": [
      "Currently Processing: D:/Desktop/Northeastern_University/Research/Proteomics/ProteinProteinAssociation/Development/graph_outputs/graphml_graph\\r_60_obs_120.graphml\n",
      "Generating Cliques...\n",
      "Generating Report JSON...\n",
      "JSON report generation finished\n",
      "Currently Processing: D:/Desktop/Northeastern_University/Research/Proteomics/ProteinProteinAssociation/Development/graph_outputs/graphml_graph\\r_60_obs_130.graphml\n",
      "Generating Cliques...\n",
      "Generating Report JSON...\n",
      "JSON report generation finished\n",
      "Currently Processing: D:/Desktop/Northeastern_University/Research/Proteomics/ProteinProteinAssociation/Development/graph_outputs/graphml_graph\\r_60_obs_140.graphml\n",
      "Generating Cliques...\n",
      "Generating Report JSON...\n",
      "JSON report generation finished\n",
      "Currently Processing: D:/Desktop/Northeastern_University/Research/Proteomics/ProteinProteinAssociation/Development/graph_outputs/graphml_graph\\r_60_obs_150.graphml\n",
      "Generating Cliques...\n",
      "Generating Report JSON...\n",
      "JSON report generation finished\n",
      "Currently Processing: D:/Desktop/Northeastern_University/Research/Proteomics/ProteinProteinAssociation/Development/graph_outputs/graphml_graph\\r_65_obs_100.graphml\n",
      "Generating Cliques...\n",
      "Generating Report JSON...\n",
      "JSON report generation finished\n",
      "Currently Processing: D:/Desktop/Northeastern_University/Research/Proteomics/ProteinProteinAssociation/Development/graph_outputs/graphml_graph\\r_65_obs_90.graphml\n",
      "Generating Cliques...\n",
      "Generating Report JSON...\n",
      "JSON report generation finished\n",
      "Currently Processing: D:/Desktop/Northeastern_University/Research/Proteomics/ProteinProteinAssociation/Development/graph_outputs/graphml_graph\\r_70_obs_50.graphml\n",
      "Generating Cliques...\n",
      "Generating Report JSON...\n",
      "JSON report generation finished\n",
      "Currently Processing: D:/Desktop/Northeastern_University/Research/Proteomics/ProteinProteinAssociation/Development/graph_outputs/graphml_graph\\r_70_obs_60.graphml\n",
      "Generating Cliques...\n",
      "Generating Report JSON...\n",
      "JSON report generation finished\n",
      "Currently Processing: D:/Desktop/Northeastern_University/Research/Proteomics/ProteinProteinAssociation/Development/graph_outputs/graphml_graph\\r_70_obs_70.graphml\n",
      "Generating Cliques...\n",
      "Generating Report JSON...\n",
      "JSON report generation finished\n",
      "All file processed\n",
      "Skipped Files: ['r_50_obs_100.graphml', 'r_50_obs_110.graphml', 'r_50_obs_120.graphml', 'r_50_obs_130.graphml', 'r_50_obs_140.graphml', 'r_50_obs_150.graphml', 'r_50_obs_50.graphml', 'r_50_obs_60.graphml', 'r_50_obs_70.graphml', 'r_50_obs_80.graphml', 'r_50_obs_90.graphml', 'r_55_obs_100.graphml', 'r_55_obs_110.graphml', 'r_55_obs_120.graphml', 'r_55_obs_130.graphml', 'r_55_obs_140.graphml', 'r_55_obs_150.graphml', 'r_55_obs_50.graphml', 'r_55_obs_60.graphml', 'r_55_obs_70.graphml', 'r_55_obs_80.graphml', 'r_55_obs_90.graphml', 'r_60_obs_100.graphml', 'r_60_obs_110.graphml', 'r_60_obs_50.graphml', 'r_60_obs_60.graphml', 'r_60_obs_70.graphml', 'r_60_obs_80.graphml', 'r_60_obs_90.graphml', 'r_65_obs_110.graphml', 'r_65_obs_120.graphml', 'r_65_obs_130.graphml', 'r_65_obs_140.graphml', 'r_65_obs_150.graphml', 'r_65_obs_50.graphml', 'r_65_obs_60.graphml', 'r_65_obs_70.graphml', 'r_65_obs_80.graphml', 'r_70_obs_100.graphml', 'r_70_obs_110.graphml', 'r_70_obs_120.graphml', 'r_70_obs_130.graphml', 'r_70_obs_140.graphml', 'r_70_obs_150.graphml', 'r_70_obs_80.graphml', 'r_70_obs_90.graphml', 'r_75_obs_100.graphml', 'r_75_obs_110.graphml', 'r_75_obs_120.graphml', 'r_75_obs_130.graphml', 'r_75_obs_140.graphml', 'r_75_obs_150.graphml', 'r_75_obs_50.graphml', 'r_75_obs_60.graphml', 'r_75_obs_70.graphml', 'r_75_obs_80.graphml', 'r_75_obs_90.graphml', 'r_80_obs_100.graphml', 'r_80_obs_110.graphml', 'r_80_obs_120.graphml', 'r_80_obs_130.graphml', 'r_80_obs_140.graphml', 'r_80_obs_150.graphml', 'r_80_obs_50.graphml', 'r_80_obs_60.graphml', 'r_80_obs_70.graphml', 'r_80_obs_80.graphml', 'r_80_obs_90.graphml', 'r_85_obs_100.graphml', 'r_85_obs_110.graphml', 'r_85_obs_120.graphml', 'r_85_obs_130.graphml', 'r_85_obs_140.graphml', 'r_85_obs_150.graphml', 'r_85_obs_50.graphml', 'r_85_obs_60.graphml', 'r_85_obs_70.graphml', 'r_85_obs_80.graphml', 'r_85_obs_90.graphml', 'r_90_obs_100.graphml', 'r_90_obs_110.graphml', 'r_90_obs_120.graphml', 'r_90_obs_130.graphml', 'r_90_obs_140.graphml', 'r_90_obs_150.graphml', 'r_90_obs_50.graphml', 'r_90_obs_60.graphml', 'r_90_obs_70.graphml', 'r_90_obs_80.graphml', 'r_90_obs_90.graphml', 'r_95_obs_100.graphml', 'r_95_obs_110.graphml', 'r_95_obs_120.graphml', 'r_95_obs_130.graphml', 'r_95_obs_140.graphml', 'r_95_obs_150.graphml', 'r_95_obs_50.graphml', 'r_95_obs_60.graphml', 'r_95_obs_70.graphml', 'r_95_obs_80.graphml', 'r_95_obs_90.graphml']\n"
     ]
    }
   ],
   "source": [
    "graphml_graph_direcotry_path = f\"{directory_path}/graph_outputs/graphml_graph/*.graphml\"\n",
    "process_network_files(graphml_graph_direcotry_path,15000*1000,0,0)"
   ]
  },
  {
   "cell_type": "markdown",
   "metadata": {},
   "source": [
    "## Analyze Precision of clique of size n with different r and obs threshold"
   ]
  },
  {
   "cell_type": "code",
   "execution_count": 127,
   "metadata": {},
   "outputs": [],
   "source": [
    "graphml_graph_report_json_direcotry_path = f\"{directory_path}/graph_outputs/graphml_graph_report_json/*.json\"\n",
    "size = 2\n",
    "r_thresh_list = []\n",
    "obs_thresh_list = []\n",
    "precision_list = []\n",
    "recall_size_adjusted_list = []\n",
    "for fname in glob.glob(graphml_graph_report_json_direcotry_path):\n",
    "    cur_report_json = read_json_from(fname)\n",
    "    r_thresh_list.append(cur_report_json[\"r_threshold\"])\n",
    "    obs_thresh_list.append(cur_report_json[\"obs_threshold\"])\n",
    "#     print(cur_report_json[\"cliques_info_by_size\"].keys())\n",
    "#     break\n",
    "    try:\n",
    "        clique_info_size_dict = cur_report_json[\"cliques_info_by_size\"][str(size)]\n",
    "        precision_list.append(clique_info_size_dict[\"precision\"])\n",
    "        recall_size_adjusted_list.append(clique_info_size_dict[\"recall\"][\"all_verifiable_corum_complexes\"])\n",
    "    except KeyError:\n",
    "        precision_list.append(float('NaN'))\n",
    "        recall_size_adjusted_list.append(float('NaN'))"
   ]
  },
  {
   "cell_type": "code",
   "execution_count": 128,
   "metadata": {},
   "outputs": [],
   "source": [
    "r_axis = np.array(list(range(60,96,5)))\n",
    "obs_axis = np.array(list(range(50,151,10)))\n",
    "precision_heatmap_mat = np.zeros(shape=(len(obs_axis),len(r_axis)))\n",
    "precision_heatmap_mat[np.where(precision_heatmap_mat == 0)] = float('NaN')\n",
    "recall_heatmap_mat = np.zeros(shape=(len(obs_axis),len(r_axis)))\n",
    "recall_heatmap_mat[np.where(recall_heatmap_mat == 0)] = float('NaN')\n",
    "for idx in range(len(precision_list)):\n",
    "    corr_r = int(r_thresh_list[idx])\n",
    "    corr_obs = int(obs_thresh_list[idx])\n",
    "    mat_col = np.where(r_axis == corr_r)[0][0]\n",
    "    mat_row = np.where(obs_axis == corr_obs)[0][0]\n",
    "    precision_heatmap_mat[mat_row,mat_col] = precision_list[idx]\n",
    "    recall_heatmap_mat[mat_row,mat_col] = recall_size_adjusted_list[idx]\n",
    "precision_heatmap_df = pd.DataFrame(precision_heatmap_mat,index=obs_axis,columns=r_axis/100)\n",
    "recall_heatmap_df = pd.DataFrame(recall_heatmap_mat,index=obs_axis,columns=r_axis/100)"
   ]
  },
  {
   "cell_type": "code",
   "execution_count": 129,
   "metadata": {},
   "outputs": [
    {
     "data": {
      "text/plain": [
       "(0, 11)"
      ]
     },
     "execution_count": 129,
     "metadata": {},
     "output_type": "execute_result"
    },
    {
     "data": {
      "image/png": "[encoded data removed]",
      "text/plain": [
       "<Figure size 432x288 with 2 Axes>"
      ]
     },
     "metadata": {},
     "output_type": "display_data"
    }
   ],
   "source": [
    "import seaborn as sns\n",
    "import matplotlib.pyplot as plt\n",
    "sns.set()\n",
    "ax1 = sns.heatmap(precision_heatmap_df*100,annot=True,linewidths=0.1)\n",
    "ax1.set_ylim([0,11])"
   ]
  },
  {
   "cell_type": "code",
   "execution_count": 130,
   "metadata": {},
   "outputs": [
    {
     "data": {
      "text/plain": [
       "(0, 11)"
      ]
     },
     "execution_count": 130,
     "metadata": {},
     "output_type": "execute_result"
    },
    {
     "data": {
      "image/png": "[encoded data removed]",
      "text/plain": [
       "<Figure size 432x288 with 2 Axes>"
      ]
     },
     "metadata": {},
     "output_type": "display_data"
    }
   ],
   "source": [
    "ax2 = sns.heatmap(recall_heatmap_df*100,annot=True,linewidths=0.1)\n",
    "ax2.set_ylim([0,11])"
   ]
  },
  {
   "cell_type": "markdown",
   "metadata": {},
   "source": [
    "## Fix r and obs, analyze impact of clique size on precision"
   ]
  },
  {
   "cell_type": "code",
   "execution_count": 146,
   "metadata": {},
   "outputs": [],
   "source": [
    "import seaborn as sns\n",
    "import matplotlib.pyplot as plt\n",
    "\n",
    "def get_clique_info_by_size(r_threshold,co_occurrence_threshold,get_info=\"precision\"):\n",
    "    file_name = f\"{directory_path}/graph_outputs/graphml_graph_report_json/r_{r_threshold}_obs_{co_occurrence_threshold}.json\"\n",
    "    report_json = read_json_from(file_name)\n",
    "    cliques_info_by_size = report_json[\"cliques_info_by_size\"]\n",
    "    tuple_list = []\n",
    "    for size in cliques_info_by_size:\n",
    "        info = cliques_info_by_size[size][\"precision\"]\n",
    "        if get_info == \"recall_size_adjusted\":\n",
    "            info = cliques_info_by_size[size][\"recall\"][\"all_verifiable_corum_complexes_size_adjusted\"]\n",
    "        elif get_info == \"recall_verifiable\":\n",
    "            info = cliques_info_by_size[size][\"recall\"][\"all_verifiable_corum_complexes\"]\n",
    "        tuple_list.append((int(size),info,cliques_info_by_size[size][\"total_cliques\"]))\n",
    "    tuple_list = sorted(tuple_list, key=lambda x: x[0])\n",
    "    return tuple_list"
   ]
  },
  {
   "cell_type": "code",
   "execution_count": 149,
   "metadata": {},
   "outputs": [
    {
     "name": "stdout",
     "output_type": "stream",
     "text": [
      "    Clique Sizes  Precision  Total Cliques\n",
      "0              2   0.201835            327\n",
      "1              3   0.213333             75\n",
      "2              4   0.078947             38\n",
      "3              5   0.108108             37\n",
      "4              6   0.093750             32\n",
      "5              7   0.000000             22\n",
      "6              8   0.074074             27\n",
      "7              9   0.000000             19\n",
      "8             10   0.000000             25\n",
      "9             11   0.041667             24\n",
      "10            12   0.100000             10\n",
      "11            13   0.222222              9\n",
      "12            14   0.600000              5\n",
      "13            15   0.444444              9\n",
      "14            16   0.800000              5\n",
      "15            17   0.444444             18\n",
      "16            18   0.250000             28\n",
      "17            19   0.235294             17\n",
      "18            20   0.107143             28\n",
      "19            21   0.000000             67\n",
      "20            22   0.130435             46\n",
      "21            23   0.000000             45\n",
      "22            24   0.219512             82\n",
      "23            25   0.166667             48\n",
      "24            26   0.031746             63\n",
      "25            27   0.193548             31\n",
      "26            28   0.000000             46\n",
      "27            29   0.000000             23\n",
      "28            30   0.000000             10\n",
      "29            31   0.000000             13\n",
      "30            32   0.000000              6\n"
     ]
    },
    {
     "data": {
      "image/png": "[encoded data removed]",
      "text/plain": [
       "<Figure size 432x288 with 1 Axes>"
      ]
     },
     "metadata": {},
     "output_type": "display_data"
    }
   ],
   "source": [
    "r_to_test = 80\n",
    "obs_to_test = 50\n",
    "precision_tuple_list = get_clique_info_by_size(r_to_test,obs_to_test)\n",
    "precision_visualize_df = pd.DataFrame(precision_tuple_list,columns=[\"Clique Sizes\",\"Precision\",\"Total Cliques\"])\n",
    "ax = sns.barplot(x=\"Clique Sizes\",y=\"Precision\",data=precision_visualize_df)\n",
    "plt.ylim(0,1)\n",
    "plt.title(f\"Precision: r >= {r_to_test/100},co-occurrence >= {obs_to_test}\")\n",
    "print(precision_visualize_df)"
   ]
  },
  {
   "cell_type": "code",
   "execution_count": 152,
   "metadata": {},
   "outputs": [
    {
     "name": "stdout",
     "output_type": "stream",
     "text": [
      "    Clique Sizes  Recall(Verifiable Only)  Total Cliques\n",
      "0              2                 0.020483            327\n",
      "1              3                 0.006357             75\n",
      "2              4                 0.002481             38\n",
      "3              5                 0.001802             37\n",
      "4              6                 0.004717             32\n",
      "5              7                 0.000000             22\n",
      "6              8                 0.003497             27\n",
      "7              9                 0.000000             19\n",
      "8             10                 0.000000             25\n",
      "9             11                 0.013793             24\n",
      "10            12                 0.008197             10\n",
      "11            13                 0.019802              9\n",
      "12            14                 0.024096              5\n",
      "13            15                 0.028986              9\n",
      "14            16                 0.037736              5\n",
      "15            17                 0.050000             18\n",
      "16            18                 0.060606             28\n",
      "17            19                 0.066667             17\n",
      "18            20                 0.068966             28\n",
      "19            21                 0.000000             67\n",
      "20            22                 0.040000             46\n",
      "21            23                 0.000000             45\n",
      "22            24                 0.045455             82\n",
      "23            25                 0.045455             48\n",
      "24            26                 0.052632             63\n",
      "25            27                 0.052632             31\n",
      "26            28                 0.000000             46\n",
      "27            29                 0.000000             23\n",
      "28            30                 0.000000             10\n",
      "29            31                 0.000000             13\n",
      "30            32                 0.000000              6\n"
     ]
    },
    {
     "data": {
      "image/png": "[encoded data removed]",
      "text/plain": [
       "<Figure size 432x288 with 1 Axes>"
      ]
     },
     "metadata": {},
     "output_type": "display_data"
    }
   ],
   "source": [
    "recall_tuple_list = get_clique_info_by_size(r_to_test,obs_to_test,\"recall_size_adjusted\")\n",
    "recall_visualize_df = pd.DataFrame(recall_tuple_list,columns=[\"Clique Sizes\",\"Recall(Verifiable Only)\",\"Total Cliques\"])\n",
    "ax2 = sns.barplot(x=\"Clique Sizes\",y=\"Recall(Verifiable Only)\",data=recall_visualize_df)\n",
    "plt.title(f\"Recall: r >= {r_to_test/100},co-occurrence >= {obs_to_test}\")\n",
    "plt.ylim(0,1)\n",
    "print(recall_visualize_df)"
   ]
  },
  {
   "cell_type": "code",
   "execution_count": null,
   "metadata": {},
   "outputs": [],
   "source": []
  },
  {
   "cell_type": "code",
   "execution_count": null,
   "metadata": {},
   "outputs": [],
   "source": []
  },
  {
   "cell_type": "code",
   "execution_count": null,
   "metadata": {},
   "outputs": [],
   "source": []
  }
 ],
 "metadata": {
  "colab": {
   "authorship_tag": "ABX9TyM3e5ZJqKXkR0xdcSKJ1+s6",
   "mount_file_id": "159K1-EdXnrYgZrXw-m_h5UIP-ap2jXh_",
   "name": "NetworkAnalysisipynb",
   "provenance": [],
   "toc_visible": true
  },
  "kernelspec": {
   "display_name": "Python 3",
   "language": "python",
   "name": "python3"
  },
  "language_info": {
   "codemirror_mode": {
    "name": "ipython",
    "version": 3
   },
   "file_extension": ".py",
   "mimetype": "text/x-python",
   "name": "python",
   "nbconvert_exporter": "python",
   "pygments_lexer": "ipython3",
   "version": "3.7.4"
  }
 },
 "nbformat": 4,
 "nbformat_minor": 1
}
