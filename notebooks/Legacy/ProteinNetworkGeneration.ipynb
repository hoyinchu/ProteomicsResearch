{
 "cells": [
  {
   "cell_type": "markdown",
   "metadata": {
    "colab_type": "text",
    "id": "mtqso-J4rujb"
   },
   "source": [
    "# Setting up\n",
    "Importing, loading data from proteomeHD csv"
   ]
  },
  {
   "cell_type": "markdown",
   "metadata": {
    "colab_type": "text",
    "id": "ROtP_zSEwTJs"
   },
   "source": [
    "Importing libraries"
   ]
  },
  {
   "cell_type": "code",
   "execution_count": 1,
   "metadata": {
    "colab": {},
    "colab_type": "code",
    "id": "_WvmXWcjtX1-"
   },
   "outputs": [],
   "source": [
    "import networkx as nx\n",
    "from networkx.algorithms.community import k_clique_communities\n",
    "from networkx.algorithms.clique import find_cliques\n",
    "import pandas as pd\n",
    "import numpy as np\n",
    "import time\n",
    "import math\n",
    "import multiprocessing as mp\n",
    "from numba import jit\n",
    "from csv import writer\n",
    "import glob\n",
    "import matplotlib.pyplot as plt"
   ]
  },
  {
   "cell_type": "markdown",
   "metadata": {
    "colab_type": "text",
    "id": "_MMCl9dmW1_e"
   },
   "source": [
    "Declaring global variables of\n",
    "1. proteomeHD_csv_path: Path to the csv file containing data used in the proteomeHD paper"
   ]
  },
  {
   "cell_type": "code",
   "execution_count": 2,
   "metadata": {
    "colab": {},
    "colab_type": "code",
    "id": "gPIX8iefcbnP"
   },
   "outputs": [],
   "source": [
    "directory_path = \"D:\\\\Desktop\\\\Northeastern_University\\\\Research\\\\Proteomics\\\\ProteinProteinAssociation\\\\Development\\\\\"\n",
    "proteomeHD_csv_path = f\"{directory_path}data_sources\\\\ProteomeHD\\\\ProteomeHD_v1_1.csv\""
   ]
  },
  {
   "cell_type": "markdown",
   "metadata": {
    "colab_type": "text",
    "id": "ToVBjmgXwZCu"
   },
   "source": [
    "Taking a look at the data\n",
    "1. There are 10323 rows and 298 columns in total\n",
    "2. The first four columns are properties of proteins\n",
    "3. Each of the last 294 columns represents an experiment\n",
    "4. The numbers represent the quantities of protein after each experiment"
   ]
  },
  {
   "cell_type": "code",
   "execution_count": 3,
   "metadata": {
    "colab": {
     "base_uri": "https://localhost:8080/",
     "height": 395
    },
    "colab_type": "code",
    "executionInfo": {
     "elapsed": 4119,
     "status": "ok",
     "timestamp": 1589473019570,
     "user": {
      "displayName": "Hoyin Chu",
      "photoUrl": "",
      "userId": "08687870196591871814"
     },
     "user_tz": 240
    },
    "id": "4dY9C4squNhG",
    "outputId": "9fc4ea30-7c80-48cb-b5d7-03ee16e7efe4"
   },
   "outputs": [
    {
     "data": {
      "text/html": [
       "<div>\n",
       "<style scoped>\n",
       "    .dataframe tbody tr th:only-of-type {\n",
       "        vertical-align: middle;\n",
       "    }\n",
       "\n",
       "    .dataframe tbody tr th {\n",
       "        vertical-align: top;\n",
       "    }\n",
       "\n",
       "    .dataframe thead th {\n",
       "        text-align: right;\n",
       "    }\n",
       "</style>\n",
       "<table border=\"1\" class=\"dataframe\">\n",
       "  <thead>\n",
       "    <tr style=\"text-align: right;\">\n",
       "      <th></th>\n",
       "      <th>Majority_protein_IDs</th>\n",
       "      <th>Simplified_protein_ID</th>\n",
       "      <th>Protein_names</th>\n",
       "      <th>Gene_names</th>\n",
       "      <th>RatioHL_GK1_Chromatin_AL</th>\n",
       "      <th>RatioHL_GK1_Chromatin_CPT</th>\n",
       "      <th>RatioHL_GK1_Chromatin_CR</th>\n",
       "      <th>RatioHL_GK1_Chromatin_HepHek</th>\n",
       "      <th>RatioHL_GK1_Chromatin_hiIR</th>\n",
       "      <th>RatioHL_GK1_Chromatin_loIR</th>\n",
       "      <th>...</th>\n",
       "      <th>RatioHL_PX441_E1</th>\n",
       "      <th>RatioHL_PX441_E2</th>\n",
       "      <th>RatioHL_PX441_E3</th>\n",
       "      <th>RatioHL_PX441_E4</th>\n",
       "      <th>RatioHL_PX441_E5</th>\n",
       "      <th>RatioHL_PX441_F1</th>\n",
       "      <th>RatioHL_PX441_F2</th>\n",
       "      <th>RatioHL_PX441_F3</th>\n",
       "      <th>RatioHL_PX441_F4</th>\n",
       "      <th>RatioHL_PX441_F5</th>\n",
       "    </tr>\n",
       "  </thead>\n",
       "  <tbody>\n",
       "    <tr>\n",
       "      <th>0</th>\n",
       "      <td>A0AV96-2;A0AV96</td>\n",
       "      <td>A0AV96</td>\n",
       "      <td>RNA-binding protein 47</td>\n",
       "      <td>RBM47</td>\n",
       "      <td>-0.274172</td>\n",
       "      <td>NaN</td>\n",
       "      <td>-0.52595</td>\n",
       "      <td>NaN</td>\n",
       "      <td>NaN</td>\n",
       "      <td>NaN</td>\n",
       "      <td>...</td>\n",
       "      <td>NaN</td>\n",
       "      <td>NaN</td>\n",
       "      <td>NaN</td>\n",
       "      <td>NaN</td>\n",
       "      <td>NaN</td>\n",
       "      <td>NaN</td>\n",
       "      <td>NaN</td>\n",
       "      <td>NaN</td>\n",
       "      <td>NaN</td>\n",
       "      <td>NaN</td>\n",
       "    </tr>\n",
       "    <tr>\n",
       "      <th>1</th>\n",
       "      <td>A0AVF1-2;A0AVF1-3;A0AVF1</td>\n",
       "      <td>A0AVF1</td>\n",
       "      <td>Tetratricopeptide repeat protein 26</td>\n",
       "      <td>TTC26</td>\n",
       "      <td>NaN</td>\n",
       "      <td>NaN</td>\n",
       "      <td>NaN</td>\n",
       "      <td>NaN</td>\n",
       "      <td>NaN</td>\n",
       "      <td>0.273198</td>\n",
       "      <td>...</td>\n",
       "      <td>NaN</td>\n",
       "      <td>NaN</td>\n",
       "      <td>NaN</td>\n",
       "      <td>NaN</td>\n",
       "      <td>NaN</td>\n",
       "      <td>-3.108931</td>\n",
       "      <td>NaN</td>\n",
       "      <td>NaN</td>\n",
       "      <td>NaN</td>\n",
       "      <td>NaN</td>\n",
       "    </tr>\n",
       "    <tr>\n",
       "      <th>2</th>\n",
       "      <td>A0AVI4-2;A0AVI4</td>\n",
       "      <td>A0AVI4</td>\n",
       "      <td>E3 ubiquitin-protein ligase TM129</td>\n",
       "      <td>TMEM129</td>\n",
       "      <td>NaN</td>\n",
       "      <td>NaN</td>\n",
       "      <td>NaN</td>\n",
       "      <td>NaN</td>\n",
       "      <td>NaN</td>\n",
       "      <td>NaN</td>\n",
       "      <td>...</td>\n",
       "      <td>NaN</td>\n",
       "      <td>NaN</td>\n",
       "      <td>NaN</td>\n",
       "      <td>NaN</td>\n",
       "      <td>NaN</td>\n",
       "      <td>NaN</td>\n",
       "      <td>NaN</td>\n",
       "      <td>NaN</td>\n",
       "      <td>NaN</td>\n",
       "      <td>NaN</td>\n",
       "    </tr>\n",
       "    <tr>\n",
       "      <th>3</th>\n",
       "      <td>A0AVT1;A0AVT1-2</td>\n",
       "      <td>A0AVT1</td>\n",
       "      <td>Ubiquitin-like modifier-activating enzyme 6</td>\n",
       "      <td>UBA6</td>\n",
       "      <td>-0.493533</td>\n",
       "      <td>0.66084</td>\n",
       "      <td>-0.22916</td>\n",
       "      <td>1.525756</td>\n",
       "      <td>0.322934</td>\n",
       "      <td>0.452473</td>\n",
       "      <td>...</td>\n",
       "      <td>0.373395</td>\n",
       "      <td>0.335653</td>\n",
       "      <td>0.912479</td>\n",
       "      <td>-0.346645</td>\n",
       "      <td>NaN</td>\n",
       "      <td>0.368652</td>\n",
       "      <td>-0.105655</td>\n",
       "      <td>-0.233525</td>\n",
       "      <td>-0.447211</td>\n",
       "      <td>0.283507</td>\n",
       "    </tr>\n",
       "    <tr>\n",
       "      <th>4</th>\n",
       "      <td>A0FGR8-2;A0FGR8;A0FGR8-4</td>\n",
       "      <td>A0FGR8</td>\n",
       "      <td>Extended synaptotagmin-2</td>\n",
       "      <td>ESYT2</td>\n",
       "      <td>-0.997325</td>\n",
       "      <td>NaN</td>\n",
       "      <td>NaN</td>\n",
       "      <td>1.019208</td>\n",
       "      <td>NaN</td>\n",
       "      <td>NaN</td>\n",
       "      <td>...</td>\n",
       "      <td>-0.129918</td>\n",
       "      <td>-0.203415</td>\n",
       "      <td>-0.433365</td>\n",
       "      <td>-0.238946</td>\n",
       "      <td>-0.850058</td>\n",
       "      <td>-0.378592</td>\n",
       "      <td>-0.057059</td>\n",
       "      <td>0.123395</td>\n",
       "      <td>-0.336181</td>\n",
       "      <td>0.478821</td>\n",
       "    </tr>\n",
       "  </tbody>\n",
       "</table>\n",
       "<p>5 rows × 298 columns</p>\n",
       "</div>"
      ],
      "text/plain": [
       "       Majority_protein_IDs Simplified_protein_ID  \\\n",
       "0           A0AV96-2;A0AV96                A0AV96   \n",
       "1  A0AVF1-2;A0AVF1-3;A0AVF1                A0AVF1   \n",
       "2           A0AVI4-2;A0AVI4                A0AVI4   \n",
       "3           A0AVT1;A0AVT1-2                A0AVT1   \n",
       "4  A0FGR8-2;A0FGR8;A0FGR8-4                A0FGR8   \n",
       "\n",
       "                                 Protein_names Gene_names  \\\n",
       "0                       RNA-binding protein 47      RBM47   \n",
       "1          Tetratricopeptide repeat protein 26      TTC26   \n",
       "2            E3 ubiquitin-protein ligase TM129    TMEM129   \n",
       "3  Ubiquitin-like modifier-activating enzyme 6       UBA6   \n",
       "4                     Extended synaptotagmin-2      ESYT2   \n",
       "\n",
       "   RatioHL_GK1_Chromatin_AL  RatioHL_GK1_Chromatin_CPT  \\\n",
       "0                 -0.274172                        NaN   \n",
       "1                       NaN                        NaN   \n",
       "2                       NaN                        NaN   \n",
       "3                 -0.493533                    0.66084   \n",
       "4                 -0.997325                        NaN   \n",
       "\n",
       "   RatioHL_GK1_Chromatin_CR  RatioHL_GK1_Chromatin_HepHek  \\\n",
       "0                  -0.52595                           NaN   \n",
       "1                       NaN                           NaN   \n",
       "2                       NaN                           NaN   \n",
       "3                  -0.22916                      1.525756   \n",
       "4                       NaN                      1.019208   \n",
       "\n",
       "   RatioHL_GK1_Chromatin_hiIR  RatioHL_GK1_Chromatin_loIR  ...  \\\n",
       "0                         NaN                         NaN  ...   \n",
       "1                         NaN                    0.273198  ...   \n",
       "2                         NaN                         NaN  ...   \n",
       "3                    0.322934                    0.452473  ...   \n",
       "4                         NaN                         NaN  ...   \n",
       "\n",
       "   RatioHL_PX441_E1  RatioHL_PX441_E2  RatioHL_PX441_E3  RatioHL_PX441_E4  \\\n",
       "0               NaN               NaN               NaN               NaN   \n",
       "1               NaN               NaN               NaN               NaN   \n",
       "2               NaN               NaN               NaN               NaN   \n",
       "3          0.373395          0.335653          0.912479         -0.346645   \n",
       "4         -0.129918         -0.203415         -0.433365         -0.238946   \n",
       "\n",
       "   RatioHL_PX441_E5  RatioHL_PX441_F1  RatioHL_PX441_F2  RatioHL_PX441_F3  \\\n",
       "0               NaN               NaN               NaN               NaN   \n",
       "1               NaN         -3.108931               NaN               NaN   \n",
       "2               NaN               NaN               NaN               NaN   \n",
       "3               NaN          0.368652         -0.105655         -0.233525   \n",
       "4         -0.850058         -0.378592         -0.057059          0.123395   \n",
       "\n",
       "   RatioHL_PX441_F4  RatioHL_PX441_F5  \n",
       "0               NaN               NaN  \n",
       "1               NaN               NaN  \n",
       "2               NaN               NaN  \n",
       "3         -0.447211          0.283507  \n",
       "4         -0.336181          0.478821  \n",
       "\n",
       "[5 rows x 298 columns]"
      ]
     },
     "execution_count": 3,
     "metadata": {},
     "output_type": "execute_result"
    }
   ],
   "source": [
    "proteomHD_dataframe = pd.read_csv(proteomeHD_csv_path) \n",
    "total_rows = len(proteomHD_dataframe.index)\n",
    "proteomHD_dataframe.head()"
   ]
  },
  {
   "cell_type": "code",
   "execution_count": 4,
   "metadata": {
    "colab": {},
    "colab_type": "code",
    "id": "RJkyicGtRyB5"
   },
   "outputs": [],
   "source": [
    "proteomeHD_simplified_protein_column = proteomHD_dataframe['Simplified_protein_ID'].to_numpy()\n",
    "proteomeHD_majority_protein_column = proteomHD_dataframe['Majority_protein_IDs'].to_numpy()"
   ]
  },
  {
   "cell_type": "markdown",
   "metadata": {
    "colab_type": "text",
    "id": "o-nNC1fgsFHs"
   },
   "source": [
    "# Defining functions\n",
    "Defining functions that will help calculate interaction between proteins"
   ]
  },
  {
   "cell_type": "markdown",
   "metadata": {
    "colab_type": "text",
    "id": "Qsy_TcaCOiN1"
   },
   "source": [
    "Defining helper functions for data retrieval\n",
    "1. get_feature_vector: Returns a 1 x 294 numpy vector representing experimental data where NaN are replaced by 0\n",
    "2. get_protein_attributes: Returns information about the protein located at the given row\n",
    "\n",
    "\n"
   ]
  },
  {
   "cell_type": "code",
   "execution_count": 5,
   "metadata": {
    "colab": {},
    "colab_type": "code",
    "id": "VWTzO9hAu12P"
   },
   "outputs": [],
   "source": [
    "def get_feature_vector(row_number):\n",
    "  return proteomHD_dataframe.iloc[int(row_number),4:-1].fillna(0).to_numpy()\n",
    "\n",
    "def get_protein_attributes(row_number):\n",
    "  return proteomHD_dataframe.iloc[int(row_number),0:4]"
   ]
  },
  {
   "cell_type": "markdown",
   "metadata": {
    "colab_type": "text",
    "id": "COhpHfdjOzaG"
   },
   "source": [
    "Defining functions that helps with r2 calculations:\n",
    "1. find_common_observations: Given two protein feature vectors, returns the perturbation data points of two proteins where they both have data (non-zero)\n",
    "2. find_associations: Given row number of a protein, a r2 cutoff, an observation threshold, return a list that contains the tuple (protein1, protein2, r2). Where protein1 is the row number of the initial given protein, protein2 is the row number of a protein that satisfy the following requirements: have non-zero data points with protein1 in perturbations more than the specified observation threshold, and the r2 value of these data points are more than the specified r2 cutoff. The r2 is the r2 value between these two proteins."
   ]
  },
  {
   "cell_type": "code",
   "execution_count": 6,
   "metadata": {
    "colab": {},
    "colab_type": "code",
    "id": "wwntubWS1bVk"
   },
   "outputs": [],
   "source": [
    "# find_common_observations: \n",
    "# Given vector 1 and 2, return subsets x1 of vector 1 x2 of vector2 where the\n",
    "# original vector values are both nonzero and return the indices \n",
    "def find_common_observations(vector1,vector2):\n",
    "  vector1_bool = np.where(vector1 != 0, 1, 0)\n",
    "  vector2_bool = np.where(vector2 != 0, 1, 0)\n",
    "  take_indices = np.logical_and(vector1_bool,vector2_bool)\n",
    "  take_indices = take_indices.nonzero()[0]\n",
    "  x1 = np.take(vector1,take_indices)\n",
    "  x2 = np.take(vector2,take_indices)\n",
    "  return x1,x2\n",
    "\n",
    "# find_associations: Returns an array of tuples, tuples contain (majority protein ids, gene names, r2)\n",
    "# protein: row number of protein\n",
    "# r2_threshold: the minimum r2 value it takes to associate with other proteins\n",
    "# observation_threshold: the minimum amount of co-observations it takes to associate with other proteins\n",
    "# look_below_only: If true, only compare the current protein against proteins below the row number of the\n",
    "# the current protein. Recommended to be True during large batch of computations since r2 is symmetric\n",
    "def find_associations(protein,r2_threshold=0.9,observation_threshold=6,look_below_only=True):\n",
    "  protein_vec = get_feature_vector(protein)\n",
    "  r2_vector = np.zeros(total_rows)\n",
    "  # wrapper for jit (speeds up computation)\n",
    "  find_common_observations_numba = jit()(find_common_observations)\n",
    "  start_row = protein if look_below_only else 0\n",
    "  for index in range(start_row,total_rows):\n",
    "    vec_to_compare = get_feature_vector(index)\n",
    "    x1,x2 = find_common_observations_numba(protein_vec,vec_to_compare)\n",
    "    if(len(x1) >= observation_threshold):\n",
    "      r2 = np.corrcoef(x1,x2)[0,1]**2\n",
    "      if r2 >= r2_threshold:\n",
    "        r2_vector.itemset(index,r2)\n",
    "  return protein,r2_vector"
   ]
  },
  {
   "cell_type": "code",
   "execution_count": 7,
   "metadata": {
    "colab": {
     "base_uri": "https://localhost:8080/",
     "height": 34
    },
    "colab_type": "code",
    "executionInfo": {
     "elapsed": 4983,
     "status": "ok",
     "timestamp": 1585208868133,
     "user": {
      "displayName": "Hoyin Chu",
      "photoUrl": "",
      "userId": "08687870196591871814"
     },
     "user_tz": 240
    },
    "id": "iR2LSRWpyz41",
    "outputId": "fdc18c23-2f83-4d15-ec2b-e69f0fd7bee5"
   },
   "outputs": [],
   "source": [
    "# start = time.time()\n",
    "# for i in range(50000):\n",
    "#   r2 = np.corrcoef(np.random.rand(10),np.random.rand(10))[0,1]**2\n",
    "# print(time.time()-start)\n",
    "# #np.corrcoef(np.rand(10))"
   ]
  },
  {
   "cell_type": "code",
   "execution_count": 8,
   "metadata": {
    "colab": {},
    "colab_type": "code",
    "id": "2RVwJsvd7HgB"
   },
   "outputs": [],
   "source": [
    "# def find_common_observations_num(vector1,vector2):\n",
    "#   vector1_bool = np.where(vector1 != 0, 1, 0)\n",
    "#   vector2_bool = np.where(vector2 != 0, 1, 0)\n",
    "#   take_indices = np.logical_and(vector1_bool,vector2_bool)\n",
    "#   return np.count_nonzero(take_indices)\n",
    "# start_time = time.time()\n",
    "# co_observation_matrix = np.zeros((100,100))\n",
    "# for i in range(100):\n",
    "#   for j in range(i,100):\n",
    "#     num = find_common_observations_num(get_feature_vector(i),get_feature_vector(j))\n",
    "#     co_observation_matrix.itemset((i,j),num)\n",
    "\n",
    "# print(time.time()-start_time)\n",
    "# print(co_observation_matrix)"
   ]
  },
  {
   "cell_type": "markdown",
   "metadata": {
    "colab_type": "text",
    "id": "DUEnRQMibd-N"
   },
   "source": [
    "Defining helper functions and variables that generates csv\n",
    "1. row_start: from which row do we start computing protein interactions\n",
    "2. row_end: from which row do we end computing protein interactions\n",
    "3. interactions_tuple_file_write_path: Path to file where the protein-protein interaction tuples csv will be stored\n"
   ]
  },
  {
   "cell_type": "code",
   "execution_count": 0,
   "metadata": {
    "colab": {},
    "colab_type": "code",
    "id": "pgNzDYbZu6is"
   },
   "outputs": [],
   "source": [
    "row_start = 10000\n",
    "row_end = 10323\n",
    "interactions_tuple_file_write_path = '/content/drive/My Drive/Colab Notebooks/Research/ProteinProteinAssociation/csv_outputs/ppa_{row_start}_{row_end}.csv'.format(row_start=row_start,row_end=row_end)"
   ]
  },
  {
   "cell_type": "markdown",
   "metadata": {
    "colab_type": "text",
    "id": "9EJAdM3nmhxu"
   },
   "source": [
    "Defining helper functions that writes to csv\n",
    "1. append_to_csv: appends given vectors to csv\n",
    "2. find_associations_wrapper: wrapper of the function find_associations, written so we can make use of the multiprocessing library"
   ]
  },
  {
   "cell_type": "code",
   "execution_count": 0,
   "metadata": {
    "colab": {},
    "colab_type": "code",
    "id": "fwsesALzmP_z"
   },
   "outputs": [],
   "source": [
    "# append_to_csv: appends every element in the given list, each being a row, to the csv\n",
    "# file_name: name of csv to be appended to\n",
    "# elems: list of tuples\n",
    "def append_to_csv(file_name, protein, r2_vector):\n",
    "    with open(file_name, 'a+', newline='') as write_obj:\n",
    "        csv_writer = writer(write_obj)\n",
    "        indices = r2_vector.nonzero()[0]\n",
    "        for index in indices:\n",
    "          csv_writer.writerow((protein,index,r2_vector[index]))\n",
    "\n",
    "# find_associations_wrapper: Wrapper function of the function find_associations, to be used for multiprocessing library\n",
    "# protein: the protein of interest, we will write all interactions of this protein to the specified csv (interactions_tuple_file_write_path)\n",
    "def find_associations_wrapper(protein):\n",
    "  print(\"Current Protein:\")\n",
    "  print(protein)\n",
    "  protein,r2_vec = find_associations(protein)\n",
    "  append_to_csv(interactions_tuple_file_write_path,protein,r2_vec)\n",
    "\n",
    "# batch_run: Generates the protein-protein interaction tuples in the given range and write them to csv (interactions_tuple_file_write_path)\n",
    "def batch_run(start,end):\n",
    "  batch = range(start,end)\n",
    "  processors=mp.Pool(8)\n",
    "  start_time = time.time()\n",
    "  processors.map(find_associations_wrapper,batch)\n",
    "  print('Done processing the batch from row {start} to row {end}'.format(start=start,end=end))\n",
    "  print()\n",
    "  print(\"Time Elapsed:\")\n",
    "  print(time.time() - start_time)"
   ]
  },
  {
   "cell_type": "markdown",
   "metadata": {
    "colab_type": "text",
    "id": "B0HJpWPTsTDc"
   },
   "source": [
    "# Perform Batch Protein Interaction Computations\n",
    "Actually writing the interactions to csv"
   ]
  },
  {
   "cell_type": "markdown",
   "metadata": {
    "colab_type": "text",
    "id": "9CDw8pYGozLs"
   },
   "source": [
    "**Warning!** Running the following block uncommented will start the batch run. row_start and row_end are defined in the previous section"
   ]
  },
  {
   "cell_type": "code",
   "execution_count": 0,
   "metadata": {
    "colab": {},
    "colab_type": "code",
    "id": "D5xtRe_FpeJb"
   },
   "outputs": [],
   "source": [
    "# batch_run(row_start,row_end)"
   ]
  },
  {
   "cell_type": "markdown",
   "metadata": {
    "colab_type": "text",
    "id": "zbTU8iIAsw1o"
   },
   "source": [
    "# Convert CSV to NetworkX graph\n",
    "So far these are the code used to generate protein-protein interaction tuples and write them to csv. The next part is about reading these csv and constructing networkx graphs."
   ]
  },
  {
   "cell_type": "code",
   "execution_count": 16,
   "metadata": {},
   "outputs": [],
   "source": [
    "all_proteomeHD_pairs_path = f\"{directory_path}data_sources\\\\ProteomeHD\\\\all_proteomeHD_pairs.csv\"\n",
    "all_proteomeHD_pairs_df = pd.read_csv(all_proteomeHD_pairs_path)"
   ]
  },
  {
   "cell_type": "code",
   "execution_count": 18,
   "metadata": {},
   "outputs": [
    {
     "data": {
      "text/html": [
       "<div>\n",
       "<style scoped>\n",
       "    .dataframe tbody tr th:only-of-type {\n",
       "        vertical-align: middle;\n",
       "    }\n",
       "\n",
       "    .dataframe tbody tr th {\n",
       "        vertical-align: top;\n",
       "    }\n",
       "\n",
       "    .dataframe thead th {\n",
       "        text-align: right;\n",
       "    }\n",
       "</style>\n",
       "<table border=\"1\" class=\"dataframe\">\n",
       "  <thead>\n",
       "    <tr style=\"text-align: right;\">\n",
       "      <th></th>\n",
       "      <th>r</th>\n",
       "      <th>r2</th>\n",
       "      <th>observations</th>\n",
       "    </tr>\n",
       "  </thead>\n",
       "  <tbody>\n",
       "    <tr>\n",
       "      <th>count</th>\n",
       "      <td>5.326798e+07</td>\n",
       "      <td>5.326798e+07</td>\n",
       "      <td>5.327700e+07</td>\n",
       "    </tr>\n",
       "    <tr>\n",
       "      <th>mean</th>\n",
       "      <td>5.042782e-03</td>\n",
       "      <td>1.669958e-01</td>\n",
       "      <td>4.830352e+01</td>\n",
       "    </tr>\n",
       "    <tr>\n",
       "      <th>std</th>\n",
       "      <td>4.086200e-01</td>\n",
       "      <td>2.608977e-01</td>\n",
       "      <td>5.887994e+01</td>\n",
       "    </tr>\n",
       "    <tr>\n",
       "      <th>min</th>\n",
       "      <td>-1.000000e+00</td>\n",
       "      <td>0.000000e+00</td>\n",
       "      <td>0.000000e+00</td>\n",
       "    </tr>\n",
       "    <tr>\n",
       "      <th>25%</th>\n",
       "      <td>-2.183153e-01</td>\n",
       "      <td>5.549306e-03</td>\n",
       "      <td>6.000000e+00</td>\n",
       "    </tr>\n",
       "    <tr>\n",
       "      <th>50%</th>\n",
       "      <td>0.000000e+00</td>\n",
       "      <td>4.940056e-02</td>\n",
       "      <td>2.200000e+01</td>\n",
       "    </tr>\n",
       "    <tr>\n",
       "      <th>75%</th>\n",
       "      <td>2.263308e-01</td>\n",
       "      <td>1.963053e-01</td>\n",
       "      <td>7.200000e+01</td>\n",
       "    </tr>\n",
       "    <tr>\n",
       "      <th>max</th>\n",
       "      <td>1.000000e+00</td>\n",
       "      <td>1.000000e+00</td>\n",
       "      <td>2.940000e+02</td>\n",
       "    </tr>\n",
       "  </tbody>\n",
       "</table>\n",
       "</div>"
      ],
      "text/plain": [
       "                  r            r2  observations\n",
       "count  5.326798e+07  5.326798e+07  5.327700e+07\n",
       "mean   5.042782e-03  1.669958e-01  4.830352e+01\n",
       "std    4.086200e-01  2.608977e-01  5.887994e+01\n",
       "min   -1.000000e+00  0.000000e+00  0.000000e+00\n",
       "25%   -2.183153e-01  5.549306e-03  6.000000e+00\n",
       "50%    0.000000e+00  4.940056e-02  2.200000e+01\n",
       "75%    2.263308e-01  1.963053e-01  7.200000e+01\n",
       "max    1.000000e+00  1.000000e+00  2.940000e+02"
      ]
     },
     "execution_count": 18,
     "metadata": {},
     "output_type": "execute_result"
    }
   ],
   "source": [
    "all_proteomeHD_pairs_df.describe()"
   ]
  },
  {
   "cell_type": "markdown",
   "metadata": {
    "colab_type": "text",
    "id": "j-Q9AKN8xYiQ"
   },
   "source": [
    "Filter down further, if needed"
   ]
  },
  {
   "cell_type": "code",
   "execution_count": 19,
   "metadata": {
    "colab": {},
    "colab_type": "code",
    "id": "ClpjljUjxYXa"
   },
   "outputs": [],
   "source": [
    "filtered_df = all_proteomeHD_pairs_df[all_proteomeHD_pairs_df['r'] >= 0.75]\n",
    "filtered_df = filtered_df[filtered_df['observations'] >= 100]"
   ]
  },
  {
   "cell_type": "code",
   "execution_count": 20,
   "metadata": {
    "colab": {
     "base_uri": "https://localhost:8080/",
     "height": 438
    },
    "colab_type": "code",
    "executionInfo": {
     "elapsed": 240,
     "status": "ok",
     "timestamp": 1589473045361,
     "user": {
      "displayName": "Hoyin Chu",
      "photoUrl": "",
      "userId": "08687870196591871814"
     },
     "user_tz": 240
    },
    "id": "iZHv00eExtHP",
    "outputId": "5bb8bdbc-a27c-451b-ffe6-b5b2f05fe2be"
   },
   "outputs": [
    {
     "data": {
      "text/html": [
       "<div>\n",
       "<style scoped>\n",
       "    .dataframe tbody tr th:only-of-type {\n",
       "        vertical-align: middle;\n",
       "    }\n",
       "\n",
       "    .dataframe tbody tr th {\n",
       "        vertical-align: top;\n",
       "    }\n",
       "\n",
       "    .dataframe thead th {\n",
       "        text-align: right;\n",
       "    }\n",
       "</style>\n",
       "<table border=\"1\" class=\"dataframe\">\n",
       "  <thead>\n",
       "    <tr style=\"text-align: right;\">\n",
       "      <th></th>\n",
       "      <th>protein1_majority_name</th>\n",
       "      <th>protein2_majority_name</th>\n",
       "      <th>protein1_simplified_name</th>\n",
       "      <th>protein2_simplified_name</th>\n",
       "      <th>r</th>\n",
       "      <th>r2</th>\n",
       "      <th>observations</th>\n",
       "    </tr>\n",
       "  </thead>\n",
       "  <tbody>\n",
       "    <tr>\n",
       "      <th>36638</th>\n",
       "      <td>A0AVT1;A0AVT1-2</td>\n",
       "      <td>Q70IA6;Q70IA6-3;Q70IA6-2</td>\n",
       "      <td>A0AVT1</td>\n",
       "      <td>Q70IA6</td>\n",
       "      <td>0.762766</td>\n",
       "      <td>0.581812</td>\n",
       "      <td>107</td>\n",
       "    </tr>\n",
       "    <tr>\n",
       "      <th>37694</th>\n",
       "      <td>A0AVT1;A0AVT1-2</td>\n",
       "      <td>Q8TDQ7;Q8TDQ7-2;Q8TDQ7-5;Q8TDQ7-3</td>\n",
       "      <td>A0AVT1</td>\n",
       "      <td>Q8TDQ7</td>\n",
       "      <td>0.776390</td>\n",
       "      <td>0.602782</td>\n",
       "      <td>113</td>\n",
       "    </tr>\n",
       "    <tr>\n",
       "      <th>42964</th>\n",
       "      <td>A0FGR8-2;A0FGR8;A0FGR8-4</td>\n",
       "      <td>P08567</td>\n",
       "      <td>A0FGR8</td>\n",
       "      <td>P08567</td>\n",
       "      <td>0.777896</td>\n",
       "      <td>0.605123</td>\n",
       "      <td>109</td>\n",
       "    </tr>\n",
       "    <tr>\n",
       "      <th>45398</th>\n",
       "      <td>A0FGR8-2;A0FGR8;A0FGR8-4</td>\n",
       "      <td>Q13094</td>\n",
       "      <td>A0FGR8</td>\n",
       "      <td>Q13094</td>\n",
       "      <td>0.819053</td>\n",
       "      <td>0.670847</td>\n",
       "      <td>100</td>\n",
       "    </tr>\n",
       "    <tr>\n",
       "      <th>48517</th>\n",
       "      <td>A0FGR8-2;A0FGR8;A0FGR8-4</td>\n",
       "      <td>Q96BY7</td>\n",
       "      <td>A0FGR8</td>\n",
       "      <td>Q96BY7</td>\n",
       "      <td>0.799563</td>\n",
       "      <td>0.639300</td>\n",
       "      <td>113</td>\n",
       "    </tr>\n",
       "    <tr>\n",
       "      <th>...</th>\n",
       "      <td>...</td>\n",
       "      <td>...</td>\n",
       "      <td>...</td>\n",
       "      <td>...</td>\n",
       "      <td>...</td>\n",
       "      <td>...</td>\n",
       "      <td>...</td>\n",
       "    </tr>\n",
       "    <tr>\n",
       "      <th>53243302</th>\n",
       "      <td>Q9Y3B8;Q9Y3B8-2</td>\n",
       "      <td>Q9Y6M1-1;Q9Y6M1;Q9Y6M1-5;Q9Y6M1-3;Q9Y6M1-4</td>\n",
       "      <td>Q9Y3B8</td>\n",
       "      <td>Q9Y6M1</td>\n",
       "      <td>0.770505</td>\n",
       "      <td>0.593679</td>\n",
       "      <td>102</td>\n",
       "    </tr>\n",
       "    <tr>\n",
       "      <th>53246751</th>\n",
       "      <td>Q9Y3D8;Q9Y3D8-2</td>\n",
       "      <td>Q9Y5Q8-3</td>\n",
       "      <td>Q9Y3D8</td>\n",
       "      <td>Q9Y5Q8</td>\n",
       "      <td>0.816931</td>\n",
       "      <td>0.667376</td>\n",
       "      <td>147</td>\n",
       "    </tr>\n",
       "    <tr>\n",
       "      <th>53255602</th>\n",
       "      <td>Q9Y490</td>\n",
       "      <td>Q9Y624;Q9Y624-2</td>\n",
       "      <td>Q9Y490</td>\n",
       "      <td>Q9Y624</td>\n",
       "      <td>0.801182</td>\n",
       "      <td>0.641893</td>\n",
       "      <td>183</td>\n",
       "    </tr>\n",
       "    <tr>\n",
       "      <th>53266362</th>\n",
       "      <td>Q9Y584</td>\n",
       "      <td>Q9Y6C9</td>\n",
       "      <td>Q9Y584</td>\n",
       "      <td>Q9Y6C9</td>\n",
       "      <td>0.782675</td>\n",
       "      <td>0.612580</td>\n",
       "      <td>125</td>\n",
       "    </tr>\n",
       "    <tr>\n",
       "      <th>53270218</th>\n",
       "      <td>Q9Y5Q8-3</td>\n",
       "      <td>Q9Y5Q9;Q9Y5Q9-2</td>\n",
       "      <td>Q9Y5Q8</td>\n",
       "      <td>Q9Y5Q9</td>\n",
       "      <td>0.760987</td>\n",
       "      <td>0.579101</td>\n",
       "      <td>198</td>\n",
       "    </tr>\n",
       "  </tbody>\n",
       "</table>\n",
       "<p>16094 rows × 7 columns</p>\n",
       "</div>"
      ],
      "text/plain": [
       "            protein1_majority_name  \\\n",
       "36638              A0AVT1;A0AVT1-2   \n",
       "37694              A0AVT1;A0AVT1-2   \n",
       "42964     A0FGR8-2;A0FGR8;A0FGR8-4   \n",
       "45398     A0FGR8-2;A0FGR8;A0FGR8-4   \n",
       "48517     A0FGR8-2;A0FGR8;A0FGR8-4   \n",
       "...                            ...   \n",
       "53243302           Q9Y3B8;Q9Y3B8-2   \n",
       "53246751           Q9Y3D8;Q9Y3D8-2   \n",
       "53255602                    Q9Y490   \n",
       "53266362                    Q9Y584   \n",
       "53270218                  Q9Y5Q8-3   \n",
       "\n",
       "                              protein2_majority_name protein1_simplified_name  \\\n",
       "36638                       Q70IA6;Q70IA6-3;Q70IA6-2                   A0AVT1   \n",
       "37694              Q8TDQ7;Q8TDQ7-2;Q8TDQ7-5;Q8TDQ7-3                   A0AVT1   \n",
       "42964                                         P08567                   A0FGR8   \n",
       "45398                                         Q13094                   A0FGR8   \n",
       "48517                                         Q96BY7                   A0FGR8   \n",
       "...                                              ...                      ...   \n",
       "53243302  Q9Y6M1-1;Q9Y6M1;Q9Y6M1-5;Q9Y6M1-3;Q9Y6M1-4                   Q9Y3B8   \n",
       "53246751                                    Q9Y5Q8-3                   Q9Y3D8   \n",
       "53255602                             Q9Y624;Q9Y624-2                   Q9Y490   \n",
       "53266362                                      Q9Y6C9                   Q9Y584   \n",
       "53270218                             Q9Y5Q9;Q9Y5Q9-2                   Q9Y5Q8   \n",
       "\n",
       "         protein2_simplified_name         r        r2  observations  \n",
       "36638                      Q70IA6  0.762766  0.581812           107  \n",
       "37694                      Q8TDQ7  0.776390  0.602782           113  \n",
       "42964                      P08567  0.777896  0.605123           109  \n",
       "45398                      Q13094  0.819053  0.670847           100  \n",
       "48517                      Q96BY7  0.799563  0.639300           113  \n",
       "...                           ...       ...       ...           ...  \n",
       "53243302                   Q9Y6M1  0.770505  0.593679           102  \n",
       "53246751                   Q9Y5Q8  0.816931  0.667376           147  \n",
       "53255602                   Q9Y624  0.801182  0.641893           183  \n",
       "53266362                   Q9Y6C9  0.782675  0.612580           125  \n",
       "53270218                   Q9Y5Q9  0.760987  0.579101           198  \n",
       "\n",
       "[16094 rows x 7 columns]"
      ]
     },
     "execution_count": 20,
     "metadata": {},
     "output_type": "execute_result"
    }
   ],
   "source": [
    "filtered_df"
   ]
  },
  {
   "cell_type": "markdown",
   "metadata": {
    "colab_type": "text",
    "id": "qczLRrhkxtia"
   },
   "source": [
    "Define variables, initial graph and helper functions\n",
    "1. interactions_tuple_directory_read_path: Path to directory that contains all the csv that has protein-protein interaction tuples"
   ]
  },
  {
   "cell_type": "code",
   "execution_count": 36,
   "metadata": {
    "colab": {},
    "colab_type": "code",
    "id": "rHPxqT54cdyy"
   },
   "outputs": [],
   "source": [
    "import time\n",
    "# interactions_tuple_directory_read_path = \"/content/drive/My Drive/Colab Notebooks/Research/ProteinProteinAssociation/csv_outputs/ppa_r2_90_co_5/*.csv\"\n",
    "ppa_graph = nx.Graph()\n",
    "\n",
    "# Initializes the graph by adding protein as nodes along with their attributes\n",
    "def initialize_ppa_graph():\n",
    "  ppa_graph.clear()\n",
    "  for i in range(total_rows):\n",
    "    ppa_graph.add_node(i,Majority_protein_IDs=proteomeHD_majority_protein_column[i],Simplified_protein_ID=proteomeHD_simplified_protein_column[i])\n",
    "\n",
    "# # Adds a r2 relation between proteins\n",
    "# def ppa_add_relation(protein1,protein2,r,r2,observations):\n",
    "#   ppa_graph.add_edge(protein1,protein2,r=r,r2=r2,observations=observations)\n",
    "\n",
    "# Process a single csv by adding r2 relation in the csv to the network (skipping self to self interactions)\n",
    "def process_single_df(df):\n",
    "  start_time = time.time()\n",
    "  for idx,row in df.iterrows():\n",
    "    protein1 = np.where(proteomeHD_majority_protein_column == row['protein1_majority_name'])[0][0]\n",
    "    protein2 = np.where(proteomeHD_majority_protein_column == row['protein2_majority_name'])[0][0]\n",
    "    r = float(row['r'])\n",
    "    r2 = float(row['r2'])\n",
    "    observations = int(row['observations'])\n",
    "    ppa_graph.add_edge(protein1,protein2,r=r,r2=r2,observations=observations)\n",
    "    if idx % 10000 == 0:\n",
    "      percent_done = (idx+1) / len(df)\n",
    "      print(f\"Percent done: {percent_done}\")\n",
    "      time_since_start = time.time() - start_time\n",
    "      print(f\"Time elasped: {time_since_start}\")\n",
    "      print(f\"Estimate finishing in: {time_since_start / (percent_done) - time_since_start}\")\n",
    "\n",
    "# # Process all csvs in the given path and load them to the network\n",
    "# def process_r2_csvs():\n",
    "#   for fname in glob.glob(interactions_tuple_directory_read_path):\n",
    "#     process_single_csv(fname)\n",
    "#   print(\"All file processed\")"
   ]
  },
  {
   "cell_type": "markdown",
   "metadata": {
    "colab_type": "text",
    "id": "XaeP3Ujj6Pjh"
   },
   "source": [
    "Initializes and loads the network"
   ]
  },
  {
   "cell_type": "code",
   "execution_count": 37,
   "metadata": {
    "colab": {},
    "colab_type": "code",
    "id": "jqGfnxTw6Qt1"
   },
   "outputs": [
    {
     "name": "stdout",
     "output_type": "stream",
     "text": [
      "Percent done: 915.2479806138933\n",
      "Time elasped: 1.9546451568603516\n",
      "Estimate finishing in: -1.9525095114415556\n"
     ]
    }
   ],
   "source": [
    "initialize_ppa_graph()\n",
    "process_single_df(filtered_df)"
   ]
  },
  {
   "cell_type": "markdown",
   "metadata": {
    "colab_type": "text",
    "id": "h851N-yi6cxM"
   },
   "source": [
    "Check network data"
   ]
  },
  {
   "cell_type": "code",
   "execution_count": 38,
   "metadata": {
    "colab": {
     "base_uri": "https://localhost:8080/",
     "height": 84
    },
    "colab_type": "code",
    "executionInfo": {
     "elapsed": 412,
     "status": "ok",
     "timestamp": 1589437715095,
     "user": {
      "displayName": "Hoyin Chu",
      "photoUrl": "",
      "userId": "08687870196591871814"
     },
     "user_tz": 240
    },
    "id": "3TDnb2I86e0X",
    "outputId": "670b827d-7c30-4d49-eb5a-4295e48f2380"
   },
   "outputs": [
    {
     "name": "stdout",
     "output_type": "stream",
     "text": [
      "Number of nodes\n",
      "10323\n",
      "Number of edges\n",
      "16094\n"
     ]
    }
   ],
   "source": [
    "print(\"Number of nodes\")\n",
    "print(ppa_graph.number_of_nodes())\n",
    "print(\"Number of edges\")\n",
    "print(ppa_graph.number_of_edges())"
   ]
  },
  {
   "cell_type": "code",
   "execution_count": 40,
   "metadata": {},
   "outputs": [
    {
     "data": {
      "text/plain": [
       "'A0AV96'"
      ]
     },
     "execution_count": 40,
     "metadata": {},
     "output_type": "execute_result"
    }
   ],
   "source": [
    "ppa_graph.nodes[0]['Simplified_protein_ID']"
   ]
  },
  {
   "cell_type": "markdown",
   "metadata": {
    "colab_type": "text",
    "id": "P_J88-CRtuNH"
   },
   "source": [
    "# Save graph\n",
    "Saving the graph as a .graphml file"
   ]
  },
  {
   "cell_type": "markdown",
   "metadata": {
    "colab_type": "text",
    "id": "5mkhTzX3uECi"
   },
   "source": [
    "\n",
    "networkx_write_path: Path to export networkx graph after the network is constructed"
   ]
  },
  {
   "cell_type": "code",
   "execution_count": 41,
   "metadata": {
    "colab": {},
    "colab_type": "code",
    "id": "zyu4qCAB87dz"
   },
   "outputs": [],
   "source": [
    "#outputs network data as graphml\n",
    "networkx_write_path = f\"{directory_path}\\\\graph_outputs\\\\ppa_r_075_obs_100.graphml\"\n",
    "nx.write_graphml(ppa_graph, networkx_write_path)"
   ]
  },
  {
   "cell_type": "code",
   "execution_count": null,
   "metadata": {},
   "outputs": [],
   "source": []
  }
 ],
 "metadata": {
  "colab": {
   "authorship_tag": "ABX9TyOFzgJagvX31mzOBqkrfuQB",
   "collapsed_sections": [
    "mtqso-J4rujb",
    "o-nNC1fgsFHs",
    "B0HJpWPTsTDc",
    "zbTU8iIAsw1o",
    "P_J88-CRtuNH"
   ],
   "mount_file_id": "1y2_IUN6GI18b3KB-KQa6vBwcxbLdbfr6",
   "name": "ProteinNetworkGeneration.ipynb",
   "provenance": [],
   "toc_visible": true
  },
  "kernelspec": {
   "display_name": "Python 3",
   "language": "python",
   "name": "python3"
  },
  "language_info": {
   "codemirror_mode": {
    "name": "ipython",
    "version": 3
   },
   "file_extension": ".py",
   "mimetype": "text/x-python",
   "name": "python",
   "nbconvert_exporter": "python",
   "pygments_lexer": "ipython3",
   "version": "3.7.4"
  }
 },
 "nbformat": 4,
 "nbformat_minor": 1
}
