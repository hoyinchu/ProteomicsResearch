{
 "cells": [
  {
   "cell_type": "markdown",
   "metadata": {
    "colab_type": "text",
    "id": "j2ao2MPTiQC3"
   },
   "source": [
    "# Obtain uniprot id through api"
   ]
  },
  {
   "cell_type": "code",
   "execution_count": 1,
   "metadata": {
    "colab": {},
    "colab_type": "code",
    "id": "InlxCv-feuYs"
   },
   "outputs": [],
   "source": [
    "import requests\n",
    "import numpy as np\n",
    "import pandas as pd\n",
    "import json\n",
    "import os\n",
    "\n",
    "PATH_ROOT = os.getcwd().replace(\"\\\\\",\"/\").replace(\"/notebooks\",\"\")\n",
    "\n",
    "\n",
    "def write_json_to(json_dict,path):\n",
    "  json_to_write = json.dumps(json_dict)\n",
    "  write_file = open(path,\"w\")\n",
    "  write_file.write(json_to_write)\n",
    "  write_file.close()\n",
    "\n",
    "def read_json_from(path):\n",
    "  with open(path, \"r\") as read_file:\n",
    "    return json.load(read_file)\n",
    "\n",
    "def chunks(lst: [], n: int):\n",
    "    for i in range(0, len(lst), n):\n",
    "        yield lst[i:i + n]\n",
    "\n",
    "def convert_to_uniprot_id(source_id,source_id_type='ENSEMBL_PRO_ID'):\n",
    "    url = 'https://www.uniprot.org/uploadlists/'\n",
    "    params = {\n",
    "    'from': source_id_type,\n",
    "    'to': 'ID',\n",
    "    'format': 'tab',\n",
    "    'query': source_id\n",
    "    }\n",
    "    response = requests.get(url,params)\n",
    "    for idx,line in enumerate(response.text.splitlines()):\n",
    "        if idx==0:\n",
    "            continue\n",
    "        print(line.split(\"\\t\"))"
   ]
  },
  {
   "cell_type": "code",
   "execution_count": 30,
   "metadata": {
    "colab": {},
    "colab_type": "code",
    "id": "9hsW4VqyWO4u"
   },
   "outputs": [
    {
     "name": "stdout",
     "output_type": "stream",
     "text": [
      "['ENSP00000418915', 'CDN2A_HUMAN']\n"
     ]
    }
   ],
   "source": [
    "convert_to_uniprot_id('ENSP00000418915')"
   ]
  },
  {
   "cell_type": "markdown",
   "metadata": {
    "colab_type": "text",
    "id": "nCibNBVPeDCJ"
   },
   "source": [
    "This block when run converts ensembl gene id to uniprot id"
   ]
  },
  {
   "cell_type": "code",
   "execution_count": 0,
   "metadata": {
    "colab": {},
    "colab_type": "code",
    "id": "NAN0E09xduTX"
   },
   "outputs": [],
   "source": [
    "import numpy as np\n",
    "import pandas as pd\n",
    "\n",
    "ensembl_id_path = \"/content/drive/My Drive/Colab Notebooks/Research/ProteinProteinAssociation/data_sources/HI-union-converted.txt\"\n",
    "enseml_id_df = pd.read_csv(ensembl_id_path,delimiter=\"\\t\")\n",
    "enseml_id_df = enseml_id_df.loc[:, ~enseml_id_df.columns.str.contains('^Unnamed')]\n",
    "enseml_id_df.rename(columns={'Gene_Name_1':'Uniprot_Id_1','Gene_Name_2':'Uniprot_Id_2'}, inplace=True)\n",
    "converted_1 = ensembl_gene_id_to_uniprot_id(enseml_id_df['Ensembl_Id_1'].tolist())\n",
    "converted_2 = ensembl_gene_id_to_uniprot_id(enseml_id_df['Ensembl_Id_2'].tolist())\n",
    "new_df = pd.DataFrame({'Uniprot_Id_1': converted_1,\n",
    "                   'Uniprot_Id_2': converted_2})\n",
    "enseml_id_df.update(new_df)\n",
    "enseml_id_df.head()\n",
    "enseml_id_df.to_csv(\"/content/drive/My Drive/Colab Notebooks/Research/ProteinProteinAssociation/data_sources/HI-union-converted-fixed.csv\",index=False)"
   ]
  },
  {
   "cell_type": "markdown",
   "metadata": {
    "colab_type": "text",
    "id": "vo6wFLj4C3YU"
   },
   "source": [
    "This block merge two dataframes into one base on gene name"
   ]
  },
  {
   "cell_type": "code",
   "execution_count": 0,
   "metadata": {
    "colab": {
     "base_uri": "https://localhost:8080/",
     "height": 195
    },
    "colab_type": "code",
    "executionInfo": {
     "elapsed": 309,
     "status": "ok",
     "timestamp": 1588049060815,
     "user": {
      "displayName": "Hoyin Chu",
      "photoUrl": "",
      "userId": "08687870196591871814"
     },
     "user_tz": 240
    },
    "id": "qF4u9YE552Qj",
    "outputId": "0ccdc17c-61cb-445b-d82f-f979bf09aa24"
   },
   "outputs": [
    {
     "data": {
      "text/html": [
       "<div>\n",
       "<style scoped>\n",
       "    .dataframe tbody tr th:only-of-type {\n",
       "        vertical-align: middle;\n",
       "    }\n",
       "\n",
       "    .dataframe tbody tr th {\n",
       "        vertical-align: top;\n",
       "    }\n",
       "\n",
       "    .dataframe thead th {\n",
       "        text-align: right;\n",
       "    }\n",
       "</style>\n",
       "<table border=\"1\" class=\"dataframe\">\n",
       "  <thead>\n",
       "    <tr style=\"text-align: right;\">\n",
       "      <th></th>\n",
       "      <th>Ensembl_Id_1</th>\n",
       "      <th>Ensembl_Id_2</th>\n",
       "      <th>Gene_Name_1</th>\n",
       "      <th>Gene_Name_2</th>\n",
       "    </tr>\n",
       "  </thead>\n",
       "  <tbody>\n",
       "    <tr>\n",
       "      <th>0</th>\n",
       "      <td>ENSG00000000005</td>\n",
       "      <td>ENSG00000061656</td>\n",
       "      <td>TNMD</td>\n",
       "      <td>SPAG4</td>\n",
       "    </tr>\n",
       "    <tr>\n",
       "      <th>1</th>\n",
       "      <td>ENSG00000000005</td>\n",
       "      <td>ENSG00000099968</td>\n",
       "      <td>TNMD</td>\n",
       "      <td>BCL2L13</td>\n",
       "    </tr>\n",
       "    <tr>\n",
       "      <th>2</th>\n",
       "      <td>ENSG00000000005</td>\n",
       "      <td>ENSG00000104765</td>\n",
       "      <td>TNMD</td>\n",
       "      <td>BNIP3L</td>\n",
       "    </tr>\n",
       "    <tr>\n",
       "      <th>3</th>\n",
       "      <td>ENSG00000000005</td>\n",
       "      <td>ENSG00000105383</td>\n",
       "      <td>TNMD</td>\n",
       "      <td>CD33</td>\n",
       "    </tr>\n",
       "    <tr>\n",
       "      <th>4</th>\n",
       "      <td>ENSG00000000005</td>\n",
       "      <td>ENSG00000114455</td>\n",
       "      <td>TNMD</td>\n",
       "      <td>HHLA2</td>\n",
       "    </tr>\n",
       "  </tbody>\n",
       "</table>\n",
       "</div>"
      ],
      "text/plain": [
       "      Ensembl_Id_1     Ensembl_Id_2 Gene_Name_1 Gene_Name_2\n",
       "0  ENSG00000000005  ENSG00000061656        TNMD       SPAG4\n",
       "1  ENSG00000000005  ENSG00000099968        TNMD     BCL2L13\n",
       "2  ENSG00000000005  ENSG00000104765        TNMD      BNIP3L\n",
       "3  ENSG00000000005  ENSG00000105383        TNMD        CD33\n",
       "4  ENSG00000000005  ENSG00000114455        TNMD       HHLA2"
      ]
     },
     "execution_count": 16,
     "metadata": {
      "tags": []
     },
     "output_type": "execute_result"
    }
   ],
   "source": [
    "import numpy as np\n",
    "import pandas as pd\n",
    "ensembl_id_converted_path = \"/content/drive/My Drive/Colab Notebooks/Research/ProteinProteinAssociation/data_sources/HI-union-converted.csv\"\n",
    "ensembl_id_converted_df = pd.read_csv(ensembl_id_converted_path)\n",
    "ensembl_id_converted_df.head()"
   ]
  },
  {
   "cell_type": "code",
   "execution_count": 0,
   "metadata": {
    "colab": {
     "base_uri": "https://localhost:8080/",
     "height": 195
    },
    "colab_type": "code",
    "executionInfo": {
     "elapsed": 349,
     "status": "ok",
     "timestamp": 1588048730683,
     "user": {
      "displayName": "Hoyin Chu",
      "photoUrl": "",
      "userId": "08687870196591871814"
     },
     "user_tz": 240
    },
    "id": "7VeaxkS_FHV2",
    "outputId": "cc11cf26-5dbc-42ee-c58a-7d38115bb124"
   },
   "outputs": [
    {
     "data": {
      "text/html": [
       "<div>\n",
       "<style scoped>\n",
       "    .dataframe tbody tr th:only-of-type {\n",
       "        vertical-align: middle;\n",
       "    }\n",
       "\n",
       "    .dataframe tbody tr th {\n",
       "        vertical-align: top;\n",
       "    }\n",
       "\n",
       "    .dataframe thead th {\n",
       "        text-align: right;\n",
       "    }\n",
       "</style>\n",
       "<table border=\"1\" class=\"dataframe\">\n",
       "  <thead>\n",
       "    <tr style=\"text-align: right;\">\n",
       "      <th></th>\n",
       "      <th>Uniprot_id</th>\n",
       "      <th>Gene_Name</th>\n",
       "    </tr>\n",
       "  </thead>\n",
       "  <tbody>\n",
       "    <tr>\n",
       "      <th>0</th>\n",
       "      <td>Q9H2S6</td>\n",
       "      <td>TNMD</td>\n",
       "    </tr>\n",
       "    <tr>\n",
       "      <th>1</th>\n",
       "      <td>A0A0S2Z4U1</td>\n",
       "      <td>DPM1</td>\n",
       "    </tr>\n",
       "    <tr>\n",
       "      <th>2</th>\n",
       "      <td>A0A0S2Z4Y5</td>\n",
       "      <td>DPM1</td>\n",
       "    </tr>\n",
       "    <tr>\n",
       "      <th>3</th>\n",
       "      <td>H0Y368</td>\n",
       "      <td>DPM1</td>\n",
       "    </tr>\n",
       "    <tr>\n",
       "      <th>4</th>\n",
       "      <td>O60762</td>\n",
       "      <td>DPM1</td>\n",
       "    </tr>\n",
       "  </tbody>\n",
       "</table>\n",
       "</div>"
      ],
      "text/plain": [
       "   Uniprot_id Gene_Name\n",
       "0      Q9H2S6      TNMD\n",
       "1  A0A0S2Z4U1      DPM1\n",
       "2  A0A0S2Z4Y5      DPM1\n",
       "3      H0Y368      DPM1\n",
       "4      O60762      DPM1"
      ]
     },
     "execution_count": 11,
     "metadata": {
      "tags": []
     },
     "output_type": "execute_result"
    }
   ],
   "source": [
    "gene_name_to_uniprot_id_path = \"/content/drive/My Drive/Colab Notebooks/Research/ProteinProteinAssociation/data_sources/gene-name-to-uniprot-fixed.csv\"\n",
    "gene_name_to_uniprot_id_df = pd.read_csv(gene_name_to_uniprot_id_path)\n",
    "gene_name_to_uniprot_id_df.head()"
   ]
  },
  {
   "cell_type": "code",
   "execution_count": 0,
   "metadata": {
    "colab": {
     "base_uri": "https://localhost:8080/",
     "height": 195
    },
    "colab_type": "code",
    "executionInfo": {
     "elapsed": 1070,
     "status": "ok",
     "timestamp": 1588049540322,
     "user": {
      "displayName": "Hoyin Chu",
      "photoUrl": "",
      "userId": "08687870196591871814"
     },
     "user_tz": 240
    },
    "id": "W8dXP0QUFKBF",
    "outputId": "df0ef812-87c4-47f8-f496-3fd4bcaf6647"
   },
   "outputs": [
    {
     "data": {
      "text/html": [
       "<div>\n",
       "<style scoped>\n",
       "    .dataframe tbody tr th:only-of-type {\n",
       "        vertical-align: middle;\n",
       "    }\n",
       "\n",
       "    .dataframe tbody tr th {\n",
       "        vertical-align: top;\n",
       "    }\n",
       "\n",
       "    .dataframe thead th {\n",
       "        text-align: right;\n",
       "    }\n",
       "</style>\n",
       "<table border=\"1\" class=\"dataframe\">\n",
       "  <thead>\n",
       "    <tr style=\"text-align: right;\">\n",
       "      <th></th>\n",
       "      <th>Ensembl_Id_1</th>\n",
       "      <th>Ensembl_Id_2</th>\n",
       "      <th>Gene_Name_1</th>\n",
       "      <th>Gene_Name_2</th>\n",
       "      <th>Uniprot_id_1</th>\n",
       "      <th>Uniprot_id_2</th>\n",
       "    </tr>\n",
       "  </thead>\n",
       "  <tbody>\n",
       "    <tr>\n",
       "      <th>0</th>\n",
       "      <td>ENSG00000000005</td>\n",
       "      <td>ENSG00000061656</td>\n",
       "      <td>TNMD</td>\n",
       "      <td>SPAG4</td>\n",
       "      <td>Q9H2S6</td>\n",
       "      <td>C9JJZ6</td>\n",
       "    </tr>\n",
       "    <tr>\n",
       "      <th>1</th>\n",
       "      <td>ENSG00000000005</td>\n",
       "      <td>ENSG00000061656</td>\n",
       "      <td>TNMD</td>\n",
       "      <td>SPAG4</td>\n",
       "      <td>Q9H2S6</td>\n",
       "      <td>Q5JX49</td>\n",
       "    </tr>\n",
       "    <tr>\n",
       "      <th>2</th>\n",
       "      <td>ENSG00000000005</td>\n",
       "      <td>ENSG00000061656</td>\n",
       "      <td>TNMD</td>\n",
       "      <td>SPAG4</td>\n",
       "      <td>Q9H2S6</td>\n",
       "      <td>Q9NPE6</td>\n",
       "    </tr>\n",
       "    <tr>\n",
       "      <th>3</th>\n",
       "      <td>ENSG00000000005</td>\n",
       "      <td>ENSG00000099968</td>\n",
       "      <td>TNMD</td>\n",
       "      <td>BCL2L13</td>\n",
       "      <td>Q9H2S6</td>\n",
       "      <td>A0A087WTL4</td>\n",
       "    </tr>\n",
       "    <tr>\n",
       "      <th>4</th>\n",
       "      <td>ENSG00000000005</td>\n",
       "      <td>ENSG00000099968</td>\n",
       "      <td>TNMD</td>\n",
       "      <td>BCL2L13</td>\n",
       "      <td>Q9H2S6</td>\n",
       "      <td>A0A087WW80</td>\n",
       "    </tr>\n",
       "  </tbody>\n",
       "</table>\n",
       "</div>"
      ],
      "text/plain": [
       "      Ensembl_Id_1     Ensembl_Id_2  ... Uniprot_id_1 Uniprot_id_2\n",
       "0  ENSG00000000005  ENSG00000061656  ...       Q9H2S6       C9JJZ6\n",
       "1  ENSG00000000005  ENSG00000061656  ...       Q9H2S6       Q5JX49\n",
       "2  ENSG00000000005  ENSG00000061656  ...       Q9H2S6       Q9NPE6\n",
       "3  ENSG00000000005  ENSG00000099968  ...       Q9H2S6   A0A087WTL4\n",
       "4  ENSG00000000005  ENSG00000099968  ...       Q9H2S6   A0A087WW80\n",
       "\n",
       "[5 rows x 6 columns]"
      ]
     },
     "execution_count": 19,
     "metadata": {
      "tags": []
     },
     "output_type": "execute_result"
    }
   ],
   "source": [
    "combined_df = pd.merge(ensembl_id_converted_df,gene_name_to_uniprot_id_df,'left',left_on='Gene_Name_1',right_on='Gene_Name')\n",
    "combined_df.rename(columns={\"Uniprot_id\":\"Uniprot_id_1\"},inplace=True)\n",
    "combined_df.drop(columns='Gene_Name',inplace=True)\n",
    "combined_df = pd.merge(combined_df,gene_name_to_uniprot_id_df,'left',left_on='Gene_Name_2',right_on='Gene_Name')\n",
    "combined_df.rename(columns={\"Uniprot_id\":\"Uniprot_id_2\"},inplace=True)\n",
    "combined_df.drop(columns='Gene_Name',inplace=True)"
   ]
  },
  {
   "cell_type": "code",
   "execution_count": 0,
   "metadata": {
    "colab": {},
    "colab_type": "code",
    "id": "FGoO7aVjItnb"
   },
   "outputs": [],
   "source": [
    "# combined_df.drop(columns=['Ensembl_Id_1','Ensembl_Id_2','Gene_Name_1','Gene_Name_2'],inplace=True)\n",
    "# combined_df.head()\n",
    "# combined_df.to_csv(\"/content/drive/My Drive/Colab Notebooks/Research/ProteinProteinAssociation/data_sources/uniprot-interaction.csv\",index=False)"
   ]
  },
  {
   "cell_type": "code",
   "execution_count": 0,
   "metadata": {
    "colab": {
     "base_uri": "https://localhost:8080/",
     "height": 195
    },
    "colab_type": "code",
    "executionInfo": {
     "elapsed": 866,
     "status": "ok",
     "timestamp": 1588050754870,
     "user": {
      "displayName": "Hoyin Chu",
      "photoUrl": "",
      "userId": "08687870196591871814"
     },
     "user_tz": 240
    },
    "id": "0wq6ODPlMJnk",
    "outputId": "96ccd92d-069c-417b-98fd-e0b893d5ea6a"
   },
   "outputs": [
    {
     "data": {
      "text/html": [
       "<div>\n",
       "<style scoped>\n",
       "    .dataframe tbody tr th:only-of-type {\n",
       "        vertical-align: middle;\n",
       "    }\n",
       "\n",
       "    .dataframe tbody tr th {\n",
       "        vertical-align: top;\n",
       "    }\n",
       "\n",
       "    .dataframe thead th {\n",
       "        text-align: right;\n",
       "    }\n",
       "</style>\n",
       "<table border=\"1\" class=\"dataframe\">\n",
       "  <thead>\n",
       "    <tr style=\"text-align: right;\">\n",
       "      <th></th>\n",
       "      <th>Uniprot_id_1</th>\n",
       "      <th>Uniprot_id_2</th>\n",
       "    </tr>\n",
       "  </thead>\n",
       "  <tbody>\n",
       "    <tr>\n",
       "      <th>0</th>\n",
       "      <td>Q9H2S6</td>\n",
       "      <td>C9JJZ6</td>\n",
       "    </tr>\n",
       "    <tr>\n",
       "      <th>1</th>\n",
       "      <td>Q9H2S6</td>\n",
       "      <td>Q5JX49</td>\n",
       "    </tr>\n",
       "    <tr>\n",
       "      <th>2</th>\n",
       "      <td>Q9H2S6</td>\n",
       "      <td>Q9NPE6</td>\n",
       "    </tr>\n",
       "    <tr>\n",
       "      <th>3</th>\n",
       "      <td>Q9H2S6</td>\n",
       "      <td>A0A087WTL4</td>\n",
       "    </tr>\n",
       "    <tr>\n",
       "      <th>4</th>\n",
       "      <td>Q9H2S6</td>\n",
       "      <td>A0A087WW80</td>\n",
       "    </tr>\n",
       "  </tbody>\n",
       "</table>\n",
       "</div>"
      ],
      "text/plain": [
       "  Uniprot_id_1 Uniprot_id_2\n",
       "0       Q9H2S6       C9JJZ6\n",
       "1       Q9H2S6       Q5JX49\n",
       "2       Q9H2S6       Q9NPE6\n",
       "3       Q9H2S6   A0A087WTL4\n",
       "4       Q9H2S6   A0A087WW80"
      ]
     },
     "execution_count": 31,
     "metadata": {
      "tags": []
     },
     "output_type": "execute_result"
    }
   ],
   "source": [
    "uniprot_interaction_path = \"/content/drive/My Drive/Colab Notebooks/Research/ProteinProteinAssociation/data_sources/uniprot-interaction.csv\"\n",
    "uniprot_interaction_df = pd.read_csv(uniprot_interaction_path)\n",
    "uniprot_interaction_df.head()"
   ]
  },
  {
   "cell_type": "markdown",
   "metadata": {
    "colab_type": "text",
    "id": "GiLjZLikP0IE"
   },
   "source": [
    "The following code process gene-name-to-uniprot-fixed.csv by discarding row with empty entries, and adding rows with more than one elements in each row"
   ]
  },
  {
   "cell_type": "code",
   "execution_count": 0,
   "metadata": {
    "colab": {
     "base_uri": "https://localhost:8080/",
     "height": 252
    },
    "colab_type": "code",
    "executionInfo": {
     "elapsed": 326,
     "status": "ok",
     "timestamp": 1588055457709,
     "user": {
      "displayName": "Hoyin Chu",
      "photoUrl": "",
      "userId": "08687870196591871814"
     },
     "user_tz": 240
    },
    "id": "NEcOo3yNQB2b",
    "outputId": "b055ac34-4bef-4b63-c5a5-45d5d767985f"
   },
   "outputs": [
    {
     "name": "stdout",
     "output_type": "stream",
     "text": [
      "                   Uniprot_Id_1              Uniprot_Id_2\n",
      "0                        Q9H2S6                    Q9NPE6\n",
      "1                        Q9H2S6                    Q9BXK5\n",
      "2                        Q9H2S6                    O60238\n",
      "3                        Q9H2S6                    P20138\n",
      "4                        Q9H2S6                    Q9UM44\n",
      "...                         ...                       ...\n",
      "64001                    B2RXH8                    B2RXH8\n",
      "64002                    Q8NHW4                    Q6IN84\n",
      "64003  ['P02489', 'A0A140G945']  ['P02489', 'A0A140G945']\n",
      "64004                    Q9UI36                    Q9UI36\n",
      "64005                    P43243                    P43243\n",
      "\n",
      "[64006 rows x 2 columns]\n"
     ]
    }
   ],
   "source": [
    "import numpy as np\n",
    "import pandas as pd\n",
    "\n",
    "huri_union_converted_fixed_path = \"/content/drive/My Drive/Colab Notebooks/Research/ProteinProteinAssociation/data_sources/HI-union-converted-fixed.csv\"\n",
    "huri_union_converted_fixed_df = pd.read_csv(huri_union_converted_fixed_path)\n",
    "huri_union_converted_fixed_df = huri_union_converted_fixed_df[['Uniprot_Id_1','Uniprot_Id_2']]\n",
    "print(huri_union_converted_fixed_df)"
   ]
  },
  {
   "cell_type": "code",
   "execution_count": 0,
   "metadata": {
    "colab": {},
    "colab_type": "code",
    "id": "uP29uNyHQaN_"
   },
   "outputs": [],
   "source": [
    "import math\n",
    "\n",
    "rows_to_throw_out = []\n",
    "rows_to_add = []\n",
    "prevent_repeat_set = set()\n",
    "for index, row in huri_union_converted_fixed_df.iterrows():\n",
    "  item1 = str(row[0]).strip(\"'\")\n",
    "  item2 = str(row[1]).strip(\"'\")\n",
    "  if (item1 == 'nan' or item2 == 'nan') or item1==item2 or item1+item2 in prevent_repeat_set:\n",
    "    rows_to_throw_out.append(index)\n",
    "  elif '[' in item1 or '[' in item2:\n",
    "    rows_to_throw_out.append(index)\n",
    "    list1 = []\n",
    "    list2 = []\n",
    "    if not '[' in item1:\n",
    "      list1.append(item1)\n",
    "    else:\n",
    "      list1 = item1.strip('][').strip(\"'\").split(', ') \n",
    "    if not '[' in item2:\n",
    "      list2.append(item2)\n",
    "    else:\n",
    "      list2 = item2.strip('][').strip(\"'\").split(', ') \n",
    "    for id1 in list1:\n",
    "      for id2 in list2:\n",
    "        id1_strip = id1.strip(\"'\")\n",
    "        id2_strip = id2.strip(\"'\")\n",
    "        if not id1_strip + id2_strip in prevent_repeat_set and id1_strip!=id2_strip:\n",
    "          rows_to_add.append([id1_strip,id2_strip])\n",
    "          prevent_repeat_set.add(id1_strip+id2_strip)\n",
    "          prevent_repeat_set.add(id2_strip+id1_strip)\n",
    "  else:\n",
    "    prevent_repeat_set.add(item1+item2)\n",
    "    prevent_repeat_set.add(item2+item1)"
   ]
  },
  {
   "cell_type": "code",
   "execution_count": 0,
   "metadata": {
    "colab": {
     "base_uri": "https://localhost:8080/",
     "height": 50
    },
    "colab_type": "code",
    "executionInfo": {
     "elapsed": 361,
     "status": "ok",
     "timestamp": 1588056449987,
     "user": {
      "displayName": "Hoyin Chu",
      "photoUrl": "",
      "userId": "08687870196591871814"
     },
     "user_tz": 240
    },
    "id": "jjUxI7CneZLZ",
    "outputId": "ef0f52d9-173e-46b2-d0d0-ee2e23a96038"
   },
   "outputs": [
    {
     "name": "stdout",
     "output_type": "stream",
     "text": [
      "4108\n",
      "1994\n"
     ]
    }
   ],
   "source": [
    "print(len(rows_to_throw_out))\n",
    "print(len(rows_to_add))"
   ]
  },
  {
   "cell_type": "code",
   "execution_count": 0,
   "metadata": {
    "colab": {
     "base_uri": "https://localhost:8080/",
     "height": 252
    },
    "colab_type": "code",
    "executionInfo": {
     "elapsed": 340,
     "status": "ok",
     "timestamp": 1588056454979,
     "user": {
      "displayName": "Hoyin Chu",
      "photoUrl": "",
      "userId": "08687870196591871814"
     },
     "user_tz": 240
    },
    "id": "CEiVxovDcr2t",
    "outputId": "c57c6f82-9996-4476-dad3-53c8419001d9"
   },
   "outputs": [
    {
     "name": "stdout",
     "output_type": "stream",
     "text": [
      "      Uniprot_Id_1 Uniprot_Id_2\n",
      "0           Q9H2S6       Q9NPE6\n",
      "1           Q9H2S6       Q9BXK5\n",
      "2           Q9H2S6       O60238\n",
      "3           Q9H2S6       P20138\n",
      "4           Q9H2S6       Q9UM44\n",
      "...            ...          ...\n",
      "63994       P60409       Q9UGY1\n",
      "63995       P60409       Q9BSG1\n",
      "63996       P60409       Q9BS34\n",
      "64000       P13236       Q6IN84\n",
      "64002       Q8NHW4       Q6IN84\n",
      "\n",
      "[59898 rows x 2 columns]\n"
     ]
    }
   ],
   "source": [
    "huri_union_converted_fixed_df_dropped = huri_union_converted_fixed_df.drop(huri_union_converted_fixed_df.index[rows_to_throw_out])\n",
    "print(huri_union_converted_fixed_df_dropped)"
   ]
  },
  {
   "cell_type": "code",
   "execution_count": 0,
   "metadata": {
    "colab": {
     "base_uri": "https://localhost:8080/",
     "height": 252
    },
    "colab_type": "code",
    "executionInfo": {
     "elapsed": 362,
     "status": "ok",
     "timestamp": 1588056459671,
     "user": {
      "displayName": "Hoyin Chu",
      "photoUrl": "",
      "userId": "08687870196591871814"
     },
     "user_tz": 240
    },
    "id": "zbqqAUOshNAl",
    "outputId": "ab515d7a-389e-4237-909e-b4d8e9f1fb6d"
   },
   "outputs": [
    {
     "name": "stdout",
     "output_type": "stream",
     "text": [
      "     Uniprot_Id_1 Uniprot_Id_2\n",
      "0          Q14847       P86481\n",
      "1          Q14847       P86496\n",
      "2          Q14847       P86479\n",
      "3          Q14847       P86480\n",
      "4          Q14847       P86478\n",
      "...           ...          ...\n",
      "1989       Q7Z3S9       Q96JP2\n",
      "1990       P0DPK4       P60409\n",
      "1991       Q7Z3S9       P60409\n",
      "1992       Q5HYN5       P0DMU9\n",
      "1993       Q5HYN5       P0DMU8\n",
      "\n",
      "[1994 rows x 2 columns]\n"
     ]
    }
   ],
   "source": [
    "temp_df = pd.DataFrame(rows_to_add,columns=['Uniprot_Id_1','Uniprot_Id_2'])\n",
    "print(temp_df)"
   ]
  },
  {
   "cell_type": "code",
   "execution_count": 0,
   "metadata": {
    "colab": {
     "base_uri": "https://localhost:8080/",
     "height": 252
    },
    "colab_type": "code",
    "executionInfo": {
     "elapsed": 338,
     "status": "ok",
     "timestamp": 1588056502006,
     "user": {
      "displayName": "Hoyin Chu",
      "photoUrl": "",
      "userId": "08687870196591871814"
     },
     "user_tz": 240
    },
    "id": "JVicvSBfirbg",
    "outputId": "7dc6de13-4d5f-4716-abc7-e1168c67b557"
   },
   "outputs": [
    {
     "name": "stdout",
     "output_type": "stream",
     "text": [
      "     Uniprot_Id_1 Uniprot_Id_2\n",
      "0          Q9H2S6       Q9NPE6\n",
      "1          Q9H2S6       Q9BXK5\n",
      "2          Q9H2S6       O60238\n",
      "3          Q9H2S6       P20138\n",
      "4          Q9H2S6       Q9UM44\n",
      "...           ...          ...\n",
      "1989       Q7Z3S9       Q96JP2\n",
      "1990       P0DPK4       P60409\n",
      "1991       Q7Z3S9       P60409\n",
      "1992       Q5HYN5       P0DMU9\n",
      "1993       Q5HYN5       P0DMU8\n",
      "\n",
      "[61892 rows x 2 columns]\n"
     ]
    }
   ],
   "source": [
    "final_df = huri_union_converted_fixed_df_dropped.append(temp_df)\n",
    "print(final_df)"
   ]
  },
  {
   "cell_type": "code",
   "execution_count": 0,
   "metadata": {
    "colab": {},
    "colab_type": "code",
    "id": "xvvIE9BsW62_"
   },
   "outputs": [],
   "source": [
    "final_df.to_csv(\"/content/drive/My Drive/Colab Notebooks/Research/ProteinProteinAssociation/data_sources/HI-union-processed.csv\",index=False)"
   ]
  },
  {
   "cell_type": "markdown",
   "metadata": {
    "colab_type": "text",
    "id": "EZedZpw3iKbl"
   },
   "source": [
    "# Obtain uniprot id through direct download from uniprot then merging dataframe"
   ]
  },
  {
   "cell_type": "code",
   "execution_count": 3,
   "metadata": {
    "colab": {
     "base_uri": "https://localhost:8080/",
     "height": 487
    },
    "colab_type": "code",
    "executionInfo": {
     "elapsed": 474,
     "status": "ok",
     "timestamp": 1588392200559,
     "user": {
      "displayName": "Hoyin Chu",
      "photoUrl": "",
      "userId": "08687870196591871814"
     },
     "user_tz": 240
    },
    "id": "h3caFGkkiJpp",
    "outputId": "5bd44b94-5d85-446f-b90d-f6e773290696"
   },
   "outputs": [
    {
     "name": "stdout",
     "output_type": "stream",
     "text": [
      "<bound method NDFrame.head of           Column1          Column2\n",
      "0      Uniprot_Id       Ensembl_Id\n",
      "1          H0Y368  ENSG00000000419\n",
      "2          O60762  ENSG00000000419\n",
      "3          Q5QPJ9  ENSG00000000419\n",
      "4          Q5QPK2  ENSG00000000419\n",
      "...           ...              ...\n",
      "21467      P63151  ENSG00000221914\n",
      "21468      M0R1M6  ENSG00000221983\n",
      "21469      M0R1V7  ENSG00000221983\n",
      "21470      M0R2S1  ENSG00000221983\n",
      "21471      P62987  ENSG00000221983\n",
      "\n",
      "[21472 rows x 2 columns]>\n",
      "<bound method NDFrame.head of                  ENSG   GM18486   GM18498  ...    txStart      txEnd    chr\n",
      "0     ENSG00000000419 -0.152939  0.112534  ...   48984810   49008499  chr20\n",
      "1     ENSG00000000457  0.791652       NaN  ...  168088838  168129670   chr1\n",
      "2     ENSG00000000938 -2.005159 -1.938036  ...   27811389   27834314   chr1\n",
      "3     ENSG00000001084 -2.120697 -1.606023  ...   53470097   53517790   chr6\n",
      "4     ENSG00000001630  0.374041 -0.734608  ...   91579408   91601946   chr7\n",
      "...               ...       ...       ...  ...        ...        ...    ...\n",
      "4376  ENSG00000216490 -1.180284 -1.103504  ...   18145578   18149927  chr19\n",
      "4377  ENSG00000220205 -0.237506  0.091945  ...    8003188    8007017  chr17\n",
      "4378  ENSG00000221823 -0.206503       NaN  ...   68205962   68238150   chr2\n",
      "4379  ENSG00000221914  0.138373  0.021224  ...   26204950   26284562   chr8\n",
      "4380  ENSG00000221983  0.154847 -0.147347  ...   18545110   18546960  chr19\n",
      "\n",
      "[4381 rows x 66 columns]>\n"
     ]
    }
   ],
   "source": [
    "import numpy as np\n",
    "import pandas as pd\n",
    "\n",
    "pQTL_ensp_to_uniprot_path = \"/content/drive/My Drive/Colab Notebooks/Research/ProteinProteinAssociation/data_sources/pQTL_ensp_to_uniprot.csv\"\n",
    "pQTL_path = \"/content/drive/My Drive/Colab Notebooks/Research/ProteinProteinAssociation/data_sources/pQTL.csv\"\n",
    "\n",
    "pQTL_mapping_df = pd.read_csv(pQTL_ensp_to_uniprot_path)\n",
    "pQTL_df = pd.read_csv(pQTL_path)\n",
    "print(pQTL_mapping_df.head)\n",
    "print(pQTL_df.head)\n"
   ]
  },
  {
   "cell_type": "code",
   "execution_count": 5,
   "metadata": {
    "colab": {
     "base_uri": "https://localhost:8080/",
     "height": 34
    },
    "colab_type": "code",
    "executionInfo": {
     "elapsed": 965,
     "status": "ok",
     "timestamp": 1588392388898,
     "user": {
      "displayName": "Hoyin Chu",
      "photoUrl": "",
      "userId": "08687870196591871814"
     },
     "user_tz": 240
    },
    "id": "tee3M8mHkDSb",
    "outputId": "f2e9c29d-4d2e-48c4-c8a5-0ccfc9f37b2f"
   },
   "outputs": [
    {
     "name": "stdout",
     "output_type": "stream",
     "text": [
      "Index(['Column1', 'Column2'], dtype='object')\n"
     ]
    }
   ],
   "source": [
    "print(pQTL_mapping_df.columns)"
   ]
  },
  {
   "cell_type": "code",
   "execution_count": 11,
   "metadata": {
    "colab": {
     "base_uri": "https://localhost:8080/",
     "height": 252
    },
    "colab_type": "code",
    "executionInfo": {
     "elapsed": 400,
     "status": "ok",
     "timestamp": 1588394677944,
     "user": {
      "displayName": "Hoyin Chu",
      "photoUrl": "",
      "userId": "08687870196591871814"
     },
     "user_tz": 240
    },
    "id": "bGBMvnrjjk4g",
    "outputId": "6a707795-99ac-4e52-8877-c9872550b683"
   },
   "outputs": [
    {
     "name": "stdout",
     "output_type": "stream",
     "text": [
      "      Uniprot_Id             ENSG   GM18486  ...    txStart      txEnd    chr\n",
      "0         H0Y368  ENSG00000000419 -0.152939  ...   48984810   49008499  chr20\n",
      "1         O60762  ENSG00000000419 -0.152939  ...   48984810   49008499  chr20\n",
      "2         Q5QPJ9  ENSG00000000419 -0.152939  ...   48984810   49008499  chr20\n",
      "3         Q5QPK2  ENSG00000000419 -0.152939  ...   48984810   49008499  chr20\n",
      "4         Q8IZE3  ENSG00000000457  0.791652  ...  168088838  168129670   chr1\n",
      "...          ...              ...       ...  ...        ...        ...    ...\n",
      "21504     P63151  ENSG00000221914  0.138373  ...   26204950   26284562   chr8\n",
      "21505     M0R1M6  ENSG00000221983  0.154847  ...   18545110   18546960  chr19\n",
      "21506     M0R1V7  ENSG00000221983  0.154847  ...   18545110   18546960  chr19\n",
      "21507     M0R2S1  ENSG00000221983  0.154847  ...   18545110   18546960  chr19\n",
      "21508     P62987  ENSG00000221983  0.154847  ...   18545110   18546960  chr19\n",
      "\n",
      "[21471 rows x 67 columns]\n"
     ]
    }
   ],
   "source": [
    "pQTL_combined_df = pd.merge(pQTL_df,pQTL_mapping_df,'left',left_on='ENSG',right_on='Column2')\n",
    "pQTL_combined_df = pQTL_combined_df.rename(columns={'Column1': 'Uniprot_Id'})\n",
    "pQTL_combined_df = pQTL_combined_df.drop(columns=['Column2'])\n",
    "cols = pQTL_combined_df.columns.tolist()\n",
    "cols = cols[-1:] + cols[:-1]\n",
    "pQTL_combined_df = pQTL_combined_df[cols]\n",
    "pQTL_combined_df = pQTL_combined_df[pQTL_combined_df['Uniprot_Id'].notna()]\n",
    "print(pQTL_combined_df)"
   ]
  },
  {
   "cell_type": "code",
   "execution_count": 0,
   "metadata": {
    "colab": {},
    "colab_type": "code",
    "id": "m2qHZt0Imrj6"
   },
   "outputs": [],
   "source": [
    "csv_out_path = \"/content/drive/My Drive/Colab Notebooks/Research/ProteinProteinAssociation/data_sources/pQTL_combined.csv\"\n",
    "pQTL_combined_df.to_csv(csv_out_path,index=False)"
   ]
  },
  {
   "cell_type": "code",
   "execution_count": null,
   "metadata": {},
   "outputs": [],
   "source": []
  },
  {
   "cell_type": "code",
   "execution_count": 54,
   "metadata": {
    "collapsed": true
   },
   "outputs": [
    {
     "data": {
      "text/plain": [
       "{'P84085': {'Q07866': {'neighborhood': 0,\n",
       "   'neighborhood_transferred': 0,\n",
       "   'fusion': 0,\n",
       "   'cooccurence': 0,\n",
       "   'homology': 0,\n",
       "   'coexpression': 0,\n",
       "   'coexpression_transferred': 55,\n",
       "   'experiments': 0,\n",
       "   'experiments_transferred': 78,\n",
       "   'database': 900,\n",
       "   'database_transferred': 0,\n",
       "   'textmining': 0,\n",
       "   'textmining_transferred': 0,\n",
       "   'combined_score': 905},\n",
       "  'Q9ULH1': {'neighborhood': 0,\n",
       "   'neighborhood_transferred': 0,\n",
       "   'fusion': 0,\n",
       "   'cooccurence': 0,\n",
       "   'homology': 0,\n",
       "   'coexpression': 0,\n",
       "   'coexpression_transferred': 0,\n",
       "   'experiments': 0,\n",
       "   'experiments_transferred': 172,\n",
       "   'database': 0,\n",
       "   'database_transferred': 0,\n",
       "   'textmining': 716,\n",
       "   'textmining_transferred': 452,\n",
       "   'combined_score': 859},\n",
       "  'O95398': {'neighborhood': 0,\n",
       "   'neighborhood_transferred': 0,\n",
       "   'fusion': 0,\n",
       "   'cooccurence': 0,\n",
       "   'homology': 0,\n",
       "   'coexpression': 0,\n",
       "   'coexpression_transferred': 0,\n",
       "   'experiments': 0,\n",
       "   'experiments_transferred': 180,\n",
       "   'database': 0,\n",
       "   'database_transferred': 0,\n",
       "   'textmining': 0,\n",
       "   'textmining_transferred': 44,\n",
       "   'combined_score': 182}},\n",
       " 'Q07866': {'P84085': {'neighborhood': 0,\n",
       "   'neighborhood_transferred': 0,\n",
       "   'fusion': 0,\n",
       "   'cooccurence': 0,\n",
       "   'homology': 0,\n",
       "   'coexpression': 0,\n",
       "   'coexpression_transferred': 55,\n",
       "   'experiments': 0,\n",
       "   'experiments_transferred': 78,\n",
       "   'database': 900,\n",
       "   'database_transferred': 0,\n",
       "   'textmining': 0,\n",
       "   'textmining_transferred': 0,\n",
       "   'combined_score': 905}},\n",
       " 'Q9ULH1': {'P84085': {'neighborhood': 0,\n",
       "   'neighborhood_transferred': 0,\n",
       "   'fusion': 0,\n",
       "   'cooccurence': 0,\n",
       "   'homology': 0,\n",
       "   'coexpression': 0,\n",
       "   'coexpression_transferred': 0,\n",
       "   'experiments': 0,\n",
       "   'experiments_transferred': 172,\n",
       "   'database': 0,\n",
       "   'database_transferred': 0,\n",
       "   'textmining': 716,\n",
       "   'textmining_transferred': 452,\n",
       "   'combined_score': 859}},\n",
       " 'O95398': {'P84085': {'neighborhood': 0,\n",
       "   'neighborhood_transferred': 0,\n",
       "   'fusion': 0,\n",
       "   'cooccurence': 0,\n",
       "   'homology': 0,\n",
       "   'coexpression': 0,\n",
       "   'coexpression_transferred': 0,\n",
       "   'experiments': 0,\n",
       "   'experiments_transferred': 180,\n",
       "   'database': 0,\n",
       "   'database_transferred': 0,\n",
       "   'textmining': 0,\n",
       "   'textmining_transferred': 44,\n",
       "   'combined_score': 182}}}"
      ]
     },
     "execution_count": 54,
     "metadata": {},
     "output_type": "execute_result"
    }
   ],
   "source": [
    "huge_json"
   ]
  },
  {
   "cell_type": "code",
   "execution_count": 55,
   "metadata": {},
   "outputs": [],
   "source": []
  },
  {
   "cell_type": "code",
   "execution_count": 51,
   "metadata": {
    "collapsed": true
   },
   "outputs": [
    {
     "data": {
      "text/plain": [
       "['neighborhood',\n",
       " 'neighborhood_transferred',\n",
       " 'fusion',\n",
       " 'cooccurence',\n",
       " 'homology',\n",
       " 'coexpression',\n",
       " 'coexpression_transferred',\n",
       " 'experiments',\n",
       " 'experiments_transferred',\n",
       " 'database',\n",
       " 'database_transferred',\n",
       " 'textmining',\n",
       " 'textmining_transferred',\n",
       " 'combined_score']"
      ]
     },
     "execution_count": 51,
     "metadata": {},
     "output_type": "execute_result"
    }
   ],
   "source": [
    "colnames"
   ]
  },
  {
   "cell_type": "code",
   "execution_count": null,
   "metadata": {},
   "outputs": [],
   "source": []
  }
 ],
 "metadata": {
  "colab": {
   "authorship_tag": "ABX9TyMAZ0dMCAbNlO+OJbam2w2T",
   "mount_file_id": "1S9nwDulpMYMDnLSZk2PulfCo8CIV-2hV",
   "name": "DataConversion.ipynb",
   "provenance": [],
   "toc_visible": true
  },
  "kernelspec": {
   "display_name": "Python 3",
   "language": "python",
   "name": "python3"
  },
  "language_info": {
   "codemirror_mode": {
    "name": "ipython",
    "version": 3
   },
   "file_extension": ".py",
   "mimetype": "text/x-python",
   "name": "python",
   "nbconvert_exporter": "python",
   "pygments_lexer": "ipython3",
   "version": "3.7.4"
  }
 },
 "nbformat": 4,
 "nbformat_minor": 1
}
