{
 "cells": [
  {
   "cell_type": "markdown",
   "metadata": {
    "colab_type": "text",
    "id": "A4LWoKAApiCt"
   },
   "source": [
    "# Setting up\n",
    "Import libraries and graph data"
   ]
  },
  {
   "cell_type": "code",
   "execution_count": 1,
   "metadata": {
    "colab": {},
    "colab_type": "code",
    "id": "oKQsKrvso2Uv"
   },
   "outputs": [],
   "source": [
    "import networkx as nx\n",
    "from networkx.algorithms.community import k_clique_communities\n",
    "from networkx.algorithms.clique import find_cliques\n",
    "import pandas as pd\n",
    "import numpy as np\n",
    "import time\n",
    "from sklearn.metrics import roc_curve\n",
    "from sklearn.metrics import roc_auc_score\n",
    "from matplotlib import pyplot\n",
    "from csv import writer\n",
    "import glob\n",
    "\n",
    "directory_path = \"D:/Desktop/Northeastern_University/Research/Proteomics/ProteinProteinAssociation/Development\""
   ]
  },
  {
   "cell_type": "markdown",
   "metadata": {
    "colab_type": "text",
    "id": "44AAFJjiKoGg"
   },
   "source": [
    "# Loads network graph"
   ]
  },
  {
   "cell_type": "markdown",
   "metadata": {
    "colab_type": "text",
    "id": "36qIowUjpYMb"
   },
   "source": [
    "Loads graph as-is then remove the isolated nodes"
   ]
  },
  {
   "cell_type": "code",
   "execution_count": 0,
   "metadata": {
    "colab": {
     "base_uri": "https://localhost:8080/",
     "height": 50
    },
    "colab_type": "code",
    "executionInfo": {
     "elapsed": 4313,
     "status": "ok",
     "timestamp": 1589401302172,
     "user": {
      "displayName": "Hoyin Chu",
      "photoUrl": "",
      "userId": "08687870196591871814"
     },
     "user_tz": 240
    },
    "id": "euKL3hoCnhSB",
    "outputId": "2a7d40de-1536-4759-fa0e-278aa773716c"
   },
   "outputs": [
    {
     "name": "stdout",
     "output_type": "stream",
     "text": [
      "Number of nodes: 9966\n",
      "Number of edges: 60718\n"
     ]
    }
   ],
   "source": [
    "# Loads network data from graphml\n",
    "# Warning: Node attributes will be string\n",
    "graph_input_path = \"/content/drive/My Drive/Colab Notebooks/Research/ProteinProteinAssociation/graph_outputs/ppa_r2_90_co_5.graphml\"\n",
    "ppa_graph = nx.read_graphml(graph_input_path)\n",
    "\n",
    "# Remove isolated nodes\n",
    "isolated = list(nx.isolates(ppa_graph))\n",
    "ppa_graph.remove_nodes_from(isolated)\n",
    "print(f\"Number of nodes: {ppa_graph.number_of_nodes()}\")\n",
    "print(f\"Number of edges: {ppa_graph.number_of_edges()}\")"
   ]
  },
  {
   "cell_type": "markdown",
   "metadata": {
    "colab_type": "text",
    "id": "wr1_HnkLC9B4"
   },
   "source": [
    "Define helper methods and find all cliques of size k"
   ]
  },
  {
   "cell_type": "code",
   "execution_count": 0,
   "metadata": {
    "colab": {
     "base_uri": "https://localhost:8080/",
     "height": 67
    },
    "colab_type": "code",
    "executionInfo": {
     "elapsed": 803,
     "status": "ok",
     "timestamp": 1588839185058,
     "user": {
      "displayName": "Hoyin Chu",
      "photoUrl": "",
      "userId": "08687870196591871814"
     },
     "user_tz": 240
    },
    "id": "dHeuPd9aC8Ra",
    "outputId": "2fa15ece-5b8c-43da-ba78-11f0c0120670"
   },
   "outputs": [
    {
     "name": "stdout",
     "output_type": "stream",
     "text": [
      "Number of cliques in network: 57372\n",
      "Number of cliques of size 3: 3054\n",
      "Number of cliques of size 4: 235\n"
     ]
    }
   ],
   "source": [
    "all_cliques = list(nx.find_cliques(ppa_graph))\n",
    "print(f\"Number of cliques in network: {len(all_cliques)}\")\n",
    "\n",
    "def find_cliques_of_size_k(k):\n",
    "  toReturn = []\n",
    "  for clique in all_cliques:\n",
    "    if (len(clique) == k):\n",
    "      to_append = [ppa_graph.nodes[protein_num]['Simplified_protein_ID'] for protein_num in list(clique)]\n",
    "      toReturn.append(to_append)\n",
    "  return toReturn\n",
    "\n",
    "# remove cliques that contain the same node more than once\n",
    "def clean_clique(clique_list):\n",
    "  clean_clique = []\n",
    "  for clique in clique_list:\n",
    "    repeat_set = set()\n",
    "    for node in clique:\n",
    "      repeat_set.add(node)\n",
    "    if len(repeat_set) == len(clique):\n",
    "      clean_clique.append(clique)\n",
    "  return clean_clique\n",
    "\n",
    "size_3_cliques = clean_clique(find_cliques_of_size_k(3))\n",
    "size_4_cliques = clean_clique(find_cliques_of_size_k(4))\n",
    "\n",
    "print(f\"Number of cliques of size 3: {len(size_3_cliques)}\")\n",
    "print(f\"Number of cliques of size 4: {len(size_4_cliques)}\")"
   ]
  },
  {
   "cell_type": "markdown",
   "metadata": {
    "colab_type": "text",
    "id": "BOsIQZIQQaWV"
   },
   "source": [
    "# Loading Validation Datasets"
   ]
  },
  {
   "cell_type": "code",
   "execution_count": 0,
   "metadata": {
    "colab": {},
    "colab_type": "code",
    "id": "ijrGG0WUQc-D"
   },
   "outputs": [],
   "source": [
    "path_to_corum_complexes = \"/content/drive/My Drive/Colab Notebooks/Research/ProteinProteinAssociation/data_sources/Corum/allComplexes.txt\"\n",
    "corum_complexes_dataframe = pd.read_csv(path_to_corum_complexes,sep='\\t')\n",
    "# Makes a numpy array of all unique proteins in Corum\n",
    "all_corum_subunits = corum_complexes_dataframe[\"subunits(UniProt IDs)\"].to_numpy()\n",
    "all_corum_subunits_list = list(map(lambda x: x.split(\";\"),all_corum_subunits))\n",
    "all_corum_proteins = np.unique(np.array([item for sublist in all_corum_subunits_list for item in sublist]))\n",
    "\n",
    "huri_union_path = \"/content/drive/My Drive/Colab Notebooks/Research/ProteinProteinAssociation/data_sources/Huri/HI-union-processed.csv\"\n",
    "huri_union_df = pd.read_csv(huri_union_path)\n",
    "all_ids_in_huri = np.array(huri_union_df['Uniprot_Id_1'].tolist() + huri_union_df['Uniprot_Id_2'].tolist())\n",
    "huri_combined = (huri_union_df[\"Uniprot_Id_1\"] + \";\" + huri_union_df[\"Uniprot_Id_2\"]).to_numpy()\n",
    "unique_ids_in_huri = np.unique(all_ids_in_huri)"
   ]
  },
  {
   "cell_type": "markdown",
   "metadata": {
    "colab_type": "text",
    "id": "jHziNjdwQ_1o"
   },
   "source": [
    "# Load Common Util Functions"
   ]
  },
  {
   "cell_type": "code",
   "execution_count": 0,
   "metadata": {
    "colab": {},
    "colab_type": "code",
    "id": "_1PxI3ZfRDIT"
   },
   "outputs": [],
   "source": [
    "# to_verify: list to be checked where if each element is in verify_list\n",
    "# verify_list: list to be checked against\n",
    "# min_verify_count: the minimum amount of elements in to_verify that needs to \n",
    "# be in verify_list in order for to_verify to be considered verifiable\n",
    "def is_verifiable(to_verify,verify_list,min_verify_count):\n",
    "  count = 0\n",
    "  for node in to_verify:\n",
    "    if node in verify_list:\n",
    "      count += 1\n",
    "  return count >= min_verify_count"
   ]
  },
  {
   "cell_type": "markdown",
   "metadata": {
    "colab_type": "text",
    "id": "GIlKwtFRSFVX"
   },
   "source": [
    "# Data Analysis: ProteomeHD"
   ]
  },
  {
   "cell_type": "markdown",
   "metadata": {
    "colab_type": "text",
    "id": "k1Al5VzpFTAH"
   },
   "source": [
    "ProteomeHD Full Interaction. The data is 4 gb so it takes about 4 minutes to load"
   ]
  },
  {
   "cell_type": "code",
   "execution_count": 0,
   "metadata": {
    "colab": {},
    "colab_type": "code",
    "id": "WCMfxXtlFSsw"
   },
   "outputs": [],
   "source": [
    "proteomeHD_all_pairs_interactions_df_path = \"/content/drive/My Drive/Colab Notebooks/Research/ProteinProteinAssociation/data_sources/ProteomeHD/all_proteomeHD_pairs.csv\"\n",
    "proteomeHD_all_pairs_interactions_df = pd.read_csv(proteomeHD_all_pairs_interactions_df_path)"
   ]
  },
  {
   "cell_type": "code",
   "execution_count": 0,
   "metadata": {
    "colab": {},
    "colab_type": "code",
    "id": "2fUHIN7rJVvx"
   },
   "outputs": [],
   "source": [
    "proteomeHD_all_pairs_interactions_df.describe()"
   ]
  },
  {
   "cell_type": "code",
   "execution_count": 0,
   "metadata": {
    "colab": {},
    "colab_type": "code",
    "id": "6nHaRD_BHi9X"
   },
   "outputs": [],
   "source": [
    "proteomeHD_all_pairs_interactions_df_cutoff = proteomeHD_all_pairs_interactions_df[proteomeHD_all_pairs_interactions_df['r'] >= 0.5]"
   ]
  },
  {
   "cell_type": "code",
   "execution_count": 0,
   "metadata": {
    "colab": {},
    "colab_type": "code",
    "id": "H-DT4rfhIxQj"
   },
   "outputs": [],
   "source": [
    "proteomeHD_all_pairs_interactions_df_cutoff = proteomeHD_all_pairs_interactions_df_cutoff[proteomeHD_all_pairs_interactions_df_cutoff['observations'] >= 5]"
   ]
  },
  {
   "cell_type": "code",
   "execution_count": 12,
   "metadata": {
    "colab": {
     "base_uri": "https://localhost:8080/",
     "height": 284
    },
    "colab_type": "code",
    "executionInfo": {
     "elapsed": 1198,
     "status": "ok",
     "timestamp": 1589425727629,
     "user": {
      "displayName": "Hoyin Chu",
      "photoUrl": "",
      "userId": "08687870196591871814"
     },
     "user_tz": 240
    },
    "id": "05ub5JJ7I5WP",
    "outputId": "803b2ceb-1409-4fa7-d542-a1fd5f8e72f2"
   },
   "outputs": [
    {
     "data": {
      "text/html": [
       "<div>\n",
       "<style scoped>\n",
       "    .dataframe tbody tr th:only-of-type {\n",
       "        vertical-align: middle;\n",
       "    }\n",
       "\n",
       "    .dataframe tbody tr th {\n",
       "        vertical-align: top;\n",
       "    }\n",
       "\n",
       "    .dataframe thead th {\n",
       "        text-align: right;\n",
       "    }\n",
       "</style>\n",
       "<table border=\"1\" class=\"dataframe\">\n",
       "  <thead>\n",
       "    <tr style=\"text-align: right;\">\n",
       "      <th></th>\n",
       "      <th>r</th>\n",
       "      <th>r2</th>\n",
       "      <th>observations</th>\n",
       "    </tr>\n",
       "  </thead>\n",
       "  <tbody>\n",
       "    <tr>\n",
       "      <th>count</th>\n",
       "      <td>3.522763e+06</td>\n",
       "      <td>3.522763e+06</td>\n",
       "      <td>3.522763e+06</td>\n",
       "    </tr>\n",
       "    <tr>\n",
       "      <th>mean</th>\n",
       "      <td>6.632259e-01</td>\n",
       "      <td>4.551272e-01</td>\n",
       "      <td>3.292085e+01</td>\n",
       "    </tr>\n",
       "    <tr>\n",
       "      <th>std</th>\n",
       "      <td>1.235261e-01</td>\n",
       "      <td>1.751424e-01</td>\n",
       "      <td>4.941992e+01</td>\n",
       "    </tr>\n",
       "    <tr>\n",
       "      <th>min</th>\n",
       "      <td>5.000001e-01</td>\n",
       "      <td>2.500001e-01</td>\n",
       "      <td>5.000000e+00</td>\n",
       "    </tr>\n",
       "    <tr>\n",
       "      <th>25%</th>\n",
       "      <td>5.593905e-01</td>\n",
       "      <td>3.129177e-01</td>\n",
       "      <td>7.000000e+00</td>\n",
       "    </tr>\n",
       "    <tr>\n",
       "      <th>50%</th>\n",
       "      <td>6.360998e-01</td>\n",
       "      <td>4.046229e-01</td>\n",
       "      <td>1.300000e+01</td>\n",
       "    </tr>\n",
       "    <tr>\n",
       "      <th>75%</th>\n",
       "      <td>7.466053e-01</td>\n",
       "      <td>5.574194e-01</td>\n",
       "      <td>3.200000e+01</td>\n",
       "    </tr>\n",
       "    <tr>\n",
       "      <th>max</th>\n",
       "      <td>9.999991e-01</td>\n",
       "      <td>9.999982e-01</td>\n",
       "      <td>2.940000e+02</td>\n",
       "    </tr>\n",
       "  </tbody>\n",
       "</table>\n",
       "</div>"
      ],
      "text/plain": [
       "                  r            r2  observations\n",
       "count  3.522763e+06  3.522763e+06  3.522763e+06\n",
       "mean   6.632259e-01  4.551272e-01  3.292085e+01\n",
       "std    1.235261e-01  1.751424e-01  4.941992e+01\n",
       "min    5.000001e-01  2.500001e-01  5.000000e+00\n",
       "25%    5.593905e-01  3.129177e-01  7.000000e+00\n",
       "50%    6.360998e-01  4.046229e-01  1.300000e+01\n",
       "75%    7.466053e-01  5.574194e-01  3.200000e+01\n",
       "max    9.999991e-01  9.999982e-01  2.940000e+02"
      ]
     },
     "execution_count": 12,
     "metadata": {
      "tags": []
     },
     "output_type": "execute_result"
    }
   ],
   "source": [
    "proteomeHD_all_pairs_interactions_df_cutoff.describe()"
   ]
  },
  {
   "cell_type": "code",
   "execution_count": 0,
   "metadata": {
    "colab": {},
    "colab_type": "code",
    "id": "XLvcQvsNKPVt"
   },
   "outputs": [],
   "source": [
    "cutoff_csv_save_path = \"/content/drive/My Drive/Colab Notebooks/Research/ProteinProteinAssociation/data_sources/ProteomeHD/all_proteomeHD_pairs_cutoff_r_050_obs_5.csv\"\n",
    "proteomeHD_all_pairs_interactions_df_cutoff.to_csv(cutoff_csv_save_path)"
   ]
  },
  {
   "cell_type": "markdown",
   "metadata": {
    "colab_type": "text",
    "id": "3syO7iUpSLYK"
   },
   "source": [
    "Loading a random 100k samples from proteomeHD without validating"
   ]
  },
  {
   "cell_type": "code",
   "execution_count": 0,
   "metadata": {
    "colab": {},
    "colab_type": "code",
    "id": "7US07rlPSHfu"
   },
   "outputs": [],
   "source": [
    "proteomeHD_interactions_path = \"/content/drive/My Drive/Colab Notebooks/Research/ProteinProteinAssociation/csv_outputs/proteomeHD/2_sample_100000_total_ver_1.csv\"\n",
    "proteomeHD_interactions_df = pd.read_csv(proteomeHD_interactions_path)"
   ]
  },
  {
   "cell_type": "markdown",
   "metadata": {
    "colab_type": "text",
    "id": "wuVVs5xaSV4R"
   },
   "source": [
    "Summary Statistics:"
   ]
  },
  {
   "cell_type": "code",
   "execution_count": 0,
   "metadata": {
    "colab": {
     "base_uri": "https://localhost:8080/",
     "height": 470
    },
    "colab_type": "code",
    "executionInfo": {
     "elapsed": 363,
     "status": "ok",
     "timestamp": 1589401346233,
     "user": {
      "displayName": "Hoyin Chu",
      "photoUrl": "",
      "userId": "08687870196591871814"
     },
     "user_tz": 240
    },
    "id": "m_AAWjc7SXHc",
    "outputId": "60705c9f-19b0-4e6b-f414-40a5a660ed37"
   },
   "outputs": [
    {
     "name": "stdout",
     "output_type": "stream",
     "text": [
      "count    99983.000000\n",
      "mean         0.005413\n",
      "std          0.409044\n",
      "min         -1.000000\n",
      "25%         -0.217887\n",
      "50%          0.000000\n",
      "75%          0.228426\n",
      "max          1.000000\n",
      "Name: r, dtype: float64\n",
      "count    99983.000000\n",
      "mean         0.167345\n",
      "std          0.260950\n",
      "min          0.000000\n",
      "25%          0.005258\n",
      "50%          0.049838\n",
      "75%          0.198446\n",
      "max          1.000000\n",
      "Name: r2, dtype: float64\n",
      "count    100000.000000\n",
      "mean         47.595750\n",
      "std          58.392053\n",
      "min           0.000000\n",
      "25%           6.000000\n",
      "50%          22.000000\n",
      "75%          70.000000\n",
      "max         293.000000\n",
      "Name: observations, dtype: float64\n"
     ]
    }
   ],
   "source": [
    "print(pd.DataFrame.describe(proteomeHD_interactions_df['r']))\n",
    "print(pd.DataFrame.describe(proteomeHD_interactions_df['r2']))\n",
    "print(pd.DataFrame.describe(proteomeHD_interactions_df['observations']))"
   ]
  },
  {
   "cell_type": "code",
   "execution_count": 0,
   "metadata": {
    "colab": {
     "base_uri": "https://localhost:8080/",
     "height": 285
    },
    "colab_type": "code",
    "executionInfo": {
     "elapsed": 513,
     "status": "ok",
     "timestamp": 1589401389108,
     "user": {
      "displayName": "Hoyin Chu",
      "photoUrl": "",
      "userId": "08687870196591871814"
     },
     "user_tz": 240
    },
    "id": "8Q7QWkq8tCHn",
    "outputId": "8ac1b7ea-f2c6-4085-8c86-2fd7a03e9935"
   },
   "outputs": [
    {
     "data": {
      "text/plain": [
       "<matplotlib.axes._subplots.AxesSubplot at 0x7f58cd15e390>"
      ]
     },
     "execution_count": 9,
     "metadata": {
      "tags": []
     },
     "output_type": "execute_result"
    },
    {
     "data": {
      "image/png": "[encoded data removed]",
      "text/plain": [
       "<Figure size 432x288 with 1 Axes>"
      ]
     },
     "metadata": {
      "tags": []
     },
     "output_type": "display_data"
    }
   ],
   "source": [
    "import seaborn as sns\n",
    "sns.set(style=\"whitegrid\")\n",
    "sns.boxenplot(data=[proteomeHD_interactions_df['r'].to_numpy()])"
   ]
  },
  {
   "cell_type": "markdown",
   "metadata": {
    "colab_type": "text",
    "id": "EqtqllACBYSy"
   },
   "source": [
    "## Data Analysis: ProteomeHD and Corum"
   ]
  },
  {
   "cell_type": "markdown",
   "metadata": {
    "colab_type": "text",
    "id": "wUSkE505h0uh"
   },
   "source": [
    "Load up protein complexes from Corum"
   ]
  },
  {
   "cell_type": "code",
   "execution_count": 0,
   "metadata": {
    "colab": {},
    "colab_type": "code",
    "id": "4zhOUfOM4jPD"
   },
   "outputs": [],
   "source": [
    "path_to_corum_complexes = \"/content/drive/My Drive/Colab Notebooks/Research/ProteinProteinAssociation/data_sources/Corum/allComplexes.txt\"\n",
    "corum_complexes_dataframe = pd.read_csv(path_to_corum_complexes,sep='\\t')\n",
    "#corum_complexes_dataframe.head()"
   ]
  },
  {
   "cell_type": "markdown",
   "metadata": {
    "colab_type": "text",
    "id": "8yWxdTWHjnWp"
   },
   "source": [
    "Get all unique proteins and all subunits from corum"
   ]
  },
  {
   "cell_type": "code",
   "execution_count": 0,
   "metadata": {
    "colab": {},
    "colab_type": "code",
    "id": "BuBIMdajeEFM"
   },
   "outputs": [],
   "source": [
    "# Makes a numpy array of all unique proteins in Corum\n",
    "all_corum_subunits = corum_complexes_dataframe[\"subunits(UniProt IDs)\"].to_numpy()\n",
    "all_corum_subunits_list = list(map(lambda x: x.split(\";\"),all_corum_subunits))\n",
    "all_corum_proteins = np.unique(np.array([item for sublist in all_corum_subunits_list for item in sublist]))"
   ]
  },
  {
   "cell_type": "markdown",
   "metadata": {
    "colab_type": "text",
    "id": "yGoLVK5y8gQ_"
   },
   "source": [
    "Calculate the amount of proteins that are both in Corum and proteomeHD"
   ]
  },
  {
   "cell_type": "code",
   "execution_count": 0,
   "metadata": {
    "colab": {
     "base_uri": "https://localhost:8080/",
     "height": 67
    },
    "colab_type": "code",
    "executionInfo": {
     "elapsed": 342,
     "status": "ok",
     "timestamp": 1589401403096,
     "user": {
      "displayName": "Hoyin Chu",
      "photoUrl": "",
      "userId": "08687870196591871814"
     },
     "user_tz": 240
    },
    "id": "tc4ckTtO8fhk",
    "outputId": "ae3afeb7-d5fb-4a0e-b9b7-41ab8c4d851a"
   },
   "outputs": [
    {
     "name": "stdout",
     "output_type": "stream",
     "text": [
      "2974 overlapping proteins between proteomeHD and corum\n",
      "0.2984146096728878 of proteomeHD proteins\n",
      "0.48499673842139596 of corum proteins\n"
     ]
    }
   ],
   "source": [
    "all_proteomeHD_proteins =  [ppa_graph.nodes[protein_num]['Simplified_protein_ID'] for protein_num in ppa_graph.nodes]\n",
    "all_proteomeHD_proteins_np = np.array(all_proteomeHD_proteins)\n",
    "proteomeHD_corum_overlap = np.intersect1d(all_corum_proteins,all_proteomeHD_proteins_np)\n",
    "\n",
    "print(f\"{len(proteomeHD_corum_overlap)} overlapping proteins between proteomeHD and corum\")\n",
    "print(f\"{len(proteomeHD_corum_overlap)/len(all_proteomeHD_proteins)} of proteomeHD proteins\")\n",
    "print(f\"{len(proteomeHD_corum_overlap)/len(all_corum_proteins)} of corum proteins\")"
   ]
  },
  {
   "cell_type": "markdown",
   "metadata": {
    "colab_type": "text",
    "id": "GDDGZRlchFG-"
   },
   "source": [
    "Check how many of th 3 cliques can actually be verified by Corum (verifiable when all proteins are also in Corum)"
   ]
  },
  {
   "cell_type": "code",
   "execution_count": 0,
   "metadata": {
    "colab": {
     "base_uri": "https://localhost:8080/",
     "height": 34
    },
    "colab_type": "code",
    "executionInfo": {
     "elapsed": 1519,
     "status": "ok",
     "timestamp": 1588797929522,
     "user": {
      "displayName": "Hoyin Chu",
      "photoUrl": "",
      "userId": "08687870196591871814"
     },
     "user_tz": 240
    },
    "id": "_oLm_I9ChQAN",
    "outputId": "28b83800-00d3-435e-d923-601b81924a7d"
   },
   "outputs": [
    {
     "name": "stdout",
     "output_type": "stream",
     "text": [
      "Number of verfiable 3-cliques in Corum: 72 (0.023575638506876228 of all 3-clqiues)\n"
     ]
    }
   ],
   "source": [
    "verifiable_3_cliques = []\n",
    "for clique in size_3_cliques:\n",
    "  if is_verifiable(clique,all_corum_proteins,len(clique)):\n",
    "    verifiable_3_cliques.append(clique)\n",
    "\n",
    "print(f\"Number of verfiable 3-cliques in Corum: {len(verifiable_3_cliques)} ({len(verifiable_3_cliques)/len(size_3_cliques)} of all 3-clqiues)\")"
   ]
  },
  {
   "cell_type": "markdown",
   "metadata": {
    "colab_type": "text",
    "id": "GH05YC6q7-BE"
   },
   "source": [
    "Similarly, we ask how many complexes in Corum can be verified by proteins in proteomeHD. We name the corum complexes containing at least 2 proteomeHD proteins pair-verifiable complexes, and those with at least 3 triplet-verifiable complexes"
   ]
  },
  {
   "cell_type": "code",
   "execution_count": 0,
   "metadata": {
    "colab": {
     "base_uri": "https://localhost:8080/",
     "height": 50
    },
    "colab_type": "code",
    "executionInfo": {
     "elapsed": 4517,
     "status": "ok",
     "timestamp": 1588797934683,
     "user": {
      "displayName": "Hoyin Chu",
      "photoUrl": "",
      "userId": "08687870196591871814"
     },
     "user_tz": 240
    },
    "id": "alYWwGh78KS2",
    "outputId": "3556fd9a-0cd2-4bc0-a280-e9a43c344270"
   },
   "outputs": [
    {
     "name": "stdout",
     "output_type": "stream",
     "text": [
      "Corum complexes with >= 2 proteomeHD proteins: 2397 (0.560832943378568 of all corum complexes)\n",
      "Corum complexes with >= 3 proteomeHD proteins: 1516 (0.3547028544688816 of all corum complexes)\n"
     ]
    }
   ],
   "source": [
    "pair_verifiable_corum_complexes = []\n",
    "triplet_verifiable_corum_complexes = []\n",
    "for subunit in all_corum_subunits:\n",
    "  to_verify = subunit.split(\";\")\n",
    "  if (len(to_verify) >=2):\n",
    "    if is_verifiable(to_verify,all_proteomeHD_proteins,2):\n",
    "      pair_verifiable_corum_complexes.append(subunit)\n",
    "  if (len(to_verify)>=3):\n",
    "    if is_verifiable(to_verify,all_proteomeHD_proteins,3):\n",
    "      triplet_verifiable_corum_complexes.append(subunit)\n",
    "print(f\"Corum complexes with >= 2 proteomeHD proteins: {len(pair_verifiable_corum_complexes)} ({len(pair_verifiable_corum_complexes)/len(all_corum_subunits)} of all corum complexes)\")\n",
    "print(f\"Corum complexes with >= 3 proteomeHD proteins: {len(triplet_verifiable_corum_complexes)} ({len(triplet_verifiable_corum_complexes)/len(all_corum_subunits)} of all corum complexes)\")"
   ]
  },
  {
   "cell_type": "markdown",
   "metadata": {
    "colab_type": "text",
    "id": "HxDNIbYqtien"
   },
   "source": [
    "### Check samples of validated proteomeHD interactions in Corum"
   ]
  },
  {
   "cell_type": "markdown",
   "metadata": {
    "colab_type": "text",
    "id": "Pize9zA27d6P"
   },
   "source": [
    "Check the distribution of r, r2, and observations of validated interactions in Corum"
   ]
  },
  {
   "cell_type": "code",
   "execution_count": 0,
   "metadata": {
    "colab": {
     "base_uri": "https://localhost:8080/",
     "height": 468
    },
    "colab_type": "code",
    "executionInfo": {
     "elapsed": 3098,
     "status": "ok",
     "timestamp": 1588798009702,
     "user": {
      "displayName": "Hoyin Chu",
      "photoUrl": "",
      "userId": "08687870196591871814"
     },
     "user_tz": 240
    },
    "id": "T8unr_017dR7",
    "outputId": "7ee71a1a-a319-4e34-c55a-256883390fca"
   },
   "outputs": [
    {
     "name": "stderr",
     "output_type": "stream",
     "text": [
      "/usr/local/lib/python3.6/dist-packages/IPython/core/interactiveshell.py:2718: DtypeWarning: Columns (8) have mixed types.Specify dtype option on import or set low_memory=False.\n",
      "  interactivity=interactivity, compiler=compiler, result=result)\n",
      "/usr/local/lib/python3.6/dist-packages/numpy/lib/histograms.py:839: RuntimeWarning: invalid value encountered in greater_equal\n",
      "  keep = (tmp_a >= first_edge)\n",
      "/usr/local/lib/python3.6/dist-packages/numpy/lib/histograms.py:840: RuntimeWarning: invalid value encountered in less_equal\n",
      "  keep &= (tmp_a <= last_edge)\n"
     ]
    },
    {
     "name": "stdout",
     "output_type": "stream",
     "text": [
      "Comparing the distribution of r,r2,observations of\n",
      "Validated Corrum interactions (top row)\n",
      "Random samples from proteomeHD (bottom row)\n"
     ]
    },
    {
     "data": {
      "image/png": "[encoded data removed]",
      "text/plain": [
       "<Figure size 432x288 with 6 Axes>"
      ]
     },
     "metadata": {
      "needs_background": "light",
      "tags": []
     },
     "output_type": "display_data"
    }
   ],
   "source": [
    "import matplotlib.pyplot as plt\n",
    "validated_corum_interactions_path = \"/content/drive/My Drive/Colab Notebooks/Research/ProteinProteinAssociation/csv_outputs/proteomeHD_corum/overlap_1000_pos_99000_neg.csv\"\n",
    "validated_corum_interactions_df = pd.read_csv(validated_corum_interactions_path)\n",
    "validated_corum_interactions_df = validated_corum_interactions_df[validated_corum_interactions_df[\"r2\"] != 1]\n",
    "fig, axs = plt.subplots(2, 3)\n",
    "num_bins = 20\n",
    "corum_r_values,_,_ = axs[0,0].hist(validated_corum_interactions_df['r'], num_bins)\n",
    "axs[0,0].set_title('r value dist (corum)')\n",
    "corum_r2_values,_,_ = axs[0,1].hist(validated_corum_interactions_df['r2'], num_bins)\n",
    "axs[0,1].set_title('r2 value dist (corum)')\n",
    "corum_observations_values,_,_ = axs[0,2].hist(validated_corum_interactions_df['observations'], num_bins)\n",
    "axs[0,2].set_title('observations dist (corum)')\n",
    "proteomeHD_r_values,_,_ = axs[1,0].hist(proteomeHD_interactions_df['r'], num_bins)\n",
    "axs[1,0].set_title('r value dist (HD)')\n",
    "proteomeHD_r2_values,_,_ = axs[1,1].hist(proteomeHD_interactions_df['r2'], num_bins)\n",
    "axs[1,1].set_title('r2 value dist (HD)')\n",
    "proteomeHD_observations_values,_,_ = axs[1,2].hist(proteomeHD_interactions_df['observations'], num_bins)\n",
    "axs[1,2].set_title('observations dist (HD)')\n",
    "plt.tight_layout()\n",
    "print(\"Comparing the distribution of r,r2,observations of\")\n",
    "print(\"Validated Corrum interactions (top row)\")\n",
    "print(\"Random samples from proteomeHD (bottom row)\")\n",
    "plt.show()"
   ]
  },
  {
   "cell_type": "markdown",
   "metadata": {
    "colab_type": "text",
    "id": "gsccyYM4ByKC"
   },
   "source": [
    "Graph the distribution of pair verifiable corum complexes sizes"
   ]
  },
  {
   "cell_type": "code",
   "execution_count": 0,
   "metadata": {
    "colab": {
     "base_uri": "https://localhost:8080/",
     "height": 416
    },
    "colab_type": "code",
    "executionInfo": {
     "elapsed": 561,
     "status": "ok",
     "timestamp": 1588750090344,
     "user": {
      "displayName": "Hoyin Chu",
      "photoUrl": "",
      "userId": "08687870196591871814"
     },
     "user_tz": 240
    },
    "id": "iVshAvNuBuHY",
    "outputId": "3df90699-6d99-4da3-ab52-5d99248340ad"
   },
   "outputs": [
    {
     "name": "stdout",
     "output_type": "stream",
     "text": [
      "       ComplexSizes\n",
      "count   2397.000000\n",
      "mean       4.688778\n",
      "std        6.036541\n",
      "min        2.000000\n",
      "25%        3.000000\n",
      "50%        3.000000\n",
      "75%        5.000000\n",
      "max      143.000000\n"
     ]
    },
    {
     "data": {
      "image/png": "[encoded data removed]",
      "text/plain": [
       "<Figure size 432x288 with 1 Axes>"
      ]
     },
     "metadata": {
      "needs_background": "light",
      "tags": []
     },
     "output_type": "display_data"
    }
   ],
   "source": [
    "import matplotlib.pyplot as plt\n",
    "from collections import Counter\n",
    "pair_verifiable_corum_complexes_sizes = np.array(list(map(lambda x: len(x.split(\";\")),pair_verifiable_corum_complexes)))\n",
    "size_counter_matrix = np.array(sorted(Counter(pair_verifiable_corum_complexes_sizes).items()))\n",
    "print(pd.DataFrame.describe(pd.DataFrame(pair_verifiable_corum_complexes_sizes,columns=['ComplexSizes'])))\n",
    "_= plt.bar(size_counter_matrix[:,0],size_counter_matrix[:,1])"
   ]
  },
  {
   "cell_type": "markdown",
   "metadata": {
    "colab_type": "text",
    "id": "IKdGuZo8AXwG"
   },
   "source": [
    "We want to investigate the effect of complex size on the validation of proteomeHD protein pairs. In other words, given that a protein pair from proteomeHD is validated, what is the probability that the complex is got validated in has size n? "
   ]
  },
  {
   "cell_type": "markdown",
   "metadata": {
    "colab_type": "text",
    "id": "PkIvebQqxG7-"
   },
   "source": [
    "We define a function where x = size of complex, y = number of possible pairs it can generate. Then graph the number of pairs all protein complex sizes can produce"
   ]
  },
  {
   "cell_type": "code",
   "execution_count": 0,
   "metadata": {
    "colab": {
     "base_uri": "https://localhost:8080/",
     "height": 265
    },
    "colab_type": "code",
    "executionInfo": {
     "elapsed": 577,
     "status": "ok",
     "timestamp": 1588750093939,
     "user": {
      "displayName": "Hoyin Chu",
      "photoUrl": "",
      "userId": "08687870196591871814"
     },
     "user_tz": 240
    },
    "id": "PlwFi40-xHKK",
    "outputId": "352bbe8c-e03d-46a7-fd9d-d361993d757e"
   },
   "outputs": [
    {
     "data": {
      "image/png": "[encoded data removed]",
      "text/plain": [
       "<Figure size 432x288 with 1 Axes>"
      ]
     },
     "metadata": {
      "needs_background": "light",
      "tags": []
     },
     "output_type": "display_data"
    }
   ],
   "source": [
    "def n_choose_2(n):\n",
    "  return int(n*(n-1)/2)\n",
    "num_possible_pairs = []\n",
    "for i in range(len(size_counter_matrix)):\n",
    "  num_possible_pairs.append(n_choose_2(size_counter_matrix[i,0]) * int(size_counter_matrix[i,1]))\n",
    "_ = plt.bar(size_counter_matrix[:,0],num_possible_pairs)"
   ]
  },
  {
   "cell_type": "markdown",
   "metadata": {
    "colab_type": "text",
    "id": "MywozVkdQZmr"
   },
   "source": [
    "We discover that theoretically, over 50% of the validated protein pairs in proteomeHD will be validated by one of the 14 complexes of size 32 or above (0.5% of total complexes), while only 10% will be validated by one of the 1785 complexes of size 5 or below (74.5% of total complexes) "
   ]
  },
  {
   "cell_type": "code",
   "execution_count": 0,
   "metadata": {
    "colab": {
     "base_uri": "https://localhost:8080/",
     "height": 84
    },
    "colab_type": "code",
    "executionInfo": {
     "elapsed": 338,
     "status": "ok",
     "timestamp": 1588750096273,
     "user": {
      "displayName": "Hoyin Chu",
      "photoUrl": "",
      "userId": "08687870196591871814"
     },
     "user_tz": 240
    },
    "id": "JX-hSgfFAdzX",
    "outputId": "cf1fb632-5272-4199-d2e9-5fa63db46ba7"
   },
   "outputs": [
    {
     "name": "stdout",
     "output_type": "stream",
     "text": [
      "Number of complexes of size 5 or below: 1785 (0.7446808510638298 of all pair verifiable complexes)\n",
      "Probability that a validated protein is in a complex of size 5 or below: 0.10670352882703778\n",
      "Number of complexes of size 32 or above: 14 (0.005840634125990822 of all pair verifiable complexes)\n",
      "Probability that a validated protein is in a complex of size 32 or above 0.5005902087475149\n"
     ]
    }
   ],
   "source": [
    "cummulative_pair_sum = np.cumsum(num_possible_pairs)\n",
    "all_possible_pairs_sum = np.sum(num_possible_pairs)\n",
    "ratio_to_all_pairs = cummulative_pair_sum / all_possible_pairs_sum\n",
    "below_size_5_complexes = np.sum(size_counter_matrix[0:np.argmax(size_counter_matrix[:,0]==5),1])\n",
    "above_size_32_complexes = np.sum(size_counter_matrix[np.argmax(size_counter_matrix[:,0]==32):,1])\n",
    "print(f\"Number of complexes of size 5 or below: {below_size_5_complexes} ({below_size_5_complexes / len(pair_verifiable_corum_complexes)} of all pair verifiable complexes)\")\n",
    "print(f\"Probability that a validated protein is in a complex of size 5 or below: {ratio_to_all_pairs[np.argmax(size_counter_matrix[:,0]==5)]}\")\n",
    "print(f\"Number of complexes of size 32 or above: {above_size_32_complexes} ({above_size_32_complexes / len(pair_verifiable_corum_complexes)} of all pair verifiable complexes)\")\n",
    "print(f\"Probability that a validated protein is in a complex of size 32 or above {1 - ratio_to_all_pairs[np.argmax(size_counter_matrix[:,0]==32)]}\")"
   ]
  },
  {
   "cell_type": "markdown",
   "metadata": {
    "colab_type": "text",
    "id": "kUO5QlEhzLMB"
   },
   "source": [
    "To verify this, we look at our empirical data distributioon"
   ]
  },
  {
   "cell_type": "code",
   "execution_count": 0,
   "metadata": {
    "colab": {
     "base_uri": "https://localhost:8080/",
     "height": 350
    },
    "colab_type": "code",
    "executionInfo": {
     "elapsed": 637,
     "status": "ok",
     "timestamp": 1588750157261,
     "user": {
      "displayName": "Hoyin Chu",
      "photoUrl": "",
      "userId": "08687870196591871814"
     },
     "user_tz": 240
    },
    "id": "fqkEOF3YzXuJ",
    "outputId": "e81a4a55-4423-4d85-a30b-af9997d9ba63"
   },
   "outputs": [
    {
     "name": "stderr",
     "output_type": "stream",
     "text": [
      "/usr/local/lib/python3.6/dist-packages/IPython/core/interactiveshell.py:2718: DtypeWarning: Columns (8) have mixed types.Specify dtype option on import or set low_memory=False.\n",
      "  interactivity=interactivity, compiler=compiler, result=result)\n"
     ]
    },
    {
     "data": {
      "text/plain": [
       "Text(0, 0.5, 'Validated Pairs')"
      ]
     },
     "execution_count": 29,
     "metadata": {
      "tags": []
     },
     "output_type": "execute_result"
    },
    {
     "data": {
      "image/png": "[encoded data removed]",
      "text/plain": [
       "<Figure size 432x288 with 1 Axes>"
      ]
     },
     "metadata": {
      "needs_background": "light",
      "tags": []
     },
     "output_type": "display_data"
    }
   ],
   "source": [
    "biased_proteomeHD_corum_path = \"/content/drive/My Drive/Colab Notebooks/Research/ProteinProteinAssociation/csv_outputs/proteomeHD_corum/overlap_1000_pos_99000_neg.csv\"\n",
    "biased_proteomeHD_corum_df = pd.read_csv(biased_proteomeHD_corum_path)\n",
    "biased_proteomeHD_corum_df = biased_proteomeHD_corum_df[biased_proteomeHD_corum_df[\"r2\"] != 1]\n",
    "biased_proteomeHD_corum_validated_pairs = biased_proteomeHD_corum_df.dropna()[\"belong_to\"].to_numpy()\n",
    "biased_proteomeHD_corum_pairs_sizes = np.array(list(map(lambda x: len(x.split(\";\")),biased_proteomeHD_corum_validated_pairs)))\n",
    "empirical_size_counter_matrix = np.array(sorted(Counter(biased_proteomeHD_corum_pairs_sizes).items()))\n",
    "#print(empirical_size_counter_matrix)\n",
    "#print(pd.DataFrame.describe(pd.DataFrame(empirical_size_counter_matrix[:,1],columns=['ComplexSizes'])))\n",
    "_= plt.bar(empirical_size_counter_matrix[:,0],empirical_size_counter_matrix[:,1])\n",
    "plt.xlabel(\"Complex Size\")\n",
    "plt.ylabel(\"Validated Pairs\")"
   ]
  },
  {
   "cell_type": "code",
   "execution_count": 0,
   "metadata": {
    "colab": {
     "base_uri": "https://localhost:8080/",
     "height": 50
    },
    "colab_type": "code",
    "executionInfo": {
     "elapsed": 343,
     "status": "ok",
     "timestamp": 1588314026690,
     "user": {
      "displayName": "Hoyin Chu",
      "photoUrl": "",
      "userId": "08687870196591871814"
     },
     "user_tz": 240
    },
    "id": "nexuU05g34nr",
    "outputId": "d44d1751-7953-468c-a426-7107c0b1e199"
   },
   "outputs": [
    {
     "name": "stdout",
     "output_type": "stream",
     "text": [
      "Proportion of complex validated having size 5 or below: 0.1838955386289445\n",
      "Proportion of complex validated having size 32 or above 0.5168661588683352\n"
     ]
    }
   ],
   "source": [
    "empirical_cummulative_pair_sum = np.cumsum(empirical_size_counter_matrix[:,1])\n",
    "empirical_all_possible_pairs_sum = np.sum(empirical_size_counter_matrix[:,1])\n",
    "empirical_ratio_to_all_pairs = empirical_cummulative_pair_sum / empirical_all_possible_pairs_sum\n",
    "empirical_below_size_5_complexes = np.sum(size_counter_matrix[0:np.argmax(empirical_size_counter_matrix[:,0]==5),1])\n",
    "empirical_above_size_32_complexes = np.sum(size_counter_matrix[np.argmax(empirical_size_counter_matrix[:,0]==32):,1])\n",
    "print(f\"Proportion of complex validated having size 5 or below: {empirical_ratio_to_all_pairs[np.argmax(empirical_size_counter_matrix[:,0]==5)]}\")\n",
    "print(f\"Proportion of complex validated having size 32 or above {1 - empirical_ratio_to_all_pairs[np.argmax(empirical_size_counter_matrix[:,0]==32)]}\")"
   ]
  },
  {
   "cell_type": "markdown",
   "metadata": {
    "colab_type": "text",
    "id": "FsCYPgGdXDlN"
   },
   "source": [
    "### Overall ProteomeHD Corum performance"
   ]
  },
  {
   "cell_type": "code",
   "execution_count": 0,
   "metadata": {
    "colab": {},
    "colab_type": "code",
    "id": "z4HJDXUJXLFo"
   },
   "outputs": [],
   "source": [
    "proteomeHD_corum_validated_pairs_df_path = \"/content/drive/My Drive/Colab Notebooks/Research/ProteinProteinAssociation/csv_outputs/proteomeHD/corum_validated/has_validation.csv\"\n",
    "proteomeHD_corum_validated_pairs_df = pd.read_csv(proteomeHD_corum_validated_pairs_df_path)\n",
    "#proteomeHD_corum_validated_pairs_df = proteomeHD_corum_validated_pairs_df[proteomeHD_corum_validated_pairs_df[\"r2\"] < 0.99]\n",
    "proteomeHD_corum_validated_non_pairs_df_path = \"/content/drive/My Drive/Colab Notebooks/Research/ProteinProteinAssociation/csv_outputs/proteomeHD/corum_validated/has_no_validation.csv\"\n",
    "proteomeHD_corum_validated_non_pairs_df = pd.read_csv(proteomeHD_corum_validated_non_pairs_df_path)\n",
    "#proteomeHD_corum_validated_non_pairs_df = proteomeHD_corum_validated_non_pairs_df[proteomeHD_corum_validated_non_pairs_df[\"r2\"] < 0.99]"
   ]
  },
  {
   "cell_type": "code",
   "execution_count": 0,
   "metadata": {
    "colab": {
     "base_uri": "https://localhost:8080/",
     "height": 402
    },
    "colab_type": "code",
    "executionInfo": {
     "elapsed": 358,
     "status": "ok",
     "timestamp": 1589349495494,
     "user": {
      "displayName": "Hoyin Chu",
      "photoUrl": "",
      "userId": "08687870196591871814"
     },
     "user_tz": 240
    },
    "id": "RidnY7l7bnn6",
    "outputId": "76e7c3d1-5dbc-435c-f57b-b0381a85f67f"
   },
   "outputs": [
    {
     "data": {
      "text/html": [
       "<div>\n",
       "<style scoped>\n",
       "    .dataframe tbody tr th:only-of-type {\n",
       "        vertical-align: middle;\n",
       "    }\n",
       "\n",
       "    .dataframe tbody tr th {\n",
       "        vertical-align: top;\n",
       "    }\n",
       "\n",
       "    .dataframe thead th {\n",
       "        text-align: right;\n",
       "    }\n",
       "</style>\n",
       "<table border=\"1\" class=\"dataframe\">\n",
       "  <thead>\n",
       "    <tr style=\"text-align: right;\">\n",
       "      <th></th>\n",
       "      <th>protein1</th>\n",
       "      <th>protein2</th>\n",
       "      <th>r</th>\n",
       "      <th>r2</th>\n",
       "      <th>observations</th>\n",
       "    </tr>\n",
       "  </thead>\n",
       "  <tbody>\n",
       "    <tr>\n",
       "      <th>0</th>\n",
       "      <td>P56524</td>\n",
       "      <td>P27361</td>\n",
       "      <td>-0.049762</td>\n",
       "      <td>0.002476</td>\n",
       "      <td>39</td>\n",
       "    </tr>\n",
       "    <tr>\n",
       "      <th>1</th>\n",
       "      <td>P56524</td>\n",
       "      <td>P28482</td>\n",
       "      <td>-0.052761</td>\n",
       "      <td>0.002784</td>\n",
       "      <td>43</td>\n",
       "    </tr>\n",
       "    <tr>\n",
       "      <th>2</th>\n",
       "      <td>P56524</td>\n",
       "      <td>P59768</td>\n",
       "      <td>0.250236</td>\n",
       "      <td>0.062618</td>\n",
       "      <td>9</td>\n",
       "    </tr>\n",
       "    <tr>\n",
       "      <th>3</th>\n",
       "      <td>P56524</td>\n",
       "      <td>P62873</td>\n",
       "      <td>0.045789</td>\n",
       "      <td>0.002097</td>\n",
       "      <td>42</td>\n",
       "    </tr>\n",
       "    <tr>\n",
       "      <th>4</th>\n",
       "      <td>Q09472</td>\n",
       "      <td>Q92793</td>\n",
       "      <td>0.139837</td>\n",
       "      <td>0.019554</td>\n",
       "      <td>94</td>\n",
       "    </tr>\n",
       "    <tr>\n",
       "      <th>...</th>\n",
       "      <td>...</td>\n",
       "      <td>...</td>\n",
       "      <td>...</td>\n",
       "      <td>...</td>\n",
       "      <td>...</td>\n",
       "    </tr>\n",
       "    <tr>\n",
       "      <th>36236</th>\n",
       "      <td>Q12802</td>\n",
       "      <td>Q16539</td>\n",
       "      <td>0.156922</td>\n",
       "      <td>0.024624</td>\n",
       "      <td>158</td>\n",
       "    </tr>\n",
       "    <tr>\n",
       "      <th>36237</th>\n",
       "      <td>Q12802</td>\n",
       "      <td>Q9NYL2</td>\n",
       "      <td>0.116803</td>\n",
       "      <td>0.013643</td>\n",
       "      <td>57</td>\n",
       "    </tr>\n",
       "    <tr>\n",
       "      <th>36238</th>\n",
       "      <td>Q16512</td>\n",
       "      <td>Q16539</td>\n",
       "      <td>0.330290</td>\n",
       "      <td>0.109092</td>\n",
       "      <td>191</td>\n",
       "    </tr>\n",
       "    <tr>\n",
       "      <th>36239</th>\n",
       "      <td>Q16512</td>\n",
       "      <td>Q9NYL2</td>\n",
       "      <td>-0.108800</td>\n",
       "      <td>0.011837</td>\n",
       "      <td>65</td>\n",
       "    </tr>\n",
       "    <tr>\n",
       "      <th>36240</th>\n",
       "      <td>Q16539</td>\n",
       "      <td>Q9NYL2</td>\n",
       "      <td>-0.127444</td>\n",
       "      <td>0.016242</td>\n",
       "      <td>66</td>\n",
       "    </tr>\n",
       "  </tbody>\n",
       "</table>\n",
       "<p>36241 rows × 5 columns</p>\n",
       "</div>"
      ],
      "text/plain": [
       "      protein1 protein2         r        r2  observations\n",
       "0       P56524   P27361 -0.049762  0.002476            39\n",
       "1       P56524   P28482 -0.052761  0.002784            43\n",
       "2       P56524   P59768  0.250236  0.062618             9\n",
       "3       P56524   P62873  0.045789  0.002097            42\n",
       "4       Q09472   Q92793  0.139837  0.019554            94\n",
       "...        ...      ...       ...       ...           ...\n",
       "36236   Q12802   Q16539  0.156922  0.024624           158\n",
       "36237   Q12802   Q9NYL2  0.116803  0.013643            57\n",
       "36238   Q16512   Q16539  0.330290  0.109092           191\n",
       "36239   Q16512   Q9NYL2 -0.108800  0.011837            65\n",
       "36240   Q16539   Q9NYL2 -0.127444  0.016242            66\n",
       "\n",
       "[36241 rows x 5 columns]"
      ]
     },
     "execution_count": 66,
     "metadata": {
      "tags": []
     },
     "output_type": "execute_result"
    }
   ],
   "source": [
    "proteomeHD_corum_validated_pairs_df"
   ]
  },
  {
   "cell_type": "code",
   "execution_count": 0,
   "metadata": {
    "colab": {
     "base_uri": "https://localhost:8080/",
     "height": 285
    },
    "colab_type": "code",
    "executionInfo": {
     "elapsed": 534,
     "status": "ok",
     "timestamp": 1589349510176,
     "user": {
      "displayName": "Hoyin Chu",
      "photoUrl": "",
      "userId": "08687870196591871814"
     },
     "user_tz": 240
    },
    "id": "7arnRytibZlh",
    "outputId": "242672ca-f4f0-4908-85eb-e9be963e8bd8"
   },
   "outputs": [
    {
     "data": {
      "text/plain": [
       "<matplotlib.axes._subplots.AxesSubplot at 0x7f2de65faeb8>"
      ]
     },
     "execution_count": 67,
     "metadata": {
      "tags": []
     },
     "output_type": "execute_result"
    },
    {
     "data": {
      "image/png": "[encoded data removed]",
      "text/plain": [
       "<Figure size 432x288 with 1 Axes>"
      ]
     },
     "metadata": {
      "tags": []
     },
     "output_type": "display_data"
    }
   ],
   "source": [
    "import seaborn as sns\n",
    "sns.set(style=\"whitegrid\")\n",
    "sns.boxenplot(data=[proteomeHD_corum_validated_non_pairs_df[\"r\"],proteomeHD_corum_validated_pairs_df[\"r\"].to_numpy()])"
   ]
  },
  {
   "cell_type": "markdown",
   "metadata": {
    "colab_type": "text",
    "id": "VI2XZhR6kjFT"
   },
   "source": [
    "### Case study: Cytoplasmic Ribosome"
   ]
  },
  {
   "cell_type": "code",
   "execution_count": 0,
   "metadata": {
    "colab": {},
    "colab_type": "code",
    "id": "mcCOQ7wJkobY"
   },
   "outputs": [],
   "source": [
    "cytoplastic_ribosome_corum_validated_interactions_df_path = \"/content/drive/My Drive/Colab Notebooks/Research/ProteinProteinAssociation/csv_outputs/proteomeHD/corum_validated/cytoplasmic_ribosome.csv\"\n",
    "cytoplastic_ribosome_corum_validated_interactions_df = pd.read_csv(cytoplastic_ribosome_corum_validated_interactions_df_path)\n",
    "#cytoplastic_ribosome_corum_validated_interactions_df = cytoplastic_ribosome_corum_validated_interactions_df[cytoplastic_ribosome_corum_validated_interactions_df[\"r2\"] < 0.99]\n",
    "non_cytoplastic_ribosome_corum_validated_interactions_df_path = \"/content/drive/My Drive/Colab Notebooks/Research/ProteinProteinAssociation/csv_outputs/proteomeHD/corum_validated/non_cytoplasmic_ribosome.csv\"\n",
    "non_cytoplastic_ribosome_corum_validated_interactions_df = pd.read_csv(non_cytoplastic_ribosome_corum_validated_interactions_df_path)\n",
    "#non_cytoplastic_ribosome_corum_validated_interactions_df = non_cytoplastic_ribosome_corum_validated_interactions_df[non_cytoplastic_ribosome_corum_validated_interactions_df[\"r2\"] < 0.99]"
   ]
  },
  {
   "cell_type": "code",
   "execution_count": 0,
   "metadata": {
    "colab": {
     "base_uri": "https://localhost:8080/",
     "height": 50
    },
    "colab_type": "code",
    "executionInfo": {
     "elapsed": 367,
     "status": "ok",
     "timestamp": 1589349516771,
     "user": {
      "displayName": "Hoyin Chu",
      "photoUrl": "",
      "userId": "08687870196591871814"
     },
     "user_tz": 240
    },
    "id": "QDPcJ5W1jrLO",
    "outputId": "cdec0b91-4eef-4a42-e4b7-cc98edcf58a7"
   },
   "outputs": [
    {
     "name": "stdout",
     "output_type": "stream",
     "text": [
      "2926\n",
      "32719\n"
     ]
    }
   ],
   "source": [
    "print(len(cytoplastic_ribosome_corum_validated_interactions_df))\n",
    "print(len(non_cytoplastic_ribosome_corum_validated_interactions_df))"
   ]
  },
  {
   "cell_type": "code",
   "execution_count": 0,
   "metadata": {
    "colab": {
     "base_uri": "https://localhost:8080/",
     "height": 285
    },
    "colab_type": "code",
    "executionInfo": {
     "elapsed": 529,
     "status": "ok",
     "timestamp": 1589347949722,
     "user": {
      "displayName": "Hoyin Chu",
      "photoUrl": "",
      "userId": "08687870196591871814"
     },
     "user_tz": 240
    },
    "id": "BxXPFp_rlxyR",
    "outputId": "630718ef-226b-4169-80cc-ac45575eb0d4"
   },
   "outputs": [
    {
     "data": {
      "text/plain": [
       "<matplotlib.axes._subplots.AxesSubplot at 0x7f2de881fa20>"
      ]
     },
     "execution_count": 63,
     "metadata": {
      "tags": []
     },
     "output_type": "execute_result"
    },
    {
     "data": {
      "image/png": "[encoded data removed]",
      "text/plain": [
       "<Figure size 432x288 with 1 Axes>"
      ]
     },
     "metadata": {
      "tags": []
     },
     "output_type": "display_data"
    }
   ],
   "source": [
    "import seaborn as sns\n",
    "sns.set(style=\"whitegrid\")\n",
    "sns.boxenplot(data=[non_cytoplastic_ribosome_corum_validated_interactions_df['r'],cytoplastic_ribosome_corum_validated_interactions_df[\"r\"].to_numpy()])"
   ]
  },
  {
   "cell_type": "markdown",
   "metadata": {
    "colab_type": "text",
    "id": "2dYwYY7NYjMx"
   },
   "source": [
    "## Data Analysis ProteomeHD and Huri"
   ]
  },
  {
   "cell_type": "markdown",
   "metadata": {
    "colab_type": "text",
    "id": "xD8fnP6DiNmO"
   },
   "source": [
    "Load up proteins in Huri"
   ]
  },
  {
   "cell_type": "code",
   "execution_count": 0,
   "metadata": {
    "colab": {},
    "colab_type": "code",
    "id": "w3OoePu1YjVF"
   },
   "outputs": [],
   "source": [
    "proteomeHD_huri_overlap = np.intersect1d(all_proteomeHD_proteins_np,unique_ids_in_huri)\n",
    "print(f\"{len(proteomeHD_huri_overlap)} overlapping proteins between proteomeHD and huri\")\n",
    "print(f\"{len(proteomeHD_huri_overlap)/len(all_proteomeHD_proteins)} of proteomeHD proteins\")\n",
    "print(f\"{len(proteomeHD_huri_overlap)/len(all_ids_in_huri)} of huri proteins\")"
   ]
  },
  {
   "cell_type": "markdown",
   "metadata": {
    "colab_type": "text",
    "id": "xecoACubiutW"
   },
   "source": [
    "Check how many interactions in Huri are verifiable by proteomeHD (takes about 20 seconds to compute)"
   ]
  },
  {
   "cell_type": "code",
   "execution_count": 0,
   "metadata": {
    "colab": {
     "base_uri": "https://localhost:8080/",
     "height": 34
    },
    "colab_type": "code",
    "executionInfo": {
     "elapsed": 24088,
     "status": "ok",
     "timestamp": 1588311535445,
     "user": {
      "displayName": "Hoyin Chu",
      "photoUrl": "",
      "userId": "08687870196591871814"
     },
     "user_tz": 240
    },
    "id": "yMGqAYZSiuXW",
    "outputId": "7957b1af-e239-40de-8fb2-8b3a5ed8473d"
   },
   "outputs": [
    {
     "name": "stdout",
     "output_type": "stream",
     "text": [
      "Number of verfiable interactions in Huri: 17210 (0.27806501648032056 of total interactions in Huri)\n"
     ]
    }
   ],
   "source": [
    "verifiable_huri_interactions = []\n",
    "for proteins in huri_combined:\n",
    "  to_verify = proteins.split(\";\")\n",
    "  if is_verifiable(to_verify,all_proteomeHD_proteins,len(to_verify)):\n",
    "    verifiable_huri_interactions.append(proteins)\n",
    "\n",
    "print(f\"Number of verfiable interactions in Huri: {len(verifiable_huri_interactions)} ({len(verifiable_huri_interactions)/len(huri_combined)} of total interactions in Huri)\")"
   ]
  },
  {
   "cell_type": "markdown",
   "metadata": {
    "colab_type": "text",
    "id": "tisV4UB6mNFJ"
   },
   "source": [
    "Check the distribution of r, r2, and observations of verifiable interactions in Huri"
   ]
  },
  {
   "cell_type": "code",
   "execution_count": 0,
   "metadata": {
    "colab": {
     "base_uri": "https://localhost:8080/",
     "height": 414
    },
    "colab_type": "code",
    "executionInfo": {
     "elapsed": 1773,
     "status": "ok",
     "timestamp": 1588314500687,
     "user": {
      "displayName": "Hoyin Chu",
      "photoUrl": "",
      "userId": "08687870196591871814"
     },
     "user_tz": 240
    },
    "id": "IlBafgncmkxS",
    "outputId": "051189bd-1c05-4bc2-d2cd-5d7af3060d22"
   },
   "outputs": [
    {
     "name": "stderr",
     "output_type": "stream",
     "text": [
      "/usr/local/lib/python3.6/dist-packages/numpy/lib/histograms.py:839: RuntimeWarning: invalid value encountered in greater_equal\n",
      "  keep = (tmp_a >= first_edge)\n",
      "/usr/local/lib/python3.6/dist-packages/numpy/lib/histograms.py:840: RuntimeWarning: invalid value encountered in less_equal\n",
      "  keep &= (tmp_a <= last_edge)\n"
     ]
    },
    {
     "name": "stdout",
     "output_type": "stream",
     "text": [
      "Comparing the distribution of r,r2,observations of\n",
      "Validated Huri interactions (top row)\n",
      "Random samples from proteomeHD (bottom row)\n"
     ]
    },
    {
     "data": {
      "image/png": "[encoded data removed]",
      "text/plain": [
       "<Figure size 432x288 with 6 Axes>"
      ]
     },
     "metadata": {
      "needs_background": "light",
      "tags": []
     },
     "output_type": "display_data"
    }
   ],
   "source": [
    "verifiable_interactions_stat_path = \"/content/drive/My Drive/Colab Notebooks/Research/ProteinProteinAssociation/csv_outputs/proteomeHD_huri_overlap/all_proteomeHD_verifiable_interactions_stats.csv\"\n",
    "verifiable_interactions_df = pd.read_csv(verifiable_interactions_stat_path)\n",
    "verifiable_interactions_df = verifiable_interactions_df[verifiable_interactions_df[\"r2\"] != 1]\n",
    "fig, axs = plt.subplots(2, 3)\n",
    "num_bins = 20\n",
    "huri_r_values,_,_ = axs[0,0].hist(verifiable_interactions_df['r'], num_bins)\n",
    "axs[0,0].set_title('r value dist (huri)')\n",
    "huri_r2_values,_,_ = axs[0,1].hist(verifiable_interactions_df['r2'], num_bins)\n",
    "axs[0,1].set_title('r2 value dist (huri)')\n",
    "huri_observations_values,_,_ = axs[0,2].hist(verifiable_interactions_df['observations'], num_bins)\n",
    "axs[0,2].set_title('observations dist (huri)')\n",
    "proteomeHD_r_values,_,_ = axs[1,0].hist(proteomeHD_interactions_df['r'], num_bins)\n",
    "axs[1,0].set_title('r value dist (HD)')\n",
    "proteomeHD_r2_values,_,_ = axs[1,1].hist(proteomeHD_interactions_df['r2'], num_bins)\n",
    "axs[1,1].set_title('r2 value dist (HD)')\n",
    "proteomeHD_observations_values,_,_ = axs[1,2].hist(proteomeHD_interactions_df['observations'], num_bins)\n",
    "axs[1,2].set_title('observations dist (HD)')\n",
    "plt.tight_layout()\n",
    "print(\"Comparing the distribution of r,r2,observations of\")\n",
    "print(\"Validated Huri interactions (top row)\")\n",
    "print(\"Random samples from proteomeHD (bottom row)\")\n",
    "plt.show()"
   ]
  },
  {
   "cell_type": "markdown",
   "metadata": {
    "colab_type": "text",
    "id": "2SnZmUWh6zHp"
   },
   "source": [
    "Check the amount of \"degenerate\" interactions (having only 0 or 1 observation)"
   ]
  },
  {
   "cell_type": "code",
   "execution_count": 0,
   "metadata": {
    "colab": {
     "base_uri": "https://localhost:8080/",
     "height": 487
    },
    "colab_type": "code",
    "executionInfo": {
     "elapsed": 305,
     "status": "ok",
     "timestamp": 1588311543062,
     "user": {
      "displayName": "Hoyin Chu",
      "photoUrl": "",
      "userId": "08687870196591871814"
     },
     "user_tz": 240
    },
    "id": "X3RgxEqq7THZ",
    "outputId": "1a6dfe63-287a-47e1-b631-e5c857aec619"
   },
   "outputs": [
    {
     "name": "stdout",
     "output_type": "stream",
     "text": [
      "Number of degenerate interactions (only 0 or 1 observations): 1314 (0.07635095874491575 of total)\n",
      "count    17209.000000\n",
      "mean         0.039379\n",
      "std          0.406387\n",
      "min         -1.000000\n",
      "25%         -0.187735\n",
      "50%          0.005755\n",
      "75%          0.284730\n",
      "max          1.000000\n",
      "Name: r, dtype: float64\n",
      "count    17209.000000\n",
      "mean         0.166691\n",
      "std          0.248913\n",
      "min          0.000000\n",
      "25%          0.008294\n",
      "50%          0.057315\n",
      "75%          0.206434\n",
      "max          1.000000\n",
      "Name: r2, dtype: float64\n",
      "count    17210.000000\n",
      "mean        53.933876\n",
      "std         61.432494\n",
      "min          0.000000\n",
      "25%          8.000000\n",
      "50%         28.000000\n",
      "75%         82.000000\n",
      "max        293.000000\n",
      "Name: observations, dtype: float64\n"
     ]
    }
   ],
   "source": [
    "huri_degenerate_count = np.count_nonzero(verifiable_interactions_df['observations'].to_numpy() <= 1)\n",
    "print(f\"Number of degenerate interactions (only 0 or 1 observations): {huri_degenerate_count} ({huri_degenerate_count/len(verifiable_interactions_df)} of total)\")\n",
    "print(pd.DataFrame.describe(verifiable_interactions_df['r']))\n",
    "print(pd.DataFrame.describe(verifiable_interactions_df['r2']))\n",
    "print(pd.DataFrame.describe(verifiable_interactions_df['observations']))"
   ]
  },
  {
   "cell_type": "markdown",
   "metadata": {
    "colab_type": "text",
    "id": "QhsjkyjVMSoW"
   },
   "source": [
    "## Data Analysis ProteomeHD and String"
   ]
  },
  {
   "cell_type": "code",
   "execution_count": 0,
   "metadata": {
    "colab": {
     "base_uri": "https://localhost:8080/",
     "height": 402
    },
    "colab_type": "code",
    "executionInfo": {
     "elapsed": 501,
     "status": "ok",
     "timestamp": 1589353314332,
     "user": {
      "displayName": "Hoyin Chu",
      "photoUrl": "",
      "userId": "08687870196591871814"
     },
     "user_tz": 240
    },
    "id": "XWZsax2UMVrp",
    "outputId": "09930e13-45b4-4330-b31c-c8054f5a6fa8"
   },
   "outputs": [
    {
     "data": {
      "text/html": [
       "<div>\n",
       "<style scoped>\n",
       "    .dataframe tbody tr th:only-of-type {\n",
       "        vertical-align: middle;\n",
       "    }\n",
       "\n",
       "    .dataframe tbody tr th {\n",
       "        vertical-align: top;\n",
       "    }\n",
       "\n",
       "    .dataframe thead th {\n",
       "        text-align: right;\n",
       "    }\n",
       "</style>\n",
       "<table border=\"1\" class=\"dataframe\">\n",
       "  <thead>\n",
       "    <tr style=\"text-align: right;\">\n",
       "      <th></th>\n",
       "      <th>protein1</th>\n",
       "      <th>protein2</th>\n",
       "      <th>score</th>\n",
       "      <th>r</th>\n",
       "      <th>r2</th>\n",
       "      <th>observations</th>\n",
       "    </tr>\n",
       "  </thead>\n",
       "  <tbody>\n",
       "    <tr>\n",
       "      <th>0</th>\n",
       "      <td>ENSP00000000233</td>\n",
       "      <td>ENSP00000222547</td>\n",
       "      <td>913</td>\n",
       "      <td>0.321928</td>\n",
       "      <td>0.103638</td>\n",
       "      <td>110</td>\n",
       "    </tr>\n",
       "    <tr>\n",
       "      <th>1</th>\n",
       "      <td>ENSP00000000233</td>\n",
       "      <td>ENSP00000223369</td>\n",
       "      <td>913</td>\n",
       "      <td>0.111527</td>\n",
       "      <td>0.012438</td>\n",
       "      <td>209</td>\n",
       "    </tr>\n",
       "    <tr>\n",
       "      <th>2</th>\n",
       "      <td>ENSP00000000233</td>\n",
       "      <td>ENSP00000249923</td>\n",
       "      <td>923</td>\n",
       "      <td>0.118915</td>\n",
       "      <td>0.014141</td>\n",
       "      <td>224</td>\n",
       "    </tr>\n",
       "    <tr>\n",
       "      <th>3</th>\n",
       "      <td>ENSP00000000233</td>\n",
       "      <td>ENSP00000258739</td>\n",
       "      <td>913</td>\n",
       "      <td>0.131740</td>\n",
       "      <td>0.017356</td>\n",
       "      <td>77</td>\n",
       "    </tr>\n",
       "    <tr>\n",
       "      <th>4</th>\n",
       "      <td>ENSP00000000233</td>\n",
       "      <td>ENSP00000262225</td>\n",
       "      <td>909</td>\n",
       "      <td>0.273858</td>\n",
       "      <td>0.074998</td>\n",
       "      <td>184</td>\n",
       "    </tr>\n",
       "    <tr>\n",
       "      <th>...</th>\n",
       "      <td>...</td>\n",
       "      <td>...</td>\n",
       "      <td>...</td>\n",
       "      <td>...</td>\n",
       "      <td>...</td>\n",
       "      <td>...</td>\n",
       "    </tr>\n",
       "    <tr>\n",
       "      <th>222637</th>\n",
       "      <td>ENSP00000485663</td>\n",
       "      <td>ENSP00000467466</td>\n",
       "      <td>950</td>\n",
       "      <td>0.411156</td>\n",
       "      <td>0.169050</td>\n",
       "      <td>227</td>\n",
       "    </tr>\n",
       "    <tr>\n",
       "      <th>222638</th>\n",
       "      <td>ENSP00000485663</td>\n",
       "      <td>ENSP00000470972</td>\n",
       "      <td>954</td>\n",
       "      <td>0.694228</td>\n",
       "      <td>0.481953</td>\n",
       "      <td>251</td>\n",
       "    </tr>\n",
       "    <tr>\n",
       "      <th>222639</th>\n",
       "      <td>ENSP00000485663</td>\n",
       "      <td>ENSP00000472469</td>\n",
       "      <td>955</td>\n",
       "      <td>0.738992</td>\n",
       "      <td>0.546109</td>\n",
       "      <td>224</td>\n",
       "    </tr>\n",
       "    <tr>\n",
       "      <th>222640</th>\n",
       "      <td>ENSP00000485663</td>\n",
       "      <td>ENSP00000472985</td>\n",
       "      <td>961</td>\n",
       "      <td>0.531892</td>\n",
       "      <td>0.282909</td>\n",
       "      <td>277</td>\n",
       "    </tr>\n",
       "    <tr>\n",
       "      <th>222641</th>\n",
       "      <td>ENSP00000485663</td>\n",
       "      <td>ENSP00000481646</td>\n",
       "      <td>941</td>\n",
       "      <td>0.665774</td>\n",
       "      <td>0.443256</td>\n",
       "      <td>269</td>\n",
       "    </tr>\n",
       "  </tbody>\n",
       "</table>\n",
       "<p>222642 rows × 6 columns</p>\n",
       "</div>"
      ],
      "text/plain": [
       "               protein1         protein2  ...        r2  observations\n",
       "0       ENSP00000000233  ENSP00000222547  ...  0.103638           110\n",
       "1       ENSP00000000233  ENSP00000223369  ...  0.012438           209\n",
       "2       ENSP00000000233  ENSP00000249923  ...  0.014141           224\n",
       "3       ENSP00000000233  ENSP00000258739  ...  0.017356            77\n",
       "4       ENSP00000000233  ENSP00000262225  ...  0.074998           184\n",
       "...                 ...              ...  ...       ...           ...\n",
       "222637  ENSP00000485663  ENSP00000467466  ...  0.169050           227\n",
       "222638  ENSP00000485663  ENSP00000470972  ...  0.481953           251\n",
       "222639  ENSP00000485663  ENSP00000472469  ...  0.546109           224\n",
       "222640  ENSP00000485663  ENSP00000472985  ...  0.282909           277\n",
       "222641  ENSP00000485663  ENSP00000481646  ...  0.443256           269\n",
       "\n",
       "[222642 rows x 6 columns]"
      ]
     },
     "execution_count": 11,
     "metadata": {
      "tags": []
     },
     "output_type": "execute_result"
    }
   ],
   "source": [
    "string_proteomeHD_expression_csv_path = '/content/drive/My Drive/Colab Notebooks/Research/ProteinProteinAssociation/csv_outputs/proteomeHD_string/string_proteomeHD_expression.csv'\n",
    "string_proteomeHD_expression_df = pd.read_csv(string_proteomeHD_expression_csv_path)\n",
    "#string_proteomeHD_expression_df = string_proteomeHD_expression_df[string_proteomeHD_expression_df[\"r2\"] < 0.99]\n",
    "string_proteomeHD_expression_df"
   ]
  },
  {
   "cell_type": "code",
   "execution_count": 0,
   "metadata": {
    "colab": {
     "base_uri": "https://localhost:8080/",
     "height": 284
    },
    "colab_type": "code",
    "executionInfo": {
     "elapsed": 566,
     "status": "ok",
     "timestamp": 1588903052481,
     "user": {
      "displayName": "Hoyin Chu",
      "photoUrl": "",
      "userId": "08687870196591871814"
     },
     "user_tz": 240
    },
    "id": "qY0SNgD5MxMv",
    "outputId": "8c88ad02-5578-4e42-9fb4-0965add0bf84"
   },
   "outputs": [
    {
     "data": {
      "text/html": [
       "<div>\n",
       "<style scoped>\n",
       "    .dataframe tbody tr th:only-of-type {\n",
       "        vertical-align: middle;\n",
       "    }\n",
       "\n",
       "    .dataframe tbody tr th {\n",
       "        vertical-align: top;\n",
       "    }\n",
       "\n",
       "    .dataframe thead th {\n",
       "        text-align: right;\n",
       "    }\n",
       "</style>\n",
       "<table border=\"1\" class=\"dataframe\">\n",
       "  <thead>\n",
       "    <tr style=\"text-align: right;\">\n",
       "      <th></th>\n",
       "      <th>score</th>\n",
       "      <th>r</th>\n",
       "      <th>r2</th>\n",
       "      <th>observations</th>\n",
       "    </tr>\n",
       "  </thead>\n",
       "  <tbody>\n",
       "    <tr>\n",
       "      <th>count</th>\n",
       "      <td>218946.000000</td>\n",
       "      <td>218946.000000</td>\n",
       "      <td>218946.000000</td>\n",
       "      <td>218946.000000</td>\n",
       "    </tr>\n",
       "    <tr>\n",
       "      <th>mean</th>\n",
       "      <td>847.332237</td>\n",
       "      <td>0.175210</td>\n",
       "      <td>0.155875</td>\n",
       "      <td>105.888347</td>\n",
       "    </tr>\n",
       "    <tr>\n",
       "      <th>std</th>\n",
       "      <td>147.755844</td>\n",
       "      <td>0.353804</td>\n",
       "      <td>0.197958</td>\n",
       "      <td>86.293037</td>\n",
       "    </tr>\n",
       "    <tr>\n",
       "      <th>min</th>\n",
       "      <td>400.000000</td>\n",
       "      <td>-0.994987</td>\n",
       "      <td>0.000000</td>\n",
       "      <td>0.000000</td>\n",
       "    </tr>\n",
       "    <tr>\n",
       "      <th>25%</th>\n",
       "      <td>900.000000</td>\n",
       "      <td>-0.040847</td>\n",
       "      <td>0.014224</td>\n",
       "      <td>25.000000</td>\n",
       "    </tr>\n",
       "    <tr>\n",
       "      <th>50%</th>\n",
       "      <td>902.000000</td>\n",
       "      <td>0.176437</td>\n",
       "      <td>0.072726</td>\n",
       "      <td>89.000000</td>\n",
       "    </tr>\n",
       "    <tr>\n",
       "      <th>75%</th>\n",
       "      <td>914.000000</td>\n",
       "      <td>0.423928</td>\n",
       "      <td>0.223960</td>\n",
       "      <td>176.000000</td>\n",
       "    </tr>\n",
       "    <tr>\n",
       "      <th>max</th>\n",
       "      <td>996.000000</td>\n",
       "      <td>0.994913</td>\n",
       "      <td>0.989998</td>\n",
       "      <td>294.000000</td>\n",
       "    </tr>\n",
       "  </tbody>\n",
       "</table>\n",
       "</div>"
      ],
      "text/plain": [
       "               score              r             r2   observations\n",
       "count  218946.000000  218946.000000  218946.000000  218946.000000\n",
       "mean      847.332237       0.175210       0.155875     105.888347\n",
       "std       147.755844       0.353804       0.197958      86.293037\n",
       "min       400.000000      -0.994987       0.000000       0.000000\n",
       "25%       900.000000      -0.040847       0.014224      25.000000\n",
       "50%       902.000000       0.176437       0.072726      89.000000\n",
       "75%       914.000000       0.423928       0.223960     176.000000\n",
       "max       996.000000       0.994913       0.989998     294.000000"
      ]
     },
     "execution_count": 4,
     "metadata": {
      "tags": []
     },
     "output_type": "execute_result"
    }
   ],
   "source": [
    "string_proteomeHD_expression_df.describe()"
   ]
  },
  {
   "cell_type": "code",
   "execution_count": 0,
   "metadata": {
    "colab": {
     "base_uri": "https://localhost:8080/",
     "height": 301
    },
    "colab_type": "code",
    "executionInfo": {
     "elapsed": 3441,
     "status": "ok",
     "timestamp": 1588903387050,
     "user": {
      "displayName": "Hoyin Chu",
      "photoUrl": "",
      "userId": "08687870196591871814"
     },
     "user_tz": 240
    },
    "id": "t-i5iM2LPNQK",
    "outputId": "1c60b582-467a-4139-8729-65cb1975c998"
   },
   "outputs": [
    {
     "name": "stdout",
     "output_type": "stream",
     "text": [
      "197983\n"
     ]
    },
    {
     "data": {
      "text/html": [
       "<div>\n",
       "<style scoped>\n",
       "    .dataframe tbody tr th:only-of-type {\n",
       "        vertical-align: middle;\n",
       "    }\n",
       "\n",
       "    .dataframe tbody tr th {\n",
       "        vertical-align: top;\n",
       "    }\n",
       "\n",
       "    .dataframe thead th {\n",
       "        text-align: right;\n",
       "    }\n",
       "</style>\n",
       "<table border=\"1\" class=\"dataframe\">\n",
       "  <thead>\n",
       "    <tr style=\"text-align: right;\">\n",
       "      <th></th>\n",
       "      <th>r</th>\n",
       "      <th>r2</th>\n",
       "      <th>observations</th>\n",
       "    </tr>\n",
       "  </thead>\n",
       "  <tbody>\n",
       "    <tr>\n",
       "      <th>count</th>\n",
       "      <td>197983.000000</td>\n",
       "      <td>197983.000000</td>\n",
       "      <td>197983.000000</td>\n",
       "    </tr>\n",
       "    <tr>\n",
       "      <th>mean</th>\n",
       "      <td>0.002605</td>\n",
       "      <td>0.126264</td>\n",
       "      <td>57.567988</td>\n",
       "    </tr>\n",
       "    <tr>\n",
       "      <th>std</th>\n",
       "      <td>0.355328</td>\n",
       "      <td>0.191357</td>\n",
       "      <td>63.157319</td>\n",
       "    </tr>\n",
       "    <tr>\n",
       "      <th>min</th>\n",
       "      <td>-0.994969</td>\n",
       "      <td>0.000000</td>\n",
       "      <td>0.000000</td>\n",
       "    </tr>\n",
       "    <tr>\n",
       "      <th>25%</th>\n",
       "      <td>-0.207799</td>\n",
       "      <td>0.005895</td>\n",
       "      <td>9.000000</td>\n",
       "    </tr>\n",
       "    <tr>\n",
       "      <th>50%</th>\n",
       "      <td>0.000000</td>\n",
       "      <td>0.044009</td>\n",
       "      <td>31.000000</td>\n",
       "    </tr>\n",
       "    <tr>\n",
       "      <th>75%</th>\n",
       "      <td>0.212076</td>\n",
       "      <td>0.159202</td>\n",
       "      <td>89.000000</td>\n",
       "    </tr>\n",
       "    <tr>\n",
       "      <th>max</th>\n",
       "      <td>0.994943</td>\n",
       "      <td>0.989964</td>\n",
       "      <td>294.000000</td>\n",
       "    </tr>\n",
       "  </tbody>\n",
       "</table>\n",
       "</div>"
      ],
      "text/plain": [
       "                   r             r2   observations\n",
       "count  197983.000000  197983.000000  197983.000000\n",
       "mean        0.002605       0.126264      57.567988\n",
       "std         0.355328       0.191357      63.157319\n",
       "min        -0.994969       0.000000       0.000000\n",
       "25%        -0.207799       0.005895       9.000000\n",
       "50%         0.000000       0.044009      31.000000\n",
       "75%         0.212076       0.159202      89.000000\n",
       "max         0.994943       0.989964     294.000000"
      ]
     },
     "execution_count": 5,
     "metadata": {
      "tags": []
     },
     "output_type": "execute_result"
    }
   ],
   "source": [
    "control_unbiased_sampling_path = \"/content/drive/My Drive/Colab Notebooks/Research/ProteinProteinAssociation/csv_outputs/proteomeHD_string/overlap_200000_neg.csv\"\n",
    "control_unbiased_sampling_df = pd.read_csv(control_unbiased_sampling_path)\n",
    "control_unbiased_sampling_df = control_unbiased_sampling_df[['r','r2','observations']]\n",
    "control_unbiased_sampling_df = control_unbiased_sampling_df[control_unbiased_sampling_df['r2'] < 0.99]\n",
    "print(len(control_unbiased_sampling_df))\n",
    "control_unbiased_sampling_df.describe()"
   ]
  },
  {
   "cell_type": "code",
   "execution_count": 0,
   "metadata": {
    "colab": {
     "base_uri": "https://localhost:8080/",
     "height": 285
    },
    "colab_type": "code",
    "executionInfo": {
     "elapsed": 850,
     "status": "ok",
     "timestamp": 1588904767898,
     "user": {
      "displayName": "Hoyin Chu",
      "photoUrl": "",
      "userId": "08687870196591871814"
     },
     "user_tz": 240
    },
    "id": "qLnT2oHxCsva",
    "outputId": "1985eacf-4afd-4b4d-a1b1-722d193d0f8f"
   },
   "outputs": [
    {
     "data": {
      "text/plain": [
       "<matplotlib.axes._subplots.AxesSubplot at 0x7fcffdc88c18>"
      ]
     },
     "execution_count": 20,
     "metadata": {
      "tags": []
     },
     "output_type": "execute_result"
    },
    {
     "data": {
      "image/png": "[encoded data removed]",
      "text/plain": [
       "<Figure size 432x288 with 1 Axes>"
      ]
     },
     "metadata": {
      "tags": []
     },
     "output_type": "display_data"
    }
   ],
   "source": [
    "import seaborn as sns\n",
    "sns.set(style=\"whitegrid\")\n",
    "sns.boxenplot(data=[control_unbiased_sampling_df['r'].to_numpy(),string_proteomeHD_expression_df['r'].to_numpy()])"
   ]
  },
  {
   "cell_type": "markdown",
   "metadata": {
    "colab_type": "text",
    "id": "ZetimzNetemR"
   },
   "source": [
    "# Data Analysis: pQTL"
   ]
  },
  {
   "cell_type": "markdown",
   "metadata": {
    "colab_type": "text",
    "id": "F0SG-mC5N8Rw"
   },
   "source": [
    "## Data Analysis: pQTL silac protein"
   ]
  },
  {
   "cell_type": "code",
   "execution_count": 0,
   "metadata": {
    "colab": {},
    "colab_type": "code",
    "id": "hMk68xBqOwfo"
   },
   "outputs": [],
   "source": [
    "pQTL_silac_protein_df_path = \"/content/drive/My Drive/Colab Notebooks/Research/ProteinProteinAssociation/data_sources/pQTL/silac_protein/silac_protein_complete.csv\"\n",
    "pQTL_silac_protein_df = pd.read_csv(pQTL_silac_protein_df_path)\n",
    "pQTL_silac_protein = pQTL_silac_protein_df[\"Uniprot_Id\"].dropna().to_numpy()"
   ]
  },
  {
   "cell_type": "markdown",
   "metadata": {
    "colab_type": "text",
    "id": "nDyZGnNUP2t7"
   },
   "source": [
    "## Data Analysis: pQTL protein and Corum"
   ]
  },
  {
   "cell_type": "code",
   "execution_count": 0,
   "metadata": {
    "colab": {
     "base_uri": "https://localhost:8080/",
     "height": 34
    },
    "colab_type": "code",
    "executionInfo": {
     "elapsed": 9492,
     "status": "ok",
     "timestamp": 1588991759531,
     "user": {
      "displayName": "Hoyin Chu",
      "photoUrl": "",
      "userId": "08687870196591871814"
     },
     "user_tz": 240
    },
    "id": "B3wIjuCKQBd1",
    "outputId": "15dbf583-fb35-4add-d0ff-6d1bbc916502"
   },
   "outputs": [
    {
     "name": "stdout",
     "output_type": "stream",
     "text": [
      "1425\n"
     ]
    }
   ],
   "source": [
    "pQTL_silac_protein_verifiable_corum_complexes = []\n",
    "for subunit in all_corum_subunits:\n",
    "  to_verify = subunit.split(\";\")\n",
    "  if (len(to_verify) >=2):\n",
    "    if is_verifiable(to_verify,pQTL_silac_protein,2):\n",
    "      pQTL_silac_protein_verifiable_corum_complexes.append(subunit)\n",
    "print(len(pQTL_silac_protein_verifiable_corum_complexes))"
   ]
  },
  {
   "cell_type": "code",
   "execution_count": 0,
   "metadata": {
    "colab": {
     "base_uri": "https://localhost:8080/",
     "height": 67
    },
    "colab_type": "code",
    "executionInfo": {
     "elapsed": 341,
     "status": "ok",
     "timestamp": 1588991768623,
     "user": {
      "displayName": "Hoyin Chu",
      "photoUrl": "",
      "userId": "08687870196591871814"
     },
     "user_tz": 240
    },
    "id": "Izk5TGDt2A0y",
    "outputId": "948691ad-d8e4-4c68-9f77-4e369d187484"
   },
   "outputs": [
    {
     "name": "stdout",
     "output_type": "stream",
     "text": [
      "1741 overlapping proteins between pQTL silac proteins and corum\n",
      "0.08108611615667645 of pQTL proteins\n",
      "0.2839204174820613 of corum proteins\n"
     ]
    }
   ],
   "source": [
    "pQTL_silac_protein_corum_overlap = np.intersect1d(pQTL_silac_protein,all_corum_proteins)\n",
    "print(f\"{len(pQTL_silac_protein_corum_overlap)} overlapping proteins between pQTL silac proteins and corum\")\n",
    "print(f\"{len(pQTL_silac_protein_corum_overlap)/len(pQTL_silac_protein)} of pQTL silac proteins\")\n",
    "print(f\"{len(pQTL_silac_protein_corum_overlap)/len(all_corum_proteins)} of corum proteins\")"
   ]
  },
  {
   "cell_type": "code",
   "execution_count": 0,
   "metadata": {
    "colab": {
     "base_uri": "https://localhost:8080/",
     "height": 67
    },
    "colab_type": "code",
    "executionInfo": {
     "elapsed": 344,
     "status": "ok",
     "timestamp": 1588991674160,
     "user": {
      "displayName": "Hoyin Chu",
      "photoUrl": "",
      "userId": "08687870196591871814"
     },
     "user_tz": 240
    },
    "id": "gVd93SwStkBb",
    "outputId": "23c81246-3760-4919-af7c-c9e93a6ac335"
   },
   "outputs": [
    {
     "name": "stdout",
     "output_type": "stream",
     "text": [
      "2343 overlapping proteins between pQTL and huri\n",
      "0.10912393460947324 of pQTL proteins\n",
      "0.26284496297958265 of huri proteins\n"
     ]
    }
   ],
   "source": [
    "pQTL_silac_protein_huri_overlap = np.intersect1d(pQTL_silac_protein,unique_ids_in_huri)\n",
    "print(f\"{len(pQTL_silac_protein_huri_overlap)} overlapping proteins between pQTL silac proteins and huri\")\n",
    "print(f\"{len(pQTL_silac_protein_huri_overlap)/len(pQTL_silac_protein)} of pQTL silac proteins\")\n",
    "print(f\"{len(pQTL_silac_protein_huri_overlap)/len(unique_ids_in_huri)} of huri proteins\")"
   ]
  },
  {
   "cell_type": "code",
   "execution_count": 0,
   "metadata": {
    "colab": {},
    "colab_type": "code",
    "id": "ys8040dkkElE"
   },
   "outputs": [],
   "source": [
    "pQTL_silac_protein_corum_validated_interactions_df_path = \"/content/drive/My Drive/Colab Notebooks/Research/ProteinProteinAssociation/csv_outputs/pQTL/silac_protein/corum_validated/has_validation.csv\"\n",
    "pQTL_silac_protein_corum_validated_interactions_df = pd.read_csv(pQTL_silac_protein_corum_validated_interactions_df_path)\n",
    "pQTL_silac_protein_corum_validated_non_interactions_df_path = \"/content/drive/My Drive/Colab Notebooks/Research/ProteinProteinAssociation/csv_outputs/pQTL/silac_protein/corum_validated/has_no_validation.csv\"\n",
    "pQTL_silac_protein_corum_validated_non_interactions_df = pd.read_csv(pQTL_silac_protein_corum_validated_non_interactions_df_path)"
   ]
  },
  {
   "cell_type": "code",
   "execution_count": 0,
   "metadata": {
    "colab": {
     "base_uri": "https://localhost:8080/",
     "height": 34
    },
    "colab_type": "code",
    "executionInfo": {
     "elapsed": 395,
     "status": "ok",
     "timestamp": 1589350528207,
     "user": {
      "displayName": "Hoyin Chu",
      "photoUrl": "",
      "userId": "08687870196591871814"
     },
     "user_tz": 240
    },
    "id": "fvpsukoAo72w",
    "outputId": "33170a75-7fdd-4621-d1e7-a3f886f97c83"
   },
   "outputs": [
    {
     "data": {
      "text/plain": [
       "22510"
      ]
     },
     "execution_count": 73,
     "metadata": {
      "tags": []
     },
     "output_type": "execute_result"
    }
   ],
   "source": [
    "len(pQTL_silac_protein_corum_validated_interactions_df)\n",
    "#len(pQTL_silac_protein_corum_validated_non_interactions_df)"
   ]
  },
  {
   "cell_type": "code",
   "execution_count": 0,
   "metadata": {
    "colab": {
     "base_uri": "https://localhost:8080/",
     "height": 285
    },
    "colab_type": "code",
    "executionInfo": {
     "elapsed": 451,
     "status": "ok",
     "timestamp": 1589318757436,
     "user": {
      "displayName": "Hoyin Chu",
      "photoUrl": "",
      "userId": "08687870196591871814"
     },
     "user_tz": 240
    },
    "id": "RgAxMA0Dkn9i",
    "outputId": "0eca56a7-dfad-4af1-8299-e3538f41819e"
   },
   "outputs": [
    {
     "data": {
      "text/plain": [
       "<matplotlib.axes._subplots.AxesSubplot at 0x7f2de9ef3dd8>"
      ]
     },
     "execution_count": 13,
     "metadata": {
      "tags": []
     },
     "output_type": "execute_result"
    },
    {
     "data": {
      "image/png": "[encoded data removed]",
      "text/plain": [
       "<Figure size 432x288 with 1 Axes>"
      ]
     },
     "metadata": {
      "tags": []
     },
     "output_type": "display_data"
    }
   ],
   "source": [
    "import seaborn as sns\n",
    "sns.set(style=\"whitegrid\")\n",
    "sns.boxenplot(data=[pQTL_silac_protein_corum_validated_non_interactions_df[\"r\"].to_numpy(),pQTL_silac_protein_corum_validated_interactions_df[\"r\"].to_numpy()])"
   ]
  },
  {
   "cell_type": "markdown",
   "metadata": {
    "colab_type": "text",
    "id": "M1LVu-ZFlcIN"
   },
   "source": [
    "## pQTL silac protein and string"
   ]
  },
  {
   "cell_type": "code",
   "execution_count": 0,
   "metadata": {
    "colab": {},
    "colab_type": "code",
    "id": "iIOaD43DS1us"
   },
   "outputs": [],
   "source": [
    "pQTL_silac_protein_string_validated_interactions_df_path = \"/content/drive/My Drive/Colab Notebooks/Research/ProteinProteinAssociation/csv_outputs/pQTL/silac_protein/string_validated/has_validation.csv\"\n",
    "pQTL_silac_protein_string_validated_interactions_df = pd.read_csv(pQTL_silac_protein_string_validated_interactions_df_path)\n",
    "pQTL_silac_protein_string_validated_non_interactions_df_path = \"/content/drive/My Drive/Colab Notebooks/Research/ProteinProteinAssociation/csv_outputs/pQTL/silac_protein/string_validated/has_no_validation.csv\"\n",
    "pQTL_silac_protein_string_validated_non_interactions_df = pd.read_csv(pQTL_silac_protein_string_validated_non_interactions_df_path)\n",
    "# pQTL_silac_protein_string_validated_interactions_df.describe()\n",
    "# pQTL_silac_protein_string_validated_non_interactions_df.describe()"
   ]
  },
  {
   "cell_type": "code",
   "execution_count": 0,
   "metadata": {
    "colab": {
     "base_uri": "https://localhost:8080/",
     "height": 34
    },
    "colab_type": "code",
    "executionInfo": {
     "elapsed": 284,
     "status": "ok",
     "timestamp": 1589350568800,
     "user": {
      "displayName": "Hoyin Chu",
      "photoUrl": "",
      "userId": "08687870196591871814"
     },
     "user_tz": 240
    },
    "id": "Xd1sDiXgrOBR",
    "outputId": "a8aa2d4e-73b0-45e5-89f0-6d4aa4404376"
   },
   "outputs": [
    {
     "data": {
      "text/plain": [
       "98400"
      ]
     },
     "execution_count": 76,
     "metadata": {
      "tags": []
     },
     "output_type": "execute_result"
    }
   ],
   "source": [
    "len(pQTL_silac_protein_string_validated_interactions_df)"
   ]
  },
  {
   "cell_type": "code",
   "execution_count": 0,
   "metadata": {
    "colab": {
     "base_uri": "https://localhost:8080/",
     "height": 285
    },
    "colab_type": "code",
    "executionInfo": {
     "elapsed": 579,
     "status": "ok",
     "timestamp": 1588996635249,
     "user": {
      "displayName": "Hoyin Chu",
      "photoUrl": "",
      "userId": "08687870196591871814"
     },
     "user_tz": 240
    },
    "id": "qch51FOFSrMY",
    "outputId": "cc87c7ac-e7f5-4282-efc5-b5153e09fc12"
   },
   "outputs": [
    {
     "data": {
      "text/plain": [
       "<matplotlib.axes._subplots.AxesSubplot at 0x7fd075740ba8>"
      ]
     },
     "execution_count": 30,
     "metadata": {
      "tags": []
     },
     "output_type": "execute_result"
    },
    {
     "data": {
      "image/png": "[encoded data removed]",
      "text/plain": [
       "<Figure size 432x288 with 1 Axes>"
      ]
     },
     "metadata": {
      "tags": []
     },
     "output_type": "display_data"
    }
   ],
   "source": [
    "import seaborn as sns\n",
    "sns.set(style=\"whitegrid\")\n",
    "sns.boxenplot(data=[pQTL_silac_protein_string_validated_non_interactions_df[\"r\"],pQTL_silac_protein_string_validated_interactions_df['r'].to_numpy()])"
   ]
  },
  {
   "cell_type": "markdown",
   "metadata": {
    "colab_type": "text",
    "id": "-cWkOF_EK9Zm"
   },
   "source": [
    "## pQTL ribo and corum"
   ]
  },
  {
   "cell_type": "code",
   "execution_count": 0,
   "metadata": {
    "colab": {
     "base_uri": "https://localhost:8080/",
     "height": 284
    },
    "colab_type": "code",
    "executionInfo": {
     "elapsed": 3163,
     "status": "ok",
     "timestamp": 1589352437089,
     "user": {
      "displayName": "Hoyin Chu",
      "photoUrl": "",
      "userId": "08687870196591871814"
     },
     "user_tz": 240
    },
    "id": "4SKg37cUK_Km",
    "outputId": "a092aaa6-9ff3-4a24-d7b0-e72661fe3713"
   },
   "outputs": [
    {
     "data": {
      "text/html": [
       "<div>\n",
       "<style scoped>\n",
       "    .dataframe tbody tr th:only-of-type {\n",
       "        vertical-align: middle;\n",
       "    }\n",
       "\n",
       "    .dataframe tbody tr th {\n",
       "        vertical-align: top;\n",
       "    }\n",
       "\n",
       "    .dataframe thead th {\n",
       "        text-align: right;\n",
       "    }\n",
       "</style>\n",
       "<table border=\"1\" class=\"dataframe\">\n",
       "  <thead>\n",
       "    <tr style=\"text-align: right;\">\n",
       "      <th></th>\n",
       "      <th>r</th>\n",
       "      <th>r2</th>\n",
       "      <th>observations</th>\n",
       "      <th>is_validated</th>\n",
       "      <th>belong_to</th>\n",
       "    </tr>\n",
       "  </thead>\n",
       "  <tbody>\n",
       "    <tr>\n",
       "      <th>count</th>\n",
       "      <td>100000.000000</td>\n",
       "      <td>1.000000e+05</td>\n",
       "      <td>100000.0</td>\n",
       "      <td>100000.0</td>\n",
       "      <td>0.0</td>\n",
       "    </tr>\n",
       "    <tr>\n",
       "      <th>mean</th>\n",
       "      <td>0.050918</td>\n",
       "      <td>5.476847e-02</td>\n",
       "      <td>72.0</td>\n",
       "      <td>0.0</td>\n",
       "      <td>NaN</td>\n",
       "    </tr>\n",
       "    <tr>\n",
       "      <th>std</th>\n",
       "      <td>0.228421</td>\n",
       "      <td>9.376282e-02</td>\n",
       "      <td>0.0</td>\n",
       "      <td>0.0</td>\n",
       "      <td>NaN</td>\n",
       "    </tr>\n",
       "    <tr>\n",
       "      <th>min</th>\n",
       "      <td>-0.696484</td>\n",
       "      <td>6.298983e-12</td>\n",
       "      <td>72.0</td>\n",
       "      <td>0.0</td>\n",
       "      <td>NaN</td>\n",
       "    </tr>\n",
       "    <tr>\n",
       "      <th>25%</th>\n",
       "      <td>-0.103553</td>\n",
       "      <td>4.838726e-03</td>\n",
       "      <td>72.0</td>\n",
       "      <td>0.0</td>\n",
       "      <td>NaN</td>\n",
       "    </tr>\n",
       "    <tr>\n",
       "      <th>50%</th>\n",
       "      <td>0.040344</td>\n",
       "      <td>2.150012e-02</td>\n",
       "      <td>72.0</td>\n",
       "      <td>0.0</td>\n",
       "      <td>NaN</td>\n",
       "    </tr>\n",
       "    <tr>\n",
       "      <th>75%</th>\n",
       "      <td>0.186339</td>\n",
       "      <td>6.325088e-02</td>\n",
       "      <td>72.0</td>\n",
       "      <td>0.0</td>\n",
       "      <td>NaN</td>\n",
       "    </tr>\n",
       "    <tr>\n",
       "      <th>max</th>\n",
       "      <td>1.000000</td>\n",
       "      <td>1.000000e+00</td>\n",
       "      <td>72.0</td>\n",
       "      <td>0.0</td>\n",
       "      <td>NaN</td>\n",
       "    </tr>\n",
       "  </tbody>\n",
       "</table>\n",
       "</div>"
      ],
      "text/plain": [
       "                   r            r2  observations  is_validated  belong_to\n",
       "count  100000.000000  1.000000e+05      100000.0      100000.0        0.0\n",
       "mean        0.050918  5.476847e-02          72.0           0.0        NaN\n",
       "std         0.228421  9.376282e-02           0.0           0.0        NaN\n",
       "min        -0.696484  6.298983e-12          72.0           0.0        NaN\n",
       "25%        -0.103553  4.838726e-03          72.0           0.0        NaN\n",
       "50%         0.040344  2.150012e-02          72.0           0.0        NaN\n",
       "75%         0.186339  6.325088e-02          72.0           0.0        NaN\n",
       "max         1.000000  1.000000e+00          72.0           0.0        NaN"
      ]
     },
     "execution_count": 8,
     "metadata": {
      "tags": []
     },
     "output_type": "execute_result"
    }
   ],
   "source": [
    "pQTL_ribo_corum_validated_interactions_df_path = \"/content/drive/My Drive/Colab Notebooks/Research/ProteinProteinAssociation/csv_outputs/pQTL/ribo/corum_validated/has_validation.csv\"\n",
    "pQTL_ribo_corum_validated_interactions_df = pd.read_csv(pQTL_ribo_corum_validated_interactions_df_path)\n",
    "pQTL_ribo_corum_validated_non_interactions_df_path = \"/content/drive/My Drive/Colab Notebooks/Research/ProteinProteinAssociation/csv_outputs/pQTL/ribo/corum_validated/has_no_validation.csv\"\n",
    "pQTL_ribo_corum_validated_non_interactions_df = pd.read_csv(pQTL_ribo_corum_validated_non_interactions_df_path)\n",
    "pQTL_ribo_corum_validated_non_interactions_df.describe()"
   ]
  },
  {
   "cell_type": "code",
   "execution_count": 0,
   "metadata": {
    "colab": {
     "base_uri": "https://localhost:8080/",
     "height": 284
    },
    "colab_type": "code",
    "executionInfo": {
     "elapsed": 343,
     "status": "ok",
     "timestamp": 1589352438005,
     "user": {
      "displayName": "Hoyin Chu",
      "photoUrl": "",
      "userId": "08687870196591871814"
     },
     "user_tz": 240
    },
    "id": "vTGxrZBSyXaO",
    "outputId": "4b7a8ed3-a83c-4a33-e3c3-4dbf9e4c79ba"
   },
   "outputs": [
    {
     "data": {
      "text/html": [
       "<div>\n",
       "<style scoped>\n",
       "    .dataframe tbody tr th:only-of-type {\n",
       "        vertical-align: middle;\n",
       "    }\n",
       "\n",
       "    .dataframe tbody tr th {\n",
       "        vertical-align: top;\n",
       "    }\n",
       "\n",
       "    .dataframe thead th {\n",
       "        text-align: right;\n",
       "    }\n",
       "</style>\n",
       "<table border=\"1\" class=\"dataframe\">\n",
       "  <thead>\n",
       "    <tr style=\"text-align: right;\">\n",
       "      <th></th>\n",
       "      <th>r</th>\n",
       "      <th>r2</th>\n",
       "      <th>observations</th>\n",
       "    </tr>\n",
       "  </thead>\n",
       "  <tbody>\n",
       "    <tr>\n",
       "      <th>count</th>\n",
       "      <td>22510.000000</td>\n",
       "      <td>2.251000e+04</td>\n",
       "      <td>22510.0</td>\n",
       "    </tr>\n",
       "    <tr>\n",
       "      <th>mean</th>\n",
       "      <td>0.056018</td>\n",
       "      <td>6.090835e-02</td>\n",
       "      <td>72.0</td>\n",
       "    </tr>\n",
       "    <tr>\n",
       "      <th>std</th>\n",
       "      <td>0.240360</td>\n",
       "      <td>1.033387e-01</td>\n",
       "      <td>0.0</td>\n",
       "    </tr>\n",
       "    <tr>\n",
       "      <th>min</th>\n",
       "      <td>-0.681389</td>\n",
       "      <td>3.507214e-11</td>\n",
       "      <td>72.0</td>\n",
       "    </tr>\n",
       "    <tr>\n",
       "      <th>25%</th>\n",
       "      <td>-0.108661</td>\n",
       "      <td>5.394317e-03</td>\n",
       "      <td>72.0</td>\n",
       "    </tr>\n",
       "    <tr>\n",
       "      <th>50%</th>\n",
       "      <td>0.042367</td>\n",
       "      <td>2.414231e-02</td>\n",
       "      <td>72.0</td>\n",
       "    </tr>\n",
       "    <tr>\n",
       "      <th>75%</th>\n",
       "      <td>0.198519</td>\n",
       "      <td>7.071053e-02</td>\n",
       "      <td>72.0</td>\n",
       "    </tr>\n",
       "    <tr>\n",
       "      <th>max</th>\n",
       "      <td>1.000000</td>\n",
       "      <td>1.000000e+00</td>\n",
       "      <td>72.0</td>\n",
       "    </tr>\n",
       "  </tbody>\n",
       "</table>\n",
       "</div>"
      ],
      "text/plain": [
       "                  r            r2  observations\n",
       "count  22510.000000  2.251000e+04       22510.0\n",
       "mean       0.056018  6.090835e-02          72.0\n",
       "std        0.240360  1.033387e-01           0.0\n",
       "min       -0.681389  3.507214e-11          72.0\n",
       "25%       -0.108661  5.394317e-03          72.0\n",
       "50%        0.042367  2.414231e-02          72.0\n",
       "75%        0.198519  7.071053e-02          72.0\n",
       "max        1.000000  1.000000e+00          72.0"
      ]
     },
     "execution_count": 9,
     "metadata": {
      "tags": []
     },
     "output_type": "execute_result"
    }
   ],
   "source": [
    "pQTL_ribo_corum_validated_interactions_df.describe()"
   ]
  },
  {
   "cell_type": "code",
   "execution_count": 0,
   "metadata": {
    "colab": {
     "base_uri": "https://localhost:8080/",
     "height": 50
    },
    "colab_type": "code",
    "executionInfo": {
     "elapsed": 351,
     "status": "ok",
     "timestamp": 1589351682164,
     "user": {
      "displayName": "Hoyin Chu",
      "photoUrl": "",
      "userId": "08687870196591871814"
     },
     "user_tz": 240
    },
    "id": "n-RqaQi4vdEo",
    "outputId": "1560e25a-992e-400e-a246-d84dfabfa4b8"
   },
   "outputs": [
    {
     "name": "stdout",
     "output_type": "stream",
     "text": [
      "22510\n",
      "100000\n"
     ]
    }
   ],
   "source": [
    "print(len(pQTL_ribo_corum_validated_interactions_df))\n",
    "print(len(pQTL_ribo_corum_validated_non_interactions_df))"
   ]
  },
  {
   "cell_type": "code",
   "execution_count": 0,
   "metadata": {
    "colab": {
     "base_uri": "https://localhost:8080/",
     "height": 285
    },
    "colab_type": "code",
    "executionInfo": {
     "elapsed": 582,
     "status": "ok",
     "timestamp": 1589319257559,
     "user": {
      "displayName": "Hoyin Chu",
      "photoUrl": "",
      "userId": "08687870196591871814"
     },
     "user_tz": 240
    },
    "id": "O04AnOH3K_S-",
    "outputId": "8a6e40b4-17df-4c2d-fc80-1bba33ae6da4"
   },
   "outputs": [
    {
     "data": {
      "text/plain": [
       "<matplotlib.axes._subplots.AxesSubplot at 0x7f2de98a6240>"
      ]
     },
     "execution_count": 15,
     "metadata": {
      "tags": []
     },
     "output_type": "execute_result"
    },
    {
     "data": {
      "image/png": "[encoded data removed]",
      "text/plain": [
       "<Figure size 432x288 with 1 Axes>"
      ]
     },
     "metadata": {
      "tags": []
     },
     "output_type": "display_data"
    }
   ],
   "source": [
    "import seaborn as sns\n",
    "sns.set(style=\"whitegrid\")\n",
    "sns.boxenplot(data=[pQTL_ribo_corum_validated_non_interactions_df[\"r\"].to_numpy(),pQTL_ribo_corum_validated_interactions_df[\"r\"].to_numpy()])"
   ]
  },
  {
   "cell_type": "markdown",
   "metadata": {
    "colab_type": "text",
    "id": "pCCuDXdNlwsY"
   },
   "source": [
    "## pQTL ribo and string"
   ]
  },
  {
   "cell_type": "code",
   "execution_count": 0,
   "metadata": {
    "colab": {},
    "colab_type": "code",
    "id": "q8Wc_xq8l6H_"
   },
   "outputs": [],
   "source": [
    "pQTL_ribo_string_validated_interactions_df_path = \"/content/drive/My Drive/Colab Notebooks/Research/ProteinProteinAssociation/csv_outputs/pQTL/ribo/string_validated/has_validation.csv\"\n",
    "pQTL_ribo_string_validated_interactions_df = pd.read_csv(pQTL_ribo_string_validated_interactions_df_path)\n",
    "pQTL_ribo_string_validated_non_interactions_df_path = \"/content/drive/My Drive/Colab Notebooks/Research/ProteinProteinAssociation/csv_outputs/pQTL/ribo/string_validated/has_no_validation.csv\"\n",
    "pQTL_ribo_string_validated_non_interactions_df = pd.read_csv(pQTL_ribo_string_validated_non_interactions_df_path)\n",
    "pQTL_ribo_string_validated_interactions_df.describe()"
   ]
  },
  {
   "cell_type": "code",
   "execution_count": 0,
   "metadata": {
    "colab": {
     "base_uri": "https://localhost:8080/",
     "height": 50
    },
    "colab_type": "code",
    "executionInfo": {
     "elapsed": 525,
     "status": "ok",
     "timestamp": 1589351713070,
     "user": {
      "displayName": "Hoyin Chu",
      "photoUrl": "",
      "userId": "08687870196591871814"
     },
     "user_tz": 240
    },
    "id": "0jk3eN55vmq0",
    "outputId": "a4468c42-48a4-4c58-8a9c-56230948be8a"
   },
   "outputs": [
    {
     "name": "stdout",
     "output_type": "stream",
     "text": [
      "98400\n",
      "100000\n"
     ]
    }
   ],
   "source": [
    "print(len(pQTL_ribo_string_validated_interactions_df))\n",
    "print(len(pQTL_ribo_string_validated_non_interactions_df))"
   ]
  },
  {
   "cell_type": "code",
   "execution_count": 0,
   "metadata": {
    "colab": {},
    "colab_type": "code",
    "id": "cilDyDKQtALZ"
   },
   "outputs": [],
   "source": [
    "pQTL_ribo_string_validated_non_interactions_df.describe()"
   ]
  },
  {
   "cell_type": "code",
   "execution_count": 0,
   "metadata": {
    "colab": {
     "base_uri": "https://localhost:8080/",
     "height": 285
    },
    "colab_type": "code",
    "executionInfo": {
     "elapsed": 547,
     "status": "ok",
     "timestamp": 1588998377977,
     "user": {
      "displayName": "Hoyin Chu",
      "photoUrl": "",
      "userId": "08687870196591871814"
     },
     "user_tz": 240
    },
    "id": "uBseWW6Jo0Ep",
    "outputId": "c94f88bf-fdab-495a-d08d-94dac4af92a2"
   },
   "outputs": [
    {
     "data": {
      "text/plain": [
       "<matplotlib.axes._subplots.AxesSubplot at 0x7fd07228aa58>"
      ]
     },
     "execution_count": 36,
     "metadata": {
      "tags": []
     },
     "output_type": "execute_result"
    },
    {
     "data": {
      "image/png": "[encoded data removed]",
      "text/plain": [
       "<Figure size 432x288 with 1 Axes>"
      ]
     },
     "metadata": {
      "tags": []
     },
     "output_type": "display_data"
    }
   ],
   "source": [
    "import seaborn as sns\n",
    "sns.set(style=\"whitegrid\")\n",
    "sns.boxenplot(data=[pQTL_ribo_string_validated_non_interactions_df[\"r\"],pQTL_ribo_string_validated_interactions_df['r'].to_numpy()])"
   ]
  },
  {
   "cell_type": "markdown",
   "metadata": {
    "colab_type": "text",
    "id": "mp7eGaWeLoyn"
   },
   "source": [
    "## pQTL rna-seq and corum"
   ]
  },
  {
   "cell_type": "code",
   "execution_count": 0,
   "metadata": {
    "colab": {},
    "colab_type": "code",
    "id": "lk4yZEGkLq24"
   },
   "outputs": [],
   "source": [
    "pQTL_rna_seq_corum_validated_interactions_df_path = \"/content/drive/My Drive/Colab Notebooks/Research/ProteinProteinAssociation/csv_outputs/pQTL/rna_seq/corum_validated/has_validation.csv\"\n",
    "pQTL_rna_seq_corum_validated_interactions_df = pd.read_csv(pQTL_rna_seq_corum_validated_interactions_df_path)\n",
    "pQTL_rna_seq_corum_validated_non_interactions_df_path = \"/content/drive/My Drive/Colab Notebooks/Research/ProteinProteinAssociation/csv_outputs/pQTL/rna_seq/corum_validated/has_no_validation.csv\"\n",
    "pQTL_rna_seq_corum_validated_non_interactions_df = pd.read_csv(pQTL_rna_seq_corum_validated_non_interactions_df_path)"
   ]
  },
  {
   "cell_type": "code",
   "execution_count": 0,
   "metadata": {
    "colab": {
     "base_uri": "https://localhost:8080/",
     "height": 284
    },
    "colab_type": "code",
    "executionInfo": {
     "elapsed": 450,
     "status": "ok",
     "timestamp": 1589352417303,
     "user": {
      "displayName": "Hoyin Chu",
      "photoUrl": "",
      "userId": "08687870196591871814"
     },
     "user_tz": 240
    },
    "id": "pWtybEDtyQt9",
    "outputId": "0e7ad4a3-b01f-453d-9aeb-4b4920e950e9"
   },
   "outputs": [
    {
     "data": {
      "text/html": [
       "<div>\n",
       "<style scoped>\n",
       "    .dataframe tbody tr th:only-of-type {\n",
       "        vertical-align: middle;\n",
       "    }\n",
       "\n",
       "    .dataframe tbody tr th {\n",
       "        vertical-align: top;\n",
       "    }\n",
       "\n",
       "    .dataframe thead th {\n",
       "        text-align: right;\n",
       "    }\n",
       "</style>\n",
       "<table border=\"1\" class=\"dataframe\">\n",
       "  <thead>\n",
       "    <tr style=\"text-align: right;\">\n",
       "      <th></th>\n",
       "      <th>r</th>\n",
       "      <th>r2</th>\n",
       "      <th>observations</th>\n",
       "    </tr>\n",
       "  </thead>\n",
       "  <tbody>\n",
       "    <tr>\n",
       "      <th>count</th>\n",
       "      <td>22510.000000</td>\n",
       "      <td>2.251000e+04</td>\n",
       "      <td>22510.0</td>\n",
       "    </tr>\n",
       "    <tr>\n",
       "      <th>mean</th>\n",
       "      <td>0.050467</td>\n",
       "      <td>7.724004e-02</td>\n",
       "      <td>75.0</td>\n",
       "    </tr>\n",
       "    <tr>\n",
       "      <th>std</th>\n",
       "      <td>0.273307</td>\n",
       "      <td>1.115885e-01</td>\n",
       "      <td>0.0</td>\n",
       "    </tr>\n",
       "    <tr>\n",
       "      <th>min</th>\n",
       "      <td>-0.802062</td>\n",
       "      <td>2.342845e-11</td>\n",
       "      <td>75.0</td>\n",
       "    </tr>\n",
       "    <tr>\n",
       "      <th>25%</th>\n",
       "      <td>-0.127823</td>\n",
       "      <td>6.479710e-03</td>\n",
       "      <td>75.0</td>\n",
       "    </tr>\n",
       "    <tr>\n",
       "      <th>50%</th>\n",
       "      <td>0.041997</td>\n",
       "      <td>3.073798e-02</td>\n",
       "      <td>75.0</td>\n",
       "    </tr>\n",
       "    <tr>\n",
       "      <th>75%</th>\n",
       "      <td>0.221859</td>\n",
       "      <td>1.000741e-01</td>\n",
       "      <td>75.0</td>\n",
       "    </tr>\n",
       "    <tr>\n",
       "      <th>max</th>\n",
       "      <td>1.000000</td>\n",
       "      <td>1.000000e+00</td>\n",
       "      <td>75.0</td>\n",
       "    </tr>\n",
       "  </tbody>\n",
       "</table>\n",
       "</div>"
      ],
      "text/plain": [
       "                  r            r2  observations\n",
       "count  22510.000000  2.251000e+04       22510.0\n",
       "mean       0.050467  7.724004e-02          75.0\n",
       "std        0.273307  1.115885e-01           0.0\n",
       "min       -0.802062  2.342845e-11          75.0\n",
       "25%       -0.127823  6.479710e-03          75.0\n",
       "50%        0.041997  3.073798e-02          75.0\n",
       "75%        0.221859  1.000741e-01          75.0\n",
       "max        1.000000  1.000000e+00          75.0"
      ]
     },
     "execution_count": 7,
     "metadata": {
      "tags": []
     },
     "output_type": "execute_result"
    }
   ],
   "source": [
    "pQTL_rna_seq_corum_validated_interactions_df.describe()"
   ]
  },
  {
   "cell_type": "code",
   "execution_count": 0,
   "metadata": {
    "colab": {
     "base_uri": "https://localhost:8080/",
     "height": 50
    },
    "colab_type": "code",
    "executionInfo": {
     "elapsed": 287,
     "status": "ok",
     "timestamp": 1589351793402,
     "user": {
      "displayName": "Hoyin Chu",
      "photoUrl": "",
      "userId": "08687870196591871814"
     },
     "user_tz": 240
    },
    "id": "u1ScfuADv4DE",
    "outputId": "cdded021-f7fe-4c3e-82fb-c0082b893d9e"
   },
   "outputs": [
    {
     "name": "stdout",
     "output_type": "stream",
     "text": [
      "22510\n",
      "100000\n"
     ]
    }
   ],
   "source": [
    "print(len(pQTL_rna_seq_corum_validated_interactions_df))\n",
    "print(len(pQTL_rna_seq_corum_validated_non_interactions_df))"
   ]
  },
  {
   "cell_type": "code",
   "execution_count": 0,
   "metadata": {
    "colab": {
     "base_uri": "https://localhost:8080/",
     "height": 285
    },
    "colab_type": "code",
    "executionInfo": {
     "elapsed": 421,
     "status": "ok",
     "timestamp": 1589319412840,
     "user": {
      "displayName": "Hoyin Chu",
      "photoUrl": "",
      "userId": "08687870196591871814"
     },
     "user_tz": 240
    },
    "id": "f5FXqDtCLuKe",
    "outputId": "021c5e2f-2bad-4756-861b-1699e187d6dd"
   },
   "outputs": [
    {
     "data": {
      "text/plain": [
       "<matplotlib.axes._subplots.AxesSubplot at 0x7f2de91bc668>"
      ]
     },
     "execution_count": 22,
     "metadata": {
      "tags": []
     },
     "output_type": "execute_result"
    },
    {
     "data": {
      "image/png": "[encoded data removed]",
      "text/plain": [
       "<Figure size 432x288 with 1 Axes>"
      ]
     },
     "metadata": {
      "tags": []
     },
     "output_type": "display_data"
    }
   ],
   "source": [
    "import seaborn as sns\n",
    "sns.set(style=\"whitegrid\")\n",
    "sns.boxenplot(data=[pQTL_rna_seq_corum_validated_non_interactions_df[\"r\"],pQTL_rna_seq_corum_validated_interactions_df[\"r\"].to_numpy()])"
   ]
  },
  {
   "cell_type": "markdown",
   "metadata": {
    "colab_type": "text",
    "id": "Uf1X06pdl1y4"
   },
   "source": [
    "## pQTL rna-seq and string"
   ]
  },
  {
   "cell_type": "code",
   "execution_count": 0,
   "metadata": {
    "colab": {
     "base_uri": "https://localhost:8080/",
     "height": 284
    },
    "colab_type": "code",
    "executionInfo": {
     "elapsed": 4047,
     "status": "ok",
     "timestamp": 1589352000956,
     "user": {
      "displayName": "Hoyin Chu",
      "photoUrl": "",
      "userId": "08687870196591871814"
     },
     "user_tz": 240
    },
    "id": "VqBWNe3il6eW",
    "outputId": "407de329-8cfd-481a-ce61-cabd6bda8eff"
   },
   "outputs": [
    {
     "data": {
      "text/html": [
       "<div>\n",
       "<style scoped>\n",
       "    .dataframe tbody tr th:only-of-type {\n",
       "        vertical-align: middle;\n",
       "    }\n",
       "\n",
       "    .dataframe tbody tr th {\n",
       "        vertical-align: top;\n",
       "    }\n",
       "\n",
       "    .dataframe thead th {\n",
       "        text-align: right;\n",
       "    }\n",
       "</style>\n",
       "<table border=\"1\" class=\"dataframe\">\n",
       "  <thead>\n",
       "    <tr style=\"text-align: right;\">\n",
       "      <th></th>\n",
       "      <th>score</th>\n",
       "      <th>r</th>\n",
       "      <th>r2</th>\n",
       "      <th>observations</th>\n",
       "    </tr>\n",
       "  </thead>\n",
       "  <tbody>\n",
       "    <tr>\n",
       "      <th>count</th>\n",
       "      <td>98400.000000</td>\n",
       "      <td>98400.000000</td>\n",
       "      <td>9.840000e+04</td>\n",
       "      <td>98400.0</td>\n",
       "    </tr>\n",
       "    <tr>\n",
       "      <th>mean</th>\n",
       "      <td>868.242175</td>\n",
       "      <td>0.043252</td>\n",
       "      <td>7.528457e-02</td>\n",
       "      <td>75.0</td>\n",
       "    </tr>\n",
       "    <tr>\n",
       "      <th>std</th>\n",
       "      <td>134.208245</td>\n",
       "      <td>0.270951</td>\n",
       "      <td>1.098716e-01</td>\n",
       "      <td>0.0</td>\n",
       "    </tr>\n",
       "    <tr>\n",
       "      <th>min</th>\n",
       "      <td>400.000000</td>\n",
       "      <td>-0.856915</td>\n",
       "      <td>6.611175e-11</td>\n",
       "      <td>75.0</td>\n",
       "    </tr>\n",
       "    <tr>\n",
       "      <th>25%</th>\n",
       "      <td>900.000000</td>\n",
       "      <td>-0.134772</td>\n",
       "      <td>6.588620e-03</td>\n",
       "      <td>75.0</td>\n",
       "    </tr>\n",
       "    <tr>\n",
       "      <th>50%</th>\n",
       "      <td>904.000000</td>\n",
       "      <td>0.033403</td>\n",
       "      <td>2.992628e-02</td>\n",
       "      <td>75.0</td>\n",
       "    </tr>\n",
       "    <tr>\n",
       "      <th>75%</th>\n",
       "      <td>928.000000</td>\n",
       "      <td>0.213136</td>\n",
       "      <td>9.535932e-02</td>\n",
       "      <td>75.0</td>\n",
       "    </tr>\n",
       "    <tr>\n",
       "      <th>max</th>\n",
       "      <td>996.000000</td>\n",
       "      <td>1.000000</td>\n",
       "      <td>1.000000e+00</td>\n",
       "      <td>75.0</td>\n",
       "    </tr>\n",
       "  </tbody>\n",
       "</table>\n",
       "</div>"
      ],
      "text/plain": [
       "              score             r            r2  observations\n",
       "count  98400.000000  98400.000000  9.840000e+04       98400.0\n",
       "mean     868.242175      0.043252  7.528457e-02          75.0\n",
       "std      134.208245      0.270951  1.098716e-01           0.0\n",
       "min      400.000000     -0.856915  6.611175e-11          75.0\n",
       "25%      900.000000     -0.134772  6.588620e-03          75.0\n",
       "50%      904.000000      0.033403  2.992628e-02          75.0\n",
       "75%      928.000000      0.213136  9.535932e-02          75.0\n",
       "max      996.000000      1.000000  1.000000e+00          75.0"
      ]
     },
     "execution_count": 3,
     "metadata": {
      "tags": []
     },
     "output_type": "execute_result"
    }
   ],
   "source": [
    "pQTL_rna_seq_string_validated_interactions_df_path = \"/content/drive/My Drive/Colab Notebooks/Research/ProteinProteinAssociation/csv_outputs/pQTL/rna_seq/string_validated/has_validation.csv\"\n",
    "pQTL_rna_seq_string_validated_interactions_df = pd.read_csv(pQTL_rna_seq_string_validated_interactions_df_path)\n",
    "pQTL_rna_seq_string_validated_non_interactions_df_path = \"/content/drive/My Drive/Colab Notebooks/Research/ProteinProteinAssociation/csv_outputs/pQTL/rna_seq/string_validated/has_no_validation.csv\"\n",
    "pQTL_rna_seq_string_validated_non_interactions_df = pd.read_csv(pQTL_rna_seq_string_validated_non_interactions_df_path)\n",
    "pQTL_rna_seq_string_validated_interactions_df.describe()"
   ]
  },
  {
   "cell_type": "code",
   "execution_count": 0,
   "metadata": {
    "colab": {
     "base_uri": "https://localhost:8080/",
     "height": 50
    },
    "colab_type": "code",
    "executionInfo": {
     "elapsed": 327,
     "status": "ok",
     "timestamp": 1589352005215,
     "user": {
      "displayName": "Hoyin Chu",
      "photoUrl": "",
      "userId": "08687870196591871814"
     },
     "user_tz": 240
    },
    "id": "gXEkPJ3PwH0Y",
    "outputId": "d7d5d78d-e27a-49a0-d9fd-4c73cf2e7a95"
   },
   "outputs": [
    {
     "name": "stdout",
     "output_type": "stream",
     "text": [
      "98400\n",
      "100000\n"
     ]
    }
   ],
   "source": [
    "print(len(pQTL_rna_seq_string_validated_interactions_df))\n",
    "print(len(pQTL_rna_seq_string_validated_non_interactions_df))"
   ]
  },
  {
   "cell_type": "code",
   "execution_count": 0,
   "metadata": {
    "colab": {},
    "colab_type": "code",
    "id": "hid-Z-NatK74"
   },
   "outputs": [],
   "source": [
    "pQTL_rna_seq_string_validated_non_interactions_df.describe()"
   ]
  },
  {
   "cell_type": "code",
   "execution_count": 0,
   "metadata": {
    "colab": {
     "base_uri": "https://localhost:8080/",
     "height": 285
    },
    "colab_type": "code",
    "executionInfo": {
     "elapsed": 668,
     "status": "ok",
     "timestamp": 1588998528455,
     "user": {
      "displayName": "Hoyin Chu",
      "photoUrl": "",
      "userId": "08687870196591871814"
     },
     "user_tz": 240
    },
    "id": "crs7aRdxpgni",
    "outputId": "8232eaba-b2ae-4fbe-c666-1658333f7cfb"
   },
   "outputs": [
    {
     "data": {
      "text/plain": [
       "<matplotlib.axes._subplots.AxesSubplot at 0x7fd072e2e630>"
      ]
     },
     "execution_count": 38,
     "metadata": {
      "tags": []
     },
     "output_type": "execute_result"
    },
    {
     "data": {
      "image/png": "[encoded data removed]",
      "text/plain": [
       "<Figure size 432x288 with 1 Axes>"
      ]
     },
     "metadata": {
      "tags": []
     },
     "output_type": "display_data"
    }
   ],
   "source": [
    "import seaborn as sns\n",
    "sns.set(style=\"whitegrid\")\n",
    "sns.boxenplot(data=[pQTL_rna_seq_string_validated_non_interactions_df[\"r\"],pQTL_rna_seq_string_validated_interactions_df['r'].to_numpy()])"
   ]
  },
  {
   "cell_type": "markdown",
   "metadata": {
    "colab_type": "text",
    "id": "6HgDIao5Fygl"
   },
   "source": [
    "# Defining hit,precision, and recall\n",
    "- hit: When the proteins in a clique is subset of a protein subunits in a protein complex in the Corum dataset\n",
    "- precision: Number of hitting cliques / total number of cliques\n",
    "- recall: Number of complexes hit by cliques / total number of complexes\n"
   ]
  },
  {
   "cell_type": "code",
   "execution_count": 0,
   "metadata": {
    "colab": {},
    "colab_type": "code",
    "id": "Kkf5aOwYHS2j"
   },
   "outputs": [],
   "source": [
    "# Checks if a given clique (tuple or list) is a hit\n",
    "# When the proteins in the clique is a subset of a protein subunits in a protein\n",
    "# complex in the Corum dataset\n",
    "def is_hit(clique):\n",
    "  for subunit in all_corum_subunits:\n",
    "    in_amount = 0\n",
    "    for protein in clique:\n",
    "      if(protein in subunit):\n",
    "        # print(str(protein) + \" is in \" + str(subunit))\n",
    "        in_amount += 1\n",
    "    if(in_amount == len(clique)):\n",
    "      print(\"hit!!!\")\n",
    "      print(str(clique) + \" is in \" + str(subunit))\n",
    "      return True\n",
    "  return False\n",
    "\n",
    "# Calculates the precision of the given list of cliques\n",
    "# precison = number of hitting cliques / total number of cliques\n",
    "def calc_precision(cliques):\n",
    "  hit_num = 0\n",
    "  for clique in cliques:\n",
    "    if(is_hit(clique)):\n",
    "      hit_num += 1\n",
    "  return hit_num / len(cliques)\n",
    "  #return hit_num\n",
    "\n",
    "# Checks what complexes this clique hit\n",
    "# return a vector of True and False indicating complex it hits\n",
    "def check_hits(clique):\n",
    "  one_hot = np.full(len(all_corum_subunits), False, dtype=bool)\n",
    "  for subunit_index in range(len(all_corum_subunits)):\n",
    "    subunit = all_corum_subunits[subunit_index]\n",
    "    in_amount = 0\n",
    "    for protein in clique:\n",
    "      if(protein in subunit):\n",
    "        in_amount += 1\n",
    "    if(in_amount == len(clique)):\n",
    "      one_hot.itemset(subunit_index,True)\n",
    "  return one_hot\n",
    "\n",
    "# Calculates the recall of the given cliques\n",
    "# recall = Number of complexes hit by cliques / total number of complexes\n",
    "def calc_recall(cliques):\n",
    "  one_hot = np.full(len(all_corum_subunits), False, dtype=bool)\n",
    "  for clique in cliques:\n",
    "    one_hot = np.logical_or(one_hot,check_hits(clique))\n",
    "  return np.count_nonzero(one_hot) / len(all_corum_subunits)"
   ]
  },
  {
   "cell_type": "code",
   "execution_count": 0,
   "metadata": {
    "colab": {
     "base_uri": "https://localhost:8080/",
     "height": 67
    },
    "colab_type": "code",
    "executionInfo": {
     "elapsed": 277,
     "status": "ok",
     "timestamp": 1588227386491,
     "user": {
      "displayName": "Hoyin Chu",
      "photoUrl": "",
      "userId": "08687870196591871814"
     },
     "user_tz": 240
    },
    "id": "jpKMTfMzpWXY",
    "outputId": "8d3c229f-5d9b-41a9-9ec1-81ac3b43f7b7"
   },
   "outputs": [
    {
     "name": "stdout",
     "output_type": "stream",
     "text": [
      "hit!!!\n",
      "['P41182', 'Q9UQL6'] is in P41182;Q9UQL6\n"
     ]
    },
    {
     "data": {
      "text/plain": [
       "0.2653252222742162"
      ]
     },
     "execution_count": 36,
     "metadata": {
      "tags": []
     },
     "output_type": "execute_result"
    }
   ],
   "source": [
    "# Little test if the method works as intended\n",
    "is_hit(['P41182','Q9UQL6'])\n",
    "calc_recall(['P41182','Q9UQL6'])"
   ]
  },
  {
   "cell_type": "markdown",
   "metadata": {
    "colab_type": "text",
    "id": "EQYxkBVwRShG"
   },
   "source": [
    "# Precision and Recall of current network cliques"
   ]
  },
  {
   "cell_type": "code",
   "execution_count": 0,
   "metadata": {
    "colab": {
     "base_uri": "https://localhost:8080/",
     "height": 84
    },
    "colab_type": "code",
    "executionInfo": {
     "elapsed": 408,
     "status": "ok",
     "timestamp": 1588228122961,
     "user": {
      "displayName": "Hoyin Chu",
      "photoUrl": "",
      "userId": "08687870196591871814"
     },
     "user_tz": 240
    },
    "id": "VO9FsBPLRQof",
    "outputId": "dc24dd9d-3791-474e-9be0-e0b2c48f8484"
   },
   "outputs": [
    {
     "name": "stdout",
     "output_type": "stream",
     "text": [
      "Network Precision:\n",
      "0.0\n",
      "Network Recall:\n",
      "0.0\n"
     ]
    }
   ],
   "source": [
    "print(\"Network Precision:\")\n",
    "network_precision = calc_precision(verifiable_3_cliques)\n",
    "print(network_precision)\n",
    "print(\"Network Recall:\")\n",
    "network_recall = calc_recall(verifiable_3_cliques)\n",
    "print(network_recall)"
   ]
  },
  {
   "cell_type": "markdown",
   "metadata": {
    "colab_type": "text",
    "id": "__2MaUw8TXNP"
   },
   "source": [
    "# Precision and Recall of control"
   ]
  },
  {
   "cell_type": "markdown",
   "metadata": {
    "colab_type": "text",
    "id": "_qIkzp4bcjA4"
   },
   "source": [
    "Defines helper functions and looks at all proteomeHD proteins"
   ]
  },
  {
   "cell_type": "code",
   "execution_count": 0,
   "metadata": {
    "colab": {},
    "colab_type": "code",
    "id": "-ok9p-rxTitv"
   },
   "outputs": [],
   "source": [
    "# Helper function that generates a list of list of human proteins of fixed size\n",
    "def generate_cliques(clique_size,total,dataset):\n",
    "  to_return = []\n",
    "  for i in range(total):\n",
    "    to_return.append(np.random.choice(dataset, clique_size, replace=False).tolist())\n",
    "  return to_return\n",
    "\n",
    "# Calculates the average precision and recall over repeated trials of\n",
    "# randomly generated cliques from proteins in given dataset\n",
    "def calc_control(clique_size,total,repeat,dataset):\n",
    "  total_precision = 0\n",
    "  total_recall = 0\n",
    "  for i in range(repeat):\n",
    "    cliques = generate_cliques(clique_size,total,dataset)\n",
    "    total_precision += calc_precision(cliques)\n",
    "    print(total_precision)\n",
    "    total_recall += calc_recall(cliques)\n",
    "    print(total_recall)\n",
    "  final_precision = total_precision / repeat\n",
    "  final_recall = total_recall / repeat\n",
    "  return final_precision,final_recall"
   ]
  },
  {
   "cell_type": "markdown",
   "metadata": {
    "colab_type": "text",
    "id": "7cnPTpIXcplZ"
   },
   "source": [
    "Runs the computation"
   ]
  },
  {
   "cell_type": "code",
   "execution_count": 0,
   "metadata": {
    "colab": {},
    "colab_type": "code",
    "id": "sa-HvxF5Vp3O"
   },
   "outputs": [],
   "source": [
    "# Does the computation (takes about 15 minutes with parameter 3,3056,100)\n",
    "# Result is 0 on both cases\n",
    "start_time = time.time()\n",
    "\n",
    "# control_precision,control_recall = calc_control(3,3056,100,all_human_proteins)\n",
    "# Result: Precision: 0, Recall: 0 Time spent: 861\n",
    "\n",
    "# control_precision,control_recall = calc_control(3,10000,1,all_human_proteins)\n",
    "# Result: Precision: 0, Recall: 0 Time spent: 28\n",
    "\n",
    "# control_precision,control_recall = calc_control(3,1000,10,all_human_proteins)\n",
    "# Result: Precision: 0, Recall: 0 Time spent: 28\n",
    "\n",
    "# control_precision,control_recall = calc_control(3,100,1000,all_human_proteins)\n",
    "# Result: Precision: 0, Recall: 0 Time spent: 282\n",
    "\n",
    "# control_precision,control_recall = calc_control(3,100,1000,all_proteomeHD_proteins)\n",
    "# Result: Precision: 0, Recall: 0 Time spent: 282\n",
    "\n",
    "# control_precision,control_recall = calc_control(3,3056,100,all_proteomeHD_proteins)\n",
    "# Result: Precision: ~0 (1 hit), Recall: ~0 Time spent: 1095\n",
    "\n",
    "control_precision,control_recall = calc_control(3,72,1000,all_corum_proteins)\n",
    "\n",
    "print(time.time()-start_time)\n",
    "print(\"Control Precision:\")\n",
    "print(control_precision)\n",
    "print(\"Control Recall:\")\n",
    "print(control_recall)"
   ]
  },
  {
   "cell_type": "markdown",
   "metadata": {
    "colab_type": "text",
    "id": "4uDfDALSxRp0"
   },
   "source": [
    "# ROC Curve Construction: Model"
   ]
  },
  {
   "cell_type": "markdown",
   "metadata": {
    "colab_type": "text",
    "id": "1Wg8Ql8-DphL"
   },
   "source": [
    "Define function that returns ROC AUC and draws the ROC Curve"
   ]
  },
  {
   "cell_type": "code",
   "execution_count": 18,
   "metadata": {
    "colab": {},
    "colab_type": "code",
    "id": "WvtSaWV_Dm4W"
   },
   "outputs": [],
   "source": [
    "def calc_roc_auc(r_vector,r2_vector,observations_vector,normalized_manhattan_vector,test_y):\n",
    "  no_skill_prob = np.zeros(len(r_vector))\n",
    "  no_skill_auc = roc_auc_score(test_y, no_skill_prob)\n",
    "  r_auc = roc_auc_score(test_y, r_vector)\n",
    "  r2_auc = roc_auc_score(test_y, r2_vector)\n",
    "  observation_auc = roc_auc_score(test_y, observations_vector)\n",
    "  normalized_manhattan_auc = roc_auc_score(test_y, normalized_manhattan_vector)\n",
    "  return no_skill_auc,r_auc,r2_auc,observation_auc,normalized_manhattan_auc\n",
    "\n",
    "def draw_roc_curve(r_vector,r2_vector,observations_vector,normalized_manhattan_vector,test_y,sample_source,validation_source):\n",
    "  no_skill_vector = np.zeros(len(r_vector))\n",
    "  # calculate roc curves\n",
    "  no_skill_fpr, no_skill_tpr, _ = roc_curve(test_y, no_skill_vector)\n",
    "  r_fpr, r_tpr, _ = roc_curve(test_y, r_vector)\n",
    "  r2_fpr, r2_tpr, _ = roc_curve(test_y, r2_vector)\n",
    "  observation_fpr, observation_tpr, _ = roc_curve(test_y, observations_vector)\n",
    "  manhattan_fpr, manhattan_tpr, _ = roc_curve(test_y, normalized_manhattan_vector)\n",
    "  no_skill_auc,r_auc,r2_auc,observation_auc,manhattan_auc = calc_roc_auc(r_vector,r2_vector,observations_vector,normalized_manhattan_vector,test_y)\n",
    "  # summarize scores\n",
    "  print('No Skill: ROC AUC=%.3f' % (no_skill_auc))\n",
    "  print('r: ROC AUC=%.3f' % (r_auc))\n",
    "  print('r2: ROC AUC=%.3f' % (r2_auc))\n",
    "  print('observation: ROC AUC=%.3f' % (observation_auc))\n",
    "  print('Norm. Manhattan: ROC AUC=%.3f' % (manhattan_auc))\n",
    "  # plot the roc curve for the model\n",
    "  pyplot.plot(no_skill_fpr, no_skill_tpr, linestyle='--', label='No Skill AUC={auc}'.format(auc=no_skill_auc))\n",
    "  pyplot.plot(r_fpr, r_tpr, marker='.', label='r AUC={auc}'.format(auc=r_auc))\n",
    "  pyplot.plot(r2_fpr, r2_tpr, marker='.', label='r2 AUC={auc}'.format(auc=r2_auc))\n",
    "  pyplot.plot(observation_fpr, observation_tpr, marker='s', label='Observations AUC={auc}'.format(auc=observation_auc))\n",
    "  pyplot.plot(manhattan_fpr, manhattan_tpr, marker='*', label='Norm. Manhattan AUC={auc}'.format(auc=manhattan_auc))\n",
    "  # axis labels\n",
    "  pyplot.xlabel('False Positive Rate')\n",
    "  pyplot.ylabel('True Positive Rate')\n",
    "  pyplot.title(f'ROC Curve of {sample_source}, validated against {validation_source}')\n",
    "  # show the legend\n",
    "  pyplot.legend()\n",
    "  # show the plot\n",
    "  pyplot.show()\n",
    "\n",
    "def convert_nan_to_zero(vector):\n",
    "  nan_indices = np.isnan(vector)\n",
    "  vector[nan_indices] = 0\n",
    "  return vector\n",
    "\n",
    "def convert_nan_to_one(vector):\n",
    "  nan_indices = np.isnan(vector)\n",
    "  vector[nan_indices] = 1\n",
    "  return vector\n",
    "\n",
    "# Given dataframe with column named r,r2,observations and is_validated\n",
    "# return auc of each and draws roc curve\n",
    "def df_roc_analysis(df,df_sample_source,df_validation_source):\n",
    "  r_vector = convert_nan_to_zero(df['r'].to_numpy())\n",
    "  r2_vector = convert_nan_to_zero(df['r2'].to_numpy())\n",
    "  observation_vector = df['observations'].to_numpy()\n",
    "  normalized_manhattan_vector = 1 - convert_nan_to_one(df['normalized_manhattan_distance'].to_numpy())\n",
    "  test_y = df['is_validated'].to_numpy()\n",
    "  draw_roc_curve(r_vector,r2_vector,observation_vector,normalized_manhattan_vector,test_y,df_sample_source,df_validation_source)"
   ]
  },
  {
   "cell_type": "markdown",
   "metadata": {
    "colab_type": "text",
    "id": "TxE1Caic17A0"
   },
   "source": [
    "Checking ROC Curve using samples generated from overlap between proteomeHD and corum"
   ]
  },
  {
   "cell_type": "code",
   "execution_count": 0,
   "metadata": {
    "colab": {
     "base_uri": "https://localhost:8080/",
     "height": 87
    },
    "colab_type": "code",
    "executionInfo": {
     "elapsed": 2447,
     "status": "ok",
     "timestamp": 1589327494101,
     "user": {
      "displayName": "Hoyin Chu",
      "photoUrl": "",
      "userId": "08687870196591871814"
     },
     "user_tz": 240
    },
    "id": "wrAqUpNfxQAL",
    "outputId": "b4f3599a-444b-4090-9b69-545781b24d0a"
   },
   "outputs": [
    {
     "name": "stdout",
     "output_type": "stream",
     "text": [
      "Total validated corum protein pairs:1000\n"
     ]
    },
    {
     "name": "stderr",
     "output_type": "stream",
     "text": [
      "/usr/local/lib/python3.6/dist-packages/IPython/core/interactiveshell.py:2718: DtypeWarning: Columns (8) have mixed types.Specify dtype option on import or set low_memory=False.\n",
      "  interactivity=interactivity, compiler=compiler, result=result)\n"
     ]
    }
   ],
   "source": [
    "proteomeHD_corum_overlap_path = \"/content/drive/My Drive/Colab Notebooks/Research/ProteinProteinAssociation/csv_outputs/proteomeHD_corum/overlap_1000_pos_99000_neg.csv\"\n",
    "proteomeHD_corum_overlap_df = pd.read_csv(proteomeHD_corum_overlap_path)\n",
    "print(f\"Total validated corum protein pairs:{len(proteomeHD_corum_overlap_df[proteomeHD_corum_overlap_df['is_validated'] == 1])}\")"
   ]
  },
  {
   "cell_type": "code",
   "execution_count": 0,
   "metadata": {
    "colab": {
     "base_uri": "https://localhost:8080/",
     "height": 284
    },
    "colab_type": "code",
    "executionInfo": {
     "elapsed": 341,
     "status": "ok",
     "timestamp": 1589327549153,
     "user": {
      "displayName": "Hoyin Chu",
      "photoUrl": "",
      "userId": "08687870196591871814"
     },
     "user_tz": 240
    },
    "id": "m3iHdx0OTQIz",
    "outputId": "d7a2c5a8-0e9a-4c95-bbd3-97522f757d84"
   },
   "outputs": [
    {
     "data": {
      "text/html": [
       "<div>\n",
       "<style scoped>\n",
       "    .dataframe tbody tr th:only-of-type {\n",
       "        vertical-align: middle;\n",
       "    }\n",
       "\n",
       "    .dataframe tbody tr th {\n",
       "        vertical-align: top;\n",
       "    }\n",
       "\n",
       "    .dataframe thead th {\n",
       "        text-align: right;\n",
       "    }\n",
       "</style>\n",
       "<table border=\"1\" class=\"dataframe\">\n",
       "  <thead>\n",
       "    <tr style=\"text-align: right;\">\n",
       "      <th></th>\n",
       "      <th>r</th>\n",
       "      <th>r2</th>\n",
       "      <th>observations</th>\n",
       "      <th>is_validated</th>\n",
       "    </tr>\n",
       "  </thead>\n",
       "  <tbody>\n",
       "    <tr>\n",
       "      <th>count</th>\n",
       "      <td>98981.000000</td>\n",
       "      <td>98981.000000</td>\n",
       "      <td>99000.000000</td>\n",
       "      <td>99000.0</td>\n",
       "    </tr>\n",
       "    <tr>\n",
       "      <th>mean</th>\n",
       "      <td>0.004408</td>\n",
       "      <td>0.139866</td>\n",
       "      <td>54.307475</td>\n",
       "      <td>0.0</td>\n",
       "    </tr>\n",
       "    <tr>\n",
       "      <th>std</th>\n",
       "      <td>0.373963</td>\n",
       "      <td>0.215550</td>\n",
       "      <td>63.228753</td>\n",
       "      <td>0.0</td>\n",
       "    </tr>\n",
       "    <tr>\n",
       "      <th>min</th>\n",
       "      <td>-1.000000</td>\n",
       "      <td>0.000000</td>\n",
       "      <td>0.000000</td>\n",
       "      <td>0.0</td>\n",
       "    </tr>\n",
       "    <tr>\n",
       "      <th>25%</th>\n",
       "      <td>-0.211430</td>\n",
       "      <td>0.005483</td>\n",
       "      <td>7.000000</td>\n",
       "      <td>0.0</td>\n",
       "    </tr>\n",
       "    <tr>\n",
       "      <th>50%</th>\n",
       "      <td>0.000000</td>\n",
       "      <td>0.045967</td>\n",
       "      <td>26.000000</td>\n",
       "      <td>0.0</td>\n",
       "    </tr>\n",
       "    <tr>\n",
       "      <th>75%</th>\n",
       "      <td>0.217846</td>\n",
       "      <td>0.172085</td>\n",
       "      <td>82.000000</td>\n",
       "      <td>0.0</td>\n",
       "    </tr>\n",
       "    <tr>\n",
       "      <th>max</th>\n",
       "      <td>1.000000</td>\n",
       "      <td>1.000000</td>\n",
       "      <td>294.000000</td>\n",
       "      <td>0.0</td>\n",
       "    </tr>\n",
       "  </tbody>\n",
       "</table>\n",
       "</div>"
      ],
      "text/plain": [
       "                  r            r2  observations  is_validated\n",
       "count  98981.000000  98981.000000  99000.000000       99000.0\n",
       "mean       0.004408      0.139866     54.307475           0.0\n",
       "std        0.373963      0.215550     63.228753           0.0\n",
       "min       -1.000000      0.000000      0.000000           0.0\n",
       "25%       -0.211430      0.005483      7.000000           0.0\n",
       "50%        0.000000      0.045967     26.000000           0.0\n",
       "75%        0.217846      0.172085     82.000000           0.0\n",
       "max        1.000000      1.000000    294.000000           0.0"
      ]
     },
     "execution_count": 35,
     "metadata": {
      "tags": []
     },
     "output_type": "execute_result"
    }
   ],
   "source": [
    "proteomeHD_corum_overlap_df_unvalidated = proteomeHD_corum_overlap_df[proteomeHD_corum_overlap_df[\"is_validated\"] == 0]\n",
    "proteomeHD_corum_overlap_df_validated = proteomeHD_corum_overlap_df[proteomeHD_corum_overlap_df[\"is_validated\"] == 1]\n",
    "proteomeHD_corum_overlap_df_unvalidated.describe()"
   ]
  },
  {
   "cell_type": "code",
   "execution_count": 0,
   "metadata": {
    "colab": {
     "base_uri": "https://localhost:8080/",
     "height": 284
    },
    "colab_type": "code",
    "executionInfo": {
     "elapsed": 370,
     "status": "ok",
     "timestamp": 1589327555922,
     "user": {
      "displayName": "Hoyin Chu",
      "photoUrl": "",
      "userId": "08687870196591871814"
     },
     "user_tz": 240
    },
    "id": "3zY5jHwqTawW",
    "outputId": "44d8cc29-92b7-4754-ab35-60bf2daa700f"
   },
   "outputs": [
    {
     "data": {
      "text/html": [
       "<div>\n",
       "<style scoped>\n",
       "    .dataframe tbody tr th:only-of-type {\n",
       "        vertical-align: middle;\n",
       "    }\n",
       "\n",
       "    .dataframe tbody tr th {\n",
       "        vertical-align: top;\n",
       "    }\n",
       "\n",
       "    .dataframe thead th {\n",
       "        text-align: right;\n",
       "    }\n",
       "</style>\n",
       "<table border=\"1\" class=\"dataframe\">\n",
       "  <thead>\n",
       "    <tr style=\"text-align: right;\">\n",
       "      <th></th>\n",
       "      <th>r</th>\n",
       "      <th>r2</th>\n",
       "      <th>observations</th>\n",
       "      <th>is_validated</th>\n",
       "    </tr>\n",
       "  </thead>\n",
       "  <tbody>\n",
       "    <tr>\n",
       "      <th>count</th>\n",
       "      <td>1000.000000</td>\n",
       "      <td>1000.000000</td>\n",
       "      <td>1000.00000</td>\n",
       "      <td>1000.0</td>\n",
       "    </tr>\n",
       "    <tr>\n",
       "      <th>mean</th>\n",
       "      <td>0.309050</td>\n",
       "      <td>0.227789</td>\n",
       "      <td>154.86100</td>\n",
       "      <td>1.0</td>\n",
       "    </tr>\n",
       "    <tr>\n",
       "      <th>std</th>\n",
       "      <td>0.363882</td>\n",
       "      <td>0.228790</td>\n",
       "      <td>93.92808</td>\n",
       "      <td>0.0</td>\n",
       "    </tr>\n",
       "    <tr>\n",
       "      <th>min</th>\n",
       "      <td>-1.000000</td>\n",
       "      <td>0.000000</td>\n",
       "      <td>0.00000</td>\n",
       "      <td>1.0</td>\n",
       "    </tr>\n",
       "    <tr>\n",
       "      <th>25%</th>\n",
       "      <td>0.073216</td>\n",
       "      <td>0.031777</td>\n",
       "      <td>66.00000</td>\n",
       "      <td>1.0</td>\n",
       "    </tr>\n",
       "    <tr>\n",
       "      <th>50%</th>\n",
       "      <td>0.347053</td>\n",
       "      <td>0.152132</td>\n",
       "      <td>163.00000</td>\n",
       "      <td>1.0</td>\n",
       "    </tr>\n",
       "    <tr>\n",
       "      <th>75%</th>\n",
       "      <td>0.591782</td>\n",
       "      <td>0.367415</td>\n",
       "      <td>246.00000</td>\n",
       "      <td>1.0</td>\n",
       "    </tr>\n",
       "    <tr>\n",
       "      <th>max</th>\n",
       "      <td>0.964358</td>\n",
       "      <td>1.000000</td>\n",
       "      <td>294.00000</td>\n",
       "      <td>1.0</td>\n",
       "    </tr>\n",
       "  </tbody>\n",
       "</table>\n",
       "</div>"
      ],
      "text/plain": [
       "                 r           r2  observations  is_validated\n",
       "count  1000.000000  1000.000000    1000.00000        1000.0\n",
       "mean      0.309050     0.227789     154.86100           1.0\n",
       "std       0.363882     0.228790      93.92808           0.0\n",
       "min      -1.000000     0.000000       0.00000           1.0\n",
       "25%       0.073216     0.031777      66.00000           1.0\n",
       "50%       0.347053     0.152132     163.00000           1.0\n",
       "75%       0.591782     0.367415     246.00000           1.0\n",
       "max       0.964358     1.000000     294.00000           1.0"
      ]
     },
     "execution_count": 36,
     "metadata": {
      "tags": []
     },
     "output_type": "execute_result"
    }
   ],
   "source": [
    "proteomeHD_corum_overlap_df_validated.describe()"
   ]
  },
  {
   "cell_type": "code",
   "execution_count": 0,
   "metadata": {
    "colab": {
     "base_uri": "https://localhost:8080/",
     "height": 362
    },
    "colab_type": "code",
    "executionInfo": {
     "elapsed": 2339,
     "status": "ok",
     "timestamp": 1588468358019,
     "user": {
      "displayName": "Hoyin Chu",
      "photoUrl": "",
      "userId": "08687870196591871814"
     },
     "user_tz": 240
    },
    "id": "GP8Qb9-DIq20",
    "outputId": "ff733a71-1f5f-4cec-9363-73d894154a1a"
   },
   "outputs": [
    {
     "name": "stdout",
     "output_type": "stream",
     "text": [
      "No Skill: ROC AUC=0.500\n",
      "r: ROC AUC=0.730\n",
      "r2: ROC AUC=0.651\n",
      "observation: ROC AUC=0.806\n"
     ]
    },
    {
     "data": {
      "image/png": "[encoded data removed]",
      "text/plain": [
       "<Figure size 432x288 with 1 Axes>"
      ]
     },
     "metadata": {
      "needs_background": "light",
      "tags": []
     },
     "output_type": "display_data"
    }
   ],
   "source": [
    "df_roc_analysis(proteomeHD_corum_overlap_df,\"proteomeHD_Corum_Overlap\",\"Corum\")"
   ]
  },
  {
   "cell_type": "markdown",
   "metadata": {
    "colab_type": "text",
    "id": "02-tMAEpTJ7x"
   },
   "source": [
    "Similarly for proteomeHD and Huri"
   ]
  },
  {
   "cell_type": "code",
   "execution_count": 0,
   "metadata": {
    "colab": {
     "base_uri": "https://localhost:8080/",
     "height": 87
    },
    "colab_type": "code",
    "executionInfo": {
     "elapsed": 2510,
     "status": "ok",
     "timestamp": 1588472884772,
     "user": {
      "displayName": "Hoyin Chu",
      "photoUrl": "",
      "userId": "08687870196591871814"
     },
     "user_tz": 240
    },
    "id": "vfc_glMOTJfu",
    "outputId": "fa9755a7-673d-4f52-cdd8-d468cab18881"
   },
   "outputs": [
    {
     "name": "stdout",
     "output_type": "stream",
     "text": [
      "Total validated corum protein pairs:1000\n"
     ]
    },
    {
     "name": "stderr",
     "output_type": "stream",
     "text": [
      "/usr/local/lib/python3.6/dist-packages/IPython/core/interactiveshell.py:2718: DtypeWarning: Columns (8) have mixed types.Specify dtype option on import or set low_memory=False.\n",
      "  interactivity=interactivity, compiler=compiler, result=result)\n"
     ]
    }
   ],
   "source": [
    "proteomeHD_huri_overlap_path = \"/content/drive/My Drive/Colab Notebooks/Research/ProteinProteinAssociation/csv_outputs/proteomeHD_huri/overlap_1000_pos_99000_neg.csv\"\n",
    "proteomeHD_huri_overlap_df = pd.read_csv(proteomeHD_huri_overlap_path)\n",
    "print(f\"Total validated corum protein pairs:{len(proteomeHD_huri_overlap_df[proteomeHD_huri_overlap_df['is_validated'] == 1])}\")"
   ]
  },
  {
   "cell_type": "code",
   "execution_count": 0,
   "metadata": {
    "colab": {
     "base_uri": "https://localhost:8080/",
     "height": 362
    },
    "colab_type": "code",
    "executionInfo": {
     "elapsed": 1183,
     "status": "ok",
     "timestamp": 1588472906024,
     "user": {
      "displayName": "Hoyin Chu",
      "photoUrl": "",
      "userId": "08687870196591871814"
     },
     "user_tz": 240
    },
    "id": "XzK3t8G_TqBh",
    "outputId": "90d20b82-01cd-42d3-99aa-8dd66d05f530"
   },
   "outputs": [
    {
     "name": "stdout",
     "output_type": "stream",
     "text": [
      "No Skill: ROC AUC=0.500\n",
      "r: ROC AUC=0.548\n",
      "r2: ROC AUC=0.524\n",
      "observation: ROC AUC=0.516\n"
     ]
    },
    {
     "data": {
      "image/png": "[encoded data removed]",
      "text/plain": [
       "<Figure size 432x288 with 1 Axes>"
      ]
     },
     "metadata": {
      "needs_background": "light",
      "tags": []
     },
     "output_type": "display_data"
    }
   ],
   "source": [
    "df_roc_analysis(proteomeHD_huri_overlap_df,\"proteomeHD_Huri_Overlap\",\"Huri\")"
   ]
  },
  {
   "cell_type": "markdown",
   "metadata": {
    "colab_type": "text",
    "id": "CZ56cpy92Je7"
   },
   "source": [
    "Similarly for pQTL silac protein and corum"
   ]
  },
  {
   "cell_type": "code",
   "execution_count": 0,
   "metadata": {
    "colab": {
     "base_uri": "https://localhost:8080/",
     "height": 34
    },
    "colab_type": "code",
    "executionInfo": {
     "elapsed": 4643,
     "status": "ok",
     "timestamp": 1589323946086,
     "user": {
      "displayName": "Hoyin Chu",
      "photoUrl": "",
      "userId": "08687870196591871814"
     },
     "user_tz": 240
    },
    "id": "CdoPWxxrWBPT",
    "outputId": "baa92d2c-4a87-49f1-b89b-4fa3754e52b0"
   },
   "outputs": [
    {
     "name": "stdout",
     "output_type": "stream",
     "text": [
      "Total validated pQTL protein pairs:999\n"
     ]
    }
   ],
   "source": [
    "pQTL_corum_overlap_path = \"/content/drive/My Drive/Colab Notebooks/Research/ProteinProteinAssociation/csv_outputs/pQTL/silac_protein/corum_validated/overlap_1000_pos_99000_neg.csv\"\n",
    "pQTL_corum_overlap_df = pd.read_csv(pQTL_corum_overlap_path)\n",
    "print(f\"Total validated pQTL protein pairs:{len(pQTL_corum_overlap_df[pQTL_corum_overlap_df['is_validated'] == 1])}\")"
   ]
  },
  {
   "cell_type": "code",
   "execution_count": 0,
   "metadata": {
    "colab": {
     "base_uri": "https://localhost:8080/",
     "height": 284
    },
    "colab_type": "code",
    "executionInfo": {
     "elapsed": 348,
     "status": "ok",
     "timestamp": 1589324024693,
     "user": {
      "displayName": "Hoyin Chu",
      "photoUrl": "",
      "userId": "08687870196591871814"
     },
     "user_tz": 240
    },
    "id": "y1pePOIuFdDQ",
    "outputId": "c62ace82-9ca4-4d76-d4d7-cb521ecd39f9"
   },
   "outputs": [
    {
     "data": {
      "text/html": [
       "<div>\n",
       "<style scoped>\n",
       "    .dataframe tbody tr th:only-of-type {\n",
       "        vertical-align: middle;\n",
       "    }\n",
       "\n",
       "    .dataframe tbody tr th {\n",
       "        vertical-align: top;\n",
       "    }\n",
       "\n",
       "    .dataframe thead th {\n",
       "        text-align: right;\n",
       "    }\n",
       "</style>\n",
       "<table border=\"1\" class=\"dataframe\">\n",
       "  <thead>\n",
       "    <tr style=\"text-align: right;\">\n",
       "      <th></th>\n",
       "      <th>r</th>\n",
       "      <th>r2</th>\n",
       "      <th>observations</th>\n",
       "      <th>is_validated</th>\n",
       "    </tr>\n",
       "  </thead>\n",
       "  <tbody>\n",
       "    <tr>\n",
       "      <th>count</th>\n",
       "      <td>99000.000000</td>\n",
       "      <td>9.900000e+04</td>\n",
       "      <td>99000.000000</td>\n",
       "      <td>99000.0</td>\n",
       "    </tr>\n",
       "    <tr>\n",
       "      <th>mean</th>\n",
       "      <td>0.022673</td>\n",
       "      <td>8.492351e-02</td>\n",
       "      <td>54.310606</td>\n",
       "      <td>0.0</td>\n",
       "    </tr>\n",
       "    <tr>\n",
       "      <th>std</th>\n",
       "      <td>0.290534</td>\n",
       "      <td>1.147078e-01</td>\n",
       "      <td>10.145274</td>\n",
       "      <td>0.0</td>\n",
       "    </tr>\n",
       "    <tr>\n",
       "      <th>min</th>\n",
       "      <td>-0.875296</td>\n",
       "      <td>1.393200e-11</td>\n",
       "      <td>10.000000</td>\n",
       "      <td>0.0</td>\n",
       "    </tr>\n",
       "    <tr>\n",
       "      <th>25%</th>\n",
       "      <td>-0.176363</td>\n",
       "      <td>8.479551e-03</td>\n",
       "      <td>48.000000</td>\n",
       "      <td>0.0</td>\n",
       "    </tr>\n",
       "    <tr>\n",
       "      <th>50%</th>\n",
       "      <td>0.016319</td>\n",
       "      <td>3.806056e-02</td>\n",
       "      <td>60.000000</td>\n",
       "      <td>0.0</td>\n",
       "    </tr>\n",
       "    <tr>\n",
       "      <th>75%</th>\n",
       "      <td>0.214953</td>\n",
       "      <td>1.145785e-01</td>\n",
       "      <td>62.000000</td>\n",
       "      <td>0.0</td>\n",
       "    </tr>\n",
       "    <tr>\n",
       "      <th>max</th>\n",
       "      <td>0.927732</td>\n",
       "      <td>8.606872e-01</td>\n",
       "      <td>62.000000</td>\n",
       "      <td>0.0</td>\n",
       "    </tr>\n",
       "  </tbody>\n",
       "</table>\n",
       "</div>"
      ],
      "text/plain": [
       "                  r            r2  observations  is_validated\n",
       "count  99000.000000  9.900000e+04  99000.000000       99000.0\n",
       "mean       0.022673  8.492351e-02     54.310606           0.0\n",
       "std        0.290534  1.147078e-01     10.145274           0.0\n",
       "min       -0.875296  1.393200e-11     10.000000           0.0\n",
       "25%       -0.176363  8.479551e-03     48.000000           0.0\n",
       "50%        0.016319  3.806056e-02     60.000000           0.0\n",
       "75%        0.214953  1.145785e-01     62.000000           0.0\n",
       "max        0.927732  8.606872e-01     62.000000           0.0"
      ]
     },
     "execution_count": 31,
     "metadata": {
      "tags": []
     },
     "output_type": "execute_result"
    }
   ],
   "source": [
    "pQTL_corum_overlap_df_validated =pQTL_corum_overlap_df[pQTL_corum_overlap_df[\"is_validated\"] == 1]\n",
    "pQTL_corum_overlap_df_validated_non =pQTL_corum_overlap_df[pQTL_corum_overlap_df[\"is_validated\"] == 0]\n",
    "pQTL_corum_overlap_df_validated_non.describe()"
   ]
  },
  {
   "cell_type": "code",
   "execution_count": 0,
   "metadata": {
    "colab": {
     "base_uri": "https://localhost:8080/",
     "height": 284
    },
    "colab_type": "code",
    "executionInfo": {
     "elapsed": 356,
     "status": "ok",
     "timestamp": 1589324030623,
     "user": {
      "displayName": "Hoyin Chu",
      "photoUrl": "",
      "userId": "08687870196591871814"
     },
     "user_tz": 240
    },
    "id": "R20t4t72F2g0",
    "outputId": "1532558e-68b7-4e7e-b242-fd44d857af25"
   },
   "outputs": [
    {
     "data": {
      "text/html": [
       "<div>\n",
       "<style scoped>\n",
       "    .dataframe tbody tr th:only-of-type {\n",
       "        vertical-align: middle;\n",
       "    }\n",
       "\n",
       "    .dataframe tbody tr th {\n",
       "        vertical-align: top;\n",
       "    }\n",
       "\n",
       "    .dataframe thead th {\n",
       "        text-align: right;\n",
       "    }\n",
       "</style>\n",
       "<table border=\"1\" class=\"dataframe\">\n",
       "  <thead>\n",
       "    <tr style=\"text-align: right;\">\n",
       "      <th></th>\n",
       "      <th>r</th>\n",
       "      <th>r2</th>\n",
       "      <th>observations</th>\n",
       "      <th>is_validated</th>\n",
       "    </tr>\n",
       "  </thead>\n",
       "  <tbody>\n",
       "    <tr>\n",
       "      <th>count</th>\n",
       "      <td>999.000000</td>\n",
       "      <td>9.990000e+02</td>\n",
       "      <td>999.000000</td>\n",
       "      <td>999.0</td>\n",
       "    </tr>\n",
       "    <tr>\n",
       "      <th>mean</th>\n",
       "      <td>0.449995</td>\n",
       "      <td>3.055563e-01</td>\n",
       "      <td>58.955956</td>\n",
       "      <td>1.0</td>\n",
       "    </tr>\n",
       "    <tr>\n",
       "      <th>std</th>\n",
       "      <td>0.321191</td>\n",
       "      <td>2.566019e-01</td>\n",
       "      <td>6.881917</td>\n",
       "      <td>0.0</td>\n",
       "    </tr>\n",
       "    <tr>\n",
       "      <th>min</th>\n",
       "      <td>-0.583247</td>\n",
       "      <td>4.633245e-07</td>\n",
       "      <td>21.000000</td>\n",
       "      <td>1.0</td>\n",
       "    </tr>\n",
       "    <tr>\n",
       "      <th>25%</th>\n",
       "      <td>0.237926</td>\n",
       "      <td>6.810044e-02</td>\n",
       "      <td>60.000000</td>\n",
       "      <td>1.0</td>\n",
       "    </tr>\n",
       "    <tr>\n",
       "      <th>50%</th>\n",
       "      <td>0.490778</td>\n",
       "      <td>2.446417e-01</td>\n",
       "      <td>62.000000</td>\n",
       "      <td>1.0</td>\n",
       "    </tr>\n",
       "    <tr>\n",
       "      <th>75%</th>\n",
       "      <td>0.706839</td>\n",
       "      <td>4.996214e-01</td>\n",
       "      <td>62.000000</td>\n",
       "      <td>1.0</td>\n",
       "    </tr>\n",
       "    <tr>\n",
       "      <th>max</th>\n",
       "      <td>0.992092</td>\n",
       "      <td>9.842460e-01</td>\n",
       "      <td>62.000000</td>\n",
       "      <td>1.0</td>\n",
       "    </tr>\n",
       "  </tbody>\n",
       "</table>\n",
       "</div>"
      ],
      "text/plain": [
       "                r            r2  observations  is_validated\n",
       "count  999.000000  9.990000e+02    999.000000         999.0\n",
       "mean     0.449995  3.055563e-01     58.955956           1.0\n",
       "std      0.321191  2.566019e-01      6.881917           0.0\n",
       "min     -0.583247  4.633245e-07     21.000000           1.0\n",
       "25%      0.237926  6.810044e-02     60.000000           1.0\n",
       "50%      0.490778  2.446417e-01     62.000000           1.0\n",
       "75%      0.706839  4.996214e-01     62.000000           1.0\n",
       "max      0.992092  9.842460e-01     62.000000           1.0"
      ]
     },
     "execution_count": 32,
     "metadata": {
      "tags": []
     },
     "output_type": "execute_result"
    }
   ],
   "source": [
    "pQTL_corum_overlap_df_validated.describe()"
   ]
  },
  {
   "cell_type": "code",
   "execution_count": 0,
   "metadata": {
    "colab": {
     "base_uri": "https://localhost:8080/",
     "height": 368
    },
    "colab_type": "code",
    "executionInfo": {
     "elapsed": 913,
     "status": "ok",
     "timestamp": 1589323959631,
     "user": {
      "displayName": "Hoyin Chu",
      "photoUrl": "",
      "userId": "08687870196591871814"
     },
     "user_tz": 240
    },
    "id": "ubQ7MCspJMV2",
    "outputId": "12610b76-3776-4525-ff13-302106942d8e"
   },
   "outputs": [
    {
     "name": "stdout",
     "output_type": "stream",
     "text": [
      "No Skill: ROC AUC=0.500\n",
      "r: ROC AUC=0.834\n",
      "r2: ROC AUC=0.775\n",
      "observation: ROC AUC=0.652\n"
     ]
    },
    {
     "data": {
      "image/png": "[encoded data removed]",
      "text/plain": [
       "<Figure size 432x288 with 1 Axes>"
      ]
     },
     "metadata": {
      "tags": []
     },
     "output_type": "display_data"
    }
   ],
   "source": [
    "df_roc_analysis(pQTL_corum_overlap_df,\"pQTL_Corum_Overlap\",\"Corum\")"
   ]
  },
  {
   "cell_type": "markdown",
   "metadata": {
    "colab_type": "text",
    "id": "dn8H2TTznCFI"
   },
   "source": [
    "pQTL silac protien and huri"
   ]
  },
  {
   "cell_type": "code",
   "execution_count": 0,
   "metadata": {
    "colab": {
     "base_uri": "https://localhost:8080/",
     "height": 34
    },
    "colab_type": "code",
    "executionInfo": {
     "elapsed": 2689,
     "status": "ok",
     "timestamp": 1588477305111,
     "user": {
      "displayName": "Hoyin Chu",
      "photoUrl": "",
      "userId": "08687870196591871814"
     },
     "user_tz": 240
    },
    "id": "Ow8FYl4HnDd4",
    "outputId": "dbb27e26-2ed0-4d72-dea3-1756ed7105fb"
   },
   "outputs": [
    {
     "name": "stdout",
     "output_type": "stream",
     "text": [
      "Total validated pQTL protein pairs:999\n"
     ]
    }
   ],
   "source": [
    "pQTL_huri_overlap_path = \"/content/drive/My Drive/Colab Notebooks/Research/ProteinProteinAssociation/csv_outputs/pQTL_huri/overlap_1000_pos_99000_neg.csv\"\n",
    "pQTL_huri_overlap_df = pd.read_csv(pQTL_huri_overlap_path)\n",
    "print(f\"Total validated pQTL protein pairs:{len(pQTL_huri_overlap_df[pQTL_huri_overlap_df['is_validated'] == 1])}\")"
   ]
  },
  {
   "cell_type": "code",
   "execution_count": 0,
   "metadata": {
    "colab": {
     "base_uri": "https://localhost:8080/",
     "height": 362
    },
    "colab_type": "code",
    "executionInfo": {
     "elapsed": 980,
     "status": "ok",
     "timestamp": 1588477328174,
     "user": {
      "displayName": "Hoyin Chu",
      "photoUrl": "",
      "userId": "08687870196591871814"
     },
     "user_tz": 240
    },
    "id": "qPUBkqtgoC26",
    "outputId": "16cb3b9b-c91b-46ac-d177-93ffe090967a"
   },
   "outputs": [
    {
     "name": "stdout",
     "output_type": "stream",
     "text": [
      "No Skill: ROC AUC=0.500\n",
      "r: ROC AUC=0.580\n",
      "r2: ROC AUC=0.519\n",
      "observation: ROC AUC=0.499\n"
     ]
    },
    {
     "data": {
      "image/png": "[encoded data removed]",
      "text/plain": [
       "<Figure size 432x288 with 1 Axes>"
      ]
     },
     "metadata": {
      "needs_background": "light",
      "tags": []
     },
     "output_type": "display_data"
    }
   ],
   "source": [
    "df_roc_analysis(pQTL_huri_overlap_df,\"pQTL_Huri_Overlap\",\"Huri\")"
   ]
  },
  {
   "cell_type": "code",
   "execution_count": 19,
   "metadata": {},
   "outputs": [
    {
     "name": "stdout",
     "output_type": "stream",
     "text": [
      "No Skill: ROC AUC=0.500\n",
      "r: ROC AUC=0.655\n",
      "r2: ROC AUC=0.580\n",
      "observation: ROC AUC=0.702\n",
      "Norm. Manhattan: ROC AUC=0.689\n"
     ]
    },
    {
     "data": {
      "image/png": "[encoded data removed]",
      "text/plain": [
       "<Figure size 432x288 with 1 Axes>"
      ]
     },
     "metadata": {
      "needs_background": "light"
     },
     "output_type": "display_data"
    }
   ],
   "source": [
    "corum_complex_pairs_df_path = f\"{directory_path}/data_sources/ProteomeHD/corum_validated/combined_max_10_pairs_per_complex.csv\"\n",
    "corum_complex_pairs_df = pd.read_csv(corum_complex_pairs_df_path)\n",
    "df_roc_analysis(corum_complex_pairs_df,\"ProteomeHD Pairs\",\"Corum (max 10 pairs per complex)\")"
   ]
  },
  {
   "cell_type": "code",
   "execution_count": null,
   "metadata": {},
   "outputs": [],
   "source": []
  }
 ],
 "metadata": {
  "colab": {
   "authorship_tag": "ABX9TyMG/ZIAKlDReo5KwhDaiJt6",
   "collapsed_sections": [
    "A4LWoKAApiCt",
    "44AAFJjiKoGg",
    "BOsIQZIQQaWV",
    "jHziNjdwQ_1o",
    "GIlKwtFRSFVX",
    "EqtqllACBYSy",
    "2dYwYY7NYjMx",
    "F0SG-mC5N8Rw"
   ],
   "mount_file_id": "1oQkI4FIjnraFAULP_EXvoPKKe427ZOgM",
   "name": "ProteinNetworks.ipynb",
   "provenance": [],
   "toc_visible": true
  },
  "kernelspec": {
   "display_name": "Python 3",
   "language": "python",
   "name": "python3"
  },
  "language_info": {
   "codemirror_mode": {
    "name": "ipython",
    "version": 3
   },
   "file_extension": ".py",
   "mimetype": "text/x-python",
   "name": "python",
   "nbconvert_exporter": "python",
   "pygments_lexer": "ipython3",
   "version": "3.7.4"
  }
 },
 "nbformat": 4,
 "nbformat_minor": 1
}
